{
 "cells": [
  {
   "cell_type": "code",
   "execution_count": null,
   "metadata": {},
   "outputs": [],
   "source": [
    "# Libraries:\n",
    "# ipynb - for importing ipynb as libraries\n",
    "# findiff - finite differences\n",
    "# ffmpeg - for creating video of simulation\n",
    "# also make sure that latest version of scipy is installed (>=1.6)\n",
    "\n",
    "# Future purely coding improvements:\n",
    "# 1. Refine numerical differentiation + cache derivatives\n",
    "# 2. Use efficient SVD update / computation of smallest singular value\n",
    "\n",
    "-Properly construct indexed expressions (using canonicalize, form scaffolds as part of generator method)\n",
    "-More explicitly output list of equations\n",
    "--Another possibility for the below: search branching on multiple small singular values?\n",
    "--Helpful to go up from terms with 3->4->5 components\n",
    "--Every time a model with small residual (identify threshold in some reasonable way) is identified, also generate trivially following models produced by multiplication and differentiation\n",
    "--For each model, remove the most complex term from the library entirely (can be written as linear combination of the others)\n",
    "--Can substitute back in using the models to simplify resulting equations if necessary\n",
    "--How to threshold?\n",
    "-Might help performance to find only smallest singular value/vector but not sure if Python built-ins let you do this nicely. \n",
    "(scipy.sparse.linalg - https://docs.scipy.org/doc/scipy/reference/generated/scipy.sparse.linalg.svds.html)\n",
    "-Try to come up with better sparsification rule\n",
    "--Is there a way to find best column to discard to minimize increase in smallest singular value?\n",
    "-Easier to validate discrete model - something like Burgers equation, ideal gas simulation?\n",
    "-Try to find out why coefficient error is big\n"
   ]
  }
 ],
 "metadata": {
  "kernelspec": {
   "display_name": "Python 3",
   "language": "python",
   "name": "python3"
  },
  "language_info": {
   "codemirror_mode": {
    "name": "ipython",
    "version": 3
   },
   "file_extension": ".py",
   "mimetype": "text/x-python",
   "name": "python",
   "nbconvert_exporter": "python",
   "pygments_lexer": "ipython3",
   "version": "3.7.6"
  }
 },
 "nbformat": 4,
 "nbformat_minor": 5
}
