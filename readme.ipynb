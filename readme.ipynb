{
 "cells": [
  {
   "cell_type": "code",
   "execution_count": null,
   "metadata": {},
   "outputs": [],
   "source": [
    "# Libraries:\n",
    "# ipynb - for importing ipynb as libraries\n",
    "# findiff - finite differences\n",
    "# ffmpeg - for creating video of simulation\n",
    "# h5py - to read MATLAB v7.3 data files\n",
    "# also make sure that latest version of scipy is installed (>=1.6)\n",
    "\n",
    "# Future purely coding improvements:\n",
    "# 1. Refine numerical differentiation + cache derivatives\n",
    "# 2. Use efficient SVD update / computation of smallest singular value\n",
    "\n"
   ]
  }
 ],
 "metadata": {
  "kernelspec": {
   "display_name": "Python 3",
   "language": "python",
   "name": "python3"
  },
  "language_info": {
   "codemirror_mode": {
    "name": "ipython",
    "version": 3
   },
   "file_extension": ".py",
   "mimetype": "text/x-python",
   "name": "python",
   "nbconvert_exporter": "python",
   "pygments_lexer": "ipython3",
   "version": "3.7.6"
  }
 },
 "nbformat": 4,
 "nbformat_minor": 5
}
