{
 "cells": [
  {
   "cell_type": "code",
   "execution_count": null,
   "metadata": {},
   "outputs": [],
   "source": [
    "# Libraries:\n",
    "# ipynb - for importing ipynb as libraries\n",
    "# findiff - finite differences\n",
    "# ffmpeg - for creating video of simulation\n",
    "# also make sure that latest version of scipy is installed (>=1.6)\n",
    "\n",
    "# To do:\n",
    "# 1. Multiple candidate models - go through all SVD terms that are \"decent\" and maintain a sets of term lists \n",
    "# 2. Numerical experiments\n",
    "# ?. Refine numerical differentiation + cache derivatives\n",
    "\n",
    "# Some notes:\n",
    "# 1. To check redundancy of library terms (or correctness of integration by parts!), run sparse regression on fully random data."
   ]
  }
 ],
 "metadata": {
  "kernelspec": {
   "display_name": "Python 3",
   "language": "python",
   "name": "python3"
  },
  "language_info": {
   "codemirror_mode": {
    "name": "ipython",
    "version": 3
   },
   "file_extension": ".py",
   "mimetype": "text/x-python",
   "name": "python",
   "nbconvert_exporter": "python",
   "pygments_lexer": "ipython3",
   "version": "3.7.6"
  }
 },
 "nbformat": 4,
 "nbformat_minor": 5
}
