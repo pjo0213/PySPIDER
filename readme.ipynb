{
 "cells": [
  {
   "cell_type": "code",
   "execution_count": null,
   "id": "0c96d97f",
   "metadata": {
    "pycharm": {
     "name": "#%%\n"
    }
   },
   "outputs": [],
   "source": [
    "# Libraries:\n",
    "# findiff - finite differences\n",
    "# ipynb - for importing ipynb as libraries (not needed in long term)\n",
    "# ffmpeg - for creating video of simulation (i.e. optional)\n",
    "# h5py - to read MATLAB v7.3 data files (i.e. optional)\n",
    "# numba-kdtree - for fast coarse-graining\n",
    "# z3-solver - Z3 SMP solver for highorder library generation\n",
    "# also make sure that latest version of scipy is installed (>=1.6)\n",
    "\n",
    "# Current limitations:\n",
    "# Observables of ranks 2+ not included, but it is not hard to modify everything so they become allowed\n",
    "\n"
   ]
  }
 ],
 "metadata": {
  "kernelspec": {
   "display_name": "Python 3 (ipykernel)",
   "language": "python",
   "name": "python3"
  },
  "language_info": {
   "codemirror_mode": {
    "name": "ipython",
    "version": 3
   },
   "file_extension": ".py",
   "mimetype": "text/x-python",
   "name": "python",
   "nbconvert_exporter": "python",
   "pygments_lexer": "ipython3",
   "version": "3.12.7"
  }
 },
 "nbformat": 4,
 "nbformat_minor": 5
}
