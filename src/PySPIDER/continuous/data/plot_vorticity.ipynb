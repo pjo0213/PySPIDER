{
 "cells": [
  {
   "cell_type": "code",
   "execution_count": null,
   "id": "1d45f9b7-9031-44e0-a7b9-2c99c2a4cfa9",
   "metadata": {},
   "outputs": [],
   "source": [
    "def curl(U, V, dx, dy): # curl of vector fields\n",
    "    nx, ny, nt = U.shape\n",
    "    kx = np.fft.fftfreq(nx, d=dx) * 2 * np.pi\n",
    "    ky = np.fft.rfftfreq(ny, d=dy) * 2 * np.pi\n",
    "    kx, ky = np.meshgrid(kx, ky, indexing='ij')\n",
    "    output = np.zeros((nx, ny, nt))\n",
    "    for t in range(nt):\n",
    "        u_FT = np.fft.rfftn(U[:, :, t])\n",
    "        v_FT = np.fft.rfftn(V[:, :, t])\n",
    "        i = 1j\n",
    "        dyu = np.fft.irfftn(i * ky * u_FT, s=(nx, ny))\n",
    "        dxv = np.fft.irfftn(i * kx * v_FT, s=(nx, ny))\n",
    "        rhs = dxv - dyu\n",
    "        rhs_FT = np.fft.rfftn(rhs)\n",
    "        curl = np.fft.irfftn(rhs_FT, s=(nx, ny))\n",
    "        output[:, :, t] = curl\n",
    "    return output\n",
    "\n",
    "def DX(U, V, dx, dy): # derivative of vector fields\n",
    "    nx, ny, nt = U.shape\n",
    "    kx = np.fft.fftfreq(nx, d=dx) * 2 * np.pi\n",
    "    ky = np.fft.rfftfreq(ny, d=dy) * 2 * np.pi\n",
    "    kx, ky = np.meshgrid(kx, ky, indexing='ij')\n",
    "    output = np.zeros((nx, ny, nt, 2))\n",
    "    for t in range(nt):\n",
    "        u_FT = np.fft.rfftn(U[:, :, t])\n",
    "        v_FT = np.fft.rfftn(V[:, :, t])\n",
    "        i = 1j\n",
    "        dxu = np.fft.irfftn(i * kx * u_FT, s=(nx, ny))\n",
    "        dxv = np.fft.irfftn(i * kx * v_FT, s=(nx, ny)) \n",
    "        rhs_FT = np.fft.rfftn(dxu)\n",
    "        rhs2_FT = np.fft.rfftn(dxv)\n",
    "        output[:, :, t, 0] = np.fft.irfftn(rhs_FT, s=(nx, ny))\n",
    "        output[:, :, t, 1] = np.fft.irfftn(rhs2_FT, s=(nx, ny))\n",
    "    return output\n",
    "\n",
    "def DY(U, V, dx, dy): # derivative of vector fields\n",
    "    nx, ny, nt = U.shape\n",
    "    kx = np.fft.fftfreq(nx, d=dx) * 2 * np.pi\n",
    "    ky = np.fft.rfftfreq(ny, d=dy) * 2 * np.pi\n",
    "    kx, ky = np.meshgrid(kx, ky, indexing='ij')\n",
    "    output = np.zeros((nx, ny, nt, 2))\n",
    "    for t in range(nt):\n",
    "        u_FT = np.fft.rfftn(U[:, :, t])\n",
    "        v_FT = np.fft.rfftn(V[:, :, t])\n",
    "        i = 1j\n",
    "        dyu = np.fft.irfftn(i * ky * u_FT, s=(nx, ny))\n",
    "        dyv = np.fft.irfftn(i * ky * v_FT, s=(nx, ny)) \n",
    "        rhs_FT = np.fft.rfftn(dyu)\n",
    "        rhs2_FT = np.fft.rfftn(dyv)\n",
    "        output[:, :, t, 0] = np.fft.irfftn(rhs_FT, s=(nx, ny))\n",
    "        output[:, :, t, 1] = np.fft.irfftn(rhs2_FT, s=(nx, ny))\n",
    "    return output\n"
   ]
  }
 ],
 "metadata": {
  "kernelspec": {
   "display_name": "Python 3 (ipykernel)",
   "language": "python",
   "name": "python3"
  },
  "language_info": {
   "codemirror_mode": {
    "name": "ipython",
    "version": 3
   },
   "file_extension": ".py",
   "mimetype": "text/x-python",
   "name": "python",
   "nbconvert_exporter": "python",
   "pygments_lexer": "ipython3",
   "version": "3.12.7"
  }
 },
 "nbformat": 4,
 "nbformat_minor": 5
}
