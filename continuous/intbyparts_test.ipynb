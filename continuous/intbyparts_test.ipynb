{
 "cells": [
  {
   "cell_type": "code",
   "execution_count": 5,
   "metadata": {},
   "outputs": [],
   "source": [
    "import numpy as np\n",
    "from library import *\n",
    "from process_library_terms import *\n",
    "import matplotlib.pyplot as plt"
   ]
  },
  {
   "cell_type": "code",
   "execution_count": 47,
   "metadata": {},
   "outputs": [
    {
     "name": "stdout",
     "output_type": "stream",
     "text": [
      "66.02150803006063 66.02150802982294\n",
      "Error: 3.600201859356198e-12\n",
      "Weight([11, 11, 11], [0, 0, 0], [0, 0, 0], 1, [0.12109375, 0.12109375, 0.0245])\n"
     ]
    }
   ],
   "source": [
    "m = 12\n",
    "Nx = 512; dx = 4/Nx; x = np.arange(0, 4, dx); wx = 32\n",
    "Ny = 512; dy = 4/Ny; y = np.arange(0, 4, dy); wy = 32\n",
    "Nt = 1000; dt = 1/Nt; t = np.arange(0, 1, dt); wt = 50\n",
    "\n",
    "u = np.einsum('i,j,k->ijk', np.sin(4*x), np.cos(4*y), np.exp(-0.32*t))\n",
    "#du = 4*np.einsum('i,j,k->ijk', np.cos(4*x), np.cos(4*y), np.exp(-0.32*t))\n",
    "du = -0.32*np.einsum('i,j,k->ijk', np.sin(4*x), np.cos(4*y), np.exp(-0.32*t))\n",
    "dx_w = (wx-1)/2*dx; dy_w = (wy-1)/2*dy; dt_w = (wt-1)/2*dt\n",
    "weight = Weight([m]*3, [0]*3, [0]*3, dxs=[dx_w, dy_w, dt_w])\n",
    "#dweight = Weight([m]*3, [0]*3, [1, 0, 0], dxs=[dx_w, dy_w, dt_w])\n",
    "dweight = Weight([m]*3, [0]*3, [0, 0, 1], dxs=[dx_w, dy_w, dt_w])\n",
    "w = weight.get_weight_array([wx, wy, wt])\n",
    "dw = dweight.get_weight_array([wx, wy, wt])\n",
    "\n",
    "np.random.seed(2)\n",
    "# make domains and \"count\" density\n",
    "domain = make_domains([wx, wy, wt], [Nx, Ny, Nt], 1, 0)[0]\n",
    "u_s = get_slice(u, domain)\n",
    "du_s = get_slice(du, domain)\n",
    "I1 = int_arr(u_s*dw, dxs=[dx_w, dy_w, dt_w])\n",
    "I2 = -int_arr(du_s*w, dxs=[dx_w, dy_w, dt_w])\n",
    "print(I1, I2)\n",
    "print(f\"Error: {(I1-I2)/I2}\")\n",
    "\n",
    "print(weight)"
   ]
  },
  {
   "cell_type": "code",
   "execution_count": null,
   "metadata": {},
   "outputs": [],
   "source": []
  }
 ],
 "metadata": {
  "kernelspec": {
   "display_name": "Python 3",
   "language": "python",
   "name": "python3"
  },
  "language_info": {
   "codemirror_mode": {
    "name": "ipython",
    "version": 3
   },
   "file_extension": ".py",
   "mimetype": "text/x-python",
   "name": "python",
   "nbconvert_exporter": "python",
   "pygments_lexer": "ipython3",
   "version": "3.7.6"
  }
 },
 "nbformat": 4,
 "nbformat_minor": 4
}
