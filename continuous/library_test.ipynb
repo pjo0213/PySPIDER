{
 "cells": [
  {
   "cell_type": "code",
   "execution_count": 1,
   "metadata": {},
   "outputs": [],
   "source": [
    "from ipynb.fs.full.library import *\n",
    "\n",
    "do1 = DerivativeOrder(2, 1)\n",
    "do2 = DerivativeOrder(0, 2)\n",
    "rho = Observable('rho', 0)\n",
    "v = Observable('v', 1)\n",
    "prim1 = LibraryPrimitive(do1, rho)\n",
    "prim2 = LibraryPrimitive(do2, v)\n",
    "term1 = LibraryTensor(prim1)\n",
    "term2 = LibraryTensor(prim2)\n",
    "cp1 = CompPair(0, 1)\n",
    "cp2 = CompPair(2, 0)\n",
    "cl1 = CompList([0, 1, 0])\n",
    "cl2 = CompList([0, 1, 1])"
   ]
  },
  {
   "cell_type": "code",
   "execution_count": 2,
   "metadata": {},
   "outputs": [
    {
     "data": {
      "text/plain": [
       "dt^2 dx rho"
      ]
     },
     "execution_count": 2,
     "metadata": {},
     "output_type": "execute_result"
    }
   ],
   "source": [
    "term1"
   ]
  },
  {
   "cell_type": "code",
   "execution_count": 3,
   "metadata": {},
   "outputs": [
    {
     "data": {
      "text/plain": [
       "dx^2 v"
      ]
     },
     "execution_count": 3,
     "metadata": {},
     "output_type": "execute_result"
    }
   ],
   "source": [
    "prim2"
   ]
  },
  {
   "cell_type": "code",
   "execution_count": 4,
   "metadata": {},
   "outputs": [
    {
     "data": {
      "text/plain": [
       "'dt^2 dx rho'"
      ]
     },
     "execution_count": 4,
     "metadata": {},
     "output_type": "execute_result"
    }
   ],
   "source": [
    "repr(term1)"
   ]
  },
  {
   "cell_type": "code",
   "execution_count": 6,
   "metadata": {},
   "outputs": [
    {
     "name": "stdout",
     "output_type": "stream",
     "text": [
      "dt^2 dx rho * dx^2 v\n"
     ]
    }
   ],
   "source": [
    "tensor = term1*term2\n",
    "print(tensor)"
   ]
  },
  {
   "cell_type": "code",
   "execution_count": 7,
   "metadata": {},
   "outputs": [
    {
     "name": "stdout",
     "output_type": "stream",
     "text": [
      "{1: (0, 2), 2: (2, 3)}\n",
      "{1: (0, 3), 2: (2, 2)}\n"
     ]
    }
   ],
   "source": [
    "labels = []\n",
    "for label in list_labels(tensor):\n",
    "    labels.append(label)\n",
    "    print(label)"
   ]
  },
  {
   "cell_type": "code",
   "execution_count": 8,
   "metadata": {},
   "outputs": [
    {
     "name": "stdout",
     "output_type": "stream",
     "text": [
      "dt^2 dj rho * dj dk v_k\n",
      "dt^2 dj rho * dk^2 v_j\n"
     ]
    }
   ],
   "source": [
    "libterm1 = LibraryTerm(tensor, labels[0])\n",
    "libterm2 = LibraryTerm(tensor, labels[1])\n",
    "print(libterm1)\n",
    "print(libterm2)"
   ]
  },
  {
   "cell_type": "code",
   "execution_count": 11,
   "metadata": {},
   "outputs": [
    {
     "name": "stdout",
     "output_type": "stream",
     "text": [
      "dj v_j * dk v_k * dl v_l\n",
      "dj v_j * dk v_l * dk v_l\n",
      "dj v_j * dk v_l * dl v_k\n",
      "dj v_k * dj v_k * dl v_l\n",
      "dj v_k * dj v_l * dk v_l\n",
      "dj v_k * dj v_l * dl v_k\n",
      "dj v_k * dk v_j * dl v_l\n",
      "dj v_k * dl v_j * dl v_k\n",
      "dj v_k * dk v_l * dl v_j\n"
     ]
    }
   ],
   "source": [
    "do = DerivativeOrder(0, 1)\n",
    "trank2 = LibraryTensor(LibraryPrimitive(do, v))\n",
    "trank6 = trank2*trank2*trank2\n",
    "for label in list_labels(trank6):\n",
    "    print(LibraryTerm(trank6, label))\n",
    "    \n",
    "# note that there are duplicates which are valid by lexicographic ordering, e.g.\n",
    "# dj v_j * dk v_l * dk v_l, dj v_k * dj v_k * dl v_l (11 23 23; 12 12 33)\n",
    "# this problem however seems to only be possible for order>=5 so we won't worry about it for now."
   ]
  },
  {
   "cell_type": "code",
   "execution_count": 13,
   "metadata": {},
   "outputs": [
    {
     "data": {
      "text/plain": [
       "True"
      ]
     },
     "execution_count": 13,
     "metadata": {},
     "output_type": "execute_result"
    }
   ],
   "source": [
    "cp1 < cp2"
   ]
  },
  {
   "cell_type": "code",
   "execution_count": 2,
   "metadata": {},
   "outputs": [
    {
     "name": "stdout",
     "output_type": "stream",
     "text": [
      "True False\n"
     ]
    }
   ],
   "source": [
    "print(cl1<=cl2, cl1>=cl2)"
   ]
  },
  {
   "cell_type": "code",
   "execution_count": null,
   "metadata": {},
   "outputs": [],
   "source": []
  }
 ],
 "metadata": {
  "kernelspec": {
   "display_name": "Python 3",
   "language": "python",
   "name": "python3"
  },
  "language_info": {
   "codemirror_mode": {
    "name": "ipython",
    "version": 3
   },
   "file_extension": ".py",
   "mimetype": "text/x-python",
   "name": "python",
   "nbconvert_exporter": "python",
   "pygments_lexer": "ipython3",
   "version": "3.7.6"
  }
 },
 "nbformat": 4,
 "nbformat_minor": 4
}
