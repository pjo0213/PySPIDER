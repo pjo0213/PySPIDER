{
 "cells": [
  {
   "cell_type": "code",
   "execution_count": 1,
   "metadata": {},
   "outputs": [],
   "source": [
    "from library import *\n",
    "\n",
    "do1 = DerivativeOrder(2, 1)\n",
    "do2 = DerivativeOrder(0, 2)\n",
    "rho = Observable('rho', 0)\n",
    "v = Observable('v', 1)\n",
    "prim1 = LibraryPrimitive(do1, rho)\n",
    "prim2 = LibraryPrimitive(do2, v)\n",
    "term1 = LibraryTensor(prim1)\n",
    "term2 = LibraryTensor(prim2)\n",
    "cp1 = CompPair(0, 1)\n",
    "cp2 = CompPair(2, 0)\n",
    "cl1 = CompList([0, 1, 0])\n",
    "cl2 = CompList([0, 1, 1])"
   ]
  },
  {
   "cell_type": "code",
   "execution_count": 2,
   "metadata": {},
   "outputs": [
    {
     "data": {
      "text/plain": [
       "dt^2 dx rho"
      ]
     },
     "execution_count": 2,
     "metadata": {},
     "output_type": "execute_result"
    }
   ],
   "source": [
    "term1"
   ]
  },
  {
   "cell_type": "code",
   "execution_count": 3,
   "metadata": {},
   "outputs": [
    {
     "data": {
      "text/plain": [
       "dx^2 v"
      ]
     },
     "execution_count": 3,
     "metadata": {},
     "output_type": "execute_result"
    }
   ],
   "source": [
    "prim2"
   ]
  },
  {
   "cell_type": "code",
   "execution_count": 4,
   "metadata": {},
   "outputs": [
    {
     "data": {
      "text/plain": [
       "'dt^2 dx rho'"
      ]
     },
     "execution_count": 4,
     "metadata": {},
     "output_type": "execute_result"
    }
   ],
   "source": [
    "repr(term1)"
   ]
  },
  {
   "cell_type": "code",
   "execution_count": 5,
   "metadata": {},
   "outputs": [
    {
     "name": "stdout",
     "output_type": "stream",
     "text": [
      "dx^2 v * dt^2 dx rho\n"
     ]
    }
   ],
   "source": [
    "tensor = term2*term1\n",
    "print(tensor)"
   ]
  },
  {
   "cell_type": "code",
   "execution_count": 6,
   "metadata": {},
   "outputs": [
    {
     "name": "stdout",
     "output_type": "stream",
     "text": [
      "{1: (0, 0), 2: (1, 2)}\n",
      "{1: (0, 1), 2: (0, 2)}\n"
     ]
    }
   ],
   "source": [
    "labels = []\n",
    "for label in list_labels(tensor):\n",
    "    labels.append(label)\n",
    "    print(label)"
   ]
  },
  {
   "cell_type": "code",
   "execution_count": 7,
   "metadata": {},
   "outputs": [
    {
     "name": "stdout",
     "output_type": "stream",
     "text": [
      "dj^2 v_k * dt^2 dk rho\n",
      "dj dk v_j * dt^2 dk rho\n"
     ]
    }
   ],
   "source": [
    "libterm1 = LibraryTerm(tensor, labels[0])\n",
    "libterm2 = LibraryTerm(tensor, labels[1])\n",
    "print(libterm1)\n",
    "print(libterm2)"
   ]
  },
  {
   "cell_type": "code",
   "execution_count": 8,
   "metadata": {},
   "outputs": [
    {
     "name": "stdout",
     "output_type": "stream",
     "text": [
      "dj v_j * dk v_k * dl v_l -> dj v_j * dk v_k * dl v_l\n",
      "Is it canonical? True\n",
      "dj v_j * dk v_l * dk v_l -> dj v_j * dk v_l * dk v_l\n",
      "Is it canonical? True\n",
      "dj v_j * dk v_l * dl v_k -> dj v_j * dk v_l * dl v_k\n",
      "Is it canonical? True\n",
      "dj v_k * dj v_k * dl v_l -> dj v_j * dk v_l * dk v_l\n",
      "Is it canonical? False\n",
      "dj v_k * dj v_l * dk v_l -> dj v_k * dj v_l * dk v_l\n",
      "Is it canonical? True\n",
      "dj v_k * dj v_l * dl v_k -> dj v_k * dj v_l * dk v_l\n",
      "Is it canonical? False\n",
      "dj v_k * dk v_j * dl v_l -> dj v_j * dk v_l * dl v_k\n",
      "Is it canonical? False\n",
      "dj v_k * dl v_j * dl v_k -> dj v_k * dj v_l * dk v_l\n",
      "Is it canonical? False\n",
      "dj v_k * dk v_l * dl v_j -> dj v_k * dk v_l * dl v_j\n",
      "Is it canonical? True\n"
     ]
    }
   ],
   "source": [
    "do = DerivativeOrder(0, 1)\n",
    "trank2 = LibraryTensor(LibraryPrimitive(do, v))\n",
    "trank6 = trank2*trank2*trank2\n",
    "trank8 = tensor*trank6\n",
    "for label in list_labels(trank6):\n",
    "    lt = LibraryTerm(trank6, label)\n",
    "    print(lt, \"->\", lt.canonicalize())\n",
    "    print(\"Is it canonical?\", lt.is_canonical)\n",
    "    #print(LibraryTerm(trank6, label))\n",
    "    \n",
    "# note that there are duplicates which are valid by lexicographic ordering, e.g.\n",
    "# dj v_j * dk v_l * dk v_l, dj v_k * dj v_k * dl v_l (11 23 23; 12 12 33)\n",
    "# this problem however seems to only be possible for order>=5 so we won't worry about it for now.\n",
    "# dj v_j * dk v_k * dl v_l\n",
    "# dj v_j * dk v_l * dk v_l\n",
    "# dj v_j * dk v_l * dl v_k\n",
    "# dj v_k * dj v_k * dl v_l\n",
    "# dj v_k * dj v_l * dk v_l\n",
    "# dj v_k * dj v_l * dl v_k\n",
    "# dj v_k * dk v_j * dl v_l\n",
    "# dj v_k * dl v_j * dk v_l\n",
    "# dj v_k * dl v_j * dl v_k\n",
    "# dj v_k * dk v_l * dj v_l\n",
    "# dj v_k * dl v_k * dj v_l\n",
    "# dj v_k * dl v_l * dj v_k\n",
    "# dj v_k * dk v_l * dl v_j\n",
    "# dj v_k * dl v_k * dl v_j\n",
    "# dj v_k * dl v_l * dk v_j"
   ]
  },
  {
   "cell_type": "code",
   "execution_count": 9,
   "metadata": {},
   "outputs": [
    {
     "data": {
      "text/plain": [
       "True"
      ]
     },
     "execution_count": 9,
     "metadata": {},
     "output_type": "execute_result"
    }
   ],
   "source": [
    "cp1 < cp2"
   ]
  },
  {
   "cell_type": "code",
   "execution_count": 10,
   "metadata": {},
   "outputs": [
    {
     "name": "stdout",
     "output_type": "stream",
     "text": [
      "True False\n"
     ]
    }
   ],
   "source": [
    "print(cl1<=cl2, cl1>=cl2)"
   ]
  },
  {
   "cell_type": "code",
   "execution_count": 11,
   "metadata": {},
   "outputs": [
    {
     "data": {
      "text/plain": [
       "(dt^2 dx rho, dx^2 v)"
      ]
     },
     "execution_count": 11,
     "metadata": {},
     "output_type": "execute_result"
    }
   ],
   "source": [
    "prim1, prim2"
   ]
  },
  {
   "cell_type": "code",
   "execution_count": 12,
   "metadata": {},
   "outputs": [
    {
     "data": {
      "text/plain": [
       "True"
      ]
     },
     "execution_count": 12,
     "metadata": {},
     "output_type": "execute_result"
    }
   ],
   "source": [
    "prim1 < prim2"
   ]
  },
  {
   "cell_type": "code",
   "execution_count": 13,
   "metadata": {},
   "outputs": [],
   "source": [
    "prim3 = LibraryPrimitive(do2, rho)"
   ]
  },
  {
   "cell_type": "code",
   "execution_count": 14,
   "metadata": {},
   "outputs": [
    {
     "data": {
      "text/plain": [
       "(dt^2 dx rho, dx^2 rho)"
      ]
     },
     "execution_count": 14,
     "metadata": {},
     "output_type": "execute_result"
    }
   ],
   "source": [
    "prim1, prim3"
   ]
  },
  {
   "cell_type": "code",
   "execution_count": 15,
   "metadata": {},
   "outputs": [
    {
     "data": {
      "text/plain": [
       "True"
      ]
     },
     "execution_count": 15,
     "metadata": {},
     "output_type": "execute_result"
    }
   ],
   "source": [
    "prim1 < prim3"
   ]
  },
  {
   "cell_type": "code",
   "execution_count": 16,
   "metadata": {},
   "outputs": [],
   "source": [
    "#For example, if the list I want to sort is [2,3,1,4,5], I need [2,0,1,3,4] to be returned.\n",
    "# 2<-0, 0<-1, ...\n",
    "# [2, 3, 1, 4, 5] + [a:b, c:d, e:f, g:h, i:j] (index_list) -> sort via zip \n",
    "# if i locations were initially a,d, now need to rewrite labels according to NEW LOCATIONS of a and d\n",
    "x = ['a', 'b', 'c']; y = [1, 2, 3]; z = ['alpha', 'beta', 'gamma']\n",
    "zr = zip(x, y, z)"
   ]
  },
  {
   "cell_type": "code",
   "execution_count": 17,
   "metadata": {},
   "outputs": [
    {
     "name": "stdout",
     "output_type": "stream",
     "text": [
      "[('a', 1, 'alpha'), ('b', 2, 'beta'), ('c', 3, 'gamma')]\n"
     ]
    }
   ],
   "source": [
    "print(list(zr))"
   ]
  },
  {
   "cell_type": "code",
   "execution_count": 18,
   "metadata": {},
   "outputs": [
    {
     "name": "stdout",
     "output_type": "stream",
     "text": [
      "dj^2 v_k * dt^2 dk rho -> dt^2 dk rho * dj^2 v_k\n",
      "dj dk v_j * dt^2 dk rho -> dt^2 dk rho * dj dk v_j\n"
     ]
    }
   ],
   "source": [
    "print(libterm1, \"->\", libterm1.structure_canonicalize())\n",
    "print(libterm2, \"->\", libterm2.structure_canonicalize())"
   ]
  },
  {
   "cell_type": "code",
   "execution_count": 19,
   "metadata": {},
   "outputs": [
    {
     "data": {
      "text/plain": [
       "[0, 1, 2, 3, 4, 5, 6, 7, 8, 9]"
      ]
     },
     "execution_count": 19,
     "metadata": {},
     "output_type": "execute_result"
    }
   ],
   "source": [
    "list(range(10))"
   ]
  },
  {
   "cell_type": "code",
   "execution_count": 20,
   "metadata": {},
   "outputs": [],
   "source": [
    "def flatten(t):\n",
    "    return [item for sublist in t for item in sublist]  \n",
    "#flatten([0, 1, 2, 3])"
   ]
  },
  {
   "cell_type": "code",
   "execution_count": 21,
   "metadata": {},
   "outputs": [
    {
     "name": "stdout",
     "output_type": "stream",
     "text": [
      "[0, 1, 2, 3, 4]\n",
      "[0, 1, 2, 4, 3]\n",
      "[0, 1, 3, 2, 4]\n",
      "[0, 1, 3, 4, 2]\n",
      "[0, 1, 4, 2, 3]\n",
      "[0, 1, 4, 3, 2]\n"
     ]
    }
   ],
   "source": [
    "for t in get_isomorphic_terms(trank8.observable_list):\n",
    "    print(t)"
   ]
  },
  {
   "cell_type": "code",
   "execution_count": 22,
   "metadata": {},
   "outputs": [
    {
     "data": {
      "text/plain": [
       "'boy'"
      ]
     },
     "execution_count": 22,
     "metadata": {},
     "output_type": "execute_result"
    }
   ],
   "source": [
    "min(\"str\", \"cat\", \"boy\")"
   ]
  },
  {
   "cell_type": "code",
   "execution_count": 23,
   "metadata": {},
   "outputs": [
    {
     "data": {
      "text/plain": [
       "'r'"
      ]
     },
     "execution_count": 23,
     "metadata": {},
     "output_type": "execute_result"
    }
   ],
   "source": [
    "min(map(lambda x:x[-1], [\"str\", \"cat\", \"boy\"]))"
   ]
  },
  {
   "cell_type": "code",
   "execution_count": 24,
   "metadata": {},
   "outputs": [
    {
     "data": {
      "text/plain": [
       "'str'"
      ]
     },
     "execution_count": 24,
     "metadata": {},
     "output_type": "execute_result"
    }
   ],
   "source": [
    "min([\"str\", \"cat\", \"boy\"], key=lambda x:x[-1])"
   ]
  },
  {
   "cell_type": "code",
   "execution_count": 25,
   "metadata": {},
   "outputs": [
    {
     "data": {
      "text/plain": [
       "([], [])"
      ]
     },
     "execution_count": 25,
     "metadata": {},
     "output_type": "execute_result"
    }
   ],
   "source": [
    "x = [1]\n",
    "x[1:], x[:-1]"
   ]
  },
  {
   "cell_type": "code",
   "execution_count": 26,
   "metadata": {},
   "outputs": [
    {
     "name": "stdout",
     "output_type": "stream",
     "text": [
      "dt dx^2 v\n",
      "dj dk rho * dt di dj v_k\n",
      "dj dk rho * dt di dj v_k + dt dj^2 v_i\n"
     ]
    }
   ],
   "source": [
    "obs_dict = {'rho': rho, 'v': v}\n",
    "obs = construct_from_string('dx dt dx v', 'LP', obs_dict)\n",
    "tens = construct_from_string('di dt dj v_k * dj dk rho', 'LT', obs_dict)\n",
    "print(obs)\n",
    "print(tens.canonicalize())"
   ]
  },
  {
   "cell_type": "code",
   "execution_count": null,
   "metadata": {},
   "outputs": [],
   "source": []
  }
 ],
 "metadata": {
  "kernelspec": {
   "display_name": "Python 3 (ipykernel)",
   "language": "python",
   "name": "python3"
  },
  "language_info": {
   "codemirror_mode": {
    "name": "ipython",
    "version": 3
   },
   "file_extension": ".py",
   "mimetype": "text/x-python",
   "name": "python",
   "nbconvert_exporter": "python",
   "pygments_lexer": "ipython3",
   "version": "3.7.6"
  }
 },
 "nbformat": 4,
 "nbformat_minor": 4
}
