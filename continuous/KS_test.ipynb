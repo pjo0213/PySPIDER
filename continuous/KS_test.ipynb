{
 "cells": [
  {
   "cell_type": "code",
   "execution_count": null,
   "id": "3703260e",
   "metadata": {},
   "outputs": [],
   "source": [
    "import numpy as np\n",
    "\n",
    "from weight import *\n",
    "from utils import save, load\n",
    "from library import *\n",
    "from process_library_terms import *\n",
    "\n",
    "import scipy.io\n",
    "import matplotlib.pyplot as plt\n",
    "mat = scipy.io.loadmat('KSres2.mat')\n",
    "u = mat['uu']\n",
    "dt = mat['dt'][0][0]\n",
    "dx = mat['dx'][0][0]\n",
    "\n",
    "fig, ax= plt.subplots(figsize=(6,6))\n",
    "ax.imshow(u[:, :])\n",
    "\n",
    "u = u[..., np.newaxis]"
   ]
  },
  {
   "cell_type": "code",
   "execution_count": null,
   "id": "4172a81e",
   "metadata": {},
   "outputs": [],
   "source": [
    "uobs = Observable('u', 1)\n",
    "print(\"u shape:\", u.shape)\n",
    "\n",
    "### define all parameters and \"make library\"\n",
    "terms = generate_terms_to(5, observables=[uobs], max_observables=3)\n",
    "terms0 = []\n",
    "terms1 = []\n",
    "for term in terms:\n",
    "    if term.rank==0:\n",
    "        terms0.append(term)\n",
    "    else:\n",
    "        terms1.append(term)\n",
    "\n",
    "world_size = np.array(u.shape)\n",
    "m = 6\n",
    "qmax = 1\n",
    "nweights = qmax**2\n",
    "ndomains = 200\n",
    "dom_width = 128\n",
    "dom_time = 20\n",
    "pad = 0\n",
    "\n",
    "# fix random seed\n",
    "np.random.seed(1)\n",
    "\n",
    "data_dict = {'u': u}\n",
    "\n",
    "dxs = [dx, dt]\n",
    "\n",
    "scale_dict = find_scales(data_dict)\n",
    "\n",
    "char_sizes0 = [get_char_size(term, scale_dict, dx, dt) for term in terms0]\n",
    "char_sizes1 = [get_char_size(term, scale_dict, dx, dt) for term in terms1]\n",
    "\n",
    "weights = []\n",
    "dxs_weight = [(dom_width-1)/2*dx, (dom_time-1)/2*dt] # grid spacing used by weight function\n",
    "\n",
    "#for domain in domains:\n",
    "for q1 in range(qmax):\n",
    "    for q2 in range(qmax):\n",
    "        weights.append(Weight([m]*2, [q1, q2], [0, 0], dxs=dxs_weight))\n",
    "#domains = domains*nweights\n",
    "\n",
    "# make domains and \"count\" density\n",
    "domains = make_domains([dom_width, dom_time], world_size, ndomains, pad)\n",
    "\n",
    "Q0 = make_library(terms0, data_dict, weights, domains, 0, dxs)#, by_parts=False)\n",
    "Q1 = make_library(terms1, data_dict, weights, domains, 1, dxs)#, by_parts=False)"
   ]
  },
  {
   "cell_type": "code",
   "execution_count": null,
   "id": "081b6ad2",
   "metadata": {},
   "outputs": [],
   "source": [
    "ks_terms = ['dt u_i', 'dj^2 u_i', 'dj^2 dk^2 u_i', 'dj u_j * u_i']\n",
    "col_numbers = [find_term(terms1, name) for name in ks_terms]\n",
    "Xi, lambd = regress(Q1, col_numbers)\n",
    "for i in range(len(Xi)):\n",
    "    if Xi[i]!=0:\n",
    "        print(f\"[Term {i}] {Xi[i]} * {terms0[i]}. (Char. size: {char_sizes0[i]})\")\n",
    "print(\"Model residual:\", lambd)"
   ]
  }
 ],
 "metadata": {
  "kernelspec": {
   "display_name": "Python 3",
   "language": "python",
   "name": "python3"
  },
  "language_info": {
   "codemirror_mode": {
    "name": "ipython",
    "version": 3
   },
   "file_extension": ".py",
   "mimetype": "text/x-python",
   "name": "python",
   "nbconvert_exporter": "python",
   "pygments_lexer": "ipython3",
   "version": "3.7.11"
  }
 },
 "nbformat": 4,
 "nbformat_minor": 5
}
