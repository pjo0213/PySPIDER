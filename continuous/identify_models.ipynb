{
 "cells": [
  {
   "cell_type": "code",
   "execution_count": 1,
   "metadata": {},
   "outputs": [],
   "source": [
    "from library import *\n",
    "\n",
    "class Equation(object): # can represent equation (expression = 0) OR expression\n",
    "    def __init__(self, term_list, coeffs): # terms are LibraryTerms, coeffs are real numbers\n",
    "        content = zip(term_list, coeffs)\n",
    "        sorted_content = sorted(content, key=lambda x:x[0])\n",
    "        self.term_list = [e[0] for e in sorted_content]\n",
    "        self.coeffs = [e[1] for e in sorted_content]\n",
    "        self.rank = term_list[0].rank\n",
    "        # might want to define complexity function\n",
    "      \n",
    "    def __add__(self, other):\n",
    "        if isinstance(other, Equation):\n",
    "            return Equation(self.term_list + other.term_list, self.coeffs + other.coeffs)\n",
    "        else:\n",
    "            raise ValueError(f\"Second argument {other}) is not an equation.\")\n",
    "    \n",
    "    def __repr__(self):\n",
    "        repstr = [str(coeff) + ' * ' + str(term)+' + ' for term, coeff in zip(self.term_list, self.coeffs)]\n",
    "        return reduce(add, repstr)[:-3]\n",
    "    \n",
    "    def __str__(self):\n",
    "        return self.__repr__()+\" = 0\"\n",
    "    \n",
    "    def __eq__(self, other):\n",
    "        for term, ot in zip(self.term_list, other.term_list):\n",
    "            if term != ot:\n",
    "                return False\n",
    "        for coeff, ot in zip(self.coeffs, other.coeffs):\n",
    "            if term != ot:\n",
    "                return False\n",
    "        return True\n",
    "    \n",
    "    def eliminate_complex_term(self):\n",
    "        lhs = max(self.term_list, key=lambda t:t.complexity)\n",
    "        lhs_ind = self.term_list.index(lhs)\n",
    "        new_term_list = self.term_list[:lhs_ind]+self.term_list[lhs_ind+1:]\n",
    "        new_coeffs = self.coeffs[:lhs_ind]+self.coeffs[lhs_ind+1:]\n",
    "        new_coeffs = [c/self.coeffs[lhs_ind] for c in new_coeffs]\n",
    "        rhs = Equation(new_term_list, new_coeffs)\n",
    "        return lhs, rhs\n",
    "\n",
    "# need to implement:\n",
    "# 2. term builder-upper - enough to just build up from the most complex term which we exclude,\n",
    "#         not necessary to build up whole equation in this way [not sure what I meant when I wrote this!]\n",
    "# 3. iterative term selecter + model builder (to find models up to complexity K)\n",
    "# 4. term excluder (based on identified models)"
   ]
  },
  {
   "cell_type": "code",
   "execution_count": null,
   "metadata": {},
   "outputs": [],
   "source": []
  }
 ],
 "metadata": {
  "kernelspec": {
   "display_name": "Python 3 (ipykernel)",
   "language": "python",
   "name": "python3"
  },
  "language_info": {
   "codemirror_mode": {
    "name": "ipython",
    "version": 3
   },
   "file_extension": ".py",
   "mimetype": "text/x-python",
   "name": "python",
   "nbconvert_exporter": "python",
   "pygments_lexer": "ipython3",
   "version": "3.7.6"
  }
 },
 "nbformat": 4,
 "nbformat_minor": 4
}
