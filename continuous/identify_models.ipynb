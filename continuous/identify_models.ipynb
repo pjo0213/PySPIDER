{
 "cells": [
  {
   "cell_type": "code",
   "execution_count": null,
   "metadata": {},
   "outputs": [],
   "source": [
    "class Equation:\n",
    "    pass\n",
    "\n",
    "# need to implement:\n",
    "# 0. term from string constructor(s) - not mandatory but helpful\n",
    "# 1. weak canonicalizer or equality checker - enough to match \"built up\" terms with library\n",
    "# 2. term builder-upper - enough to just build up from the most complex term which we exclude,\n",
    "#         not necessary to build up whole equation in this way [not sure what I meant when I wrote this!]\n",
    "# 3. iterative term selecter + model builder (to find models up to complexity K)\n",
    "# 4. term excluder (based on identified models)"
   ]
  }
 ],
 "metadata": {
  "kernelspec": {
   "display_name": "Python 3 (ipykernel)",
   "language": "python",
   "name": "python3"
  },
  "language_info": {
   "codemirror_mode": {
    "name": "ipython",
    "version": 3
   },
   "file_extension": ".py",
   "mimetype": "text/x-python",
   "name": "python",
   "nbconvert_exporter": "python",
   "pygments_lexer": "ipython3",
   "version": "3.7.6"
  }
 },
 "nbformat": 4,
 "nbformat_minor": 4
}
