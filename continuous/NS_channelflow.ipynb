{
 "cells": [
  {
   "cell_type": "code",
   "execution_count": 18,
   "id": "251fd332",
   "metadata": {},
   "outputs": [
    {
     "data": {
      "text/plain": [
       "{'X': <class 'netCDF4._netCDF4.Variable'>\n",
       " float64 X(X)\n",
       " unlimited dimensions: \n",
       " current shape = (106,)\n",
       " filling on, default _FillValue of 9.969209968386869e+36 used,\n",
       " 'Y': <class 'netCDF4._netCDF4.Variable'>\n",
       " float64 Y(Y)\n",
       " unlimited dimensions: \n",
       " current shape = (101,)\n",
       " filling on, default _FillValue of 9.969209968386869e+36 used,\n",
       " 'Z': <class 'netCDF4._netCDF4.Variable'>\n",
       " float64 Z(Z)\n",
       " unlimited dimensions: \n",
       " current shape = (42,)\n",
       " filling on, default _FillValue of 9.969209968386869e+36 used,\n",
       " 'Velocity_X': <class 'netCDF4._netCDF4.Variable'>\n",
       " float64 Velocity_X(Z, Y, X)\n",
       " unlimited dimensions: \n",
       " current shape = (42, 101, 106)\n",
       " filling on, default _FillValue of 9.969209968386869e+36 used,\n",
       " 'Velocity_Y': <class 'netCDF4._netCDF4.Variable'>\n",
       " float64 Velocity_Y(Z, Y, X)\n",
       " unlimited dimensions: \n",
       " current shape = (42, 101, 106)\n",
       " filling on, default _FillValue of 9.969209968386869e+36 used,\n",
       " 'Velocity_Z': <class 'netCDF4._netCDF4.Variable'>\n",
       " float64 Velocity_Z(Z, Y, X)\n",
       " unlimited dimensions: \n",
       " current shape = (42, 101, 106)\n",
       " filling on, default _FillValue of 9.969209968386869e+36 used}"
      ]
     },
     "execution_count": 18,
     "metadata": {},
     "output_type": "execute_result"
    }
   ],
   "source": [
    "import numpy as np\n",
    "\n",
    "from weight import *\n",
    "from utils import save, load\n",
    "from library import *\n",
    "from process_library_terms import *\n",
    "import matplotlib.pyplot as plt\n",
    "\n",
    "from netCDF4 import Dataset, MFDataset\n",
    "import h5py\n",
    "\n",
    "f = Dataset('NSE2D/data/u0.000.nc', 'r')\n",
    "f.variables\n",
    "#f.createDimension(\"T\", None)\n",
    "#f.close()\n",
    "\n",
    "#Lx = 4; Ly = 4; Lt = 1;\n",
    "#Nx = 512; Ny = Nx; Nt = 1000; # normal resolution\n",
    "#Nx = 256; Ny = Nx; Nt = 1000; # half resolution\n",
    "#dx = Lx/Nx; dy = Ly/Ny; dt = Lt/Nt;\n",
    "\n",
    "#fig, ax= plt.subplots(figsize=(6,6))\n",
    "#ax.imshow(P[:, 128, :])"
   ]
  },
  {
   "cell_type": "code",
   "execution_count": 13,
   "id": "753cd81a-a9fa-48e5-bd6f-5e1814d600ca",
   "metadata": {},
   "outputs": [
    {
     "name": "stdout",
     "output_type": "stream",
     "text": [
      "{'X': <class 'netCDF4._netCDF4.Dimension'>: name = 'X', size = 106, 'Y': <class 'netCDF4._netCDF4.Dimension'>: name = 'Y', size = 101, 'Z': <class 'netCDF4._netCDF4.Dimension'>: name = 'Z', size = 42}\n"
     ]
    },
    {
     "name": "stderr",
     "output_type": "stream",
     "text": [
      "C:\\Users\\nerpa\\Anaconda3\\lib\\site-packages\\ipykernel_launcher.py:1: DeprecationWarning: tostring() is deprecated. Use tobytes() instead.\n",
      "  \"\"\"Entry point for launching an IPython kernel.\n"
     ]
    }
   ],
   "source": [
    "print(f.dimensions)"
   ]
  },
  {
   "cell_type": "code",
   "execution_count": 14,
   "id": "471c2087",
   "metadata": {},
   "outputs": [
    {
     "ename": "NameError",
     "evalue": "name 'U' is not defined",
     "output_type": "error",
     "traceback": [
      "\u001b[1;31m---------------------------------------------------------------------------\u001b[0m",
      "\u001b[1;31mNameError\u001b[0m                                 Traceback (most recent call last)",
      "\u001b[1;32m~\\AppData\\Local\\Temp/ipykernel_26768/2887587045.py\u001b[0m in \u001b[0;36m<module>\u001b[1;34m\u001b[0m\n\u001b[0;32m      1\u001b[0m \u001b[0mfig\u001b[0m\u001b[1;33m,\u001b[0m \u001b[0max\u001b[0m\u001b[1;33m=\u001b[0m \u001b[0mplt\u001b[0m\u001b[1;33m.\u001b[0m\u001b[0msubplots\u001b[0m\u001b[1;33m(\u001b[0m\u001b[0mfigsize\u001b[0m\u001b[1;33m=\u001b[0m\u001b[1;33m(\u001b[0m\u001b[1;36m6\u001b[0m\u001b[1;33m,\u001b[0m\u001b[1;36m6\u001b[0m\u001b[1;33m)\u001b[0m\u001b[1;33m)\u001b[0m\u001b[1;33m\u001b[0m\u001b[1;33m\u001b[0m\u001b[0m\n\u001b[1;32m----> 2\u001b[1;33m \u001b[0mdU\u001b[0m \u001b[1;33m=\u001b[0m \u001b[0mnp\u001b[0m\u001b[1;33m.\u001b[0m\u001b[0mdiff\u001b[0m\u001b[1;33m(\u001b[0m\u001b[0mU\u001b[0m\u001b[1;33m[\u001b[0m\u001b[1;33m:\u001b[0m\u001b[1;33m,\u001b[0m \u001b[1;33m:\u001b[0m\u001b[1;33m,\u001b[0m \u001b[1;33m-\u001b[0m\u001b[1;36m1\u001b[0m\u001b[1;33m]\u001b[0m\u001b[1;33m,\u001b[0m \u001b[0maxis\u001b[0m\u001b[1;33m=\u001b[0m\u001b[1;36m0\u001b[0m\u001b[1;33m)\u001b[0m\u001b[1;33m\u001b[0m\u001b[1;33m\u001b[0m\u001b[0m\n\u001b[0m\u001b[0;32m      3\u001b[0m \u001b[0mdV\u001b[0m \u001b[1;33m=\u001b[0m \u001b[0mnp\u001b[0m\u001b[1;33m.\u001b[0m\u001b[0mdiff\u001b[0m\u001b[1;33m(\u001b[0m\u001b[0mV\u001b[0m\u001b[1;33m[\u001b[0m\u001b[1;33m:\u001b[0m\u001b[1;33m,\u001b[0m \u001b[1;33m:\u001b[0m\u001b[1;33m,\u001b[0m \u001b[1;33m-\u001b[0m\u001b[1;36m1\u001b[0m\u001b[1;33m]\u001b[0m\u001b[1;33m,\u001b[0m \u001b[0maxis\u001b[0m\u001b[1;33m=\u001b[0m\u001b[1;36m1\u001b[0m\u001b[1;33m)\u001b[0m\u001b[1;33m\u001b[0m\u001b[1;33m\u001b[0m\u001b[0m\n\u001b[0;32m      4\u001b[0m \u001b[0max\u001b[0m\u001b[1;33m.\u001b[0m\u001b[0mimshow\u001b[0m\u001b[1;33m(\u001b[0m\u001b[0mdU\u001b[0m\u001b[1;33m[\u001b[0m\u001b[1;33m:\u001b[0m\u001b[1;33m,\u001b[0m\u001b[1;36m1\u001b[0m\u001b[1;33m:\u001b[0m\u001b[1;33m]\u001b[0m\u001b[1;33m+\u001b[0m\u001b[0mdV\u001b[0m\u001b[1;33m[\u001b[0m\u001b[1;36m1\u001b[0m\u001b[1;33m:\u001b[0m\u001b[1;33m,\u001b[0m\u001b[1;33m:\u001b[0m\u001b[1;33m]\u001b[0m\u001b[1;33m)\u001b[0m\u001b[1;33m\u001b[0m\u001b[1;33m\u001b[0m\u001b[0m\n\u001b[0;32m      5\u001b[0m \u001b[0mnp\u001b[0m\u001b[1;33m.\u001b[0m\u001b[0mmax\u001b[0m\u001b[1;33m(\u001b[0m\u001b[0mdU\u001b[0m\u001b[1;33m[\u001b[0m\u001b[1;33m:\u001b[0m\u001b[1;33m,\u001b[0m\u001b[1;36m1\u001b[0m\u001b[1;33m:\u001b[0m\u001b[1;33m]\u001b[0m\u001b[1;33m+\u001b[0m\u001b[0mdV\u001b[0m\u001b[1;33m[\u001b[0m\u001b[1;36m1\u001b[0m\u001b[1;33m:\u001b[0m\u001b[1;33m,\u001b[0m\u001b[1;33m:\u001b[0m\u001b[1;33m]\u001b[0m\u001b[1;33m)\u001b[0m\u001b[1;33m\u001b[0m\u001b[1;33m\u001b[0m\u001b[0m\n",
      "\u001b[1;31mNameError\u001b[0m: name 'U' is not defined"
     ]
    },
    {
     "data": {
      "image/png": "[encoded data removed]",
      "text/plain": [
       "<Figure size 432x432 with 1 Axes>"
      ]
     },
     "metadata": {
      "needs_background": "light"
     },
     "output_type": "display_data"
    }
   ],
   "source": [
    "fig, ax= plt.subplots(figsize=(6,6))\n",
    "dU = np.diff(U[:, :, -1], axis=0)\n",
    "dV = np.diff(V[:, :, -1], axis=1)\n",
    "ax.imshow(dU[:,1:]+dV[1:,:])\n",
    "np.max(dU[:,1:]+dV[1:,:])"
   ]
  },
  {
   "cell_type": "code",
   "execution_count": 15,
   "id": "bf1d2b93",
   "metadata": {},
   "outputs": [
    {
     "ename": "NameError",
     "evalue": "name 'U' is not defined",
     "output_type": "error",
     "traceback": [
      "\u001b[1;31m---------------------------------------------------------------------------\u001b[0m",
      "\u001b[1;31mNameError\u001b[0m                                 Traceback (most recent call last)",
      "\u001b[1;32m~\\AppData\\Local\\Temp/ipykernel_26768/1236306506.py\u001b[0m in \u001b[0;36m<module>\u001b[1;34m\u001b[0m\n\u001b[0;32m      2\u001b[0m \u001b[0mpobs\u001b[0m \u001b[1;33m=\u001b[0m \u001b[0mObservable\u001b[0m\u001b[1;33m(\u001b[0m\u001b[1;34m'p'\u001b[0m\u001b[1;33m,\u001b[0m \u001b[1;36m0\u001b[0m\u001b[1;33m)\u001b[0m\u001b[1;33m\u001b[0m\u001b[1;33m\u001b[0m\u001b[0m\n\u001b[0;32m      3\u001b[0m \u001b[1;33m\u001b[0m\u001b[0m\n\u001b[1;32m----> 4\u001b[1;33m \u001b[0mu\u001b[0m \u001b[1;33m=\u001b[0m \u001b[0mnp\u001b[0m\u001b[1;33m.\u001b[0m\u001b[0mconcatenate\u001b[0m\u001b[1;33m(\u001b[0m\u001b[1;33m[\u001b[0m\u001b[0mU\u001b[0m\u001b[1;33m[\u001b[0m\u001b[1;33m:\u001b[0m\u001b[1;33m,\u001b[0m \u001b[1;33m:\u001b[0m\u001b[1;33m,\u001b[0m \u001b[1;33m:\u001b[0m\u001b[1;33m,\u001b[0m \u001b[0mnp\u001b[0m\u001b[1;33m.\u001b[0m\u001b[0mnewaxis\u001b[0m\u001b[1;33m]\u001b[0m\u001b[1;33m,\u001b[0m \u001b[0mV\u001b[0m\u001b[1;33m[\u001b[0m\u001b[1;33m:\u001b[0m\u001b[1;33m,\u001b[0m \u001b[1;33m:\u001b[0m\u001b[1;33m,\u001b[0m \u001b[1;33m:\u001b[0m\u001b[1;33m,\u001b[0m \u001b[0mnp\u001b[0m\u001b[1;33m.\u001b[0m\u001b[0mnewaxis\u001b[0m\u001b[1;33m]\u001b[0m\u001b[1;33m]\u001b[0m\u001b[1;33m,\u001b[0m \u001b[0maxis\u001b[0m\u001b[1;33m=\u001b[0m\u001b[1;36m3\u001b[0m\u001b[1;33m)\u001b[0m\u001b[1;33m\u001b[0m\u001b[1;33m\u001b[0m\u001b[0m\n\u001b[0m\u001b[0;32m      5\u001b[0m \u001b[1;33m\u001b[0m\u001b[0m\n\u001b[0;32m      6\u001b[0m \u001b[1;31m### define all parameters and \"make library\"\u001b[0m\u001b[1;33m\u001b[0m\u001b[1;33m\u001b[0m\u001b[1;33m\u001b[0m\u001b[0m\n",
      "\u001b[1;31mNameError\u001b[0m: name 'U' is not defined"
     ]
    }
   ],
   "source": [
    "uobs = Observable('u', 1)\n",
    "pobs = Observable('p', 0)\n",
    "\n",
    "u = np.concatenate([U[:, :, :, np.newaxis], V[:, :, :, np.newaxis]], axis=3)\n",
    "\n",
    "### define all parameters and \"make library\"\n",
    "terms = generate_terms_to(3, observables=[uobs, pobs], max_observables=3)\n",
    "terms0 = []\n",
    "terms1 = []\n",
    "for term in terms:\n",
    "    if term.rank==0:\n",
    "        terms0.append(term)\n",
    "    else:\n",
    "        terms1.append(term)\n",
    "\n",
    "world_size = np.array(U.shape)\n",
    "m = 12\n",
    "qmax = 1\n",
    "nweights = qmax**4\n",
    "ndomains = 30 #250\n",
    "wx = 64\n",
    "wt = 50\n",
    "pad = 0\n"
   ]
  },
  {
   "cell_type": "code",
   "execution_count": 4,
   "id": "664bd01a",
   "metadata": {},
   "outputs": [],
   "source": [
    "#%%prun\n",
    "\n",
    "# fix random seed\n",
    "np.random.seed(1)\n",
    "\n",
    "data_dict = {'p': P, 'u': u}\n",
    "\n",
    "dxs = [dx, dy, dt]\n",
    "\n",
    "scale_dict = find_scales(data_dict)\n",
    "\n",
    "char_sizes0 = [get_char_size(term, scale_dict, dx, dt) for term in terms0]\n",
    "char_sizes1 = [get_char_size(term, scale_dict, dx, dt) for term in terms1]\n",
    "\n",
    "weights = []\n",
    "dxs_weight = [(wx-1)/2*dx, (wx-1)/2*dx, (wt-1)/2*dt] # grid spacing used by weight function\n",
    "\n",
    "#for domain in domains:\n",
    "for q1 in range(qmax):\n",
    "    for q2 in range(qmax):\n",
    "        for q3 in range(qmax):\n",
    "            for q4 in range(qmax):\n",
    "                weights.append(Weight([m]*3, [q1, q2, q3], [0]*3, dxs=dxs_weight))\n",
    "#domains = domains*nweights\n",
    "\n",
    "# make domains and \"count\" density\n",
    "domains = make_domains([wx, wx, wt], world_size, ndomains, pad)\n",
    "\n",
    "Q0 = make_library(terms0, data_dict, weights, domains, 0, dxs, debug=False)#, by_parts=False)\n",
    "Q1 = make_library(terms1, data_dict, weights, domains, 1, dxs, debug=False)#, by_parts=False)"
   ]
  },
  {
   "cell_type": "code",
   "execution_count": 11,
   "id": "316ce02f",
   "metadata": {},
   "outputs": [],
   "source": [
    "from sparse_reg import *\n",
    "#from ipynb.fs.full.sparse_reg import *\n",
    "opts = dict()\n",
    "#opts['threshold'] = \"'pareto'\"\n",
    "#opts['verbose'] = True\n",
    "#opts['brute_force'] = False\n",
    "opts['threshold'] = \"'threshold'\"\n",
    "opts['n_terms'] = len(terms0)\n",
    "opts['gamma'] = 2\n",
    "opts['verbose'] = False\n",
    "opts['delta'] = 1e-8 #apparently this reaches machine precision as the relative error\n",
    "opts['char_sizes'] = char_sizes0\n",
    "Xi, lambd, best_term, lambda1 = sparse_reg(Q0, opts=opts)"
   ]
  },
  {
   "cell_type": "code",
   "execution_count": 12,
   "id": "9cb4d7e7",
   "metadata": {},
   "outputs": [
    {
     "name": "stdout",
     "output_type": "stream",
     "text": [
      "[Term 1] 1.0 * dj u_j\n",
      "Model residual: 8.240729323952344e-13\n",
      "One-term model residual: 8.240729323952344e-13\n",
      "Best term (#1): dj u_j\n"
     ]
    }
   ],
   "source": [
    "for i in range(len(Xi)):\n",
    "    if Xi[i]!=0:\n",
    "        print(f\"[Term {i}] {Xi[i]} * {terms0[i]}\")\n",
    "print(\"Model residual:\", lambd)\n",
    "print(\"One-term model residual:\", lambda1)\n",
    "print(f\"Best term (#{best_term}):\", terms0[best_term])"
   ]
  },
  {
   "cell_type": "code",
   "execution_count": 13,
   "id": "68cf562a",
   "metadata": {},
   "outputs": [],
   "source": [
    "opts['char_sizes'] = char_sizes1\n",
    "Xi, lambd, best_term, lambda1 = sparse_reg(Q1, opts=opts)"
   ]
  },
  {
   "cell_type": "code",
   "execution_count": 14,
   "id": "c6635dd5",
   "metadata": {},
   "outputs": [
    {
     "name": "stdout",
     "output_type": "stream",
     "text": [
      "[Term 0] 8.183948874387479e-11 * u_i\n",
      "[Term 1] 1.0 * di dj u_j\n",
      "Model residual: 3.744067708030526e-08\n",
      "One-term model residual: 2.0332061091043608e-07\n",
      "Best term: di dj u_j\n"
     ]
    }
   ],
   "source": [
    "for i in range(len(Xi)):\n",
    "    if Xi[i]!=0:\n",
    "        print(f\"[Term {i}] {Xi[i]} * {terms1[i]}\")\n",
    "print(\"Model residual:\", lambd)\n",
    "print(\"One-term model residual:\", lambda1)\n",
    "print(\"Best term:\", terms1[best_term])"
   ]
  },
  {
   "cell_type": "code",
   "execution_count": 15,
   "id": "4f374d77",
   "metadata": {},
   "outputs": [
    {
     "name": "stdout",
     "output_type": "stream",
     "text": [
      "[Term 2] -1.0026580431521679e-05 * dj^2 u_i\n",
      "[Term 3] 0.9999998392169889 * dt u_i\n",
      "[Term 6] 1.0 * dj u_i * u_j\n",
      "[Term 8] 0.9999999748754661 * di p\n",
      "Model residual: 4.190248170688211e-06\n",
      "One-term model residual: 8.988423392599119e-06\n",
      "Best term: dj u_j * u_i\n"
     ]
    }
   ],
   "source": [
    "avoid = []\n",
    "avoid.append(Xi)\n",
    "opts['avoid'] = avoid\n",
    "Xi, lambd, best_term, lambda1 = sparse_reg(Q1, opts=opts)\n",
    "for i in range(len(Xi)):\n",
    "    if Xi[i]!=0:\n",
    "        print(f\"[Term {i}] {Xi[i]} * {terms1[i]}\")\n",
    "print(\"Model residual:\", lambd)\n",
    "print(\"One-term model residual:\", lambda1)\n",
    "print(\"Best term:\", terms1[best_term])"
   ]
  },
  {
   "cell_type": "code",
   "execution_count": 16,
   "id": "504e8173",
   "metadata": {},
   "outputs": [
    {
     "name": "stdout",
     "output_type": "stream",
     "text": [
      "1 1\n",
      "dj u_j 0.036687726462512296\n",
      "dt dj u_j 3.6687726462512294e-05\n",
      "u_j * u_j 7.75596957879523\n",
      "dt u_j * u_j 0.0065391126918544346\n",
      "p 11.909507841829365\n",
      "dj^2 p 0.0020416148869192457\n",
      "dt p 0.00836245457682123\n",
      "dt^2 p 8.36245457682123e-06\n",
      "p * dj u_j 0.4369327660041809\n",
      "dj p * u_j 0.3638914456193968\n",
      "p * u_j * u_j 92.36978051965177\n",
      "p * p 141.83637703459513\n",
      "dt p * p 0.0995927183595943\n",
      "p * p * p 1689.2014445501773\n",
      "u_i 2.784954143032741\n",
      "di dj u_j 0.0005732457259767546\n",
      "dj^2 u_i 0.0005732457259767546\n",
      "dt u_i 0.002348014493600787\n",
      "dt^2 u_i 2.3480144936007867e-06\n",
      "di u_j * u_j 0.10217363581022555\n",
      "dj u_i * u_j 0.10217363581022555\n",
      "dj u_j * u_i 0.10217363581022555\n",
      "di p 0.13066335276283172\n",
      "dt di p 0.00013066335276283171\n",
      "p * u_i 33.167433205583606\n",
      "p * dt u_i 0.02796369702426758\n",
      "dt p * u_i 0.023289052519641393\n",
      "di p * p 1.556136224368661\n",
      "p * p * u_i 395.00780585524967\n"
     ]
    }
   ],
   "source": [
    "for term, size in zip(terms0, char_sizes0):\n",
    "    print(term, size)\n",
    "for term, size in zip(terms1, char_sizes1):\n",
    "    print(term, size)"
   ]
  },
  {
   "cell_type": "code",
   "execution_count": null,
   "id": "dcdc7800-393a-4810-947b-a3d328631b75",
   "metadata": {},
   "outputs": [],
   "source": []
  }
 ],
 "metadata": {
  "kernelspec": {
   "display_name": "Python 3 (ipykernel)",
   "language": "python",
   "name": "python3"
  },
  "language_info": {
   "codemirror_mode": {
    "name": "ipython",
    "version": 3
   },
   "file_extension": ".py",
   "mimetype": "text/x-python",
   "name": "python",
   "nbconvert_exporter": "python",
   "pygments_lexer": "ipython3",
   "version": "3.7.6"
  }
 },
 "nbformat": 4,
 "nbformat_minor": 5
}
