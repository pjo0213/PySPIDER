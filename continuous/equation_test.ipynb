{
 "cells": [
  {
   "cell_type": "code",
   "execution_count": 1,
   "id": "32c3cb31-05a9-43f4-8af9-01b920ef91dd",
   "metadata": {},
   "outputs": [
    {
     "name": "stdout",
     "output_type": "stream",
     "text": [
      "dt dx^2 v\n",
      "dj dk rho * dt di dj v_k\n",
      "0.01 * dj dk rho * dt di dj v_k + 0.1 * dt dj^2 v_i + -1.0 * v_i = 0\n",
      "dj dk rho * dt di dj v_k = -10.0 * dt dj^2 v_i + 100.0 * v_i\n",
      "7 5\n"
     ]
    }
   ],
   "source": [
    "from library import *\n",
    "from identify_models import *\n",
    "from utils import construct_from_string\n",
    "\n",
    "rho = Observable('rho', 0)\n",
    "v = Observable('v', 1)\n",
    "obs_dict = {'rho': rho, 'v': v}\n",
    "obs = construct_from_string('dx dt dx v', 'LP', obs_dict)\n",
    "tens = construct_from_string('di dt dj v_k * dj dk rho', 'LT', obs_dict)\n",
    "print(obs)\n",
    "print(tens.canonicalize())\n",
    "eq = construct_from_string('0.01 * di dt dj v_k * dj dk rho + 0.1 * dj dt dj v_i + -v_i', 'EQ', obs_dict)\n",
    "print(eq)\n",
    "lhs, rhs = eq.eliminate_complex_term()\n",
    "print(str(lhs) + \" = \" + rhs.__repr__())\n",
    "print(lhs.complexity, rhs.complexity)"
   ]
  },
  {
   "cell_type": "code",
   "execution_count": 2,
   "id": "329e0c3b-9b32-4191-9945-f644e8f41891",
   "metadata": {},
   "outputs": [],
   "source": [
    "eq = construct_from_string('3 * di rho + di rho', 'EQ', obs_dict)"
   ]
  },
  {
   "cell_type": "code",
   "execution_count": 3,
   "id": "bc52aaf6-42f8-4deb-98e0-d235b7e38f9b",
   "metadata": {},
   "outputs": [
    {
     "name": "stdout",
     "output_type": "stream",
     "text": [
      "3.0 * di rho + 1.0 * di rho = 0\n",
      "4.0 * di rho = 0\n"
     ]
    }
   ],
   "source": [
    "print(eq)\n",
    "print(eq.canonicalize())"
   ]
  },
  {
   "cell_type": "code",
   "execution_count": 4,
   "id": "25f27f8e-6056-4272-8337-e263938b7c9f",
   "metadata": {},
   "outputs": [
    {
     "name": "stdout",
     "output_type": "stream",
     "text": [
      "4.0 * dj^2 rho = 0\n",
      "4.0 * dj^2 rho = 0\n",
      "4.0 * dt di rho = 0\n",
      "4.0 * dt di rho = 0\n",
      "3.0 * dj rho * dj rho * v_i + 1.0 * dj rho * dj rho * v_i = 0\n",
      "4.0 * dj rho * dj rho * v_i = 0\n",
      "FINALLY\n",
      "8.0 * dj dk rho * dk rho * v_j + 4.0 * dj rho * dj rho * dk v_k = 0\n"
     ]
    }
   ],
   "source": [
    "print(eq.dx())\n",
    "print(eq.dx().canonicalize())\n",
    "print(eq.dt())\n",
    "print(eq.dt().canonicalize())\n",
    "new_eq = eq*construct_from_string('di rho', 'LT', obs_dict)*construct_from_string('v_i', 'LT', obs_dict)\n",
    "print(new_eq)\n",
    "neqc = new_eq.canonicalize()\n",
    "print(neqc)\n",
    "print(\"FINALLY\")\n",
    "print(neqc.dx())"
   ]
  },
  {
   "cell_type": "code",
   "execution_count": 15,
   "id": "49663a4c-5f3b-4a1d-8f5a-3e18bec9ccfd",
   "metadata": {},
   "outputs": [
    {
     "data": {
      "text/plain": [
       "[1, slice(None, None, None), 1, slice(None, None, None), 1]"
      ]
     },
     "execution_count": 15,
     "metadata": {},
     "output_type": "execute_result"
    }
   ],
   "source": [
    "sl = np.s_[1, 1, :, 1]\n",
    "sl2 = list(sl[:1])+[slice(None, None, None)]+list(sl[1:])\n",
    "sl2"
   ]
  },
  {
   "cell_type": "code",
   "execution_count": null,
   "id": "f50b1396-a70e-4de2-9bd1-011741d013b3",
   "metadata": {},
   "outputs": [],
   "source": []
  }
 ],
 "metadata": {
  "kernelspec": {
   "display_name": "Python 3 (ipykernel)",
   "language": "python",
   "name": "python3"
  },
  "language_info": {
   "codemirror_mode": {
    "name": "ipython",
    "version": 3
   },
   "file_extension": ".py",
   "mimetype": "text/x-python",
   "name": "python",
   "nbconvert_exporter": "python",
   "pygments_lexer": "ipython3",
   "version": "3.7.6"
  }
 },
 "nbformat": 4,
 "nbformat_minor": 5
}
