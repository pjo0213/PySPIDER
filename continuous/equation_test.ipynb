{
 "cells": [
  {
   "cell_type": "code",
   "execution_count": 2,
   "id": "32c3cb31-05a9-43f4-8af9-01b920ef91dd",
   "metadata": {},
   "outputs": [
    {
     "name": "stdout",
     "output_type": "stream",
     "text": [
      "dt dx^2 v\n",
      "dj dk rho * dt di dj v_k\n",
      "['0.01 * di dt dj v_k * dj dk rho', '0.1 * dj dt dj v_i', '-v_i']\n",
      "0.01 * dj dk rho * dt di dj v_k + 0.1 * dt dj^2 v_i + -1.0 * v_i = 0\n",
      "dj dk rho * dt di dj v_k = 10.0 * dt dj^2 v_i + -100.0 * v_i\n"
     ]
    }
   ],
   "source": [
    "from library import *\n",
    "from ipynb.fs.full.identify_models import *\n",
    "from utils import construct_from_string\n",
    "\n",
    "rho = Observable('rho', 0)\n",
    "v = Observable('v', 1)\n",
    "obs_dict = {'rho': rho, 'v': v}\n",
    "obs = construct_from_string('dx dt dx v', 'LP', obs_dict)\n",
    "tens = construct_from_string('di dt dj v_k * dj dk rho', 'LT', obs_dict)\n",
    "print(obs)\n",
    "print(tens.canonicalize())\n",
    "eq = construct_from_string('0.01 * di dt dj v_k * dj dk rho + 0.1 * dj dt dj v_i + -v_i', 'EQ', obs_dict)\n",
    "print(eq)\n",
    "lhs, rhs = eq.eliminate_complex_term()\n",
    "print(str(lhs) + \" = \" + rhs.__repr__())"
   ]
  },
  {
   "cell_type": "code",
   "execution_count": null,
   "id": "329e0c3b-9b32-4191-9945-f644e8f41891",
   "metadata": {},
   "outputs": [],
   "source": []
  }
 ],
 "metadata": {
  "kernelspec": {
   "display_name": "Python 3 (ipykernel)",
   "language": "python",
   "name": "python3"
  },
  "language_info": {
   "codemirror_mode": {
    "name": "ipython",
    "version": 3
   },
   "file_extension": ".py",
   "mimetype": "text/x-python",
   "name": "python",
   "nbconvert_exporter": "python",
   "pygments_lexer": "ipython3",
   "version": "3.7.6"
  }
 },
 "nbformat": 4,
 "nbformat_minor": 5
}
