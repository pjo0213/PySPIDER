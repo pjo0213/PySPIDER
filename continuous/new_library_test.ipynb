{
 "cells": [
  {
   "cell_type": "code",
   "execution_count": 1,
   "id": "6361d425-936a-4513-b19c-8dc14afe052a",
   "metadata": {},
   "outputs": [],
   "source": [
    "# in case there are any problems with importing because path is wrong\n",
    "import sys\n",
    "sys.path.append('C:/Users/nerpa/Dropbox (Princeton)/Research/discrete_sr/code/SPIDER_discrete')"
   ]
  },
  {
   "cell_type": "code",
   "execution_count": 2,
   "id": "b418581d-62fe-4f91-bc2a-d1073fc83164",
   "metadata": {},
   "outputs": [],
   "source": [
    "### NEXT: structural generation\n",
    "\n",
    "from library import *"
   ]
  },
  {
   "cell_type": "code",
   "execution_count": 3,
   "id": "5688ca19-9ef5-40a4-95d2-5562e686c607",
   "metadata": {},
   "outputs": [],
   "source": [
    "A = Observable(string='A', rank=2)\n",
    "A_as = Observable(string='A', rank=2, can_commute_indices=True, antisymmetric=True)\n",
    "b = Observable(string='b', rank=1)\n",
    "c = Observable(string='c', rank=0)"
   ]
  },
  {
   "cell_type": "code",
   "execution_count": 4,
   "id": "2da66bc6-de1e-4e16-bdee-268d7065ec9d",
   "metadata": {},
   "outputs": [
    {
     "name": "stdout",
     "output_type": "stream",
     "text": [
      "b_{ } · b_{ } · b_{ } 1\n",
      "b_α · b_β · b_β\n"
     ]
    }
   ],
   "source": [
    "zero_deriv_order = DerivativeOrder.indexed_derivative(0, 0)\n",
    "b_no_deriv = LibraryPrime(derivative=zero_deriv_order, derivand=b)\n",
    "b_cubed = LibraryTerm(primes=(b_no_deriv, b_no_deriv, b_no_deriv), rank=1)\n",
    "print(b_cubed, b_cubed.rank)\n",
    "\n",
    "for idxing in generate_indexings(b_cubed):\n",
    "    print(idxing)"
   ]
  },
  {
   "cell_type": "code",
   "execution_count": 5,
   "id": "aac7eae8-e1fb-4a85-925f-d5d4978f2c37",
   "metadata": {},
   "outputs": [
    {
     "name": "stdout",
     "output_type": "stream",
     "text": [
      "157 [A_αα, A_αβ, ∂β A_αβ, ∂α A_ββ, ∂α² A_ββ, ∂α ∂β A_αβ, ∂γ² A_αβ, ∂α ∂β A_γγ, ∂α ∂γ A_βγ, ∂t A_αα, ∂t A_αβ, ∂t ∂β A_αβ, ∂t ∂α A_ββ, ∂t² A_αα, ∂t² A_αβ, A_αα · A_ββ, A_αβ · A_αβ, A_αγ · A_βγ, A_αβ · A_γγ, b_α, ∂α b_α, ∂α b_β, ∂β² b_α, ∂α ∂β b_β, ∂α ∂β² b_α, ∂α² ∂β b_β, ∂α ∂γ² b_β, ∂α ∂β ∂γ b_γ, ∂t b_α, ∂t ∂α b_α, ∂t ∂α b_β, ∂t ∂β² b_α, ∂t ∂α ∂β b_β, ∂t² b_α, ∂t² ∂α b_α, ∂t² ∂α b_β, ∂t³ b_α, A_αβ · b_β, A_ββ · b_α, A_αβ · ∂β b_α, A_αβ · ∂α b_β, A_αα · ∂β b_β, A_αβ · ∂γ b_γ, A_αγ · ∂β b_γ, A_αγ · ∂γ b_β, A_γγ · ∂α b_β, A_ββ · ∂t b_α, A_αβ · ∂t b_β, b_α · b_α, b_α · b_β, b_β · ∂α b_β, b_α · ∂β b_β, b_β · ∂β b_α, ∂α b_β · ∂β b_α, ∂α b_β · ∂α b_β, ∂α b_α · ∂β b_β, ∂α b_γ · ∂γ b_β, ∂α b_γ · ∂β b_γ, ∂α b_β · ∂γ b_γ, ∂γ b_α · ∂γ b_β, b_α · ∂β² b_α, b_α · ∂α ∂β b_β, b_α · ∂γ² b_β, b_γ · ∂α ∂γ b_β, b_γ · ∂α ∂β b_γ, b_α · ∂β ∂γ b_γ, b_α · ∂t b_α, b_α · ∂t b_β, ∂α b_β · ∂t b_β, ∂β b_β · ∂t b_α, ∂β b_α · ∂t b_β, b_β · ∂t ∂β b_α, b_α · ∂t ∂β b_β, b_β · ∂t ∂α b_β, ∂t b_α · ∂t b_α, ∂t b_α · ∂t b_β, b_α · ∂t² b_α, b_α · ∂t² b_β, A_αβ · b_α · b_β, A_αα · b_β · b_β, A_γγ · b_α · b_β, A_αγ · b_β · b_γ, A_αβ · b_γ · b_γ, b_α · b_β · b_β, b_α · b_β · ∂α b_β, b_α · b_α · ∂β b_β, b_α · b_β · ∂β b_α, b_α · b_β · ∂γ b_γ, b_α · b_γ · ∂β b_γ, b_α · b_γ · ∂γ b_β, b_γ · b_γ · ∂α b_β, b_β · b_β · ∂t b_α, b_α · b_β · ∂t b_β, c, ∂α c, ∂α² c, ∂α ∂β c, ∂α ∂β² c, ∂t c, ∂t ∂α c, ∂t ∂α² c, ∂t ∂α ∂β c, ∂t² c, ∂t² ∂α c, ∂t³ c, A_αα · c, A_αβ · c, A_αβ · ∂β c, A_ββ · ∂α c, A_αα · ∂t c, A_αβ · ∂t c, b_α · c, b_α · ∂α c, b_α · ∂β c, ∂α b_β · ∂β c, ∂β b_β · ∂α c, ∂β b_α · ∂β c, b_β · ∂α ∂β c, b_α · ∂β² c, b_α · ∂t c, ∂α b_α · ∂t c, ∂α b_β · ∂t c, b_α · ∂t ∂α c, b_α · ∂t ∂β c, ∂t b_α · ∂t c, b_α · ∂t² c, A_ββ · b_α · c, A_αβ · b_β · c, b_α · b_α · c, b_α · b_β · c, b_β · b_β · ∂α c, b_α · b_β · ∂β c, b_α · b_α · ∂t c, b_α · b_β · ∂t c, c · c, c · ∂α c, ∂α c · ∂α c, ∂α c · ∂β c, c · ∂α² c, c · ∂α ∂β c, c · ∂t c, ∂α c · ∂t c, c · ∂t ∂α c, ∂t c · ∂t c, c · ∂t² c, A_αα · c · c, A_αβ · c · c, b_α · c · c, b_α · ∂α c · c, b_α · ∂β c · c, b_α · c · ∂α c, b_α · c · ∂β c, b_α · ∂t c · c, b_α · c · ∂t c, c · c · c, c · c · ∂α c, c · c · ∂t c]\n"
     ]
    }
   ],
   "source": [
    "observables = [A_as, b, c]\n",
    "terms = generate_terms_to(4, observables, max_rank=2, max_observables=3)\n",
    "print(len(terms), terms)"
   ]
  },
  {
   "cell_type": "code",
   "execution_count": 6,
   "id": "311e08f8-fd7c-4f15-ad40-c840d56738ca",
   "metadata": {},
   "outputs": [
    {
     "name": "stdout",
     "output_type": "stream",
     "text": [
      "A_αβ IS ANTISYMMETRIC\n",
      "∂γ² A_αβ IS ANTISYMMETRIC\n",
      "∂α ∂β A_γγ IS SYMMETRIC\n",
      "∂α ∂γ A_βγ is not symmetric\n",
      "∂t A_αβ IS ANTISYMMETRIC\n",
      "∂t² A_αβ IS ANTISYMMETRIC\n",
      "A_αγ · A_βγ IS SYMMETRIC\n",
      "A_αβ · A_γγ IS ANTISYMMETRIC\n",
      "∂α b_β is not symmetric\n",
      "∂α ∂γ² b_β is not symmetric\n",
      "∂α ∂β ∂γ b_γ IS SYMMETRIC\n",
      "∂t ∂α b_β is not symmetric\n",
      "∂t² ∂α b_β is not symmetric\n",
      "A_αβ · ∂γ b_γ IS ANTISYMMETRIC\n",
      "A_αγ · ∂β b_γ is not symmetric\n",
      "A_αγ · ∂γ b_β is not symmetric\n",
      "A_γγ · ∂α b_β is not symmetric\n",
      "b_α · b_β IS SYMMETRIC\n",
      "∂α b_γ · ∂γ b_β is not symmetric\n",
      "∂α b_γ · ∂β b_γ IS SYMMETRIC\n",
      "∂α b_β · ∂γ b_γ is not symmetric\n",
      "∂γ b_α · ∂γ b_β IS SYMMETRIC\n",
      "b_α · ∂γ² b_β is not symmetric\n",
      "b_γ · ∂α ∂γ b_β is not symmetric\n",
      "b_γ · ∂α ∂β b_γ IS SYMMETRIC\n",
      "b_α · ∂β ∂γ b_γ is not symmetric\n",
      "b_α · ∂t b_β is not symmetric\n",
      "∂t b_α · ∂t b_β IS SYMMETRIC\n",
      "b_α · ∂t² b_β is not symmetric\n",
      "A_γγ · b_α · b_β IS SYMMETRIC\n",
      "A_αγ · b_β · b_γ is not symmetric\n",
      "A_αβ · b_γ · b_γ IS ANTISYMMETRIC\n",
      "b_α · b_β · ∂γ b_γ IS SYMMETRIC\n",
      "b_α · b_γ · ∂β b_γ is not symmetric\n",
      "b_α · b_γ · ∂γ b_β is not symmetric\n",
      "b_γ · b_γ · ∂α b_β is not symmetric\n",
      "∂α ∂β c IS SYMMETRIC\n",
      "∂t ∂α ∂β c IS SYMMETRIC\n",
      "A_αβ · c IS ANTISYMMETRIC\n",
      "A_αβ · ∂t c IS ANTISYMMETRIC\n",
      "b_α · ∂β c is not symmetric\n",
      "∂α b_β · ∂t c is not symmetric\n",
      "b_α · ∂t ∂β c is not symmetric\n",
      "b_α · b_β · c IS SYMMETRIC\n",
      "b_α · b_β · ∂t c IS SYMMETRIC\n",
      "∂α c · ∂β c IS SYMMETRIC\n",
      "c · ∂α ∂β c IS SYMMETRIC\n",
      "A_αβ · c · c IS ANTISYMMETRIC\n",
      "b_α · ∂β c · c is not symmetric\n",
      "b_α · c · ∂β c is not symmetric\n"
     ]
    }
   ],
   "source": [
    "for term in terms:\n",
    "    if term.rank==2:\n",
    "        sign = term.symmetry()\n",
    "        match sign:\n",
    "            case 1:\n",
    "                print(term, \"IS SYMMETRIC\")\n",
    "            case -1:\n",
    "                print(term, \"IS ANTISYMMETRIC\")\n",
    "            case _:\n",
    "                print(term, \"is not symmetric\")"
   ]
  },
  {
   "cell_type": "code",
   "execution_count": 7,
   "id": "776e0d38-3bf0-4bef-8247-04a04d37a03f",
   "metadata": {},
   "outputs": [
    {
     "name": "stdout",
     "output_type": "stream",
     "text": [
      "[(27, ∂α ∂β ∂γ b_γ), (65, b_α · ∂β ∂γ b_γ)]\n"
     ]
    }
   ],
   "source": [
    "from commons.utils import regex_find\n",
    "print(list(regex_find(terms, r'.*∂β ∂γ.*')))"
   ]
  },
  {
   "cell_type": "code",
   "execution_count": 8,
   "id": "db6f7ea2-3c9f-48bd-a705-87e309e69152",
   "metadata": {},
   "outputs": [
    {
     "name": "stdout",
     "output_type": "stream",
     "text": [
      "Counter({α: 1, γ: 1, 't': 0})\n"
     ]
    }
   ],
   "source": [
    "print(terms[63].primes[1].derivative.get_all_orders())"
   ]
  },
  {
   "cell_type": "code",
   "execution_count": 9,
   "id": "17464c44-aae9-471f-935f-b499bac2c7bc",
   "metadata": {},
   "outputs": [
    {
     "name": "stdout",
     "output_type": "stream",
     "text": [
      "3001 · ∂β A_αβ + ∂α A_ββ = 0\n",
      "3e+03 \\cdot \\partial \\beta A_{\\alpha\\beta} + \\partial \\alpha A_{\\beta\\beta} = 0\n"
     ]
    }
   ],
   "source": [
    "print(3001*terms[2]+terms[3])\n",
    "print((3001*terms[2]+terms[3]).pstr(latex_output=True))"
   ]
  },
  {
   "cell_type": "code",
   "execution_count": 10,
   "id": "d66766c2-ffff-4a0f-94be-1bb39bac5bfc",
   "metadata": {},
   "outputs": [
    {
     "name": "stdout",
     "output_type": "stream",
     "text": [
      "dict_items([(1, 2)])\n",
      "dict_keys([1])\n",
      "<class 'collections.defaultdict'>\n",
      "3\n",
      "2\n",
      "0\n",
      "1 3\n",
      "2 2\n"
     ]
    }
   ],
   "source": [
    "d = defaultdict(int)\n",
    "d[1] = 2\n",
    "print(d.items())\n",
    "print(d.keys())\n",
    "print(type(d))\n",
    "\n",
    "c = Counter([1, 1, 1, 2, 2])\n",
    "print(c[1])\n",
    "print(c[2])\n",
    "print(c[3])\n",
    "for ind, count in c.items():\n",
    "    print(ind, count)"
   ]
  },
  {
   "cell_type": "code",
   "execution_count": 11,
   "id": "7541a657-c59c-42d1-9de1-4c59134f87d6",
   "metadata": {},
   "outputs": [],
   "source": [
    "rho = Observable(string='ρ', rank=0)\n",
    "u = Observable(string='u', rank=1)\n",
    "B = Observable(string='B', rank=1)\n",
    "mhd_obs = [rho, u, B]\n",
    "\n",
    "terms = generate_terms_to(4, mhd_obs, max_rank=1)"
   ]
  },
  {
   "cell_type": "code",
   "execution_count": 12,
   "id": "c5ba821b-6deb-4d4a-8188-2621bea2b06e",
   "metadata": {},
   "outputs": [
    {
     "name": "stdout",
     "output_type": "stream",
     "text": [
      "[∂α B_α, ∂t ∂α B_α, B_α · B_α, B_α · ∂t B_α, ∂α u_α, ∂t ∂α u_α, B_α · u_α, B_α · ∂t u_α, u_α · u_α, u_α · ∂t u_α, ρ, ∂α² ρ, ∂t ρ, ∂t² ρ, B_α · ∂α ρ, B_α · B_α · ρ, u_α · ∂α ρ, B_α · u_α · ρ, u_α · u_α · ρ, ρ · ρ, ρ · ∂t ρ, ρ · ρ · ρ]\n",
      "111\n"
     ]
    }
   ],
   "source": [
    "print([term for term in terms if term.rank==0 and term.complexity<=3])\n",
    "print(len([term for term in terms if term.rank==1]))"
   ]
  },
  {
   "cell_type": "code",
   "execution_count": null,
   "id": "a1ec827a-51ba-410c-a084-d0860d8b38f3",
   "metadata": {},
   "outputs": [],
   "source": []
  }
 ],
 "metadata": {
  "kernelspec": {
   "display_name": "Python 3 (ipykernel)",
   "language": "python",
   "name": "python3"
  },
  "language_info": {
   "codemirror_mode": {
    "name": "ipython",
    "version": 3
   },
   "file_extension": ".py",
   "mimetype": "text/x-python",
   "name": "python",
   "nbconvert_exporter": "python",
   "pygments_lexer": "ipython3",
   "version": "3.12.4"
  }
 },
 "nbformat": 4,
 "nbformat_minor": 5
}
