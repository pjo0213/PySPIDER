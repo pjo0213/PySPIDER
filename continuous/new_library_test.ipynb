{
 "cells": [
  {
   "cell_type": "code",
   "execution_count": 1,
   "id": "6361d425-936a-4513-b19c-8dc14afe052a",
   "metadata": {},
   "outputs": [],
   "source": [
    "# in case there are any problems with importing because path is wrong\n",
    "import sys\n",
    "sys.path.append('C:/Users/nerpa/Dropbox (Princeton)/Research/discrete_sr/code/SPIDER_discrete')"
   ]
  },
  {
   "cell_type": "code",
   "execution_count": 2,
   "id": "b418581d-62fe-4f91-bc2a-d1073fc83164",
   "metadata": {},
   "outputs": [],
   "source": [
    "### NEXT: structural generation\n",
    "\n",
    "from library import *"
   ]
  },
  {
   "cell_type": "code",
   "execution_count": 3,
   "id": "5688ca19-9ef5-40a4-95d2-5562e686c607",
   "metadata": {},
   "outputs": [],
   "source": [
    "A = Observable(string='A', rank=2)\n",
    "b = Observable(string='b', rank=1)\n",
    "c = Observable(string='c', rank=0)"
   ]
  },
  {
   "cell_type": "code",
   "execution_count": 4,
   "id": "2da66bc6-de1e-4e16-bdee-268d7065ec9d",
   "metadata": {},
   "outputs": [
    {
     "name": "stdout",
     "output_type": "stream",
     "text": [
      "b_{ } · b_{ } · b_{ } 1\n",
      "b_α · b_β · b_β\n"
     ]
    }
   ],
   "source": [
    "zero_deriv_order = DerivativeOrder.indexed_derivative(0, 0)\n",
    "b_no_deriv = LibraryPrime(derivative=zero_deriv_order, derivand=b)\n",
    "b_cubed = LibraryTerm(primes=(b_no_deriv, b_no_deriv, b_no_deriv), rank=1)\n",
    "print(b_cubed, b_cubed.rank)\n",
    "\n",
    "for idxing in generate_indexings(b_cubed):\n",
    "    print(idxing)"
   ]
  },
  {
   "cell_type": "code",
   "execution_count": 5,
   "id": "aac7eae8-e1fb-4a85-925f-d5d4978f2c37",
   "metadata": {},
   "outputs": [
    {
     "name": "stdout",
     "output_type": "stream",
     "text": [
      "171 [A_αα, A_αβ, ∂β A_βα, ∂β A_αβ, ∂α A_ββ, ∂α ∂β A_βα, ∂α ∂β A_αβ, ∂α² A_ββ, ∂γ² A_αβ, ∂α ∂β A_γγ, ∂α ∂γ A_γβ, ∂α ∂γ A_βγ, ∂t A_αα, ∂t A_αβ, ∂t ∂β A_αβ, ∂t ∂α A_ββ, ∂t ∂β A_βα, ∂t² A_αα, ∂t² A_αβ, A_αβ · A_βα, A_αβ · A_αβ, A_αα · A_ββ, A_αγ · A_βγ, A_αγ · A_γβ, A_γα · A_γβ, A_αβ · A_γγ, b_α, ∂α b_α, ∂α b_β, ∂α ∂β b_β, ∂β² b_α, ∂α ∂β² b_α, ∂α² ∂β b_β, ∂α ∂β ∂γ b_γ, ∂α ∂γ² b_β, ∂t b_α, ∂t ∂α b_α, ∂t ∂α b_β, ∂t ∂α ∂β b_β, ∂t ∂β² b_α, ∂t² b_α, ∂t² ∂α b_α, ∂t² ∂α b_β, ∂t³ b_α, A_βα · b_β, A_αβ · b_β, A_ββ · b_α, A_αβ · ∂β b_α, A_αα · ∂β b_β, A_αβ · ∂α b_β, A_αβ · ∂γ b_γ, A_γγ · ∂α b_β, A_αγ · ∂γ b_β, A_αγ · ∂β b_γ, A_γα · ∂γ b_β, A_γα · ∂β b_γ, A_αβ · ∂t b_β, A_ββ · ∂t b_α, A_βα · ∂t b_β, b_α · b_α, b_α · b_β, b_α · ∂β b_β, b_β · ∂α b_β, b_β · ∂β b_α, ∂α b_α · ∂β b_β, ∂α b_β · ∂β b_α, ∂α b_β · ∂α b_β, ∂γ b_α · ∂γ b_β, ∂α b_γ · ∂β b_γ, ∂α b_γ · ∂γ b_β, ∂α b_β · ∂γ b_γ, b_α · ∂α ∂β b_β, b_α · ∂β² b_α, b_α · ∂γ² b_β, b_α · ∂β ∂γ b_γ, b_γ · ∂α ∂γ b_β, b_γ · ∂α ∂β b_γ, b_α · ∂t b_α, b_α · ∂t b_β, ∂β b_α · ∂t b_β, ∂α b_β · ∂t b_β, ∂β b_β · ∂t b_α, b_β · ∂t ∂α b_β, b_β · ∂t ∂β b_α, b_α · ∂t ∂β b_β, ∂t b_α · ∂t b_α, ∂t b_α · ∂t b_β, b_α · ∂t² b_α, b_α · ∂t² b_β, A_αα · b_β · b_β, A_αβ · b_α · b_β, A_αβ · b_γ · b_γ, A_γα · b_β · b_γ, A_γγ · b_α · b_β, A_αγ · b_β · b_γ, b_α · b_β · b_β, b_α · b_β · ∂β b_α, b_α · b_α · ∂β b_β, b_α · b_β · ∂α b_β, b_α · b_β · ∂γ b_γ, b_γ · b_γ · ∂α b_β, b_α · b_γ · ∂β b_γ, b_α · b_γ · ∂γ b_β, b_β · b_β · ∂t b_α, b_α · b_β · ∂t b_β, c, ∂α c, ∂α² c, ∂α ∂β c, ∂α ∂β² c, ∂t c, ∂t ∂α c, ∂t ∂α² c, ∂t ∂α ∂β c, ∂t² c, ∂t² ∂α c, ∂t³ c, A_αα · c, A_αβ · c, A_αβ · ∂β c, A_βα · ∂β c, A_ββ · ∂α c, A_αα · ∂t c, A_αβ · ∂t c, b_α · c, b_α · ∂α c, b_α · ∂β c, ∂α b_β · ∂β c, ∂β b_α · ∂β c, ∂β b_β · ∂α c, b_α · ∂β² c, b_β · ∂α ∂β c, b_α · ∂t c, ∂α b_α · ∂t c, ∂α b_β · ∂t c, b_α · ∂t ∂α c, b_α · ∂t ∂β c, ∂t b_α · ∂t c, b_α · ∂t² c, A_αβ · b_β · c, A_βα · b_β · c, A_ββ · b_α · c, b_α · b_α · c, b_α · b_β · c, b_β · b_β · ∂α c, b_α · b_β · ∂β c, b_α · b_α · ∂t c, b_α · b_β · ∂t c, c · c, c · ∂α c, ∂α c · ∂α c, ∂α c · ∂β c, c · ∂α² c, c · ∂α ∂β c, c · ∂t c, ∂α c · ∂t c, c · ∂t ∂α c, ∂t c · ∂t c, c · ∂t² c, A_αα · c · c, A_αβ · c · c, b_α · c · c, b_α · ∂α c · c, b_α · ∂β c · c, b_α · c · ∂α c, b_α · c · ∂β c, b_α · ∂t c · c, b_α · c · ∂t c, c · c · c, c · c · ∂α c, c · c · ∂t c]\n"
     ]
    }
   ],
   "source": [
    "observables = [A, b, c]\n",
    "terms = generate_terms_to(4, observables, max_rank=2, max_observables=3)\n",
    "print(len(terms), terms)"
   ]
  }
 ],
 "metadata": {
  "kernelspec": {
   "display_name": "Python 3 (ipykernel)",
   "language": "python",
   "name": "python3"
  },
  "language_info": {
   "codemirror_mode": {
    "name": "ipython",
    "version": 3
   },
   "file_extension": ".py",
   "mimetype": "text/x-python",
   "name": "python",
   "nbconvert_exporter": "python",
   "pygments_lexer": "ipython3",
   "version": "3.12.4"
  }
 },
 "nbformat": 4,
 "nbformat_minor": 5
}
