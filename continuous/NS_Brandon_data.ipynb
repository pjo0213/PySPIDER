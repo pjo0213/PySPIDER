{
 "cells": [
  {
   "cell_type": "code",
   "execution_count": 1,
   "id": "2c97bc3f-d4d5-4dd5-9ce1-2627071f2d66",
   "metadata": {},
   "outputs": [],
   "source": [
    "# in case there are any problems with importing because path is wrong\n",
    "import sys\n",
    "sys.path.append('/Users/daniel/Princeton Dropbox/Daniel Gurevich/Research/discrete_sr/code/SPIDER_discrete')"
   ]
  },
  {
   "cell_type": "code",
   "execution_count": 2,
   "id": "35fa9025-f1f2-4793-928e-179e6d8d6beb",
   "metadata": {},
   "outputs": [],
   "source": [
    "import matplotlib.pyplot as plt\n",
    "import numpy as np\n",
    "from matplotlib.animation import FuncAnimation\n",
    "from IPython.display import HTML\n",
    "from matplotlib import rcParams\n",
    "import h5py\n",
    "import matplotlib.pyplot as plt\n",
    "\n",
    "from library import Observable\n",
    "from continuous.process_library_terms import SRDataset\n",
    "from commons.utils import save, load"
   ]
  },
  {
   "cell_type": "code",
   "execution_count": 3,
   "id": "cc720f5f-4be2-42c4-aa62-f86aa058ddcb",
   "metadata": {},
   "outputs": [],
   "source": [
    "hdf = True\n",
    "if hdf:\n",
    "    import h5py\n",
    "    \n",
    "    def load_matlab_v73(mat_file_path):\n",
    "        \"\"\"\n",
    "        Loads MATLAB v7.3 .mat data using h5py and converts it to Python-readable formats.\n",
    "    \n",
    "        Parameters:\n",
    "        - mat_file_path (str): Path to the .mat file.\n",
    "    \n",
    "        Returns:\n",
    "        - dict: A dictionary with MATLAB variable names as keys and corresponding NumPy arrays as values.\n",
    "        \"\"\"\n",
    "        try:\n",
    "            # Open the HDF5 file\n",
    "            with h5py.File(mat_file_path, 'r') as f:\n",
    "                mat_data = {}\n",
    "    \n",
    "                def recursively_load(group):\n",
    "                    \"\"\"\n",
    "                    Recursively load MATLAB v7.3 groups into dictionaries.\n",
    "                    \"\"\"\n",
    "                    data = {}\n",
    "                    for key, item in group.items():\n",
    "                        if isinstance(item, h5py.Dataset):\n",
    "                            data[key] = np.array(item)  # Convert HDF5 dataset to NumPy array\n",
    "                        elif isinstance(item, h5py.Group):\n",
    "                            data[key] = recursively_load(item)  # Recursively process groups\n",
    "                    return data\n",
    "    \n",
    "                # Load all variables from the root group\n",
    "                mat_data = recursively_load(f)\n",
    "    \n",
    "            return mat_data\n",
    "        except Exception as e:\n",
    "            print(f\"Error loading .mat file: {e}\")\n",
    "            return None\n",
    "    \n",
    "    # Path to your MATLAB v7.3 .mat file\n",
    "    mat_file_path = \"data/filcoh_SGS.mat\" # Replace with your .mat file path"
   ]
  },
  {
   "cell_type": "code",
   "execution_count": 4,
   "id": "3fa34916-ef19-4155-9e1f-21527e408bf0",
   "metadata": {},
   "outputs": [
    {
     "name": "stdout",
     "output_type": "stream",
     "text": [
      "Variable: #refs#, Type: <class 'dict'> (nested structure)\n",
      "Variable: #subsystem#, Type: <class 'dict'> (nested structure)\n",
      "Variable: domain, Type: <class 'dict'> (nested structure)\n",
      "Variable: params, Type: <class 'dict'> (nested structure)\n",
      "Variable: s, Shape: (100, 2, 2048, 2048), Type: <class 'numpy.ndarray'>\n",
      "(2048, 2048, 100) (2048, 2048, 100)\n"
     ]
    },
    {
     "name": "stderr",
     "output_type": "stream",
     "text": [
      "/var/folders/p_/dc9h9qcj62qgv461rz72zx_80000gn/T/ipykernel_17366/3612960488.py:50: DeprecationWarning: `axes` should not be `None` if `s` is not `None` (Deprecated in NumPy 2.0). In a future version of NumPy, this will raise an error and `s[i]` will correspond to the size along the transformed axis specified by `axes[i]`. To retain current behaviour, pass a sequence [0, ..., k-1] to `axes` for an array of dimension k.\n",
      "  dxu = np.fft.irfftn(i * kx * u_FT, s=(nx, ny))\n",
      "/var/folders/p_/dc9h9qcj62qgv461rz72zx_80000gn/T/ipykernel_17366/3612960488.py:51: DeprecationWarning: `axes` should not be `None` if `s` is not `None` (Deprecated in NumPy 2.0). In a future version of NumPy, this will raise an error and `s[i]` will correspond to the size along the transformed axis specified by `axes[i]`. To retain current behaviour, pass a sequence [0, ..., k-1] to `axes` for an array of dimension k.\n",
      "  dyu = np.fft.irfftn(i * ky * u_FT, s=(nx, ny))\n",
      "/var/folders/p_/dc9h9qcj62qgv461rz72zx_80000gn/T/ipykernel_17366/3612960488.py:52: DeprecationWarning: `axes` should not be `None` if `s` is not `None` (Deprecated in NumPy 2.0). In a future version of NumPy, this will raise an error and `s[i]` will correspond to the size along the transformed axis specified by `axes[i]`. To retain current behaviour, pass a sequence [0, ..., k-1] to `axes` for an array of dimension k.\n",
      "  dxv = np.fft.irfftn(i * kx * v_FT, s=(nx, ny))\n",
      "/var/folders/p_/dc9h9qcj62qgv461rz72zx_80000gn/T/ipykernel_17366/3612960488.py:53: DeprecationWarning: `axes` should not be `None` if `s` is not `None` (Deprecated in NumPy 2.0). In a future version of NumPy, this will raise an error and `s[i]` will correspond to the size along the transformed axis specified by `axes[i]`. To retain current behaviour, pass a sequence [0, ..., k-1] to `axes` for an array of dimension k.\n",
      "  dyv = np.fft.irfftn(i * ky * v_FT, s=(nx, ny))\n",
      "/var/folders/p_/dc9h9qcj62qgv461rz72zx_80000gn/T/ipykernel_17366/3612960488.py:57: DeprecationWarning: `axes` should not be `None` if `s` is not `None` (Deprecated in NumPy 2.0). In a future version of NumPy, this will raise an error and `s[i]` will correspond to the size along the transformed axis specified by `axes[i]`. To retain current behaviour, pass a sequence [0, ..., k-1] to `axes` for an array of dimension k.\n",
      "  p = np.fft.irfftn(pressure_FT, s=(nx, ny))\n"
     ]
    },
    {
     "name": "stdout",
     "output_type": "stream",
     "text": [
      "V: Shape = (1024, 1024, 100), Type = <class 'numpy.ndarray'>\n",
      "U: Shape = (1024, 1024, 100), Type = <class 'numpy.ndarray'>\n",
      "P: Shape = (1024, 1024, 100), Type = <class 'numpy.ndarray'>\n"
     ]
    }
   ],
   "source": [
    "if hdf:\n",
    "    # Load the .mat file\n",
    "    python_data = load_matlab_v73(mat_file_path)\n",
    "    \n",
    "    # Display the loaded data\n",
    "    if python_data:\n",
    "        for var_name, data in python_data.items():\n",
    "            if isinstance(data, np.ndarray):\n",
    "                print(f\"Variable: {var_name}, Shape: {data.shape}, Type: {type(data)}\")\n",
    "            else:\n",
    "                print(f\"Variable: {var_name}, Type: {type(data)} (nested structure)\")\n",
    "    \n",
    "    s = python_data['s']  # Replace 's' with the actual key name if it's different\n",
    "    \n",
    "    # Extract the first layer (V) and the second layer (U)\n",
    "    V = s[:, 0, :, :]  # First layer\n",
    "    U = s[:, 1, :, :]  # Second layer\n",
    "    \n",
    "    # Transpose to correct shape\n",
    "    \n",
    "    U = np.transpose(U, (2,1,0))\n",
    "    V = np.transpose(V, (2,1,0))\n",
    "\n",
    "    print(U.shape, V.shape)\n",
    "\n",
    "    #SUBSAMPLE\n",
    "    xsample = 2\n",
    "    ysample = xsample\n",
    "    tsample = 1\n",
    "    \n",
    "    U = U[::xsample, ::ysample, ::tsample]\n",
    "    V = V[::xsample, ::ysample, ::tsample]\n",
    "        \n",
    "    Lx = 2*np.pi; Ly = 2*np.pi; Lt = 5;\n",
    "    Nx = 2048/xsample; Ny = 2048/ysample; Nt = 100/tsample\n",
    "    dx = Lx/Nx; dy = Ly/Ny; dt = Lt/Nt;\n",
    "    \n",
    "    def pressure_poisson(U, V, dx, dy, density=1.0):\n",
    "        nx, ny, nt = U.shape\n",
    "        kx = np.fft.fftfreq(nx, d=dx) * 2 * np.pi\n",
    "        ky = np.fft.rfftfreq(ny, d=dy) * 2 * np.pi\n",
    "        kx, ky = np.meshgrid(kx, ky, indexing='ij')\n",
    "        k_squared = kx**2 + ky**2\n",
    "        k_squared[0, 0] = np.inf \n",
    "        P = np.zeros((nx, ny, nt))\n",
    "        for t in range(nt):\n",
    "            u_FT = np.fft.rfftn(U[:, :, t])\n",
    "            v_FT = np.fft.rfftn(V[:, :, t])\n",
    "            i = 1j\n",
    "            dxu = np.fft.irfftn(i * kx * u_FT, s=(nx, ny))\n",
    "            dyu = np.fft.irfftn(i * ky * u_FT, s=(nx, ny))\n",
    "            dxv = np.fft.irfftn(i * kx * v_FT, s=(nx, ny))\n",
    "            dyv = np.fft.irfftn(i * ky * v_FT, s=(nx, ny))\n",
    "            rhs = dxu**2 + 2 * dyu * dxv + dyv**2\n",
    "            rhs_FT = np.fft.rfftn(rhs)\n",
    "            pressure_FT = density * rhs_FT / k_squared\n",
    "            p = np.fft.irfftn(pressure_FT, s=(nx, ny))\n",
    "            P[:, :, t] = p\n",
    "        return P\n",
    "    \n",
    "    P = pressure_poisson(U, V, dx, dy)\n",
    "    \n",
    "    print(f\"V: Shape = {V.shape}, Type = {type(V)}\")\n",
    "    print(f\"U: Shape = {U.shape}, Type = {type(U)}\")\n",
    "    print(f\"P: Shape = {P.shape}, Type = {type(P)}\")\n",
    "\n",
    "    u = np.concatenate([U[:, :, :, np.newaxis], V[:, :, :, np.newaxis]], axis=3)"
   ]
  },
  {
   "cell_type": "code",
   "execution_count": 5,
   "id": "c9c2815c-1d09-4c8d-ab50-8bdc6195bc4f",
   "metadata": {
    "scrolled": true
   },
   "outputs": [
    {
     "name": "stdout",
     "output_type": "stream",
     "text": [
      "Rank 0 : 41\n",
      "Rank 1 : 49\n",
      "Antisymmetric rank 2 : 23\n",
      "Symmetric trace-free rank 2 : 36\n"
     ]
    }
   ],
   "source": [
    "#%%prun # profiling\n",
    "\n",
    "uobs = Observable(string='u', rank=1)\n",
    "pobs = Observable(string='p', rank=0)\n",
    "observables = [uobs, pobs]\n",
    "data_dict = {'p': P, 'u': u}\n",
    "\n",
    "# fix random seed\n",
    "np.random.seed(1)\n",
    "\n",
    "world_size = np.array(P.shape)\n",
    "pad = 0\n",
    "\n",
    "# fix random seed\n",
    "np.random.seed(1)\n",
    "\n",
    "dxs = [dx, dy, dt]\n",
    "\n",
    "# initial setup of dataset\n",
    "srd = SRDataset(world_size=world_size, data_dict=data_dict, observables=observables, dxs=dxs, \n",
    "                irreps=SRDataset.all_rank2_irreps(), cache_primes=True)\n",
    "                #irreps=SRDataset.only_rank2_irreps(), cache_primes=True)\n",
    "\n",
    "# initialize libraries, domains, and weights\n",
    "#srd.make_libraries(max_complexity=3, max_observables=3)\n",
    "srd.make_libraries(max_complexity=4, max_observables=3)\n",
    "for irrep in srd.irreps:\n",
    "    print(irrep, \":\", len(srd.libs[irrep].terms))\n",
    "\n",
    "dom_width = 40\n",
    "dom_time = 20 #previously 20 (without interpolation)\n",
    "srd.make_domains(ndomains=30, domain_size=[dom_width, dom_width, dom_time], pad=pad)\n",
    "#srd.make_domains(ndomains=10, domain_size=[dom_width, dom_width, dom_time], pad=pad)\n",
    "srd.make_weights(m=12, qmax=0)\n",
    "#srd.set_LT_scale(L=0.2, T=2.5e-3)\n",
    "srd.set_LT_scale(L=0.2, T=0.5) #T=1 # note that this line must go before make_library_matrices\n",
    "srd.make_library_matrices(debug=False)"
   ]
  },
  {
   "cell_type": "code",
   "execution_count": 6,
   "id": "3cb28ada-7a25-4b80-b24e-4a26c3f6603c",
   "metadata": {},
   "outputs": [],
   "source": [
    "# from commons.utils import *\n",
    "\n",
    "# lib1 = srd.libs[srd.irreps[1]]\n",
    "# for match in regex_find(lib1.terms, r'∂t u_α'):\n",
    "#     print(match)\n",
    "# dtu = lib1.Q[:, match[0]]\n",
    "\n",
    "# for match in regex_find(lib1.terms, r'u_β · ∂β u_α'):\n",
    "#     print(match)\n",
    "# adv = lib1.Q[:, match[0]]\n",
    "\n",
    "# for match in regex_find(lib1.terms, r'∂α p'):\n",
    "#     print(match)\n",
    "# dp = lib1.Q[:, match[0]]\n",
    "\n",
    "# for match in regex_find(lib1.terms, r'∂β² u_α'):\n",
    "#     print(match)\n",
    "# viscosity = 0.02*lib1.Q[:, match[0]] #0.1\n",
    "\n",
    "# print(np.linalg.norm(dtu), np.linalg.norm(adv), np.linalg.norm(dp), np.linalg.norm(dtu+dp+adv-viscosity), \n",
    "#       np.linalg.norm(dp-viscosity), np.linalg.norm(dtu+adv))"
   ]
  },
  {
   "cell_type": "code",
   "execution_count": 7,
   "id": "75d8adaf-77d7-4675-8587-d3d671b4bd4c",
   "metadata": {},
   "outputs": [],
   "source": [
    "# lib0 = srd.libs[srd.irreps[0]]\n",
    "# for match in regex_find(lib0.terms, r'∂α u_α'):\n",
    "#     print(match)\n",
    "# div = lib0.Q[:, match[0]]\n",
    "\n",
    "# print(np.linalg.norm(div))"
   ]
  },
  {
   "cell_type": "code",
   "execution_count": 8,
   "id": "3bfdafd7-400d-40c7-aebe-a35d8cd17b6d",
   "metadata": {},
   "outputs": [
    {
     "name": "stdout",
     "output_type": "stream",
     "text": [
      "--- WORKING ON LIBRARY WITH IRREP Rank 0 AT COMPLEXITY 1 ---\n",
      "--- WORKING ON LIBRARY WITH IRREP Rank 1 AT COMPLEXITY 1 ---\n",
      "--- WORKING ON LIBRARY WITH IRREP Antisymmetric rank 2 AT COMPLEXITY 1 ---\n",
      "--- WORKING ON LIBRARY WITH IRREP Symmetric trace-free rank 2 AT COMPLEXITY 1 ---\n",
      "--- WORKING ON LIBRARY WITH IRREP Rank 0 AT COMPLEXITY 2 ---\n",
      "[0.00 s]\n",
      "Identified model: ∂α u_α = 0 (order 2, residual 1.66e-13)\n",
      "(Accuracy = 1.00e+00)\n",
      "--- WORKING ON LIBRARY WITH IRREP Rank 1 AT COMPLEXITY 2 ---\n",
      "--- WORKING ON LIBRARY WITH IRREP Antisymmetric rank 2 AT COMPLEXITY 2 ---\n",
      "--- WORKING ON LIBRARY WITH IRREP Symmetric trace-free rank 2 AT COMPLEXITY 2 ---\n",
      "--- WORKING ON LIBRARY WITH IRREP Rank 0 AT COMPLEXITY 3 ---\n",
      "--- WORKING ON LIBRARY WITH IRREP Rank 1 AT COMPLEXITY 3 ---\n",
      "[0.02 s]\n",
      "Identified model: ∂α p + 1 · u_β · ∂β u_α + -0.0001 · ∂β² u_α + 1 · ∂t u_α = 0 (order 3, residual 1.16e-07)\n",
      "(Accuracy = 7.37e-08)\n",
      "--- WORKING ON LIBRARY WITH IRREP Antisymmetric rank 2 AT COMPLEXITY 3 ---\n",
      "--- WORKING ON LIBRARY WITH IRREP Symmetric trace-free rank 2 AT COMPLEXITY 3 ---\n",
      "--- WORKING ON LIBRARY WITH IRREP Rank 0 AT COMPLEXITY 4 ---\n",
      "[0.07 s]\n",
      "Identified model: 1 · ∂α² p + ∂α u_β · ∂β u_α = 0 (order 4, residual 3.19e-07)\n",
      "(Accuracy = 6.75e-07)\n",
      "[0.18 s]\n",
      "Identified model: ∂α p · u_α + 1 · u_α · u_β · ∂α u_β + -0.0001 · u_α · ∂β² u_α + 1 · u_α · ∂t u_α = 0 (order 4, residual 3.03e-07)\n",
      "(Accuracy = 1.29e-07)\n",
      "--- WORKING ON LIBRARY WITH IRREP Rank 1 AT COMPLEXITY 4 ---\n",
      "--- WORKING ON LIBRARY WITH IRREP Antisymmetric rank 2 AT COMPLEXITY 4 ---\n",
      "[0.02 s]\n",
      "Identified model: ∂α u_γ · ∂γ u_β = 0 (order 4, residual 9.19e-07)\n",
      "(Accuracy = 1.00e+00)\n",
      "[0.06 s]\n",
      "Identified model: u_α · ∂γ² u_β + -0.0001 · ∂α ∂γ² u_β + 1 · ∂t ∂α u_β = 0 (order 4, residual 9.95e-07)\n",
      "(Accuracy = 2.62e-07)\n",
      "--- WORKING ON LIBRARY WITH IRREP Symmetric trace-free rank 2 AT COMPLEXITY 4 ---\n",
      "[0.07 s]\n",
      "Identified model: ∂α u_γ · ∂γ u_β = 0 (order 4, residual 7.02e-07)\n",
      "(Accuracy = 7.28e-17)\n",
      "[0.15 s]\n",
      "Identified model: ∂α u_γ · ∂β u_γ + 1 · ∂γ u_α · ∂γ u_β = 0 (order 4, residual 9.77e-07)\n",
      "(Accuracy = 3.11e-06)\n"
     ]
    }
   ],
   "source": [
    "from commons.identify_models import *\n",
    "import copy\n",
    "\n",
    "libs = srd.libs\n",
    "\n",
    "reg_opts_list = []\n",
    "for irrep in srd.irreps:\n",
    "    # for regression we now need to construct a Scaler, Initializer, ModelIterator, and Threshold\n",
    "    scaler = Scaler(sub_inds=None, char_sizes=libs[irrep].col_weights, row_norms=None, unit_rows=True, train_fraction=1)\n",
    "    init = Initializer(method='combinatorial', start_k=3)\n",
    "    #init = Initializer(method='combinatorial', start_k=9999)\n",
    "    #init = Initializer(method='power', start_k=10)\n",
    "    #res = Residual(residual_type='fixed_column', anchor_col=0)\n",
    "    res = Residual(residual_type='matrix_relative')\n",
    "    \n",
    "    iterator = ModelIterator(max_k=10, backward_forward=True, max_passes=2)\n",
    "    #iterator = ModelIterator(max_k=len(libs[irrep].terms), backward_forward=False, max_passes=1)\n",
    "    thres = Threshold(threshold_type='jump', gamma=1.5, delta=1e-10, n_terms=None)\n",
    "    #thres = Threshold(threshold_type='information', ic=AIC)\n",
    "    \n",
    "    opts = {'scaler': scaler, 'initializer': init, 'residual': res,\n",
    "            'model_iterator': iterator, 'threshold': thres}\n",
    "    opts['verbose'] = False\n",
    "    opts['inhomog'] = False\n",
    "    opts['inhomog_col'] = None\n",
    "    reg_opts_list.append(opts)\n",
    "\n",
    "eqs, lambdas, reg_results, derived_eqs, excluded_terms = interleave_identify([libs[i] for i in srd.irreps], \n",
    "reg_opts_list, threshold=2e-6, experimental=True, report_accuracy=True)\n",
    "#, max_equations=10)"
   ]
  },
  {
   "cell_type": "code",
   "execution_count": 9,
   "id": "87ec233f-189f-4c2f-b636-a09295e34dcb",
   "metadata": {},
   "outputs": [
    {
     "name": "stdout",
     "output_type": "stream",
     "text": [
      "u_γ · ∂α ∂γ u_β\n",
      "22\n",
      "u_γ · ∂α ∂γ u_β\n",
      "[∂α p · ∂t u_β, ∂α u_β, u_α · ∂γ² u_β, ∂t² ∂α u_β]\n"
     ]
    }
   ],
   "source": [
    "Q = libs[srd.irreps[-1]].Q\n",
    "terms = libs[srd.irreps[-1]].terms\n",
    "opts['scaler'].reset_inds(list(range(len(terms))))\n",
    "\n",
    "IOI = [9, 26, 23, 35]\n",
    "print(terms[-14])\n",
    "print(len(terms)-14)\n",
    "print(terms[22])\n",
    "print([terms[i] for i in IOI])"
   ]
  },
  {
   "cell_type": "code",
   "execution_count": 10,
   "id": "8525c381-a5eb-49f1-b0a2-0bc91e814372",
   "metadata": {},
   "outputs": [],
   "source": [
    "# coeffs = np.zeros(len(terms))\n",
    "# coeffs[9] = 1\n",
    "# coeffs[23] = -1e-4\n",
    "# coeffs[26] = 1\n",
    "# coeffs[35] = 1\n",
    "# opts['scaler'].reset_inds([9, 23, 26, 35])\n",
    "# reg_result = sparse_reg_bf(Q, **opts)\n",
    "# #lambd = evaluate_model(Q, coeffs, opts['scaler'], opts['residual'])\n",
    "# print(reg_result.xi[np.ix_([9, 23, 26, 35])], reg_result.lambd)\n",
    "# #print(np.linalg.norm(Q[:, 33])/libs[irrep].col_weights[33])\n",
    "# #print(np.linalg.norm(Q, axis=0)/libs[irrep].col_weights)"
   ]
  },
  {
   "cell_type": "code",
   "execution_count": 11,
   "id": "4bf890a5-17e0-436e-8a83-78c6ea7e750f",
   "metadata": {},
   "outputs": [
    {
     "name": "stdout",
     "output_type": "stream",
     "text": [
      "u_γ · ∂α ∂γ u_β\n",
      "[ 0.  0.  0.  0.  0.  0.  0.  0.  0.  0.  0.  0.  0.  0.  0.  0.  0.  0.\n",
      "  0.  0.  1. -1. -1.  1.  0.  0.  0.  0.  0.  0.  0.  0.  0.  0.  0.  0.] 7.402029930336522e-16\n",
      "term 20 -- 0.9999999999999996 * u_γ · ∂α ∂β u_γ\n",
      "term 21 -- -0.9999999998947043 * u_α · ∂β ∂γ u_γ\n",
      "term 22 -- -1.0 * u_γ · ∂α ∂γ u_β\n",
      "term 23 -- 1.0 * u_α · ∂γ² u_β\n"
     ]
    }
   ],
   "source": [
    "i=22\n",
    "opts['inhomog'] = True\n",
    "opts['inhomog_col'] = i\n",
    "opts['verbose'] = False\n",
    "opts['term_names'] = terms\n",
    "print(terms[i])\n",
    "reg_result = sparse_reg_bf(Q, **opts)\n",
    "print(reg_result.xi, reg_result.lambd)\n",
    "for i, x in enumerate(reg_result.xi):\n",
    "    if x!=0:\n",
    "        print('term', i, '--', reg_result.xi[i], '*', terms[i])"
   ]
  },
  {
   "cell_type": "code",
   "execution_count": 12,
   "id": "a97158f4-626a-4ce0-805e-2cc3fb107c95",
   "metadata": {},
   "outputs": [
    {
     "data": {
      "text/plain": [
       "[p · p · ∂α p,\n",
       " p · p · u_α,\n",
       " p · p · ∂t u_α,\n",
       " p · ∂α p,\n",
       " p · ∂t p · u_α,\n",
       " p · ∂t ∂α p,\n",
       " p · u_α,\n",
       " p · u_β · ∂α u_β,\n",
       " p · u_α · ∂β u_β,\n",
       " p · u_β · ∂β u_α,\n",
       " p · ∂α ∂β u_β,\n",
       " p · ∂β² u_α,\n",
       " p · ∂t u_α,\n",
       " p · ∂t² u_α,\n",
       " ∂α p,\n",
       " ∂α p · ∂t p,\n",
       " ∂β p · u_α · u_β,\n",
       " ∂α p · u_β · u_β,\n",
       " ∂β p · ∂β u_α,\n",
       " ∂α p · ∂β u_β,\n",
       " ∂β p · ∂α u_β,\n",
       " ∂β² p · u_α,\n",
       " ∂α ∂β p · u_β,\n",
       " ∂α ∂β² p,\n",
       " ∂t p · u_α,\n",
       " ∂t p · ∂t u_α,\n",
       " ∂t ∂α p,\n",
       " ∂t² p · u_α,\n",
       " ∂t² ∂α p,\n",
       " u_α,\n",
       " u_α · u_β · u_β,\n",
       " u_β · u_β · ∂t u_α,\n",
       " u_α · u_β · ∂t u_β,\n",
       " u_β · ∂α u_β,\n",
       " u_α · ∂β u_β,\n",
       " u_β · ∂β u_α,\n",
       " u_α · ∂t ∂β u_β,\n",
       " u_β · ∂t ∂α u_β,\n",
       " u_β · ∂t ∂β u_α,\n",
       " ∂β u_β · ∂t u_α,\n",
       " ∂β u_α · ∂t u_β,\n",
       " ∂α u_β · ∂t u_β,\n",
       " ∂α ∂β u_β,\n",
       " ∂β² u_α,\n",
       " ∂t u_α,\n",
       " ∂t ∂α ∂β u_β,\n",
       " ∂t ∂β² u_α,\n",
       " ∂t² u_α,\n",
       " ∂t³ u_α]"
      ]
     },
     "execution_count": 12,
     "metadata": {},
     "output_type": "execute_result"
    }
   ],
   "source": [
    "libs[srd.irreps[1]].terms"
   ]
  },
  {
   "cell_type": "code",
   "execution_count": 13,
   "id": "aa8cb140-8ad3-4013-8472-88f7a738e2b6",
   "metadata": {},
   "outputs": [
    {
     "name": "stdout",
     "output_type": "stream",
     "text": [
      "{'p': {'mean': np.float64(0.08393930372103373), 'std': np.float64(0.08393930372103378)}, 'u': {'mean': np.float64(0.28155178895306154), 'std': np.float64(0.28155178895306104)}}\n",
      "1.4423652172180663\n",
      "1.6032009894780122\n",
      "1.1539319062472333\n",
      "1.2954887186280077\n"
     ]
    }
   ],
   "source": [
    "print(srd.scale_dict)\n",
    "for irrep in srd.irreps:\n",
    "    # don't forget preprocessing\n",
    "    Q = srd.libs[irrep].Q/srd.libs[irrep].col_weights # reweight columns\n",
    "    for i in range(Q.shape[0]): # normalize rows\n",
    "        Q[i, :] /= np.linalg.norm(Q[i, :])\n",
    "    [U, S, V] = np.linalg.svd(Q)\n",
    "    print(np.linalg.norm(Q)/max(S))"
   ]
  },
  {
   "cell_type": "code",
   "execution_count": 14,
   "id": "0c67e1eb-c516-4214-872c-a887ec152f96",
   "metadata": {},
   "outputs": [
    {
     "name": "stdout",
     "output_type": "stream",
     "text": [
      "[[p, p · p, ∂t p, u_α · u_α, ∂α u_α], [p · p · u_α, p · ∂α p, p · u_α, p · ∂t u_α, ∂α p, ∂t p · u_α, ∂t ∂α p, u_α, u_α · u_β · u_β, u_β · ∂α u_β, u_β · ∂β u_α, ∂β² u_α, ∂t u_α, ∂t² u_α], [p, p · p, p · p · p, p · p · ∂t p, p · ∂α p · u_α, p · ∂α² p, p · ∂t p, p · ∂t² p, p · u_α · u_α, p · u_α · ∂t u_α, ∂α p · ∂α p, ∂α p · u_α, ∂α p · ∂t u_α, ∂α² p, ∂t p, ∂t p · ∂t p, ∂t p · u_α · u_α, ∂t ∂α p · u_α, ∂t ∂α² p, ∂t² p, ∂t³ p, u_α · u_α, u_α · u_β · ∂α u_β, u_α · ∂β² u_α, u_α · ∂t u_α, u_α · ∂t² u_α, ∂α u_β · ∂β u_α, ∂α u_β · ∂α u_β, ∂t u_α · ∂t u_α], [p, p · p, p · p · p, p · p · ∂t p, p · ∂α p · u_α, p · ∂α² p, p · ∂t p, p · ∂t² p, p · u_α · u_α, p · u_α · ∂t u_α, ∂α p · ∂α p, ∂α p · u_α, ∂α p · ∂t u_α, ∂α² p, ∂t p, ∂t p · ∂t p, ∂t p · u_α · u_α, ∂t ∂α p · u_α, ∂t ∂α² p, ∂t² p, ∂t³ p, u_α · u_α, u_α · u_β · ∂α u_β, u_α · ∂β² u_α, u_α · ∂t u_α, u_α · ∂t² u_α, ∂α u_β · ∂α u_β, ∂t u_α · ∂t u_α], [p · p · ∂α u_β, p · ∂α p · u_β, p · u_α · ∂t u_β, p · ∂α u_β, p · ∂t ∂α u_β, ∂α p · u_β, ∂α p · ∂t u_β, ∂t p · ∂α u_β, ∂t ∂α p · u_β, u_α · u_γ · ∂β u_γ, u_γ · u_γ · ∂α u_β, u_α · ∂γ² u_β, u_α · ∂t u_β, u_α · ∂t² u_β, ∂α u_β, ∂α u_γ · ∂γ u_β, ∂α ∂γ² u_β, ∂t ∂α u_β, ∂t² ∂α u_β], [p · p · ∂α u_β, p · ∂α p · u_β, p · u_α · ∂t u_β, p · ∂α u_β, p · ∂t ∂α u_β, ∂α p · u_β, ∂α p · ∂t u_β, ∂t p · ∂α u_β, ∂t ∂α p · u_β, u_α · u_γ · ∂β u_γ, u_γ · u_γ · ∂α u_β, u_α · ∂γ² u_β, u_α · ∂t u_β, u_α · ∂t² u_β, ∂α u_β, ∂α ∂γ² u_β, ∂t ∂α u_β, ∂t² ∂α u_β], [p · p · ∂α u_β, p · ∂α p · u_β, p · ∂α ∂β p, p · u_α · u_β, p · u_α · ∂t u_β, p · ∂α u_β, p · ∂t ∂α u_β, ∂α p · ∂β p, ∂α p · u_β, ∂α p · ∂t u_β, ∂α ∂β p, ∂t p · u_α · u_β, ∂t p · ∂α u_β, ∂t ∂α p · u_β, ∂t ∂α ∂β p, u_α · u_β, u_α · u_γ · ∂β u_γ, u_γ · u_γ · ∂α u_β, u_γ · ∂α ∂β u_γ, u_α · ∂γ² u_β, u_α · ∂t u_β, u_α · ∂t² u_β, ∂α u_β, ∂α u_γ · ∂β u_γ, ∂γ u_α · ∂γ u_β, ∂α u_γ · ∂γ u_β, ∂α ∂γ² u_β, ∂t u_α · ∂t u_β, ∂t ∂α u_β, ∂t² ∂α u_β], [p · p · ∂α u_β, p · ∂α p · u_β, p · ∂α ∂β p, p · u_α · u_β, p · u_α · ∂t u_β, p · ∂α u_β, p · ∂t ∂α u_β, ∂α p · ∂β p, ∂α p · u_β, ∂α p · ∂t u_β, ∂α ∂β p, ∂t p · u_α · u_β, ∂t p · ∂α u_β, ∂t ∂α p · u_β, ∂t ∂α ∂β p, u_α · u_β, u_α · u_γ · ∂β u_γ, u_γ · u_γ · ∂α u_β, u_γ · ∂α ∂β u_γ, u_α · ∂γ² u_β, u_α · ∂t u_β, u_α · ∂t² u_β, ∂α u_β, ∂α u_γ · ∂β u_γ, ∂γ u_α · ∂γ u_β, ∂α ∂γ² u_β, ∂t u_α · ∂t u_β, ∂t ∂α u_β, ∂t² ∂α u_β]]\n"
     ]
    }
   ],
   "source": [
    "print([reg_result.sublibrary for reg_result in reg_results])"
   ]
  },
  {
   "cell_type": "code",
   "execution_count": 15,
   "id": "1a97666d-b73e-4049-8b42-78935f098514",
   "metadata": {},
   "outputs": [
    {
     "name": "stdout",
     "output_type": "stream",
     "text": [
      "IRREP: Rank 0\n",
      "[p, p \\cdot p, p \\cdot p \\cdot p, p \\cdot p \\cdot \\partial_t p, p \\cdot p \\cdot \\partial_\\alpha u_{\\alpha}, p \\cdot \\partial_\\alpha p \\cdot u_{\\alpha}, p \\cdot \\partial_\\alpha^2 p, p \\cdot \\partial_t p, p \\cdot \\partial_t^2 p, p \\cdot u_{\\alpha} \\cdot u_{\\alpha}, p \\cdot u_{\\alpha} \\cdot \\partial_t u_{\\alpha}, p \\cdot \\partial_\\alpha u_{\\alpha}, p \\cdot \\partial_t \\partial_\\alpha u_{\\alpha}, \\partial_\\alpha p \\cdot \\partial_\\alpha p, \\partial_\\alpha p \\cdot u_{\\alpha}, \\partial_\\alpha p \\cdot \\partial_t u_{\\alpha}, \\partial_\\alpha^2 p, \\partial_t p, \\partial_t p \\cdot \\partial_t p, \\partial_t p \\cdot u_{\\alpha} \\cdot u_{\\alpha}, \\partial_t p \\cdot \\partial_\\alpha u_{\\alpha}, \\partial_t \\partial_\\alpha p \\cdot u_{\\alpha}, \\partial_t \\partial_\\alpha^2 p, \\partial_t^2 p, \\partial_t^3 p, u_{\\alpha} \\cdot u_{\\alpha}, u_{\\alpha} \\cdot u_{\\beta} \\cdot \\partial_\\beta u_{\\alpha}, u_{\\alpha} \\cdot u_{\\alpha} \\cdot \\partial_\\beta u_{\\beta}, u_{\\alpha} \\cdot u_{\\beta} \\cdot \\partial_\\alpha u_{\\beta}, u_{\\alpha} \\cdot \\partial_\\beta^2 u_{\\alpha}, u_{\\alpha} \\cdot \\partial_\\alpha \\partial_\\beta u_{\\beta}, u_{\\alpha} \\cdot \\partial_t u_{\\alpha}, u_{\\alpha} \\cdot \\partial_t^2 u_{\\alpha}, \\partial_\\alpha u_{\\alpha}, \\partial_\\alpha u_{\\beta} \\cdot \\partial_\\beta u_{\\alpha}, \\partial_\\alpha u_{\\alpha} \\cdot \\partial_\\beta u_{\\beta}, \\partial_\\alpha u_{\\beta} \\cdot \\partial_\\alpha u_{\\beta}, \\partial_\\alpha^2 \\partial_\\beta u_{\\beta}, \\partial_t u_{\\alpha} \\cdot \\partial_t u_{\\alpha}, \\partial_t \\partial_\\alpha u_{\\alpha}, \\partial_t^2 \\partial_\\alpha u_{\\alpha}]\n",
      "IRREP: Rank 1\n",
      "[p \\cdot p \\cdot \\partial_\\alpha p, p \\cdot p \\cdot u_{\\alpha}, p \\cdot p \\cdot \\partial_t u_{\\alpha}, p \\cdot \\partial_\\alpha p, p \\cdot \\partial_t p \\cdot u_{\\alpha}, p \\cdot \\partial_t \\partial_\\alpha p, p \\cdot u_{\\alpha}, p \\cdot u_{\\beta} \\cdot \\partial_\\alpha u_{\\beta}, p \\cdot u_{\\alpha} \\cdot \\partial_\\beta u_{\\beta}, p \\cdot u_{\\beta} \\cdot \\partial_\\beta u_{\\alpha}, p \\cdot \\partial_\\alpha \\partial_\\beta u_{\\beta}, p \\cdot \\partial_\\beta^2 u_{\\alpha}, p \\cdot \\partial_t u_{\\alpha}, p \\cdot \\partial_t^2 u_{\\alpha}, \\partial_\\alpha p, \\partial_\\alpha p \\cdot \\partial_t p, \\partial_\\beta p \\cdot u_{\\alpha} \\cdot u_{\\beta}, \\partial_\\alpha p \\cdot u_{\\beta} \\cdot u_{\\beta}, \\partial_\\beta p \\cdot \\partial_\\beta u_{\\alpha}, \\partial_\\alpha p \\cdot \\partial_\\beta u_{\\beta}, \\partial_\\beta p \\cdot \\partial_\\alpha u_{\\beta}, \\partial_\\beta^2 p \\cdot u_{\\alpha}, \\partial_\\alpha \\partial_\\beta p \\cdot u_{\\beta}, \\partial_\\alpha \\partial_\\beta^2 p, \\partial_t p \\cdot u_{\\alpha}, \\partial_t p \\cdot \\partial_t u_{\\alpha}, \\partial_t \\partial_\\alpha p, \\partial_t^2 p \\cdot u_{\\alpha}, \\partial_t^2 \\partial_\\alpha p, u_{\\alpha}, u_{\\alpha} \\cdot u_{\\beta} \\cdot u_{\\beta}, u_{\\beta} \\cdot u_{\\beta} \\cdot \\partial_t u_{\\alpha}, u_{\\alpha} \\cdot u_{\\beta} \\cdot \\partial_t u_{\\beta}, u_{\\beta} \\cdot \\partial_\\alpha u_{\\beta}, u_{\\alpha} \\cdot \\partial_\\beta u_{\\beta}, u_{\\beta} \\cdot \\partial_\\beta u_{\\alpha}, u_{\\alpha} \\cdot \\partial_t \\partial_\\beta u_{\\beta}, u_{\\beta} \\cdot \\partial_t \\partial_\\alpha u_{\\beta}, u_{\\beta} \\cdot \\partial_t \\partial_\\beta u_{\\alpha}, \\partial_\\beta u_{\\beta} \\cdot \\partial_t u_{\\alpha}, \\partial_\\beta u_{\\alpha} \\cdot \\partial_t u_{\\beta}, \\partial_\\alpha u_{\\beta} \\cdot \\partial_t u_{\\beta}, \\partial_\\alpha \\partial_\\beta u_{\\beta}, \\partial_\\beta^2 u_{\\alpha}, \\partial_t u_{\\alpha}, \\partial_t \\partial_\\alpha \\partial_\\beta u_{\\beta}, \\partial_t \\partial_\\beta^2 u_{\\alpha}, \\partial_t^2 u_{\\alpha}, \\partial_t^3 u_{\\alpha}]\n",
      "IRREP: Antisymmetric rank 2\n",
      "[p \\cdot p \\cdot \\partial_\\alpha u_{\\beta}, p \\cdot \\partial_\\alpha p \\cdot u_{\\beta}, p \\cdot u_{\\alpha} \\cdot \\partial_t u_{\\beta}, p \\cdot \\partial_\\alpha u_{\\beta}, p \\cdot \\partial_t \\partial_\\alpha u_{\\beta}, \\partial_\\alpha p \\cdot u_{\\beta}, \\partial_\\alpha p \\cdot \\partial_t u_{\\beta}, \\partial_t p \\cdot \\partial_\\alpha u_{\\beta}, \\partial_t \\partial_\\alpha p \\cdot u_{\\beta}, u_{\\alpha} \\cdot u_{\\gamma} \\cdot \\partial_\\beta u_{\\gamma}, u_{\\gamma} \\cdot u_{\\gamma} \\cdot \\partial_\\alpha u_{\\beta}, u_{\\alpha} \\cdot u_{\\gamma} \\cdot \\partial_\\gamma u_{\\beta}, u_{\\alpha} \\cdot \\partial_\\beta \\partial_\\gamma u_{\\gamma}, u_{\\gamma} \\cdot \\partial_\\alpha \\partial_\\gamma u_{\\beta}, u_{\\alpha} \\cdot \\partial_\\gamma^2 u_{\\beta}, u_{\\alpha} \\cdot \\partial_t u_{\\beta}, u_{\\alpha} \\cdot \\partial_t^2 u_{\\beta}, \\partial_\\alpha u_{\\beta}, \\partial_\\alpha u_{\\beta} \\cdot \\partial_\\gamma u_{\\gamma}, \\partial_\\alpha u_{\\gamma} \\cdot \\partial_\\gamma u_{\\beta}, \\partial_\\alpha \\partial_\\gamma^2 u_{\\beta}, \\partial_t \\partial_\\alpha u_{\\beta}, \\partial_t^2 \\partial_\\alpha u_{\\beta}]\n",
      "IRREP: Symmetric trace-free rank 2\n",
      "[p \\cdot p \\cdot \\partial_\\alpha u_{\\beta}, p \\cdot \\partial_\\alpha p \\cdot u_{\\beta}, p \\cdot \\partial_\\alpha \\partial_\\beta p, p \\cdot u_{\\alpha} \\cdot u_{\\beta}, p \\cdot u_{\\alpha} \\cdot \\partial_t u_{\\beta}, p \\cdot \\partial_\\alpha u_{\\beta}, p \\cdot \\partial_t \\partial_\\alpha u_{\\beta}, \\partial_\\alpha p \\cdot \\partial_\\beta p, \\partial_\\alpha p \\cdot u_{\\beta}, \\partial_\\alpha p \\cdot \\partial_t u_{\\beta}, \\partial_\\alpha \\partial_\\beta p, \\partial_t p \\cdot u_{\\alpha} \\cdot u_{\\beta}, \\partial_t p \\cdot \\partial_\\alpha u_{\\beta}, \\partial_t \\partial_\\alpha p \\cdot u_{\\beta}, \\partial_t \\partial_\\alpha \\partial_\\beta p, u_{\\alpha} \\cdot u_{\\beta}, u_{\\alpha} \\cdot u_{\\gamma} \\cdot \\partial_\\beta u_{\\gamma}, u_{\\gamma} \\cdot u_{\\gamma} \\cdot \\partial_\\alpha u_{\\beta}, u_{\\alpha} \\cdot u_{\\gamma} \\cdot \\partial_\\gamma u_{\\beta}, u_{\\alpha} \\cdot u_{\\beta} \\cdot \\partial_\\gamma u_{\\gamma}, u_{\\gamma} \\cdot \\partial_\\alpha \\partial_\\beta u_{\\gamma}, u_{\\alpha} \\cdot \\partial_\\beta \\partial_\\gamma u_{\\gamma}, u_{\\gamma} \\cdot \\partial_\\alpha \\partial_\\gamma u_{\\beta}, u_{\\alpha} \\cdot \\partial_\\gamma^2 u_{\\beta}, u_{\\alpha} \\cdot \\partial_t u_{\\beta}, u_{\\alpha} \\cdot \\partial_t^2 u_{\\beta}, \\partial_\\alpha u_{\\beta}, \\partial_\\alpha u_{\\gamma} \\cdot \\partial_\\beta u_{\\gamma}, \\partial_\\gamma u_{\\alpha} \\cdot \\partial_\\gamma u_{\\beta}, \\partial_\\alpha u_{\\beta} \\cdot \\partial_\\gamma u_{\\gamma}, \\partial_\\alpha u_{\\gamma} \\cdot \\partial_\\gamma u_{\\beta}, \\partial_\\alpha \\partial_\\gamma^2 u_{\\beta}, \\partial_\\alpha \\partial_\\beta \\partial_\\gamma u_{\\gamma}, \\partial_t u_{\\alpha} \\cdot \\partial_t u_{\\beta}, \\partial_t \\partial_\\alpha u_{\\beta}, \\partial_t^2 \\partial_\\alpha u_{\\beta}]\n"
     ]
    }
   ],
   "source": [
    "from library import latexify\n",
    "\n",
    "for irrep in srd.irreps:\n",
    "    print(f\"IRREP: {irrep}\")\n",
    "    print(latexify(str(srd.libs[irrep].terms)))\n",
    "    #for term in srd.libs[irrep].terms:\n",
    "    #    print(latexify(str(term))+\",\")"
   ]
  },
  {
   "cell_type": "code",
   "execution_count": 16,
   "id": "53fe94b0-27e6-4dde-b1ae-15904449b0f2",
   "metadata": {},
   "outputs": [
    {
     "name": "stdout",
     "output_type": "stream",
     "text": [
      "[1.000e+00 4.778e-01 3.369e-01 3.116e-01 2.397e-01 2.200e-01 2.082e-01\n",
      " 1.411e-01 1.352e-01 1.205e-01 1.177e-01 8.925e-02 7.250e-02 5.158e-02\n",
      " 4.842e-02 4.286e-02 3.503e-02 2.947e-02 2.128e-02 1.841e-02 1.765e-02\n",
      " 1.289e-02 1.045e-02 8.198e-03 6.667e-03 5.084e-03 2.870e-06 3.682e-07\n",
      " 1.789e-07 1.061e-07 4.146e-08 1.006e-09 7.840e-17 7.840e-17 7.840e-17\n",
      " 7.840e-17]\n",
      "First [ 2.979e-01 -2.849e-02  2.096e-01  3.964e-01 -5.145e-01 -5.461e-01\n",
      "  2.815e-01 -1.374e-01 -2.008e-02  2.777e-02  1.957e-02  8.555e-02\n",
      "  1.509e-02 -5.522e-03  1.477e-01  7.827e-02 -9.563e-02  3.310e-02\n",
      "  8.855e-04  8.202e-03 -9.757e-04  7.636e-03 -7.726e-03  2.707e-02\n",
      "  6.309e-03  2.831e-03  3.623e-06 -5.629e-07 -8.081e-08 -1.741e-08\n",
      " -1.898e-08 -3.689e-10  5.204e-17 -2.018e-17 -9.058e-19  3.316e-16]\n",
      "Second [-3.854e-04  1.309e-01  1.863e-01  2.879e-01  1.005e-01  2.171e-01\n",
      " -7.070e-02  1.371e-03 -5.119e-02  2.021e-01  2.101e-01 -3.782e-02\n",
      "  9.287e-02  6.358e-02 -4.137e-02  2.590e-01 -2.433e-01 -1.063e-01\n",
      " -1.404e-01  1.631e-03 -6.083e-02  5.957e-04 -6.004e-02 -6.832e-02\n",
      "  1.251e-03  2.511e-03  4.125e-03 -3.657e-01 -2.648e-01  5.698e-01\n",
      "  4.184e-02 -4.221e-04  3.253e-11  5.920e-12  5.120e-13 -7.413e-12]\n",
      "Third [ 1.683e-03  1.113e-02 -1.065e-02  1.347e-02 -4.614e-03 -2.669e-02\n",
      "  1.038e-02 -4.018e-02 -3.574e-02  5.628e-02 -3.822e-02  5.342e-02\n",
      "  3.291e-02  1.050e-01 -6.070e-02  8.378e-02  1.439e-01  1.605e-03\n",
      "  3.796e-01  9.463e-02  2.276e-01 -1.544e-01 -3.579e-01 -7.051e-01\n",
      " -2.254e-01 -2.002e-01  7.562e-05 -3.245e-06 -2.723e-06 -1.969e-06\n",
      "  8.315e-07  2.192e-08  7.313e-16 -1.260e-16 -2.038e-17  8.811e-16]\n",
      "Fourth [ 3.813e-10 -1.505e-09  3.345e-09 -9.641e-10  4.828e-09 -4.140e-09\n",
      "  1.237e-09 -1.968e-09  5.509e-10  3.230e-09 -5.392e-09  5.736e-09\n",
      "  7.608e-09 -1.181e-08 -1.281e-08  1.469e-08  5.831e-09 -7.265e-09\n",
      "  2.017e-08 -1.179e-08 -3.265e-08  1.402e-08 -1.659e-08  6.310e-09\n",
      "  4.410e-08 -4.636e-09 -1.476e-05 -2.294e-04  3.362e-03  2.171e-03\n",
      " -2.091e-04  1.000e+00  1.827e-09 -3.271e-09 -4.636e-10  1.054e-11]\n"
     ]
    }
   ],
   "source": [
    "U, S, V = np.linalg.svd(Q)\n",
    "print(S/S[0])\n",
    "print(\"First\", V[:, -1])\n",
    "print(\"Second\", V[:, -2])\n",
    "print(\"Third\", V[:, -3])\n",
    "print(\"Fourth\", V[:, -4])"
   ]
  },
  {
   "cell_type": "code",
   "execution_count": null,
   "id": "4f6f5bf7-1b29-4650-861f-9201a4e8c6ef",
   "metadata": {},
   "outputs": [],
   "source": []
  }
 ],
 "metadata": {
  "kernelspec": {
   "display_name": "Python 3 (ipykernel)",
   "language": "python",
   "name": "python3"
  },
  "language_info": {
   "codemirror_mode": {
    "name": "ipython",
    "version": 3
   },
   "file_extension": ".py",
   "mimetype": "text/x-python",
   "name": "python",
   "nbconvert_exporter": "python",
   "pygments_lexer": "ipython3",
   "version": "3.12.7"
  }
 },
 "nbformat": 4,
 "nbformat_minor": 5
}
