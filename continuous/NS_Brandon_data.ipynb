{
 "cells": [
  {
   "cell_type": "code",
   "execution_count": 1,
   "id": "2c97bc3f-d4d5-4dd5-9ce1-2627071f2d66",
   "metadata": {},
   "outputs": [],
   "source": [
    "# in case there are any problems with importing because path is wrong\n",
    "import sys\n",
    "sys.path.append('/Users/daniel/Princeton Dropbox/Daniel Gurevich/Research/discrete_sr/code/SPIDER_discrete')"
   ]
  },
  {
   "cell_type": "code",
   "execution_count": 2,
   "id": "35fa9025-f1f2-4793-928e-179e6d8d6beb",
   "metadata": {},
   "outputs": [],
   "source": [
    "import matplotlib.pyplot as plt\n",
    "import numpy as np\n",
    "from matplotlib.animation import FuncAnimation\n",
    "from IPython.display import HTML\n",
    "from matplotlib import rcParams\n",
    "import h5py\n",
    "import matplotlib.pyplot as plt\n",
    "\n",
    "from library import Observable\n",
    "from continuous.process_library_terms import SRDataset\n",
    "from commons.utils import save, load"
   ]
  },
  {
   "cell_type": "code",
   "execution_count": 3,
   "id": "cc720f5f-4be2-42c4-aa62-f86aa058ddcb",
   "metadata": {},
   "outputs": [],
   "source": [
    "hdf = True\n",
    "if hdf:\n",
    "    import h5py\n",
    "    \n",
    "    def load_matlab_v73(mat_file_path):\n",
    "        \"\"\"\n",
    "        Loads MATLAB v7.3 .mat data using h5py and converts it to Python-readable formats.\n",
    "    \n",
    "        Parameters:\n",
    "        - mat_file_path (str): Path to the .mat file.\n",
    "    \n",
    "        Returns:\n",
    "        - dict: A dictionary with MATLAB variable names as keys and corresponding NumPy arrays as values.\n",
    "        \"\"\"\n",
    "        try:\n",
    "            # Open the HDF5 file\n",
    "            with h5py.File(mat_file_path, 'r') as f:\n",
    "                mat_data = {}\n",
    "    \n",
    "                def recursively_load(group):\n",
    "                    \"\"\"\n",
    "                    Recursively load MATLAB v7.3 groups into dictionaries.\n",
    "                    \"\"\"\n",
    "                    data = {}\n",
    "                    for key, item in group.items():\n",
    "                        if isinstance(item, h5py.Dataset):\n",
    "                            data[key] = np.array(item)  # Convert HDF5 dataset to NumPy array\n",
    "                        elif isinstance(item, h5py.Group):\n",
    "                            data[key] = recursively_load(item)  # Recursively process groups\n",
    "                    return data\n",
    "    \n",
    "                # Load all variables from the root group\n",
    "                mat_data = recursively_load(f)\n",
    "    \n",
    "            return mat_data\n",
    "        except Exception as e:\n",
    "            print(f\"Error loading .mat file: {e}\")\n",
    "            return None\n",
    "    \n",
    "    # Path to your MATLAB v7.3 .mat file\n",
    "    mat_file_path = \"data/filcoh_SGS.mat\" # Replace with your .mat file path"
   ]
  },
  {
   "cell_type": "code",
   "execution_count": 4,
   "id": "3fa34916-ef19-4155-9e1f-21527e408bf0",
   "metadata": {},
   "outputs": [
    {
     "name": "stdout",
     "output_type": "stream",
     "text": [
      "Variable: #refs#, Type: <class 'dict'> (nested structure)\n",
      "Variable: #subsystem#, Type: <class 'dict'> (nested structure)\n",
      "Variable: domain, Type: <class 'dict'> (nested structure)\n",
      "Variable: params, Type: <class 'dict'> (nested structure)\n",
      "Variable: s, Shape: (100, 2, 2048, 2048), Type: <class 'numpy.ndarray'>\n",
      "(2048, 2048, 100) (2048, 2048, 100)\n"
     ]
    },
    {
     "name": "stderr",
     "output_type": "stream",
     "text": [
      "/var/folders/p_/dc9h9qcj62qgv461rz72zx_80000gn/T/ipykernel_12650/3612960488.py:50: DeprecationWarning: `axes` should not be `None` if `s` is not `None` (Deprecated in NumPy 2.0). In a future version of NumPy, this will raise an error and `s[i]` will correspond to the size along the transformed axis specified by `axes[i]`. To retain current behaviour, pass a sequence [0, ..., k-1] to `axes` for an array of dimension k.\n",
      "  dxu = np.fft.irfftn(i * kx * u_FT, s=(nx, ny))\n",
      "/var/folders/p_/dc9h9qcj62qgv461rz72zx_80000gn/T/ipykernel_12650/3612960488.py:51: DeprecationWarning: `axes` should not be `None` if `s` is not `None` (Deprecated in NumPy 2.0). In a future version of NumPy, this will raise an error and `s[i]` will correspond to the size along the transformed axis specified by `axes[i]`. To retain current behaviour, pass a sequence [0, ..., k-1] to `axes` for an array of dimension k.\n",
      "  dyu = np.fft.irfftn(i * ky * u_FT, s=(nx, ny))\n",
      "/var/folders/p_/dc9h9qcj62qgv461rz72zx_80000gn/T/ipykernel_12650/3612960488.py:52: DeprecationWarning: `axes` should not be `None` if `s` is not `None` (Deprecated in NumPy 2.0). In a future version of NumPy, this will raise an error and `s[i]` will correspond to the size along the transformed axis specified by `axes[i]`. To retain current behaviour, pass a sequence [0, ..., k-1] to `axes` for an array of dimension k.\n",
      "  dxv = np.fft.irfftn(i * kx * v_FT, s=(nx, ny))\n",
      "/var/folders/p_/dc9h9qcj62qgv461rz72zx_80000gn/T/ipykernel_12650/3612960488.py:53: DeprecationWarning: `axes` should not be `None` if `s` is not `None` (Deprecated in NumPy 2.0). In a future version of NumPy, this will raise an error and `s[i]` will correspond to the size along the transformed axis specified by `axes[i]`. To retain current behaviour, pass a sequence [0, ..., k-1] to `axes` for an array of dimension k.\n",
      "  dyv = np.fft.irfftn(i * ky * v_FT, s=(nx, ny))\n",
      "/var/folders/p_/dc9h9qcj62qgv461rz72zx_80000gn/T/ipykernel_12650/3612960488.py:57: DeprecationWarning: `axes` should not be `None` if `s` is not `None` (Deprecated in NumPy 2.0). In a future version of NumPy, this will raise an error and `s[i]` will correspond to the size along the transformed axis specified by `axes[i]`. To retain current behaviour, pass a sequence [0, ..., k-1] to `axes` for an array of dimension k.\n",
      "  p = np.fft.irfftn(pressure_FT, s=(nx, ny))\n"
     ]
    },
    {
     "name": "stdout",
     "output_type": "stream",
     "text": [
      "V: Shape = (1024, 1024, 100), Type = <class 'numpy.ndarray'>\n",
      "U: Shape = (1024, 1024, 100), Type = <class 'numpy.ndarray'>\n",
      "P: Shape = (1024, 1024, 100), Type = <class 'numpy.ndarray'>\n"
     ]
    }
   ],
   "source": [
    "if hdf:\n",
    "    # Load the .mat file\n",
    "    python_data = load_matlab_v73(mat_file_path)\n",
    "    \n",
    "    # Display the loaded data\n",
    "    if python_data:\n",
    "        for var_name, data in python_data.items():\n",
    "            if isinstance(data, np.ndarray):\n",
    "                print(f\"Variable: {var_name}, Shape: {data.shape}, Type: {type(data)}\")\n",
    "            else:\n",
    "                print(f\"Variable: {var_name}, Type: {type(data)} (nested structure)\")\n",
    "    \n",
    "    s = python_data['s']  # Replace 's' with the actual key name if it's different\n",
    "    \n",
    "    # Extract the first layer (V) and the second layer (U)\n",
    "    V = s[:, 0, :, :]  # First layer\n",
    "    U = s[:, 1, :, :]  # Second layer\n",
    "    \n",
    "    # Transpose to correct shape\n",
    "    \n",
    "    U = np.transpose(U, (2,1,0))\n",
    "    V = np.transpose(V, (2,1,0))\n",
    "\n",
    "    print(U.shape, V.shape)\n",
    "\n",
    "    #SUBSAMPLE\n",
    "    xsample = 2\n",
    "    ysample = xsample\n",
    "    tsample = 1\n",
    "    \n",
    "    U = U[::xsample, ::ysample, ::tsample]\n",
    "    V = V[::xsample, ::ysample, ::tsample]\n",
    "        \n",
    "    Lx = 2*np.pi; Ly = 2*np.pi; Lt = 5;\n",
    "    Nx = 2048/xsample; Ny = 2048/ysample; Nt = 100/tsample\n",
    "    dx = Lx/Nx; dy = Ly/Ny; dt = Lt/Nt;\n",
    "    \n",
    "    def pressure_poisson(U, V, dx, dy, density=1.0):\n",
    "        nx, ny, nt = U.shape\n",
    "        kx = np.fft.fftfreq(nx, d=dx) * 2 * np.pi\n",
    "        ky = np.fft.rfftfreq(ny, d=dy) * 2 * np.pi\n",
    "        kx, ky = np.meshgrid(kx, ky, indexing='ij')\n",
    "        k_squared = kx**2 + ky**2\n",
    "        k_squared[0, 0] = np.inf \n",
    "        P = np.zeros((nx, ny, nt))\n",
    "        for t in range(nt):\n",
    "            u_FT = np.fft.rfftn(U[:, :, t])\n",
    "            v_FT = np.fft.rfftn(V[:, :, t])\n",
    "            i = 1j\n",
    "            dxu = np.fft.irfftn(i * kx * u_FT, s=(nx, ny))\n",
    "            dyu = np.fft.irfftn(i * ky * u_FT, s=(nx, ny))\n",
    "            dxv = np.fft.irfftn(i * kx * v_FT, s=(nx, ny))\n",
    "            dyv = np.fft.irfftn(i * ky * v_FT, s=(nx, ny))\n",
    "            rhs = dxu**2 + 2 * dyu * dxv + dyv**2\n",
    "            rhs_FT = np.fft.rfftn(rhs)\n",
    "            pressure_FT = density * rhs_FT / k_squared\n",
    "            p = np.fft.irfftn(pressure_FT, s=(nx, ny))\n",
    "            P[:, :, t] = p\n",
    "        return P\n",
    "    \n",
    "    P = pressure_poisson(U, V, dx, dy)\n",
    "    \n",
    "    print(f\"V: Shape = {V.shape}, Type = {type(V)}\")\n",
    "    print(f\"U: Shape = {U.shape}, Type = {type(U)}\")\n",
    "    print(f\"P: Shape = {P.shape}, Type = {type(P)}\")\n",
    "\n",
    "    u = np.concatenate([U[:, :, :, np.newaxis], V[:, :, :, np.newaxis]], axis=3)"
   ]
  },
  {
   "cell_type": "code",
   "execution_count": 5,
   "id": "c9c2815c-1d09-4c8d-ab50-8bdc6195bc4f",
   "metadata": {
    "scrolled": true
   },
   "outputs": [
    {
     "name": "stdout",
     "output_type": "stream",
     "text": [
      "Antisymmetric rank 2 : 23\n",
      "Symmetric trace-free rank 2 : 36\n"
     ]
    }
   ],
   "source": [
    "#%%prun # profiling\n",
    "\n",
    "uobs = Observable(string='u', rank=1)\n",
    "pobs = Observable(string='p', rank=0)\n",
    "observables = [uobs, pobs]\n",
    "data_dict = {'p': P, 'u': u}\n",
    "\n",
    "# fix random seed\n",
    "np.random.seed(1)\n",
    "\n",
    "world_size = np.array(P.shape)\n",
    "pad = 0\n",
    "\n",
    "# fix random seed\n",
    "np.random.seed(1)\n",
    "\n",
    "dxs = [dx, dy, dt]\n",
    "\n",
    "# initial setup of dataset\n",
    "srd = SRDataset(world_size=world_size, data_dict=data_dict, observables=observables, dxs=dxs, \n",
    "                #irreps=SRDataset.all_rank2_irreps(), cache_primes=True)\n",
    "                irreps=SRDataset.only_rank2_irreps(), cache_primes=True)\n",
    "\n",
    "# initialize libraries, domains, and weights\n",
    "#srd.make_libraries(max_complexity=3, max_observables=3)\n",
    "srd.make_libraries(max_complexity=4, max_observables=3)\n",
    "for irrep in srd.irreps:\n",
    "    print(irrep, \":\", len(srd.libs[irrep].terms))\n",
    "\n",
    "dom_width = 40\n",
    "dom_time = 20 #previously 20 (without interpolation)\n",
    "srd.make_domains(ndomains=30, domain_size=[dom_width, dom_width, dom_time], pad=pad)\n",
    "#srd.make_domains(ndomains=10, domain_size=[dom_width, dom_width, dom_time], pad=pad)\n",
    "srd.make_weights(m=12, qmax=0)\n",
    "srd.set_LT_scale(L=3/8, T=2.5e-3) #T=1 # note that this line must go before make_library_matrices\n",
    "srd.make_library_matrices(debug=False)"
   ]
  },
  {
   "cell_type": "code",
   "execution_count": 6,
   "id": "3cb28ada-7a25-4b80-b24e-4a26c3f6603c",
   "metadata": {},
   "outputs": [],
   "source": [
    "# from commons.utils import *\n",
    "\n",
    "# lib1 = srd.libs[srd.irreps[1]]\n",
    "# for match in regex_find(lib1.terms, r'∂t u_α'):\n",
    "#     print(match)\n",
    "# dtu = lib1.Q[:, match[0]]\n",
    "\n",
    "# for match in regex_find(lib1.terms, r'u_β · ∂β u_α'):\n",
    "#     print(match)\n",
    "# adv = lib1.Q[:, match[0]]\n",
    "\n",
    "# for match in regex_find(lib1.terms, r'∂α p'):\n",
    "#     print(match)\n",
    "# dp = lib1.Q[:, match[0]]\n",
    "\n",
    "# for match in regex_find(lib1.terms, r'∂β² u_α'):\n",
    "#     print(match)\n",
    "# viscosity = 0.02*lib1.Q[:, match[0]] #0.1\n",
    "\n",
    "# print(np.linalg.norm(dtu), np.linalg.norm(adv), np.linalg.norm(dp), np.linalg.norm(dtu+dp+adv-viscosity), \n",
    "#       np.linalg.norm(dp-viscosity), np.linalg.norm(dtu+adv))"
   ]
  },
  {
   "cell_type": "code",
   "execution_count": 7,
   "id": "75d8adaf-77d7-4675-8587-d3d671b4bd4c",
   "metadata": {},
   "outputs": [],
   "source": [
    "# lib0 = srd.libs[srd.irreps[0]]\n",
    "# for match in regex_find(lib0.terms, r'∂α u_α'):\n",
    "#     print(match)\n",
    "# div = lib0.Q[:, match[0]]\n",
    "\n",
    "# print(np.linalg.norm(div))"
   ]
  },
  {
   "cell_type": "code",
   "execution_count": 19,
   "id": "3bfdafd7-400d-40c7-aebe-a35d8cd17b6d",
   "metadata": {},
   "outputs": [
    {
     "name": "stdout",
     "output_type": "stream",
     "text": [
      "--- WORKING ON LIBRARY WITH IRREP Antisymmetric rank 2 AT COMPLEXITY 1 ---\n",
      "--- WORKING ON LIBRARY WITH IRREP Symmetric trace-free rank 2 AT COMPLEXITY 1 ---\n",
      "--- WORKING ON LIBRARY WITH IRREP Antisymmetric rank 2 AT COMPLEXITY 2 ---\n",
      "--- WORKING ON LIBRARY WITH IRREP Symmetric trace-free rank 2 AT COMPLEXITY 2 ---\n",
      "--- WORKING ON LIBRARY WITH IRREP Antisymmetric rank 2 AT COMPLEXITY 3 ---\n",
      "--- WORKING ON LIBRARY WITH IRREP Symmetric trace-free rank 2 AT COMPLEXITY 3 ---\n",
      "--- WORKING ON LIBRARY WITH IRREP Antisymmetric rank 2 AT COMPLEXITY 4 ---\n",
      "[0.02 s]\n",
      "Identified model: -1 · ∂α u_β · ∂γ u_γ + ∂α u_γ · ∂γ u_β = 0 (order 4, residual 3.55e-22)\n",
      "[0.07 s]\n",
      "Identified model: 1 · u_α · u_γ · ∂β u_γ + -1 · u_α · u_γ · ∂γ u_β + u_γ · u_γ · ∂α u_β = 0 (order 4, residual 5.98e-17)\n",
      "[0.13 s]\n",
      "Identified model: 1 · u_α · ∂β ∂γ u_γ + -1 · u_α · ∂γ² u_β + u_γ · ∂α ∂γ u_β = 0 (order 4, residual 2.33e-16)\n",
      "[0.18 s]\n",
      "Identified model: u_α · ∂γ² u_β + -0.0001 · ∂α ∂γ² u_β + 1 · ∂t ∂α u_β = 0 (order 4, residual 2.20e-09)\n",
      "[0.23 s]\n",
      "Identified model: u_γ · ∂α ∂γ u_β + -0.0001 · ∂α ∂γ² u_β + 1 · ∂t ∂α u_β = 0 (order 4, residual 3.57e-09)\n",
      "[0.28 s]\n",
      "Identified model: ∂α p · u_β + -1 · u_α · u_γ · ∂γ u_β + -1 · u_α · ∂t u_β + -9.93e-05 · ∂t ∂α u_β = 0 (order 4, residual 2.18e-08)\n",
      "--- WORKING ON LIBRARY WITH IRREP Symmetric trace-free rank 2 AT COMPLEXITY 4 ---\n",
      "[0.03 s]\n",
      "Identified model: ∂α ∂β ∂γ u_γ = 0 (order 4, residual 2.45e-08)\n",
      "[0.07 s]\n",
      "Identified model: u_α · u_β · ∂γ u_γ = 0 (order 4, residual 1.30e-07)\n",
      "[0.12 s]\n",
      "Identified model: -0.5 · ∂α u_γ · ∂β u_γ + ∂α u_γ · ∂γ u_β + -0.5 · ∂γ u_α · ∂γ u_β = 0 (order 4, residual 3.65e-17)\n",
      "[0.19 s]\n",
      "Identified model: -1 · ∂α u_β · ∂γ u_γ + ∂α u_γ · ∂γ u_β = 0 (order 4, residual 2.21e-18)\n",
      "[0.25 s]\n",
      "Identified model: u_α · ∂β ∂γ u_γ + -1 · u_α · ∂γ² u_β + -1 · u_γ · ∂α ∂β u_γ + 1 · u_γ · ∂α ∂γ u_β = 0 (order 4, residual 3.38e-16)\n",
      "[0.33 s]\n",
      "Identified model: ∂α ∂β p + 1 · u_γ · ∂α ∂γ u_β + -0.0001 · ∂α ∂γ² u_β + 1 · ∂t ∂α u_β = 0 (order 4, residual 3.54e-09)\n",
      "[0.41 s]\n",
      "Identified model: ∂α ∂β p + 1 · u_α · ∂γ² u_β + 1 · u_γ · ∂α ∂β u_γ + -0.0001 · ∂α ∂γ² u_β + 1 · ∂t ∂α u_β = 0 (order 4, residual 5.92e-09)\n",
      "[0.50 s]\n",
      "Identified model: 1 · ∂α p · u_β + 0.0001 · ∂α ∂β p + 1 · u_α · u_γ · ∂γ u_β + u_α · ∂t u_β + 0.0001 · u_γ · ∂α ∂β u_γ + 9.99e-05 · ∂t ∂α u_β = 0 (order 4, residual 3.63e-08)\n",
      "[0.59 s]\n",
      "Identified model: 1 · ∂α p · u_β + 0.0001 · ∂α ∂β p + -1 · u_α · u_γ · ∂β u_γ + u_α · ∂t u_β + 1 · u_γ · u_γ · ∂α u_β + 0.0001 · u_γ · ∂α ∂β u_γ + 0.0001 · ∂t ∂α u_β = 0 (order 4, residual 3.58e-08)\n"
     ]
    }
   ],
   "source": [
    "from commons.identify_models import *\n",
    "import copy\n",
    "\n",
    "libs = srd.libs\n",
    "\n",
    "reg_opts_list = []\n",
    "for irrep in srd.irreps:\n",
    "    # for regression we now need to construct a Scaler, Initializer, ModelIterator, and Threshold\n",
    "    scaler = Scaler(sub_inds=None, char_sizes=libs[irrep].col_weights, row_norms=None, unit_rows=True, train_fraction=1)\n",
    "    #init = Initializer(method='combinatorial', start_k=2)\n",
    "    init = Initializer(method='combinatorial', start_k=9999)\n",
    "    #init = Initializer(method='power', start_k=10)\n",
    "    #res = Residual(residual_type='fixed_column', anchor_col=0)\n",
    "    res = Residual(residual_type='matrix_relative')\n",
    "    \n",
    "    #iterator = ModelIterator(max_k=10, backward_forward=True, max_passes=9)\n",
    "    iterator = ModelIterator(max_k=len(libs[irrep].terms), backward_forward=False, max_passes=1)\n",
    "    thres = Threshold(threshold_type='jump', gamma=1.5, delta=1e-10, n_terms=None)\n",
    "    #thres = Threshold(threshold_type='information', ic=AIC)\n",
    "    \n",
    "    opts = {'scaler': scaler, 'initializer': init, 'residual': res,\n",
    "            'model_iterator': iterator, 'threshold': thres}\n",
    "    opts['verbose'] = False\n",
    "    opts['inhomog'] = False\n",
    "    opts['inhomog_col'] = None\n",
    "    reg_opts_list.append(opts)\n",
    "\n",
    "eqs, lambdas, reg_results, derived_eqs, excluded_terms = interleave_identify([libs[i] for i in srd.irreps], \n",
    "reg_opts_list, threshold=2e-7, experimental=True)\n",
    "#, max_equations=10)"
   ]
  },
  {
   "cell_type": "code",
   "execution_count": 9,
   "id": "87ec233f-189f-4c2f-b636-a09295e34dcb",
   "metadata": {},
   "outputs": [
    {
     "name": "stdout",
     "output_type": "stream",
     "text": [
      "[∂α p · u_β, u_α · ∂t u_β, u_α · ∂β ∂γ u_γ, u_γ · u_γ · ∂α u_β]\n"
     ]
    }
   ],
   "source": [
    "Q = libs[srd.irreps[1]].Q\n",
    "terms = libs[srd.irreps[1]].terms\n",
    "opts['scaler'].reset_inds(list(range(len(terms))))\n",
    "\n",
    "IOI = [9, 26, 23, 35]\n",
    "print([terms[i] for i in IOI])"
   ]
  },
  {
   "cell_type": "code",
   "execution_count": 10,
   "id": "8525c381-a5eb-49f1-b0a2-0bc91e814372",
   "metadata": {},
   "outputs": [],
   "source": [
    "# coeffs = np.zeros(len(terms))\n",
    "# coeffs[9] = 1\n",
    "# coeffs[23] = -1e-4\n",
    "# coeffs[26] = 1\n",
    "# coeffs[35] = 1\n",
    "# opts['scaler'].reset_inds([9, 23, 26, 35])\n",
    "# reg_result = sparse_reg_bf(Q, **opts)\n",
    "# #lambd = evaluate_model(Q, coeffs, opts['scaler'], opts['residual'])\n",
    "# print(reg_result.xi[np.ix_([9, 23, 26, 35])], reg_result.lambd)\n",
    "# #print(np.linalg.norm(Q[:, 33])/libs[irrep].col_weights[33])\n",
    "# #print(np.linalg.norm(Q, axis=0)/libs[irrep].col_weights)"
   ]
  },
  {
   "cell_type": "code",
   "execution_count": 11,
   "id": "4bf890a5-17e0-436e-8a83-78c6ea7e750f",
   "metadata": {},
   "outputs": [
    {
     "name": "stdout",
     "output_type": "stream",
     "text": [
      "u_α · ∂t u_β\n",
      "[-0.000e+00 -0.000e+00 -0.000e+00 -0.000e+00 -0.000e+00 -0.000e+00\n",
      " -0.000e+00 -0.000e+00 -0.000e+00  1.000e+00 -0.000e+00 -0.000e+00\n",
      " -0.000e+00 -0.000e+00 -0.000e+00 -0.000e+00 -0.000e+00 -0.000e+00\n",
      " -0.000e+00 -0.000e+00 -0.000e+00 -0.000e+00 -0.000e+00 -0.000e+00\n",
      " -0.000e+00 -1.003e-04  1.000e+00 -0.000e+00 -0.000e+00 -0.000e+00\n",
      " -0.000e+00 -0.000e+00  1.000e+00 -0.000e+00 -0.000e+00 -0.000e+00] 3.741790564828159e-08\n",
      "term 9 -- 0.9999821478890607 * ∂α p · u_β\n",
      "term 25 -- -0.00010031799314277177 * u_α · ∂γ² u_β\n",
      "term 26 -- 1.0 * u_α · ∂t u_β\n",
      "term 32 -- 0.9999770493046408 * u_α · u_γ · ∂γ u_β\n"
     ]
    }
   ],
   "source": [
    "i=26\n",
    "opts['inhomog'] = True\n",
    "opts['inhomog_col'] = i\n",
    "opts['verbose'] = False\n",
    "opts['term_names'] = terms\n",
    "print(terms[i])\n",
    "reg_result = sparse_reg_bf(Q, **opts)\n",
    "print(reg_result.xi, reg_result.lambd)\n",
    "for i, x in enumerate(reg_result.xi):\n",
    "    if x!=0:\n",
    "        print('term', i, '--', reg_result.xi[i], '*', terms[i])"
   ]
  },
  {
   "cell_type": "code",
   "execution_count": 12,
   "id": "a97158f4-626a-4ce0-805e-2cc3fb107c95",
   "metadata": {},
   "outputs": [
    {
     "data": {
      "text/plain": [
       "[∂α ∂β p,\n",
       " ∂t ∂α ∂β p,\n",
       " ∂α p · ∂β p,\n",
       " p · ∂α ∂β p,\n",
       " ∂α u_β,\n",
       " ∂α ∂β ∂γ u_γ,\n",
       " ∂α ∂γ² u_β,\n",
       " ∂t ∂α u_β,\n",
       " ∂t² ∂α u_β,\n",
       " ∂α p · u_β,\n",
       " p · ∂α u_β,\n",
       " ∂t ∂α p · u_β,\n",
       " ∂t p · ∂α u_β,\n",
       " ∂α p · ∂t u_β,\n",
       " p · ∂t ∂α u_β,\n",
       " p · ∂α p · u_β,\n",
       " p · p · ∂α u_β,\n",
       " u_α · u_β,\n",
       " ∂γ u_α · ∂γ u_β,\n",
       " ∂α u_γ · ∂γ u_β,\n",
       " ∂α u_β · ∂γ u_γ,\n",
       " ∂α u_γ · ∂β u_γ,\n",
       " u_γ · ∂α ∂β u_γ,\n",
       " u_α · ∂β ∂γ u_γ,\n",
       " u_γ · ∂α ∂γ u_β,\n",
       " u_α · ∂γ² u_β,\n",
       " u_α · ∂t u_β,\n",
       " ∂t u_α · ∂t u_β,\n",
       " u_α · ∂t² u_β,\n",
       " p · u_α · u_β,\n",
       " ∂t p · u_α · u_β,\n",
       " p · u_α · ∂t u_β,\n",
       " u_α · u_γ · ∂γ u_β,\n",
       " u_α · u_β · ∂γ u_γ,\n",
       " u_α · u_γ · ∂β u_γ,\n",
       " u_γ · u_γ · ∂α u_β]"
      ]
     },
     "execution_count": 12,
     "metadata": {},
     "output_type": "execute_result"
    }
   ],
   "source": [
    "libs[srd.irreps[1]].terms"
   ]
  },
  {
   "cell_type": "code",
   "execution_count": 13,
   "id": "aa8cb140-8ad3-4013-8472-88f7a738e2b6",
   "metadata": {},
   "outputs": [
    {
     "name": "stdout",
     "output_type": "stream",
     "text": [
      "{'p': {'mean': np.float64(0.08393930372103373), 'std': np.float64(0.08393930372103378)}, 'u': {'mean': np.float64(0.28155178895306154), 'std': np.float64(0.28155178895306104)}}\n",
      "1.0006648889053673\n",
      "1.0008522562096887\n"
     ]
    }
   ],
   "source": [
    "print(srd.scale_dict)\n",
    "for irrep in srd.irreps:\n",
    "    Q = srd.libs[irrep].Q\n",
    "    [U, S, V] = np.linalg.svd(Q)\n",
    "    print(np.linalg.norm(Q)/max(S))"
   ]
  },
  {
   "cell_type": "code",
   "execution_count": 14,
   "id": "0c67e1eb-c516-4214-872c-a887ec152f96",
   "metadata": {},
   "outputs": [
    {
     "name": "stdout",
     "output_type": "stream",
     "text": [
      "[[∂α u_β, ∂α ∂γ² u_β, ∂t ∂α u_β, ∂t² ∂α u_β, ∂α p · u_β, p · ∂α u_β, ∂t ∂α p · u_β, ∂t p · ∂α u_β, ∂α p · ∂t u_β, p · ∂t ∂α u_β, p · ∂α p · u_β, p · p · ∂α u_β, ∂α u_γ · ∂γ u_β, ∂α u_β · ∂γ u_γ, u_α · ∂β ∂γ u_γ, u_γ · ∂α ∂γ u_β, u_α · ∂γ² u_β, u_α · ∂t u_β, u_α · ∂t² u_β, p · u_α · ∂t u_β, u_α · u_γ · ∂γ u_β, u_α · u_γ · ∂β u_γ, u_γ · u_γ · ∂α u_β], [∂α u_β, ∂α ∂γ² u_β, ∂t ∂α u_β, ∂t² ∂α u_β, ∂α p · u_β, p · ∂α u_β, ∂t ∂α p · u_β, ∂t p · ∂α u_β, ∂α p · ∂t u_β, p · ∂t ∂α u_β, p · ∂α p · u_β, p · p · ∂α u_β, ∂α u_γ · ∂γ u_β, u_α · ∂β ∂γ u_γ, u_γ · ∂α ∂γ u_β, u_α · ∂γ² u_β, u_α · ∂t u_β, u_α · ∂t² u_β, p · u_α · ∂t u_β, u_α · u_γ · ∂γ u_β, u_α · u_γ · ∂β u_γ, u_γ · u_γ · ∂α u_β], [∂α u_β, ∂α ∂γ² u_β, ∂t ∂α u_β, ∂t² ∂α u_β, ∂α p · u_β, p · ∂α u_β, ∂t ∂α p · u_β, ∂t p · ∂α u_β, ∂α p · ∂t u_β, p · ∂t ∂α u_β, p · ∂α p · u_β, p · p · ∂α u_β, ∂α u_γ · ∂γ u_β, u_α · ∂β ∂γ u_γ, u_γ · ∂α ∂γ u_β, u_α · ∂γ² u_β, u_α · ∂t u_β, u_α · ∂t² u_β, p · u_α · ∂t u_β, u_α · u_γ · ∂γ u_β, u_γ · u_γ · ∂α u_β], [∂α u_β, ∂α ∂γ² u_β, ∂t ∂α u_β, ∂t² ∂α u_β, ∂α p · u_β, p · ∂α u_β, ∂t ∂α p · u_β, ∂t p · ∂α u_β, ∂α p · ∂t u_β, p · ∂t ∂α u_β, p · ∂α p · u_β, p · p · ∂α u_β, ∂α u_γ · ∂γ u_β, u_γ · ∂α ∂γ u_β, u_α · ∂γ² u_β, u_α · ∂t u_β, u_α · ∂t² u_β, p · u_α · ∂t u_β, u_α · u_γ · ∂γ u_β, u_γ · u_γ · ∂α u_β], [∂α u_β, ∂α ∂γ² u_β, ∂t ∂α u_β, ∂t² ∂α u_β, ∂α p · u_β, p · ∂α u_β, ∂t ∂α p · u_β, ∂t p · ∂α u_β, ∂α p · ∂t u_β, p · ∂t ∂α u_β, p · ∂α p · u_β, p · p · ∂α u_β, ∂α u_γ · ∂γ u_β, u_γ · ∂α ∂γ u_β, u_α · ∂t u_β, u_α · ∂t² u_β, p · u_α · ∂t u_β, u_α · u_γ · ∂γ u_β, u_γ · u_γ · ∂α u_β], [∂α u_β, ∂α ∂γ² u_β, ∂t ∂α u_β, ∂t² ∂α u_β, ∂α p · u_β, p · ∂α u_β, ∂t ∂α p · u_β, ∂t p · ∂α u_β, ∂α p · ∂t u_β, p · ∂t ∂α u_β, p · ∂α p · u_β, p · p · ∂α u_β, ∂α u_γ · ∂γ u_β, u_α · ∂t u_β, u_α · ∂t² u_β, p · u_α · ∂t u_β, u_α · u_γ · ∂γ u_β, u_γ · u_γ · ∂α u_β], [∂α ∂β p, ∂t ∂α ∂β p, ∂α p · ∂β p, p · ∂α ∂β p, ∂α u_β, ∂α ∂β ∂γ u_γ, ∂α ∂γ² u_β, ∂t ∂α u_β, ∂t² ∂α u_β, ∂α p · u_β, p · ∂α u_β, ∂t ∂α p · u_β, ∂t p · ∂α u_β, ∂α p · ∂t u_β, p · ∂t ∂α u_β, p · ∂α p · u_β, p · p · ∂α u_β, u_α · u_β, ∂γ u_α · ∂γ u_β, ∂α u_γ · ∂γ u_β, ∂α u_β · ∂γ u_γ, ∂α u_γ · ∂β u_γ, u_γ · ∂α ∂β u_γ, u_α · ∂β ∂γ u_γ, u_γ · ∂α ∂γ u_β, u_α · ∂γ² u_β, u_α · ∂t u_β, ∂t u_α · ∂t u_β, u_α · ∂t² u_β, p · u_α · u_β, ∂t p · u_α · u_β, p · u_α · ∂t u_β, u_α · u_γ · ∂γ u_β, u_α · u_β · ∂γ u_γ, u_α · u_γ · ∂β u_γ, u_γ · u_γ · ∂α u_β], [∂α ∂β p, ∂t ∂α ∂β p, ∂α p · ∂β p, p · ∂α ∂β p, ∂α u_β, ∂α ∂γ² u_β, ∂t ∂α u_β, ∂t² ∂α u_β, ∂α p · u_β, p · ∂α u_β, ∂t ∂α p · u_β, ∂t p · ∂α u_β, ∂α p · ∂t u_β, p · ∂t ∂α u_β, p · ∂α p · u_β, p · p · ∂α u_β, u_α · u_β, ∂γ u_α · ∂γ u_β, ∂α u_γ · ∂γ u_β, ∂α u_β · ∂γ u_γ, ∂α u_γ · ∂β u_γ, u_γ · ∂α ∂β u_γ, u_α · ∂β ∂γ u_γ, u_γ · ∂α ∂γ u_β, u_α · ∂γ² u_β, u_α · ∂t u_β, ∂t u_α · ∂t u_β, u_α · ∂t² u_β, p · u_α · u_β, ∂t p · u_α · u_β, p · u_α · ∂t u_β, u_α · u_γ · ∂γ u_β, u_α · u_β · ∂γ u_γ, u_α · u_γ · ∂β u_γ, u_γ · u_γ · ∂α u_β], [∂α ∂β p, ∂t ∂α ∂β p, ∂α p · ∂β p, p · ∂α ∂β p, ∂α u_β, ∂α ∂γ² u_β, ∂t ∂α u_β, ∂t² ∂α u_β, ∂α p · u_β, p · ∂α u_β, ∂t ∂α p · u_β, ∂t p · ∂α u_β, ∂α p · ∂t u_β, p · ∂t ∂α u_β, p · ∂α p · u_β, p · p · ∂α u_β, u_α · u_β, ∂γ u_α · ∂γ u_β, ∂α u_γ · ∂γ u_β, ∂α u_β · ∂γ u_γ, ∂α u_γ · ∂β u_γ, u_γ · ∂α ∂β u_γ, u_α · ∂β ∂γ u_γ, u_γ · ∂α ∂γ u_β, u_α · ∂γ² u_β, u_α · ∂t u_β, ∂t u_α · ∂t u_β, u_α · ∂t² u_β, p · u_α · u_β, ∂t p · u_α · u_β, p · u_α · ∂t u_β, u_α · u_γ · ∂γ u_β, u_α · u_γ · ∂β u_γ, u_γ · u_γ · ∂α u_β], [∂α ∂β p, ∂t ∂α ∂β p, ∂α p · ∂β p, p · ∂α ∂β p, ∂α u_β, ∂α ∂γ² u_β, ∂t ∂α u_β, ∂t² ∂α u_β, ∂α p · u_β, p · ∂α u_β, ∂t ∂α p · u_β, ∂t p · ∂α u_β, ∂α p · ∂t u_β, p · ∂t ∂α u_β, p · ∂α p · u_β, p · p · ∂α u_β, u_α · u_β, ∂γ u_α · ∂γ u_β, ∂α u_γ · ∂γ u_β, ∂α u_β · ∂γ u_γ, u_γ · ∂α ∂β u_γ, u_α · ∂β ∂γ u_γ, u_γ · ∂α ∂γ u_β, u_α · ∂γ² u_β, u_α · ∂t u_β, ∂t u_α · ∂t u_β, u_α · ∂t² u_β, p · u_α · u_β, ∂t p · u_α · u_β, p · u_α · ∂t u_β, u_α · u_γ · ∂γ u_β, u_α · u_γ · ∂β u_γ, u_γ · u_γ · ∂α u_β], [∂α ∂β p, ∂t ∂α ∂β p, ∂α p · ∂β p, p · ∂α ∂β p, ∂α u_β, ∂α ∂γ² u_β, ∂t ∂α u_β, ∂t² ∂α u_β, ∂α p · u_β, p · ∂α u_β, ∂t ∂α p · u_β, ∂t p · ∂α u_β, ∂α p · ∂t u_β, p · ∂t ∂α u_β, p · ∂α p · u_β, p · p · ∂α u_β, u_α · u_β, ∂γ u_α · ∂γ u_β, ∂α u_γ · ∂γ u_β, u_γ · ∂α ∂β u_γ, u_α · ∂β ∂γ u_γ, u_γ · ∂α ∂γ u_β, u_α · ∂γ² u_β, u_α · ∂t u_β, ∂t u_α · ∂t u_β, u_α · ∂t² u_β, p · u_α · u_β, ∂t p · u_α · u_β, p · u_α · ∂t u_β, u_α · u_γ · ∂γ u_β, u_α · u_γ · ∂β u_γ, u_γ · u_γ · ∂α u_β], [∂α ∂β p, ∂t ∂α ∂β p, ∂α p · ∂β p, p · ∂α ∂β p, ∂α u_β, ∂α ∂γ² u_β, ∂t ∂α u_β, ∂t² ∂α u_β, ∂α p · u_β, p · ∂α u_β, ∂t ∂α p · u_β, ∂t p · ∂α u_β, ∂α p · ∂t u_β, p · ∂t ∂α u_β, p · ∂α p · u_β, p · p · ∂α u_β, u_α · u_β, ∂γ u_α · ∂γ u_β, ∂α u_γ · ∂γ u_β, u_γ · ∂α ∂β u_γ, u_γ · ∂α ∂γ u_β, u_α · ∂γ² u_β, u_α · ∂t u_β, ∂t u_α · ∂t u_β, u_α · ∂t² u_β, p · u_α · u_β, ∂t p · u_α · u_β, p · u_α · ∂t u_β, u_α · u_γ · ∂γ u_β, u_α · u_γ · ∂β u_γ, u_γ · u_γ · ∂α u_β], [∂α ∂β p, ∂t ∂α ∂β p, ∂α p · ∂β p, p · ∂α ∂β p, ∂α u_β, ∂α ∂γ² u_β, ∂t ∂α u_β, ∂t² ∂α u_β, ∂α p · u_β, p · ∂α u_β, ∂t ∂α p · u_β, ∂t p · ∂α u_β, ∂α p · ∂t u_β, p · ∂t ∂α u_β, p · ∂α p · u_β, p · p · ∂α u_β, u_α · u_β, ∂γ u_α · ∂γ u_β, ∂α u_γ · ∂γ u_β, u_γ · ∂α ∂β u_γ, u_α · ∂γ² u_β, u_α · ∂t u_β, ∂t u_α · ∂t u_β, u_α · ∂t² u_β, p · u_α · u_β, ∂t p · u_α · u_β, p · u_α · ∂t u_β, u_α · u_γ · ∂γ u_β, u_α · u_γ · ∂β u_γ, u_γ · u_γ · ∂α u_β], [∂α ∂β p, ∂t ∂α ∂β p, ∂α p · ∂β p, p · ∂α ∂β p, ∂α u_β, ∂α ∂γ² u_β, ∂t ∂α u_β, ∂t² ∂α u_β, ∂α p · u_β, p · ∂α u_β, ∂t ∂α p · u_β, ∂t p · ∂α u_β, ∂α p · ∂t u_β, p · ∂t ∂α u_β, p · ∂α p · u_β, p · p · ∂α u_β, u_α · u_β, ∂γ u_α · ∂γ u_β, ∂α u_γ · ∂γ u_β, u_γ · ∂α ∂β u_γ, u_α · ∂t u_β, ∂t u_α · ∂t u_β, u_α · ∂t² u_β, p · u_α · u_β, ∂t p · u_α · u_β, p · u_α · ∂t u_β, u_α · u_γ · ∂γ u_β, u_α · u_γ · ∂β u_γ, u_γ · u_γ · ∂α u_β], [∂α ∂β p, ∂t ∂α ∂β p, ∂α p · ∂β p, p · ∂α ∂β p, ∂α u_β, ∂α ∂γ² u_β, ∂t ∂α u_β, ∂t² ∂α u_β, ∂α p · u_β, p · ∂α u_β, ∂t ∂α p · u_β, ∂t p · ∂α u_β, ∂α p · ∂t u_β, p · ∂t ∂α u_β, p · ∂α p · u_β, p · p · ∂α u_β, u_α · u_β, ∂γ u_α · ∂γ u_β, ∂α u_γ · ∂γ u_β, u_γ · ∂α ∂β u_γ, u_α · ∂t u_β, ∂t u_α · ∂t u_β, u_α · ∂t² u_β, p · u_α · u_β, ∂t p · u_α · u_β, p · u_α · ∂t u_β, u_α · u_γ · ∂β u_γ, u_γ · u_γ · ∂α u_β]]\n"
     ]
    }
   ],
   "source": [
    "print([reg_result.sublibrary for reg_result in reg_results])"
   ]
  },
  {
   "cell_type": "code",
   "execution_count": 15,
   "id": "1a97666d-b73e-4049-8b42-78935f098514",
   "metadata": {},
   "outputs": [
    {
     "name": "stdout",
     "output_type": "stream",
     "text": [
      "IRREP: Antisymmetric rank 2\n",
      "[\\partial_\\alpha u_{\\beta}, \\partial_\\alpha \\partial_\\gamma^2 u_{\\beta}, \\partial_t \\partial_\\alpha u_{\\beta}, \\partial_t^2 \\partial_\\alpha u_{\\beta}, \\partial_\\alpha p \\cdot u_{\\beta}, p \\cdot \\partial_\\alpha u_{\\beta}, \\partial_t \\partial_\\alpha p \\cdot u_{\\beta}, \\partial_t p \\cdot \\partial_\\alpha u_{\\beta}, \\partial_\\alpha p \\cdot \\partial_t u_{\\beta}, p \\cdot \\partial_t \\partial_\\alpha u_{\\beta}, p \\cdot \\partial_\\alpha p \\cdot u_{\\beta}, p \\cdot p \\cdot \\partial_\\alpha u_{\\beta}, \\partial_\\alpha u_{\\gamma} \\cdot \\partial_\\gamma u_{\\beta}, \\partial_\\alpha u_{\\beta} \\cdot \\partial_\\gamma u_{\\gamma}, u_{\\alpha} \\cdot \\partial_\\beta \\partial_\\gamma u_{\\gamma}, u_{\\gamma} \\cdot \\partial_\\alpha \\partial_\\gamma u_{\\beta}, u_{\\alpha} \\cdot \\partial_\\gamma^2 u_{\\beta}, u_{\\alpha} \\cdot \\partial_t u_{\\beta}, u_{\\alpha} \\cdot \\partial_t^2 u_{\\beta}, p \\cdot u_{\\alpha} \\cdot \\partial_t u_{\\beta}, u_{\\alpha} \\cdot u_{\\gamma} \\cdot \\partial_\\gamma u_{\\beta}, u_{\\alpha} \\cdot u_{\\gamma} \\cdot \\partial_\\beta u_{\\gamma}, u_{\\gamma} \\cdot u_{\\gamma} \\cdot \\partial_\\alpha u_{\\beta}]\n",
      "IRREP: Symmetric trace-free rank 2\n",
      "[\\partial_\\alpha \\partial_\\beta p, \\partial_t \\partial_\\alpha \\partial_\\beta p, \\partial_\\alpha p \\cdot \\partial_\\beta p, p \\cdot \\partial_\\alpha \\partial_\\beta p, \\partial_\\alpha u_{\\beta}, \\partial_\\alpha \\partial_\\beta \\partial_\\gamma u_{\\gamma}, \\partial_\\alpha \\partial_\\gamma^2 u_{\\beta}, \\partial_t \\partial_\\alpha u_{\\beta}, \\partial_t^2 \\partial_\\alpha u_{\\beta}, \\partial_\\alpha p \\cdot u_{\\beta}, p \\cdot \\partial_\\alpha u_{\\beta}, \\partial_t \\partial_\\alpha p \\cdot u_{\\beta}, \\partial_t p \\cdot \\partial_\\alpha u_{\\beta}, \\partial_\\alpha p \\cdot \\partial_t u_{\\beta}, p \\cdot \\partial_t \\partial_\\alpha u_{\\beta}, p \\cdot \\partial_\\alpha p \\cdot u_{\\beta}, p \\cdot p \\cdot \\partial_\\alpha u_{\\beta}, u_{\\alpha} \\cdot u_{\\beta}, \\partial_\\gamma u_{\\alpha} \\cdot \\partial_\\gamma u_{\\beta}, \\partial_\\alpha u_{\\gamma} \\cdot \\partial_\\gamma u_{\\beta}, \\partial_\\alpha u_{\\beta} \\cdot \\partial_\\gamma u_{\\gamma}, \\partial_\\alpha u_{\\gamma} \\cdot \\partial_\\beta u_{\\gamma}, u_{\\gamma} \\cdot \\partial_\\alpha \\partial_\\beta u_{\\gamma}, u_{\\alpha} \\cdot \\partial_\\beta \\partial_\\gamma u_{\\gamma}, u_{\\gamma} \\cdot \\partial_\\alpha \\partial_\\gamma u_{\\beta}, u_{\\alpha} \\cdot \\partial_\\gamma^2 u_{\\beta}, u_{\\alpha} \\cdot \\partial_t u_{\\beta}, \\partial_t u_{\\alpha} \\cdot \\partial_t u_{\\beta}, u_{\\alpha} \\cdot \\partial_t^2 u_{\\beta}, p \\cdot u_{\\alpha} \\cdot u_{\\beta}, \\partial_t p \\cdot u_{\\alpha} \\cdot u_{\\beta}, p \\cdot u_{\\alpha} \\cdot \\partial_t u_{\\beta}, u_{\\alpha} \\cdot u_{\\gamma} \\cdot \\partial_\\gamma u_{\\beta}, u_{\\alpha} \\cdot u_{\\beta} \\cdot \\partial_\\gamma u_{\\gamma}, u_{\\alpha} \\cdot u_{\\gamma} \\cdot \\partial_\\beta u_{\\gamma}, u_{\\gamma} \\cdot u_{\\gamma} \\cdot \\partial_\\alpha u_{\\beta}]\n"
     ]
    }
   ],
   "source": [
    "from library import latexify\n",
    "\n",
    "for irrep in srd.irreps:\n",
    "    print(f\"IRREP: {irrep}\")\n",
    "    print(latexify(str(srd.libs[irrep].terms)))\n",
    "    #for term in srd.libs[irrep].terms:\n",
    "    #    print(latexify(str(term))+\",\")"
   ]
  },
  {
   "cell_type": "code",
   "execution_count": 16,
   "id": "53fe94b0-27e6-4dde-b1ae-15904449b0f2",
   "metadata": {},
   "outputs": [
    {
     "name": "stdout",
     "output_type": "stream",
     "text": [
      "[1.000e+00 3.496e-02 1.796e-02 9.287e-03 7.832e-03 2.371e-03 1.979e-03\n",
      " 1.558e-03 5.786e-04 4.623e-04 3.948e-04 2.132e-04 1.761e-04 1.575e-04\n",
      " 1.220e-04 9.660e-05 7.583e-05 5.281e-05 4.970e-05 2.811e-05 2.247e-05\n",
      " 1.613e-05 7.714e-06 6.403e-06 3.913e-06 3.244e-06 1.880e-08 9.168e-09\n",
      " 6.074e-09 4.760e-09 5.562e-10 9.217e-11 9.866e-17 9.866e-17 9.866e-17\n",
      " 9.866e-17]\n",
      "First [ 1.817e-04 -1.271e-03 -3.665e-03 -3.028e-04 -6.459e-03 -2.551e-02\n",
      "  9.911e-02  6.915e-02 -2.605e-02  5.223e-02  5.496e-02  6.492e-01\n",
      " -2.097e-01 -7.519e-02 -9.559e-02 -1.248e-03  3.059e-01  1.010e-01\n",
      "  4.931e-02  1.232e-01 -2.592e-02 -3.310e-03  1.778e-02 -1.732e-02\n",
      "  8.246e-03 -1.627e-02 -5.380e-02 -1.946e-01  2.605e-02  3.349e-02\n",
      " -5.287e-03  2.870e-01 -2.738e-02  2.863e-02 -4.896e-01  9.315e-02]\n",
      "Second [ 1.385e-04  2.003e-03 -2.843e-03 -4.761e-04  1.284e-03 -1.858e-02\n",
      "  4.685e-02  4.409e-02 -4.749e-04 -6.016e-02  2.323e-02  5.826e-01\n",
      "  3.746e-01  1.490e-01 -1.019e-01  1.948e-01  2.318e-01 -8.928e-02\n",
      "  1.516e-02  6.151e-02 -3.994e-03 -5.982e-03  1.477e-02 -3.520e-04\n",
      " -5.116e-04 -9.278e-03  5.386e-02  1.947e-01 -2.606e-02 -3.346e-02\n",
      "  5.285e-03 -2.870e-01  2.738e-02 -2.863e-02  4.896e-01 -9.315e-02]\n",
      "Third [-4.172e-11  1.182e-09  1.900e-09 -8.771e-10  4.102e-10 -8.745e-11\n",
      "  5.847e-09  3.228e-10 -3.930e-08  2.174e-08 -1.222e-08  2.908e-08\n",
      " -1.288e-07 -8.797e-08  2.508e-07 -7.475e-08  2.623e-07  8.563e-08\n",
      "  1.211e-07  5.017e-07 -1.656e-06 -1.481e-07 -1.628e-06  3.192e-06\n",
      "  5.955e-06  1.220e-05  3.751e-03  5.618e-03 -2.304e-03 -1.181e-03\n",
      "  1.475e-02 -8.659e-01 -2.738e-02  2.863e-02 -4.896e-01  9.315e-02]\n",
      "Fourth [ 4.327e-05 -3.274e-03 -8.219e-04  1.733e-04 -7.743e-03 -6.933e-03\n",
      "  5.227e-02  2.506e-02 -2.557e-02  1.124e-01  3.173e-02  6.660e-02\n",
      " -5.843e-01 -2.242e-01  6.351e-03 -1.961e-01  7.420e-02  1.903e-01\n",
      "  3.415e-02  6.168e-02 -2.193e-02  2.671e-03  3.011e-03 -1.697e-02\n",
      "  8.764e-03 -6.976e-03 -1.039e-01 -3.837e-01  4.981e-02  6.577e-02\n",
      "  4.179e-03 -2.918e-01  2.738e-02 -2.863e-02  4.896e-01 -9.315e-02]\n"
     ]
    }
   ],
   "source": [
    "U, S, V = np.linalg.svd(Q)\n",
    "print(S/S[0])\n",
    "print(\"First\", V[:, -1])\n",
    "print(\"Second\", V[:, -2])\n",
    "print(\"Third\", V[:, -3])\n",
    "print(\"Fourth\", V[:, -4])"
   ]
  },
  {
   "cell_type": "code",
   "execution_count": null,
   "id": "4f6f5bf7-1b29-4650-861f-9201a4e8c6ef",
   "metadata": {},
   "outputs": [],
   "source": []
  }
 ],
 "metadata": {
  "kernelspec": {
   "display_name": "Python 3 (ipykernel)",
   "language": "python",
   "name": "python3"
  },
  "language_info": {
   "codemirror_mode": {
    "name": "ipython",
    "version": 3
   },
   "file_extension": ".py",
   "mimetype": "text/x-python",
   "name": "python",
   "nbconvert_exporter": "python",
   "pygments_lexer": "ipython3",
   "version": "3.12.7"
  }
 },
 "nbformat": 4,
 "nbformat_minor": 5
}
