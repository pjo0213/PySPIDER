{
 "cells": [
  {
   "cell_type": "code",
   "execution_count": 1,
   "metadata": {},
   "outputs": [
    {
     "name": "stdout",
     "output_type": "stream",
     "text": [
      "({j, i}, {})\n"
     ]
    }
   ],
   "source": [
    "from sympy import symbols, IndexedBase, Idx\n",
    "from sympy.tensor.index_methods import get_indices\n",
    "#from sympy.abc import *\n",
    "u = IndexedBase('u', shape=(3,))\n",
    "i, j, k = symbols('i j k', cls=Idx)\n",
    "#i, j, k = symbols('i j k', integer=True)\n",
    "uiuj = u[i]*u[j]\n",
    "print(get_indices(uiuj))"
   ]
  },
  {
   "cell_type": "code",
   "execution_count": 13,
   "metadata": {},
   "outputs": [
    {
     "name": "stdout",
     "output_type": "stream",
     "text": [
      "dt\n"
     ]
    }
   ],
   "source": [
    "from sympy.tensor.tensor import TensorIndexType, tensor_indices, TensorHead, TensorSymmetry, TensorManager, \\\n",
    "TensAdd, TensMul\n",
    "from sympy.tensor.toperators import PartialDerivative\n",
    "Ind = TensorIndexType('Index')#, dummy_name='I')\n",
    "u\n",
    "i, j, k, l = tensor_indices('i, j, k, l', Ind)\n",
    "x, y, z, t = symbols('x, y, z, t')\n",
    "u_x, u_y, u_z = symbols('u_x, u_y, u_z')\n",
    "u = TensorHead('u', [Ind], TensorSymmetry.fully_symmetric(1), 'ucomm')\n",
    "rho = TensorHead('rho', [], TensorSymmetry.fully_symmetric(0), 'ucomm')\n",
    "TensorManager.set_comm('ucomm', 'ucomm', 0)\n",
    "d = TensorHead('d', [Ind], TensorSymmetry.fully_symmetric(1), 'dcomm')\n",
    "dt = TensorHead('dt', [], TensorSymmetry.fully_symmetric(0), 'dcomm')\n",
    "TensorManager.set_comm('dcomm', 'dcomm', 0)\n",
    "\n",
    "A = u(i)*u(j)-u(j)*u(i)\n",
    "B = u(j)*u(i)\n",
    "C = dt()*d(-i)*B\n",
    "D = d(-i)*dt()*B\n",
    "E = dt()*dt()*u(-j)\n",
    "print(dt.name)"
   ]
  },
  {
   "cell_type": "code",
   "execution_count": 14,
   "metadata": {},
   "outputs": [
    {
     "name": "stdout",
     "output_type": "stream",
     "text": [
      "dt*d(-I_1)*u(I_0)*u(I_1)*dt*dt*u(-I_0)\n"
     ]
    }
   ],
   "source": [
    "print(C*E)"
   ]
  },
  {
   "cell_type": "code",
   "execution_count": 15,
   "metadata": {},
   "outputs": [
    {
     "name": "stdout",
     "output_type": "stream",
     "text": [
      "PartialDerivative(u(i), t)\n"
     ]
    },
    {
     "ename": "AttributeError",
     "evalue": "'PartialDerivative' object has no attribute 'canon_bp'",
     "output_type": "error",
     "traceback": [
      "\u001b[1;31m---------------------------------------------------------------------------\u001b[0m",
      "\u001b[1;31mAttributeError\u001b[0m                            Traceback (most recent call last)",
      "\u001b[1;32m~\\AppData\\Local\\Temp/ipykernel_5224/2935605274.py\u001b[0m in \u001b[0;36m<module>\u001b[1;34m\u001b[0m\n\u001b[0;32m      1\u001b[0m \u001b[0mdu\u001b[0m \u001b[1;33m=\u001b[0m \u001b[0mPartialDerivative\u001b[0m\u001b[1;33m(\u001b[0m\u001b[0mu\u001b[0m\u001b[1;33m(\u001b[0m\u001b[0mi\u001b[0m\u001b[1;33m)\u001b[0m\u001b[1;33m,\u001b[0m \u001b[0mt\u001b[0m\u001b[1;33m)\u001b[0m\u001b[1;33m\u001b[0m\u001b[1;33m\u001b[0m\u001b[0m\n\u001b[0;32m      2\u001b[0m \u001b[0mprint\u001b[0m\u001b[1;33m(\u001b[0m\u001b[0mdu\u001b[0m\u001b[1;33m.\u001b[0m\u001b[0m_expand_partial_derivative\u001b[0m\u001b[1;33m(\u001b[0m\u001b[1;33m)\u001b[0m\u001b[1;33m)\u001b[0m\u001b[1;33m\u001b[0m\u001b[1;33m\u001b[0m\u001b[0m\n\u001b[1;32m----> 3\u001b[1;33m \u001b[0mprint\u001b[0m\u001b[1;33m(\u001b[0m\u001b[0mdu\u001b[0m\u001b[1;33m.\u001b[0m\u001b[0mcanon_bp\u001b[0m\u001b[1;33m(\u001b[0m\u001b[1;33m)\u001b[0m\u001b[1;33m)\u001b[0m\u001b[1;33m\u001b[0m\u001b[1;33m\u001b[0m\u001b[0m\n\u001b[0m",
      "\u001b[1;31mAttributeError\u001b[0m: 'PartialDerivative' object has no attribute 'canon_bp'"
     ]
    }
   ],
   "source": [
    "du = PartialDerivative(u(i), t)\n",
    "print(du._expand_partial_derivative())\n",
    "print(du.canon_bp())"
   ]
  },
  {
   "cell_type": "code",
   "execution_count": 16,
   "metadata": {},
   "outputs": [],
   "source": [
    "class PD(PartialDerivative):\n",
    "    def canon_bp(self):\n",
    "        expr = self._expand_partial_derivative()\n",
    "        if isinstance(expr, TensAdd):\n",
    "            return expr.canon_bp()\n",
    "        if not expr.components:\n",
    "            return expr\n",
    "        t = expr.sorted_components()\n",
    "        g, dummies, msym = t._index_structure.indices_canon_args()\n",
    "        v = components_canon_args(t.components)\n",
    "        can = canonicalize(g, dummies, msym, *v)\n",
    "        if can == 0:\n",
    "            return S.Zero\n",
    "        tmul = t.perm2tensor(can, True)\n",
    "        return tmul"
   ]
  },
  {
   "cell_type": "code",
   "execution_count": 22,
   "metadata": {},
   "outputs": [
    {
     "name": "stdout",
     "output_type": "stream",
     "text": [
      "<property object at 0x0000022DBBB7E728>\n"
     ]
    }
   ],
   "source": [
    "du = PD(u(i),t)\n",
    "print(PD.expr)"
   ]
  },
  {
   "cell_type": "code",
   "execution_count": null,
   "metadata": {},
   "outputs": [],
   "source": []
  }
 ],
 "metadata": {
  "kernelspec": {
   "display_name": "Python 3 (ipykernel)",
   "language": "python",
   "name": "python3"
  },
  "language_info": {
   "codemirror_mode": {
    "name": "ipython",
    "version": 3
   },
   "file_extension": ".py",
   "mimetype": "text/x-python",
   "name": "python",
   "nbconvert_exporter": "python",
   "pygments_lexer": "ipython3",
   "version": "3.7.6"
  }
 },
 "nbformat": 4,
 "nbformat_minor": 4
}
