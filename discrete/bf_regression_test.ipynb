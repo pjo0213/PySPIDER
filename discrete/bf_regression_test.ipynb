{
 "cells": [
  {
   "cell_type": "code",
   "execution_count": 24,
   "id": "bc65ed76-f3c8-4668-87e7-c67b23967244",
   "metadata": {},
   "outputs": [],
   "source": [
    "# in case there are any problems with importing because path is wrong\n",
    "import sys\n",
    "sys.path.append('C:/Users/nerpa\\Dropbox (Personal)\\Research\\discrete_sr\\code\\python\\SPIDER_discrete')\n",
    "\n",
    "import numpy as np\n",
    "\n",
    "from commons.weight import *\n",
    "from utils import save, load\n",
    "from library import *\n",
    "from process_library_terms import *"
   ]
  },
  {
   "cell_type": "code",
   "execution_count": null,
   "id": "52848097-d1e4-49f7-92d5-8081073ad5e3",
   "metadata": {},
   "outputs": [],
   "source": [
    "%%prun # profiling\n",
    "\n",
    "dataset = 'data_bu.npy'\n",
    "positions, vs, deltat, dims = load(dataset, 4)\n",
    "deltat = float(deltat)\n",
    "world_size = np.array([dims[0], dims[0], dims[1]])\n",
    "print(world_size)\n",
    "cg_res = 5\n",
    "data_dict = {}\n",
    "data_dict['v'] = vs\n",
    "v_obs = Observable('v', 1)\n",
    "observables = [v_obs]\n",
    "\n",
    "# fix random seed\n",
    "np.random.seed(1)\n",
    "\n",
    "# initial setup of dataset\n",
    "kernel_sigma = 0.6\n",
    "srd = SRDataset(world_size, data_dict, positions, observables, \n",
    "                kernel_sigma=kernel_sigma, cg_res=cg_res, deltat=deltat, cutoff=6)\n",
    "\n",
    "# initialize libraries, domains, and weights\n",
    "srd.make_libraries(max_complexity=5, max_observables=3, max_rho=2)\n",
    "\n",
    "dom_width = 10\n",
    "dom_time = 30\n",
    "srd.make_domains(ndomains=30, domain_size=[dom_width, dom_width, dom_time], pad=8*kernel_sigma)\n",
    "srd.make_weights(m=16, qmax=1)\n",
    "srd.make_library_matrices(debug=False)\n",
    "\n",
    "save('Q_bu.npy', srd.dxs, srd.libs)"
   ]
  },
  {
   "cell_type": "code",
   "execution_count": 45,
   "id": "d6e3dd6c-3ffb-46fb-adc8-40cbb1dccce1",
   "metadata": {},
   "outputs": [],
   "source": [
    "#_, libs = load('Q_bu.npy', 2)\n",
    "#_, libs = load('Q_XY_t0.01_eta0.1.npy', 2)\n",
    "_, libs = load('Q_XY_t0.01_eta0.56.npy', 2)\n",
    "libs = libs.item()"
   ]
  },
  {
   "cell_type": "code",
   "execution_count": 46,
   "id": "712d63d5-8571-48b7-9d80-e28579f7ceb1",
   "metadata": {},
   "outputs": [
    {
     "name": "stdout",
     "output_type": "stream",
     "text": [
      "###RANK 0 REGRESSION###\n",
      "###RANK 1 REGRESSION###\n",
      "[Term 2] -0.25 * dj^2 rho\n",
      "[Term 23] 1.0 * dj^2 rho[v_k * v_k]\n",
      "Model residual:  1.5798572170071924e-16\n",
      "One-term model residual: 0.3932798579738187\n",
      "Best term (#7): dt^2 dj^2 rho\n",
      "[Term 13] 0.039826019275371195 * dt rho[v_i]\n",
      "[Term 15] 1.0 * dt dj^2 rho[v_i]\n",
      "[Term 17] 0.5768065184251708 * dt^3 rho[v_i]\n",
      "[Term 24] 0.01589183768362812 * dj rho[v_i * v_j]\n",
      "[Term 37] 0.0007577955801109968 * rho[v_j] * rho[v_i * v_j]\n",
      "Model residual:  0.4332753731873841\n",
      "One-term model residual: 0.2534858207392451\n",
      "Best term (#4): dt^2 di rho\n"
     ]
    }
   ],
   "source": [
    "from commons.sparse_reg_bf import *\n",
    "import copy\n",
    "\n",
    "# for regression we now need to construct a Scaler, Initializer, ModelIterator, and Threshold\n",
    "scaler0 = Scaler(sub_inds=None, char_sizes=libs[0].col_weights, row_norms=None)\n",
    "init0 = Initializer(method='combinatorial', start_k=2)\n",
    "#init0 = Initializer(method='power', start_k=10)\n",
    "#res0 = Residual(residual_type='fixed_column', anchor_col=0)\n",
    "res0 = Residual(residual_type='dominant_balance')\n",
    "\n",
    "iter0 = ModelIterator(max_k=10, backward_forward=True, brute_force=True) # test also boolean toggles\n",
    "thres0 = Threshold(threshold_type='jump', gamma=1.5, n_terms=None)\n",
    "#thres0 = Threshold(threshold_type='information', ic=AIC)\n",
    "#thres0 = Threshold(threshold_type='jump', gamma=1.5, n_terms=3)\n",
    "\n",
    "opts = {'scaler': scaler0, 'initializer': init0, 'residual': res0,\n",
    "        'model_iterator': iter0, 'threshold': thres0}\n",
    "opts['verbose'] = False\n",
    "opts1 = copy.deepcopy(opts) # need to be careful to deep copy for the stateful ModelIterator\n",
    "opts['inhomog'] = False\n",
    "opts['inhomog_col'] = None\n",
    "#opts['verbose'] = False\n",
    "sub_inds1 = list(range(len(libs[1].terms)))\n",
    "sub_inds1.remove(35) # dt rho[v_i * v_j * v_j]\n",
    "sub_inds1.remove(21) # rho * dt rho[v_i]\n",
    "opts1['scaler'] = Scaler(sub_inds=sub_inds1, char_sizes=libs[1].col_weights)\n",
    "opts1['residual'] = Residual(residual_type='fixed_column', anchor_col=13)\n",
    "opts1['threshold'] = Threshold(threshold_type='jump', gamma=1.5, n_terms=5)\n",
    "\n",
    "#opts1['verbose'] = True\n",
    "opts1['inhomog'] = True\n",
    "opts1['inhomog_col'] = 13 \n",
    "    \n",
    "print(\"###RANK 0 REGRESSION###\")\n",
    "Xi, lambd, best_term, lambda1 = sparse_reg_bf(libs[0].Q, **opts)\n",
    "print(\"###RANK 1 REGRESSION###\")\n",
    "Xi2, lambd2, best_term2, lambda1_2 = sparse_reg_bf(libs[1].Q, **opts1)\n",
    "\n",
    "for i in range(len(Xi)):\n",
    "    if Xi[i]!=0:\n",
    "        print(f\"[Term {i}] {Xi[i]} * {libs[0].terms[i]}\")\n",
    "print(\"Model residual: \", lambd)\n",
    "print(\"One-term model residual:\", lambda1)\n",
    "print(f\"Best term (#{best_term}):\", libs[0].terms[best_term])\n",
    "\n",
    "for i in range(len(Xi2)):\n",
    "    if Xi2[i]!=0:\n",
    "        print(f\"[Term {i}] {Xi2[i]} * {libs[1].terms[i]}\")\n",
    "print(\"Model residual: \", lambd2)\n",
    "print(\"One-term model residual:\", lambda1_2)\n",
    "print(f\"Best term (#{best_term2}):\", libs[1].terms[best_term2])"
   ]
  },
  {
   "cell_type": "code",
   "execution_count": 36,
   "id": "0e5d9e20-585c-4303-9914-13172ac7bc17",
   "metadata": {},
   "outputs": [
    {
     "name": "stdout",
     "output_type": "stream",
     "text": [
      "[0.01 s]\n",
      "Identified model: -0.24999999999999994 * rho + 1.0 * rho[v_j * v_j] = 0 (order 3, residual 2.97e-16)\n",
      "[0.02 s]\n",
      "Identified model: 1.0 * dj rho[v_j] + 0.999697896468283 * dt rho = 0 (order 3, residual 1.84e-03)\n",
      "[0.02 s]\n",
      "Identified model: -0.24527965944151167 * rho * rho + 1.0 * rho[v_j] * rho[v_j] = 0 (order 4, residual 6.44e-04)\n",
      "[0.03 s]\n",
      "Identified model: 1.0 * rho[v_i * v_j * v_j] + -0.24999999999999994 * rho[v_i] = 0 (order 4, residual 1.67e-16)\n",
      "[0.03 s]\n",
      "Identified model: -0.24553808971606772 * rho * dt rho + 1.0 * rho[v_j] * dt rho[v_j] = 0 (order 5, residual 8.01e-03)\n",
      "[0.14 s]\n",
      "Identified model: -0.24999999999999994 * rho * rho[v_i] + 1.0 * rho[v_i] * rho[v_j * v_j] = 0 (order 5, residual 6.17e-17)\n",
      "[0.25 s]\n",
      "Identified model: 1 * dt^3 di rho = 0 (order 5, residual 1.69e-02)\n",
      "[0.35 s]\n",
      "Identified model: 1 * dt^2 di rho = 0 (order 5, residual 1.81e-02)\n",
      "[0.44 s]\n",
      "Identified model: -0.2453267338260319 * rho * rho[v_i] + 1.0 * rho[v_j] * rho[v_i * v_j] = 0 (order 5, residual 6.37e-04)\n"
     ]
    }
   ],
   "source": [
    "from identify_models import *\n",
    "\n",
    "opts['verbose']=False\n",
    "opts1['verbose']=False\n",
    "\n",
    "# note that interleave_identify doesn't work with inhomog or fixed-column residual\n",
    "opts1['inhomog'] = False\n",
    "opts1['inhomog_col'] = None\n",
    "opts1['residual'] = copy.deepcopy(opts['residual'])\n",
    "opts1['threshold'] = Threshold(threshold_type='jump', gamma=1.5, n_terms=None)\n",
    "\n",
    "eqs, lambdas, derived_eqs, excluded_terms = interleave_identify([libs[0].Q, libs[1].Q], \n",
    "[opts, opts1], [libs[0].terms, libs[1].terms], threshold=1e-1, experimental=True)"
   ]
  },
  {
   "cell_type": "code",
   "execution_count": 6,
   "id": "e0d15c25-f818-4719-8b00-c177144456db",
   "metadata": {},
   "outputs": [
    {
     "name": "stdout",
     "output_type": "stream",
     "text": [
      "[Term 32] -4.728312669512767e-15 * rho * di rho[v_j * v_j]. (Char. size: 0.008777318631044542)\n",
      "[Term 36] -0.9999999999999996 * rho[v_i] * rho[v_j * v_j]. (Char. size: 0.044194181682305364)\n",
      "[Term 38] 1.0 * rho * rho[v_i * v_j * v_j]. (Char. size: 0.044194181682305364)\n",
      "Model residual: 5.087072334133491e-16\n"
     ]
    }
   ],
   "source": [
    "#euler_terms = ['dt rho[v_i]', 'dj rho[v_i * v_j]']\n",
    "euler_terms = ['dt rho[v_i]', 'dj rho[v_i * v_j]', 'di rho']\n",
    "#euler_terms = ['dt rho[v_i]', 'dj rho[v_i * v_j]', 'di rho', 'dj^2 rho[v_i]']\n",
    "#euler_terms = ['dj rho[v_i * v_j]', 'di rho']\n",
    "#col_numbers = [find_term(libs[1].terms, name) for name in euler_terms]\n",
    "col_numbers = [13, 36, 38, 32]\n",
    "Xi, lambd = regress(libs[1].Q, col_numbers, libs[1].col_weights)\n",
    "for i in range(len(Xi)):\n",
    "    if Xi[i]!=0:\n",
    "        print(f\"[Term {i}] {Xi[i]} * {libs[1].terms[i]}. (Char. size: {libs[1].col_weights[i]})\")\n",
    "print(\"Model residual:\", lambd)"
   ]
  },
  {
   "cell_type": "code",
   "execution_count": null,
   "id": "89f4bdc0-88af-464c-ae8e-2ad161f26260",
   "metadata": {},
   "outputs": [],
   "source": []
  }
 ],
 "metadata": {
  "kernelspec": {
   "display_name": "Python 3 (ipykernel)",
   "language": "python",
   "name": "python3"
  },
  "language_info": {
   "codemirror_mode": {
    "name": "ipython",
    "version": 3
   },
   "file_extension": ".py",
   "mimetype": "text/x-python",
   "name": "python",
   "nbconvert_exporter": "python",
   "pygments_lexer": "ipython3",
   "version": "3.12.4"
  }
 },
 "nbformat": 4,
 "nbformat_minor": 5
}
