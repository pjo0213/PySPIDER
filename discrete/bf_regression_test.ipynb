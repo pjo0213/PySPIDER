{
 "cells": [
  {
   "cell_type": "code",
   "execution_count": 1,
   "id": "bc65ed76-f3c8-4668-87e7-c67b23967244",
   "metadata": {},
   "outputs": [
    {
     "name": "stderr",
     "output_type": "stream",
     "text": [
      "<>:3: SyntaxWarning: invalid escape sequence '\\D'\n",
      "<>:3: SyntaxWarning: invalid escape sequence '\\D'\n",
      "C:\\Users\\nerpa\\AppData\\Local\\Temp\\ipykernel_11464\\1225006309.py:3: SyntaxWarning: invalid escape sequence '\\D'\n",
      "  sys.path.append('C:/Users/nerpa\\Dropbox (Personal)\\Research\\discrete_sr\\code\\python\\SPIDER_discrete')\n",
      "C:\\Users\\nerpa\\AppData\\Local\\Temp\\ipykernel_11464\\1225006309.py:3: SyntaxWarning: invalid escape sequence '\\D'\n",
      "  sys.path.append('C:/Users/nerpa\\Dropbox (Personal)\\Research\\discrete_sr\\code\\python\\SPIDER_discrete')\n"
     ]
    },
    {
     "ename": "ModuleNotFoundError",
     "evalue": "No module named 'commons'",
     "output_type": "error",
     "traceback": [
      "\u001b[1;31m---------------------------------------------------------------------------\u001b[0m",
      "\u001b[1;31mModuleNotFoundError\u001b[0m                       Traceback (most recent call last)",
      "Cell \u001b[1;32mIn[1], line 7\u001b[0m\n\u001b[0;32m      3\u001b[0m sys\u001b[38;5;241m.\u001b[39mpath\u001b[38;5;241m.\u001b[39mappend(\u001b[38;5;124m'\u001b[39m\u001b[38;5;124mC:/Users/nerpa\u001b[39m\u001b[38;5;124m\\\u001b[39m\u001b[38;5;124mDropbox (Personal)\u001b[39m\u001b[38;5;124m\\\u001b[39m\u001b[38;5;124mResearch\u001b[39m\u001b[38;5;124m\\\u001b[39m\u001b[38;5;124mdiscrete_sr\u001b[39m\u001b[38;5;124m\\\u001b[39m\u001b[38;5;124mcode\u001b[39m\u001b[38;5;124m\\\u001b[39m\u001b[38;5;124mpython\u001b[39m\u001b[38;5;124m\\\u001b[39m\u001b[38;5;124mSPIDER_discrete\u001b[39m\u001b[38;5;124m'\u001b[39m)\n\u001b[0;32m      5\u001b[0m \u001b[38;5;28;01mimport\u001b[39;00m \u001b[38;5;21;01mnumpy\u001b[39;00m \u001b[38;5;28;01mas\u001b[39;00m \u001b[38;5;21;01mnp\u001b[39;00m\n\u001b[1;32m----> 7\u001b[0m \u001b[38;5;28;01mfrom\u001b[39;00m \u001b[38;5;21;01mcommons\u001b[39;00m\u001b[38;5;21;01m.\u001b[39;00m\u001b[38;5;21;01mweight\u001b[39;00m \u001b[38;5;28;01mimport\u001b[39;00m \u001b[38;5;241m*\u001b[39m\n\u001b[0;32m      8\u001b[0m \u001b[38;5;28;01mfrom\u001b[39;00m \u001b[38;5;21;01mutils\u001b[39;00m \u001b[38;5;28;01mimport\u001b[39;00m save, load\n\u001b[0;32m      9\u001b[0m \u001b[38;5;28;01mfrom\u001b[39;00m \u001b[38;5;21;01mlibrary\u001b[39;00m \u001b[38;5;28;01mimport\u001b[39;00m \u001b[38;5;241m*\u001b[39m\n",
      "\u001b[1;31mModuleNotFoundError\u001b[0m: No module named 'commons'"
     ]
    }
   ],
   "source": [
    "# in case there are any problems with importing because path is wrong\n",
    "import sys\n",
    "sys.path.append('C:/Users/nerpa\\Dropbox (Personal)\\Research\\discrete_sr\\code\\python\\SPIDER_discrete')\n",
    "\n",
    "import numpy as np\n",
    "\n",
    "from commons.weight import *\n",
    "from utils import save, load\n",
    "from library import *\n",
    "from process_library_terms import *"
   ]
  },
  {
   "cell_type": "code",
   "execution_count": null,
   "id": "52848097-d1e4-49f7-92d5-8081073ad5e3",
   "metadata": {},
   "outputs": [],
   "source": [
    "%%prun # profiling\n",
    "\n",
    "dataset = 'data_bu.npy'\n",
    "positions, vs, deltat, dims = load(dataset, 4)\n",
    "deltat = float(deltat)\n",
    "world_size = np.array([dims[0], dims[0], dims[1]])\n",
    "print(world_size)\n",
    "cg_res = 5\n",
    "data_dict = {}\n",
    "data_dict['v'] = vs\n",
    "v_obs = Observable('v', 1)\n",
    "observables = [v_obs]\n",
    "\n",
    "# fix random seed\n",
    "np.random.seed(1)\n",
    "\n",
    "# initial setup of dataset\n",
    "kernel_sigma = 0.6\n",
    "srd = SRDataset(world_size, data_dict, positions, observables, \n",
    "                kernel_sigma=kernel_sigma, cg_res=cg_res, deltat=deltat, cutoff=6)\n",
    "\n",
    "# initialize libraries, domains, and weights\n",
    "srd.make_libraries(max_complexity=5, max_observables=3, max_rho=2)\n",
    "\n",
    "dom_width = 10\n",
    "dom_time = 30\n",
    "srd.make_domains(ndomains=30, domain_size=[dom_width, dom_width, dom_time], pad=8*kernel_sigma)\n",
    "srd.make_weights(m=16, qmax=1)\n",
    "srd.make_library_matrices(debug=False)\n",
    "\n",
    "save('Q_bu.npy', srd.dxs, srd.libs)"
   ]
  },
  {
   "cell_type": "code",
   "execution_count": null,
   "id": "d6e3dd6c-3ffb-46fb-adc8-40cbb1dccce1",
   "metadata": {},
   "outputs": [],
   "source": [
    "#_, libs = load('Q_bu.npy', 2)\n",
    "#_, libs = load('Q_XY_t0.01_eta0.1.npy', 2)\n",
    "_, libs = load('Q_XY_t0.01_eta0.56.npy', 2)\n",
    "libs = libs.item()"
   ]
  },
  {
   "cell_type": "code",
   "execution_count": null,
   "id": "712d63d5-8571-48b7-9d80-e28579f7ceb1",
   "metadata": {},
   "outputs": [],
   "source": [
    "from commons.sparse_reg_bf import *\n",
    "import copy\n",
    "\n",
    "# for regression we now need to construct a Scaler, Initializer, ModelIterator, and Threshold\n",
    "scaler0 = Scaler(sub_inds=None, char_sizes=libs[0].col_weights, row_norms=None)\n",
    "init0 = Initializer(method='combinatorial', start_k=2)\n",
    "#init0 = Initializer(method='power', start_k=10)\n",
    "#res0 = Residual(residual_type='fixed_column', anchor_col=0)\n",
    "res0 = Residual(residual_type='dominant_balance')\n",
    "\n",
    "iter0 = ModelIterator(max_k=10, backward_forward=True, brute_force=True) # test also boolean toggles\n",
    "thres0 = Threshold(threshold_type='jump', gamma=1.5, n_terms=None)\n",
    "#thres0 = Threshold(threshold_type='information', ic=AIC)\n",
    "#thres0 = Threshold(threshold_type='jump', gamma=1.5, n_terms=3)\n",
    "\n",
    "opts = {'scaler': scaler0, 'initializer': init0, 'residual': res0,\n",
    "        'model_iterator': iter0, 'threshold': thres0}\n",
    "opts['verbose'] = False\n",
    "opts1 = copy.deepcopy(opts) # need to be careful to deep copy for the stateful ModelIterator\n",
    "opts['inhomog'] = False\n",
    "opts['inhomog_col'] = None\n",
    "#opts['verbose'] = False\n",
    "sub_inds1 = list(range(len(libs[1].terms)))\n",
    "sub_inds1.remove(35) # dt rho[v_i * v_j * v_j]\n",
    "sub_inds1.remove(21) # rho * dt rho[v_i]\n",
    "opts1['scaler'] = Scaler(sub_inds=sub_inds1, char_sizes=libs[1].col_weights)\n",
    "opts1['residual'] = Residual(residual_type='fixed_column', anchor_col=13)\n",
    "opts1['threshold'] = Threshold(threshold_type='jump', gamma=1.5, n_terms=5)\n",
    "\n",
    "#opts1['verbose'] = True\n",
    "opts1['inhomog'] = True\n",
    "opts1['inhomog_col'] = 13 \n",
    "    \n",
    "print(\"###RANK 0 REGRESSION###\")\n",
    "Xi, lambd, best_term, lambda1 = sparse_reg_bf(libs[0].Q, **opts)\n",
    "print(\"###RANK 1 REGRESSION###\")\n",
    "Xi2, lambd2, best_term2, lambda1_2 = sparse_reg_bf(libs[1].Q, **opts1)\n",
    "\n",
    "for i in range(len(Xi)):\n",
    "    if Xi[i]!=0:\n",
    "        print(f\"[Term {i}] {Xi[i]} * {libs[0].terms[i]}\")\n",
    "print(\"Model residual: \", lambd)\n",
    "print(\"One-term model residual:\", lambda1)\n",
    "print(f\"Best term (#{best_term}):\", libs[0].terms[best_term])\n",
    "\n",
    "for i in range(len(Xi2)):\n",
    "    if Xi2[i]!=0:\n",
    "        print(f\"[Term {i}] {Xi2[i]} * {libs[1].terms[i]}\")\n",
    "print(\"Model residual: \", lambd2)\n",
    "print(\"One-term model residual:\", lambda1_2)\n",
    "print(f\"Best term (#{best_term2}):\", libs[1].terms[best_term2])"
   ]
  },
  {
   "cell_type": "code",
   "execution_count": null,
   "id": "0e5d9e20-585c-4303-9914-13172ac7bc17",
   "metadata": {},
   "outputs": [],
   "source": [
    "from identify_models import *\n",
    "\n",
    "opts['verbose']=False\n",
    "opts1['verbose']=False\n",
    "\n",
    "# note that interleave_identify doesn't work with inhomog or fixed-column residual\n",
    "opts1['inhomog'] = False\n",
    "opts1['inhomog_col'] = None\n",
    "opts1['residual'] = copy.deepcopy(opts['residual'])\n",
    "opts1['threshold'] = Threshold(threshold_type='jump', gamma=1.5, n_terms=None)\n",
    "\n",
    "eqs, lambdas, derived_eqs, excluded_terms = interleave_identify([libs[0].Q, libs[1].Q], \n",
    "[opts, opts1], [libs[0].terms, libs[1].terms], threshold=1e-1, experimental=True)"
   ]
  },
  {
   "cell_type": "code",
   "execution_count": null,
   "id": "e0d15c25-f818-4719-8b00-c177144456db",
   "metadata": {},
   "outputs": [],
   "source": [
    "#euler_terms = ['dt rho[v_i]', 'dj rho[v_i * v_j]']\n",
    "euler_terms = ['dt rho[v_i]', 'dj rho[v_i * v_j]', 'di rho']\n",
    "#euler_terms = ['dt rho[v_i]', 'dj rho[v_i * v_j]', 'di rho', 'dj^2 rho[v_i]']\n",
    "#euler_terms = ['dj rho[v_i * v_j]', 'di rho']\n",
    "#col_numbers = [find_term(libs[1].terms, name) for name in euler_terms]\n",
    "col_numbers = [13, 36, 38, 32]\n",
    "Xi, lambd = regress(libs[1].Q, col_numbers, libs[1].col_weights)\n",
    "for i in range(len(Xi)):\n",
    "    if Xi[i]!=0:\n",
    "        print(f\"[Term {i}] {Xi[i]} * {libs[1].terms[i]}. (Char. size: {libs[1].col_weights[i]})\")\n",
    "print(\"Model residual:\", lambd)"
   ]
  },
  {
   "cell_type": "code",
   "execution_count": null,
   "id": "89f4bdc0-88af-464c-ae8e-2ad161f26260",
   "metadata": {},
   "outputs": [],
   "source": []
  }
 ],
 "metadata": {
  "kernelspec": {
   "display_name": "Python 3 (ipykernel)",
   "language": "python",
   "name": "python3"
  },
  "language_info": {
   "codemirror_mode": {
    "name": "ipython",
    "version": 3
   },
   "file_extension": ".py",
   "mimetype": "text/x-python",
   "name": "python",
   "nbconvert_exporter": "python",
   "pygments_lexer": "ipython3",
   "version": "3.12.4"
  }
 },
 "nbformat": 4,
 "nbformat_minor": 5
}
