{
 "cells": [
  {
   "cell_type": "code",
   "execution_count": 1,
   "id": "e9866012",
   "metadata": {},
   "outputs": [],
   "source": [
    "import numpy as np\n",
    "\n",
    "from weight import *\n",
    "from utils import save, load\n",
    "from library import *\n",
    "from process_library_terms import *"
   ]
  },
  {
   "cell_type": "code",
   "execution_count": null,
   "id": "6cfca3bf",
   "metadata": {},
   "outputs": [],
   "source": [
    "%%prun # profiling\n",
    "\n",
    "### load data\n",
    "# vicsek:\n",
    "#arrays.npy - normal. arrays2.npy - very few particles. arrays3.npy - high density. arrays4.npy - high density, low noise.\n",
    "#arrays5.npy - small domain, one clump\n",
    "#datasets = ['arrays.npy', 'arrays2.npy', 'arrays3.npy']#, 'arrays5.npy']\n",
    "#datasets = ['data_bu.npy'] # burgers' equation data\n",
    "## it may be interesting to reintroduce regression on multiple datasets,\n",
    "## but for now we're just not going to do it\n",
    "\n",
    "dataset = 'data_bu.npy' \n",
    "#for i, dset in enumerate(datasets):\n",
    "positions, vs, deltat, dims = load(dataset, 4)\n",
    "world_size = np.array([dims[0], dims[0], dims[1]])\n",
    "#world_size[2] = 50 # restrict to first 50 time steps\n",
    "data_dict = {}\n",
    "data_dict['v'] = vs\n",
    "v_obs = Observable('v', 1)\n",
    "observables = [v_obs]\n",
    "\n",
    "# fix random seed\n",
    "np.random.seed(1)\n",
    "\n",
    "# initial setup of dataset\n",
    "srd = SRDataset(world_size, data_dict, positions, observables, \n",
    "                kernel_sigma=0.6, cg_res=4, deltat=deltat, cutoff=8)\n",
    "#kernel_sigma=1 or smaller\n",
    "\n",
    "# initialize libraries, domains, and weights\n",
    "srd.make_libraries(max_complexity=4, max_observables=3)\n",
    "dom_width = 10 #80\n",
    "dom_time = 20\n",
    "srd.make_domains(ndomains=50, domain_size=[dom_width, dom_width, dom_time], pad=0)\n",
    "#srd.make_domains(ndomains=1, domain_size=[dom_width, dom_width, dom_time], pad=0)\n",
    "srd.make_weights(m=6, qmax=0)\n",
    "srd.make_library_matrices()\n",
    "\n",
    "save('Q_bu.npy', srd.dxs, srd.libs)"
   ]
  },
  {
   "cell_type": "code",
   "execution_count": null,
   "id": "0919f884-77b5-403d-a63c-5fd8b3f2d66b",
   "metadata": {},
   "outputs": [
    {
     "name": "stdout",
     "output_type": "stream",
     "text": [
      "[rho, rho[v], rho[v * v], rho[v * v * v]]\n",
      "IntegrationDomain([203, 133, 79], [242, 172, 98])\n"
     ]
    },
    {
     "data": {
      "text/plain": [
       "<matplotlib.collections.PathCollection at 0x1b846d5eac8>"
      ]
     },
     "execution_count": 19,
     "metadata": {},
     "output_type": "execute_result"
    },
    {
     "data": {
      "image/png": "[encoded data removed]",
      "text/plain": [
       "<Figure size 864x432 with 2 Axes>"
      ]
     },
     "metadata": {
      "needs_background": "light"
     },
     "output_type": "display_data"
    }
   ],
   "source": [
    "import matplotlib.pyplot as plt\n",
    "\n",
    "fig, (ax1, ax2)= plt.subplots(ncols=2, figsize=(12,6))\n",
    "print(srd.cgps)\n",
    "print(srd.domains[2])\n",
    "cg_arr = srd.cg_dict[srd.cgps[1], (0,), srd.domains[2]]\n",
    "ax1.imshow(cg_arr[:, :, 0], origin='lower', extent=[133, 172, 203, 242])\n",
    "ax1.scatter(srd.scaled_pts[:, 1, 79].flatten(), srd.scaled_pts[:, 0, 79].flatten(), s=1, c='red')\n"
   ]
  },
  {
   "cell_type": "code",
   "execution_count": 5,
   "id": "82a15525-a73d-431d-b62d-e6a59adcab5d",
   "metadata": {},
   "outputs": [],
   "source": [
    "_, libs = load('Q_bu.npy', 2)\n",
    "libs = libs.item()"
   ]
  },
  {
   "cell_type": "code",
   "execution_count": 20,
   "id": "121b875b-54a5-4a23-865c-cce55abb6545",
   "metadata": {},
   "outputs": [
    {
     "name": "stdout",
     "output_type": "stream",
     "text": [
      "[0.00 s]\n",
      "Identified model: 0.9973901482123649 * dj rho[v_j] + 1.0 * dt rho = 0 (order 3, residual 3.17e-05)\n",
      "[0.03 s]\n",
      "Identified model: -0.006626179897222406 * dt dj^2 rho + 1.0 * dt^3 rho = 0 (order 5, residual 3.43e-05)\n",
      "[0.05 s]\n",
      "Identified model: 1.0 * dt^3 rho = 0 (order 5, residual 7.98e-05)\n"
     ]
    }
   ],
   "source": [
    "### TO DO: MAKE THIS WORK\n",
    "from identify_models import *\n",
    "opts = dict()\n",
    "opts['threshold'] = \"'threshold'\"\n",
    "opts['row_norms'] = libs[0].row_weights\n",
    "opts['gamma'] = 2\n",
    "opts['verbose'] = False\n",
    "opts['delta'] = 1e-8 # apparently this reaches machine precision as the relative error\n",
    "opts['char_sizes'] = libs[0].col_weights\n",
    "opts1 = opts.copy()\n",
    "opts1['char_sizes'] = libs[1].col_weights\n",
    "opts1['row_norms'] = libs[1].row_weights\n",
    "\n",
    "#eqs0, lambdas0, derived_eqs0, excluded_terms = identify_equations(Q0, opts, terms0, observables, threshold=1e-5, \n",
    "#                       max_complexity=None, max_equations=999, timed=True)\n",
    "#print(excluded_terms)\n",
    "#eqs1, lambdas1, derived_eqs1, excluded_terms = identify_equations(Q1, opts1, terms1, observables, threshold=1e-5, \n",
    "#                       max_complexity=None, max_equations=999, timed=True, excluded_terms=excluded_terms)\n",
    "#print(excluded_terms)\n",
    "eqs, lambdas, derived_eqs, excluded_terms = interleave_identify([libs[0].Q, libs[1].Q], \n",
    "[opts, opts1], [libs[0].terms, libs[1].terms], threshold=1e-4)\n",
    "\n",
    "#[Term 10] 1.0 * dt rho[v_i]. (Char. size: 0.11975507211624986)\n",
    "#[Term 16] 0.99735777073552 * dj rho[v_i * v_j]. (Char. size: 0.0015462422401189982)\n",
    "#Model residual: 1.3999255788487568e-05"
   ]
  },
  {
   "cell_type": "code",
   "execution_count": 11,
   "id": "8bd01fa4",
   "metadata": {},
   "outputs": [
    {
     "name": "stdout",
     "output_type": "stream",
     "text": [
      "(50, 21)\n"
     ]
    }
   ],
   "source": [
    "## not planning to use most of this code\n",
    "\n",
    "from ipynb.fs.full.sparse_reg import *\n",
    "opts = dict()\n",
    "opts['threshold'] = \"'pareto'\"\n",
    "#opts['verbose'] = True\n",
    "#opts['brute_force'] = False\n",
    "#opts['threshold'] = \"'threshold'\"\n",
    "#opts['n_terms'] = len(terms0)\n",
    "#opts['gamma'] = 1.2\n",
    "opts['char_sizes'] = srd.libs[0].col_weights\n",
    "Xi, lambd, best_term, lambda1 = sparse_reg(srd.libs[0].Q, opts=opts)\n",
    "print(srd.libs[0].Q.shape)"
   ]
  },
  {
   "cell_type": "code",
   "execution_count": 8,
   "id": "dc599f66",
   "metadata": {},
   "outputs": [
    {
     "name": "stdout",
     "output_type": "stream",
     "text": [
      "[Term 19] 1.0 * rho[v_j] * rho[v_j]\n",
      "Model residual: 0.0030944418121483697\n",
      "One-term model residual: 1.294046607514735e-05\n",
      "Best term (#6): dt^3 rho\n"
     ]
    }
   ],
   "source": [
    "for i in range(len(Xi)):\n",
    "    if Xi[i]!=0:\n",
    "        print(f\"[Term {i}] {Xi[i]} * {srd.libs[0].terms[i]}\")\n",
    "print(\"Model residual:\", lambd)\n",
    "print(\"One-term model residual:\", lambda1)\n",
    "print(f\"Best term (#{best_term}):\", srd.libs[0].terms[best_term])"
   ]
  },
  {
   "cell_type": "code",
   "execution_count": 5,
   "id": "07059c86",
   "metadata": {},
   "outputs": [
    {
     "name": "stdout",
     "output_type": "stream",
     "text": [
      "[Term 12] 1.0 * dt v_j * dt v_j\n",
      "[Term 15] -0.0036532437302029016 * dj v_k * v_j * v_k\n",
      "Model residual: 9.320023473785616e-06\n",
      "One-term model residual: 2.4963892321884583e-05\n",
      "Best term (#12): dt v_j * dt v_j\n"
     ]
    }
   ],
   "source": [
    "### not fixed\n",
    "opts['row_norms'] = row_weights0\n",
    "Xip, lambdp, best_termp, lambda1p = sparse_reg(Q0, *opts)\n",
    "for i in range(len(Xip)):\n",
    "    if Xip[i]!=0:\n",
    "        print(f\"[Term {i}] {Xip[i]} * {terms0[i]}\")\n",
    "print(\"Model residual:\", lambdp)\n",
    "print(\"One-term model residual:\", lambda1p)\n",
    "print(f\"Best term (#{best_termp}):\", terms0[best_termp])"
   ]
  },
  {
   "cell_type": "code",
   "execution_count": 26,
   "id": "325adb73",
   "metadata": {},
   "outputs": [
    {
     "name": "stdout",
     "output_type": "stream",
     "text": [
      "(100, 18)\n"
     ]
    }
   ],
   "source": [
    "opts['verbose'] = True\n",
    "opts['char_sizes'] = srd.libs[1].col_weights\n",
    "opts['avoid'] = []\n",
    "opts['row_norms'] = None\n",
    "Xi, lambd, best_term, lambda1 = sparse_reg(srd.libs[1].Q, opts=opts)\n",
    "print(srd.libs[1].Q.shape)"
   ]
  },
  {
   "cell_type": "code",
   "execution_count": 27,
   "id": "1c5b1a0b",
   "metadata": {},
   "outputs": [
    {
     "name": "stdout",
     "output_type": "stream",
     "text": [
      "[Term 10] 1.0 * dt rho[v_i]\n",
      "Model residual: 0.017285898718593234\n",
      "One-term model residual: 0.0008023543100745304\n",
      "Best term: dt^2 rho[v_i]\n"
     ]
    }
   ],
   "source": [
    "for i in range(len(Xi)):\n",
    "    if Xi[i]!=0:\n",
    "        print(f\"[Term {i}] {Xi[i]} * {srd.libs[1].terms[i]}\")\n",
    "print(\"Model residual:\", lambd)\n",
    "print(\"One-term model residual:\", lambda1)\n",
    "print(\"Best term:\", srd.libs[1].terms[best_term])"
   ]
  },
  {
   "cell_type": "code",
   "execution_count": null,
   "id": "3ffb458d",
   "metadata": {},
   "outputs": [
    {
     "ename": "NameError",
     "evalue": "name 'terms0' is not defined",
     "output_type": "error",
     "traceback": [
      "\u001b[1;31m---------------------------------------------------------------------------\u001b[0m",
      "\u001b[1;31mNameError\u001b[0m                                 Traceback (most recent call last)",
      "\u001b[1;32m<ipython-input-6-edd965249804>\u001b[0m in \u001b[0;36m<module>\u001b[1;34m\u001b[0m\n\u001b[1;32m----> 1\u001b[1;33m \u001b[1;32mfor\u001b[0m \u001b[0mterm\u001b[0m\u001b[1;33m,\u001b[0m \u001b[0msize\u001b[0m \u001b[1;32min\u001b[0m \u001b[0mzip\u001b[0m\u001b[1;33m(\u001b[0m\u001b[0mterms0\u001b[0m\u001b[1;33m,\u001b[0m \u001b[0mchar_sizes0\u001b[0m\u001b[1;33m)\u001b[0m\u001b[1;33m:\u001b[0m\u001b[1;33m\u001b[0m\u001b[1;33m\u001b[0m\u001b[0m\n\u001b[0m\u001b[0;32m      2\u001b[0m     \u001b[0mprint\u001b[0m\u001b[1;33m(\u001b[0m\u001b[0mterm\u001b[0m\u001b[1;33m,\u001b[0m \u001b[0msize\u001b[0m\u001b[1;33m)\u001b[0m\u001b[1;33m\u001b[0m\u001b[1;33m\u001b[0m\u001b[0m\n",
      "\u001b[1;31mNameError\u001b[0m: name 'terms0' is not defined"
     ]
    }
   ],
   "source": [
    "### not fixed\n",
    "for term, size in zip(terms1, char_sizes1):\n",
    "    print(term, size)"
   ]
  },
  {
   "cell_type": "code",
   "execution_count": 7,
   "id": "cb571005",
   "metadata": {},
   "outputs": [
    {
     "name": "stdout",
     "output_type": "stream",
     "text": [
      "[Term 3] 1.0 * dt rho.\n",
      "[Term 14] 0.9972914312460868 * dj rho[v_j].\n",
      "Model residual: 1.2526695928922025e-05\n"
     ]
    }
   ],
   "source": [
    "continuity_terms = ['dt rho', 'dj rho[v_j]']\n",
    "#continuity_terms = ['dt rho * rho', 'rho * rho * dj v_j', 'dj rho * rho * v_j']\n",
    "#continuity_terms = ['dt rho', 'dj rv_j']\n",
    "col_numbers = [find_term(srd.libs[0].terms, name) for name in continuity_terms]\n",
    "Xi, lambd = regress(srd.libs[0].Q, col_numbers)\n",
    "for i in range(len(Xi)):\n",
    "    if Xi[i]!=0:\n",
    "        print(f\"[Term {i}] {Xi[i]} * {srd.libs[0].terms[i]}.\")# (Char. size: {srd.libs[0].col_weights[i]})\")\n",
    "print(\"Model residual:\", lambd)"
   ]
  },
  {
   "cell_type": "code",
   "execution_count": 9,
   "id": "88a811d7",
   "metadata": {},
   "outputs": [
    {
     "name": "stdout",
     "output_type": "stream",
     "text": [
      "[Term 10] 1.0 * dt rho[v_i]. (Char. size: 0.11975507211624986)\n",
      "[Term 16] 0.99735777073552 * dj rho[v_i * v_j]. (Char. size: 0.0015462422401189982)\n",
      "Model residual: 1.3999255788487568e-05\n"
     ]
    }
   ],
   "source": [
    "burger_terms = ['dt rho[v_i]', 'dj rho[v_i * v_j]']\n",
    "#burger_terms = ['rho * dt rv_i', 'dj rv_i * rv_j']\n",
    "col_numbers = [find_term(srd.libs[1].terms, name) for name in burger_terms]\n",
    "Xi, lambd = regress(srd.libs[1].Q, col_numbers)\n",
    "for i in range(len(Xi)):\n",
    "    if Xi[i]!=0:\n",
    "        print(f\"[Term {i}] {Xi[i]} * {srd.libs[1].terms[i]}. (Char. size: {srd.libs[1].col_weights[i]})\")\n",
    "print(\"Model residual:\", lambd)"
   ]
  },
  {
   "cell_type": "code",
   "execution_count": 14,
   "id": "2dc69003",
   "metadata": {},
   "outputs": [
    {
     "name": "stdout",
     "output_type": "stream",
     "text": [
      "[Term 16] -0.004286563115825593 * rho. (Char. size: 0.1464261231728444)\n",
      "[Term 28] 1.0 * rho * v_j * v_j. (Char. size: 0.0005121399208783936)\n",
      "Model residual: 0.0005697337514007149\n"
     ]
    }
   ],
   "source": [
    "### not fixed (obviously)\n",
    "#veqconst_terms = ['1', 'v_j * v_j']\n",
    "veqconst_terms = ['rho', 'rho * v_j * v_j']\n",
    "col_numbers = [find_term(terms0, name) for name in veqconst_terms]\n",
    "Xi, lambd = regress(Q0, col_numbers)\n",
    "for i in range(len(Xi)):\n",
    "    if Xi[i]!=0:\n",
    "        print(f\"[Term {i}] {Xi[i]} * {terms0[i]}. (Char. size: {char_sizes0[i]})\")\n",
    "print(\"Model residual:\", lambd)"
   ]
  },
  {
   "cell_type": "code",
   "execution_count": null,
   "id": "870e63df",
   "metadata": {},
   "outputs": [],
   "source": [
    "rho dt^2 v = 10^-4 dt rho * grad rho"
   ]
  }
 ],
 "metadata": {
  "kernelspec": {
   "display_name": "Python 3 (ipykernel)",
   "language": "python",
   "name": "python3"
  },
  "language_info": {
   "codemirror_mode": {
    "name": "ipython",
    "version": 3
   },
   "file_extension": ".py",
   "mimetype": "text/x-python",
   "name": "python",
   "nbconvert_exporter": "python",
   "pygments_lexer": "ipython3",
   "version": "3.7.13"
  }
 },
 "nbformat": 4,
 "nbformat_minor": 5
}
