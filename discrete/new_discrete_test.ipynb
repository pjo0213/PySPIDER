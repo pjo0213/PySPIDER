{
 "cells": [
  {
   "cell_type": "code",
   "execution_count": 1,
   "id": "e9866012",
   "metadata": {},
   "outputs": [],
   "source": [
    "import numpy as np\n",
    "\n",
    "from weight import *\n",
    "from utils import save, load\n",
    "from library import *\n",
    "from process_library_terms import *"
   ]
  },
  {
   "cell_type": "code",
   "execution_count": null,
   "id": "6cfca3bf",
   "metadata": {
    "scrolled": true,
    "tags": []
   },
   "outputs": [
    {
     "name": "stdout",
     "output_type": "stream",
     "text": [
      "[   1    1 1003]\n"
     ]
    }
   ],
   "source": [
    "%%prun # profiling\n",
    "\n",
    "### load data\n",
    "# vicsek:\n",
    "#arrays.npy - normal. arrays2.npy - very few particles. arrays3.npy - high density. arrays4.npy - high density, low noise.\n",
    "#arrays5.npy - small domain, one clump\n",
    "#datasets = ['arrays.npy', 'arrays2.npy', 'arrays3.npy']#, 'arrays5.npy']\n",
    "#datasets = ['data_bu.npy'] # burgers' equation data\n",
    "## it may be interesting to reintroduce regression on multiple datasets,\n",
    "## but for now we're just not going to do it\n",
    "\n",
    "#dataset = 'data_bu.npy'\n",
    "dataset = 'lamp.npy'\n",
    "#import scipy.io\n",
    "#dataset = 'gas_1000_4_0.mat'\n",
    "#dataset = 'gas_1000_16_4.mat'\n",
    "#dataset = 'gas_5000_24_4.mat'\n",
    "#matdata = scipy.io.loadmat(dataset)\n",
    "#positions = matdata['pos_data']\n",
    "#vs = matdata['vs_data']\n",
    "#deltat = matdata['dt'][0][0]\n",
    "#dims = matdata['dims'][0]\n",
    "#for i, dset in enumerate(datasets):\n",
    "positions, vs, deltat, dims = load(dataset, 4)\n",
    "deltat = float(deltat)\n",
    "world_size = np.array([dims[0], dims[0], dims[1]])\n",
    "print(world_size)\n",
    "cg_res = 200#20\n",
    "#world_size[2] = world_size[2]-200 # start at frame 200\n",
    "#print(positions.shape)\n",
    "#positions = positions[:, :, 200:]\n",
    "#vs = vs[:, :, 200:]\n",
    "#world_size[2] = 50 # restrict to first 50 time steps\n",
    "data_dict = {}\n",
    "data_dict['v'] = vs\n",
    "v_obs = Observable('v', 1)\n",
    "observables = [v_obs]\n",
    "\n",
    "# fix random seed\n",
    "np.random.seed(1)\n",
    "\n",
    "# initial setup of dataset\n",
    "srd = SRDataset(world_size, data_dict, positions, observables, \n",
    "                kernel_sigma=0.05, cg_res=cg_res, deltat=deltat, cutoff=6) #kernel_sigma=0.1,0.6\n",
    "\n",
    "# initialize libraries, domains, and weights\n",
    "#srd.make_libraries(max_complexity=4, max_observables=3)\n",
    "srd.make_libraries(max_complexity=5, max_observables=4)\n",
    "#srd.make_libraries(max_complexity=6, max_observables=4)\n",
    "\n",
    "dom_width = 0.1#1.5 #10 #80\n",
    "dom_time = 50 #20\n",
    "srd.make_domains(ndomains=30, domain_size=[dom_width, dom_width, dom_time], pad=0)\n",
    "#srd.make_domains(ndomains=1, domain_size=[dom_width, dom_width, dom_time], pad=0)\n",
    "srd.make_weights(m=16, qmax=1)\n",
    "srd.make_library_matrices(debug=False)\n",
    "\n",
    "save('Q_bu.npy', srd.dxs, srd.libs)"
   ]
  },
  {
   "cell_type": "code",
   "execution_count": null,
   "id": "82a15525-a73d-431d-b62d-e6a59adcab5d",
   "metadata": {},
   "outputs": [],
   "source": [
    "_, libs = load('Q_bu.npy', 2)\n",
    "libs = libs.item()"
   ]
  },
  {
   "cell_type": "code",
   "execution_count": null,
   "id": "121b875b-54a5-4a23-865c-cce55abb6545",
   "metadata": {},
   "outputs": [],
   "source": [
    "from identify_models import *\n",
    "opts = dict()\n",
    "opts['threshold'] = \"'verbose'\"\n",
    "opts['row_norms'] = libs[0].row_weights\n",
    "opts['gamma'] = 2\n",
    "opts['verbose'] = False\n",
    "opts['delta'] = 1e-8#1e-8 # apparently this reaches machine precision as the relative error\n",
    "opts['char_sizes'] = libs[0].col_weights\n",
    "#opts['verbose'] = True\n",
    "opts1 = opts.copy()\n",
    "opts1['char_sizes'] = libs[1].col_weights\n",
    "opts1['row_norms'] = libs[1].row_weights\n",
    "\n",
    "Q = libs[0].Q\n",
    "#print(Q[:, 3]+Q[:, 14], np.linalg.norm(Q[:, 3]+Q[:, 14]), \n",
    "#np.linalg.norm(Q[:, 3]+Q[:, 14])/np.linalg.norm(Q[:, 0]))\n",
    "#print(np.linalg.norm(Q[:, 0])/libs[0].col_weights[0])\n",
    "#print(list(zip(libs[1].terms, libs[1].col_weights)))\n",
    "#eqs0, lambdas0, derived_eqs0, excluded_terms = identify_equations(Q0, opts, terms0, observables, threshold=1e-5, \n",
    "#                       max_complexity=None, max_equations=999, timed=True)\n",
    "#print(excluded_terms)\n",
    "#eqs1, lambdas1, derived_eqs1, excluded_terms = identify_equations(Q1, opts1, terms1, observables, threshold=1e-5, \n",
    "#                       max_complexity=None, max_equations=999, timed=True, excluded_terms=excluded_terms)\n",
    "#print(excluded_terms)\n",
    "eqs, lambdas, derived_eqs, excluded_terms = interleave_identify([libs[0].Q, libs[1].Q], \n",
    "[opts, opts1], [libs[0].terms, libs[1].terms], threshold=1e-1)\n",
    "\n",
    "\n",
    "#[0.15 s]\n",
    "#Identified model: -0.9787526520510974 * rho + 0.028230207633854636 * rho * rho + -0.028610932601784253 * rho * rho[v_j * v_j] + 1.0 * rho[v_j * v_j] = 0 (order 5, residual 5.07e-05)\n",
    "#[0.15 s]\n",
    "#Identified model: -0.02837528778491848 * rho * rho + 1.0 * rho[v_j * v_j] = 0 (order 6, residual 1.43e-05)\n",
    "#[0.26 s]\n",
    "#Identified model: 0.9999199152531711 * dj rho[v_j] + 1.0 * dt rho = 0 (order 6, residual 3.51e-06)"
   ]
  },
  {
   "cell_type": "code",
   "execution_count": 6,
   "id": "aa2535bd-03ed-4596-adb9-428d9d339ca5",
   "metadata": {},
   "outputs": [
    {
     "name": "stdout",
     "output_type": "stream",
     "text": [
      "98\n",
      "109\n"
     ]
    }
   ],
   "source": [
    "print(len(libs[0].terms))\n",
    "print(len(libs[1].terms))"
   ]
  },
  {
   "cell_type": "code",
   "execution_count": 24,
   "id": "7536a287-c4e1-4e44-b00c-eaae2ecb042f",
   "metadata": {},
   "outputs": [
    {
     "name": "stdout",
     "output_type": "stream",
     "text": [
      "[0.05, 0.05, 0.005] [0.7250000000000001, 0.7250000000000001, 0.1225]\n"
     ]
    }
   ],
   "source": [
    "print(srd.dxs, srd.weight_dxs)"
   ]
  },
  {
   "cell_type": "code",
   "execution_count": 6,
   "id": "8bd01fa4",
   "metadata": {},
   "outputs": [
    {
     "name": "stdout",
     "output_type": "stream",
     "text": [
      "(240, 28)\n"
     ]
    }
   ],
   "source": [
    "## mostly not planning to use this code\n",
    "\n",
    "from ipynb.fs.full.sparse_reg import *\n",
    "opts = dict()\n",
    "opts['threshold'] = \"'pareto'\"\n",
    "#opts['verbose'] = True\n",
    "#opts['brute_force'] = False\n",
    "#opts['threshold'] = \"'threshold'\"\n",
    "#opts['n_terms'] = len(terms0)\n",
    "#opts['gamma'] = 1.2\n",
    "opts['char_sizes'] = srd.libs[0].col_weights\n",
    "Xi, lambd, best_term, lambda1 = sparse_reg(srd.libs[0].Q, opts=opts)\n",
    "print(srd.libs[0].Q.shape)"
   ]
  },
  {
   "cell_type": "code",
   "execution_count": 8,
   "id": "dc599f66",
   "metadata": {},
   "outputs": [
    {
     "name": "stdout",
     "output_type": "stream",
     "text": [
      "[Term 19] 1.0 * rho[v_j] * rho[v_j]\n",
      "Model residual: 0.0030944418121483697\n",
      "One-term model residual: 1.294046607514735e-05\n",
      "Best term (#6): dt^3 rho\n"
     ]
    }
   ],
   "source": [
    "for i in range(len(Xi)):\n",
    "    if Xi[i]!=0:\n",
    "        print(f\"[Term {i}] {Xi[i]} * {srd.libs[0].terms[i]}\")\n",
    "print(\"Model residual:\", lambd)\n",
    "print(\"One-term model residual:\", lambda1)\n",
    "print(f\"Best term (#{best_term}):\", srd.libs[0].terms[best_term])"
   ]
  },
  {
   "cell_type": "code",
   "execution_count": null,
   "id": "325adb73",
   "metadata": {},
   "outputs": [],
   "source": [
    "opts['verbose'] = True\n",
    "opts['char_sizes'] = srd.libs[1].col_weights\n",
    "opts['avoid'] = []\n",
    "opts['row_norms'] = None\n",
    "Xi, lambd, best_term, lambda1 = sparse_reg(srd.libs[1].Q, opts=opts)\n",
    "print(srd.libs[1].Q.shape)"
   ]
  },
  {
   "cell_type": "code",
   "execution_count": null,
   "id": "1c5b1a0b",
   "metadata": {},
   "outputs": [],
   "source": [
    "for i in range(len(Xi)):\n",
    "    if Xi[i]!=0:\n",
    "        print(f\"[Term {i}] {Xi[i]} * {srd.libs[1].terms[i]}\")\n",
    "print(\"Model residual:\", lambd)\n",
    "print(\"One-term model residual:\", lambda1)\n",
    "print(\"Best term:\", srd.libs[1].terms[best_term])"
   ]
  },
  {
   "cell_type": "code",
   "execution_count": 24,
   "id": "3ffb458d",
   "metadata": {},
   "outputs": [
    {
     "name": "stdout",
     "output_type": "stream",
     "text": [
      "1 1\n",
      "rho 25.330295910584443\n",
      "dj^2 rho 0.4862908401198736\n",
      "dj^2 dk^2 rho 0.001215727100299684\n",
      "dt rho 0.9725816802397471\n",
      "dt dj^2 rho 0.0024314542005993683\n",
      "dt^2 rho 0.004862908401198736\n",
      "dt^2 dj^2 rho 1.215727100299684e-05\n",
      "dt^3 rho 2.431454200599368e-05\n",
      "dt^4 rho 1.2157271002996838e-07\n",
      "rho * rho 641.623890917771\n",
      "rho * dj^2 rho 12.317890878843107\n",
      "rho * dt rho 24.63578175768621\n",
      "rho * dt dj^2 rho 0.06158945439421554\n",
      "rho * dt^2 rho 0.12317890878843105\n",
      "rho * dt^3 rho 0.0006158945439421553\n",
      "rho * rho * rho 16252.523020247692\n",
      "rho * rho * dj^2 rho 312.015820955385\n",
      "rho * rho * dt rho 624.0316419107698\n",
      "rho * rho * dt^2 rho 3.1201582095538494\n",
      "rho * rho * rho * rho 411681.21739645966\n",
      "dj rho[v_j] 6.3772721379084665\n",
      "dj^2 dk rho[v_k] 0.01594318034477117\n",
      "dt dj rho[v_j] 0.031886360689542335\n",
      "dt dj^2 dk rho[v_k] 7.971590172385585e-05\n",
      "dt^2 dj rho[v_j] 0.00015943180344771168\n",
      "dt^3 dj rho[v_j] 7.971590172385584e-07\n",
      "rho * dj rho[v_j] 161.53819035554693\n",
      "rho * dt dj rho[v_j] 0.8076909517777346\n",
      "rho * rho * dj rho[v_j] 4091.8101625663217\n",
      "rho[v_j * v_j] 10.890755138818134\n",
      "dj^2 rho[v_k * v_k] 0.20908063943235253\n",
      "dj dk rho[v_j * v_k] 0.20908063943235253\n",
      "dt rho[v_j * v_j] 0.418161278864705\n",
      "dt dj^2 rho[v_k * v_k] 0.0010454031971617627\n",
      "dt dj dk rho[v_j * v_k] 0.0010454031971617627\n",
      "dt^2 rho[v_j * v_j] 0.002090806394323525\n",
      "dt^3 rho[v_j * v_j] 1.0454031971617626e-05\n",
      "rho[v_j] * rho[v_j] 275.8660503559815\n",
      "rho * rho[v_j * v_j] 275.8660503559815\n",
      "dj rho[v_j] * dk rho[v_k] 40.669599920943625\n",
      "dj rho[v_k] * dj rho[v_k] 40.669599920943625\n",
      "dj rho[v_k] * dk rho[v_j] 40.669599920943625\n",
      "rho[v_j] * dj dk rho[v_k] 5.296074465995701\n",
      "rho[v_j] * dk^2 rho[v_j] 5.296074465995701\n",
      "rho[v_j] * dt rho[v_j] 10.5921489319914\n",
      "dt rho * rho[v_j * v_j] 10.592148931991401\n",
      "rho * dt rho[v_j * v_j] 10.592148931991396\n",
      "dt rho[v_j] * dt rho[v_j] 0.40669599920943617\n",
      "rho[v_j] * dt^2 rho[v_j] 0.052960744659956996\n",
      "rho * rho[v_j] * rho[v_j] 6987.7686872012\n",
      "rho * rho * rho[v_j * v_j] 6987.768687201201\n",
      "dj rho[v_j * v_k * v_k] 2.741906748848787\n",
      "dt dj rho[v_j * v_k * v_k] 0.013709533744243937\n",
      "dj rho[v_j] * rho[v_k * v_k] 69.45330930756835\n",
      "dj rho[v_k] * rho[v_j * v_k] 69.45330930756835\n",
      "rho[v_j] * dj rho[v_k * v_k] 69.45330930756833\n",
      "rho[v_j] * dk rho[v_j * v_k] 69.45330930756833\n",
      "rho[v_j * v_j * v_k * v_k] 4.682477769402299\n",
      "dt rho[v_j * v_j * v_k * v_k] 0.17978834960027404\n",
      "rho[v_j * v_j] * rho[v_k * v_k] 118.6085474936936\n",
      "rho[v_j * v_k] * rho[v_j * v_k] 118.6085474936936\n",
      "rho[v_j] * rho[v_j * v_k * v_k] 118.6085474936936\n"
     ]
    }
   ],
   "source": [
    "for term, size in zip(libs[0].terms, libs[0].col_weights):\n",
    "    print(term, size)"
   ]
  },
  {
   "cell_type": "code",
   "execution_count": 25,
   "id": "cb571005",
   "metadata": {},
   "outputs": [
    {
     "name": "stdout",
     "output_type": "stream",
     "text": [
      "[Term 9] 1.0 * rho * dt rho.\n",
      "[Term 17] 0.9995283901935761 * rho * dj rho[v_j].\n",
      "Model residual: 6.016043607768072\n"
     ]
    }
   ],
   "source": [
    "#continuity_terms = ['dt rho', 'dj rho[v_j]']\n",
    "continuity_terms = ['rho * dt rho', 'rho * dj rho[v_j]']\n",
    "#continuity_terms = ['dt rho * rho', 'rho * rho * dj v_j', 'dj rho * rho * v_j']\n",
    "#continuity_terms = ['dt rho', 'dj rv_j']\n",
    "col_numbers = [find_term(libs[0].terms, name) for name in continuity_terms]\n",
    "Xi, lambd = regress(libs[0].Q, col_numbers)\n",
    "for i in range(len(Xi)):\n",
    "    if Xi[i]!=0:\n",
    "        print(f\"[Term {i}] {Xi[i]} * {libs[0].terms[i]}.\")# (Char. size: {srd.libs[0].col_weights[i]})\")\n",
    "print(\"Model residual:\", lambd)"
   ]
  },
  {
   "cell_type": "code",
   "execution_count": 28,
   "id": "307cb50a-f2e4-40b1-8048-a6cf110da6ab",
   "metadata": {},
   "outputs": [
    {
     "name": "stdout",
     "output_type": "stream",
     "text": [
      "[[-13514.78004899 -11505.99783876  -2514.79791804 -10990.109692\n",
      "  -60651.30255945 -20813.38984773 -10251.02542497   -177.28153708\n",
      "    5738.96453867]\n",
      " [ 13490.7441029   11538.25188802   2522.33740357  11024.36854912\n",
      "   60642.5303881   20809.30180398  10196.36262975    185.45186033\n",
      "   -5744.82505848]]\n",
      "[-24.0359461   32.25404927   7.53948552  34.25885712  -8.77217135\n",
      "  -4.08804375 -54.66279522   8.17032325  -5.86051981]\n"
     ]
    }
   ],
   "source": [
    "print(np.vstack([0.0689979777390803*libs[0].Q[1:10, 12],libs[0].Q[1:10, 27]]))\n",
    "print(0.0689979777390803*libs[0].Q[1:10, 12]+libs[0].Q[1:10, 27])"
   ]
  },
  {
   "cell_type": "code",
   "execution_count": 7,
   "id": "88a811d7",
   "metadata": {},
   "outputs": [
    {
     "name": "stdout",
     "output_type": "stream",
     "text": [
      "[Term 7] 1.0 * rho[v_i]. (Char. size: 39.88487226171494)\n",
      "[Term 17] -0.6035255718187591 * rho[v_i * v_j * v_j]. (Char. size: 29913654.19628622)\n",
      "Model residual: 0.27352189197837534\n"
     ]
    }
   ],
   "source": [
    "#burger_terms = ['dt rho[v_i]', 'dj rho[v_i * v_j]']\n",
    "burger_terms = ['rho[v_i]', 'rho[v_i * v_j * v_j]']\n",
    "#burger_terms = ['rho * dt rv_i', 'dj rv_i * rv_j']\n",
    "col_numbers = [find_term(libs[1].terms, name) for name in burger_terms]\n",
    "Xi, lambd = regress(libs[1].Q, col_numbers)\n",
    "for i in range(len(Xi)):\n",
    "    if Xi[i]!=0:\n",
    "        print(f\"[Term {i}] {Xi[i]} * {libs[1].terms[i]}. (Char. size: {libs[1].col_weights[i]})\")\n",
    "print(\"Model residual:\", lambd)"
   ]
  },
  {
   "cell_type": "code",
   "execution_count": 14,
   "id": "2dc69003",
   "metadata": {},
   "outputs": [
    {
     "name": "stdout",
     "output_type": "stream",
     "text": [
      "[Term 16] -0.004286563115825593 * rho. (Char. size: 0.1464261231728444)\n",
      "[Term 28] 1.0 * rho * v_j * v_j. (Char. size: 0.0005121399208783936)\n",
      "Model residual: 0.0005697337514007149\n"
     ]
    }
   ],
   "source": [
    "### not fixed (obviously)\n",
    "#veqconst_terms = ['1', 'v_j * v_j']\n",
    "veqconst_terms = ['rho', 'rho * v_j * v_j']\n",
    "col_numbers = [find_term(terms0, name) for name in veqconst_terms]\n",
    "Xi, lambd = regress(Q0, col_numbers)\n",
    "for i in range(len(Xi)):\n",
    "    if Xi[i]!=0:\n",
    "        print(f\"[Term {i}] {Xi[i]} * {terms0[i]}. (Char. size: {char_sizes0[i]})\")\n",
    "print(\"Model residual:\", lambd)"
   ]
  },
  {
   "cell_type": "code",
   "execution_count": null,
   "id": "870e63df",
   "metadata": {},
   "outputs": [],
   "source": [
    "rho dt^2 v = 10^-4 dt rho * grad rho"
   ]
  }
 ],
 "metadata": {
  "kernelspec": {
   "display_name": "Python 3 (ipykernel)",
   "language": "python",
   "name": "python3"
  },
  "language_info": {
   "codemirror_mode": {
    "name": "ipython",
    "version": 3
   },
   "file_extension": ".py",
   "mimetype": "text/x-python",
   "name": "python",
   "nbconvert_exporter": "python",
   "pygments_lexer": "ipython3",
   "version": "3.7.13"
  }
 },
 "nbformat": 4,
 "nbformat_minor": 5
}
