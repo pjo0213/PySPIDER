{
 "cells": [
  {
   "cell_type": "code",
   "execution_count": 1,
   "id": "e9866012",
   "metadata": {},
   "outputs": [],
   "source": [
    "import numpy as np\n",
    "\n",
    "from commons.weight import *\n",
    "from utils import save, load\n",
    "from library import *\n",
    "from process_library_terms import *"
   ]
  },
  {
   "cell_type": "code",
   "execution_count": null,
   "id": "6cfca3bf",
   "metadata": {
    "scrolled": true,
    "tags": []
   },
   "outputs": [
    {
     "name": "stdout",
     "output_type": "stream",
     "text": [
      "[  1   1 128]\n"
     ]
    }
   ],
   "source": [
    "%%prun # profiling\n",
    "\n",
    "### load data\n",
    "# vicsek:\n",
    "#arrays.npy - normal. arrays2.npy - very few particles. arrays3.npy - high density. arrays4.npy - high density, low noise.\n",
    "#arrays5.npy - small domain, one clump\n",
    "#datasets = ['arrays.npy', 'arrays2.npy', 'arrays3.npy']#, 'arrays5.npy']\n",
    "#datasets = ['data_bu.npy'] # burgers' equation data\n",
    "## it may be interesting to reintroduce regression on multiple datasets,\n",
    "## but for now we're just not going to do it\n",
    "\n",
    "#dataset = 'data_bu.npy'\n",
    "#dataset = 'data_cbu.npy'\n",
    "#dataset = 'lamp2.npy'\n",
    "#dataset = 'lamp2_1e-4.npy'\n",
    "#dataset = 'lamp_16x.npy'\n",
    "#dataset = 'lamp_16x_half.npy'\n",
    "#dataset = 'dump_16h1e4.npy'\n",
    "#dataset = 'dump_16h1e4g.npy'\n",
    "#dataset = 'dump_10wide.npy'\n",
    "dataset = 'sim_n1024_1i1.0_2i1.0.npy'\n",
    "#import scipy.io\n",
    "#dataset = 'gas_1000_4_0.mat'\n",
    "#dataset = 'gas_1000_16_4.mat'\n",
    "#dataset = 'gas_5000_24_4.mat'\n",
    "#matdata = scipy.io.loadmat(dataset)\n",
    "#positions = matdata['pos_data']\n",
    "#vs = matdata['vs_data']\n",
    "#deltat = matdata['dt'][0][0]\n",
    "#dims = matdata['dims'][0]\n",
    "#for i, dset in enumerate(datasets):\n",
    "positions, vs, deltat, dims = load(dataset, 4)\n",
    "#positions = positions[0:2, :, :]\n",
    "#vs = vs[0:2, :, :]\n",
    "#deltat = float(deltat)\n",
    "deltat = float(deltat*8) # deltat value wrong because of subsampling\n",
    "#world_size = np.array([dims[0], dims[0], dims[1]])\n",
    "world_size = np.array([dims[0], dims[1], dims[2]])\n",
    "print(world_size)\n",
    "cg_res = 128#200 - lamp; 20 - Jason; 5 - burgers\n",
    "world_size[2] = world_size[2]-1 # start at frame 2\n",
    "#print(positions.shape)\n",
    "positions = positions[:, :, 1:]\n",
    "vs = vs[:, :, 1:]\n",
    "#world_size[2] = 50 # restrict to first 50 time steps\n",
    "data_dict = {}\n",
    "data_dict['v'] = vs # because scaling can be wrong when outputting directly from LAMMPS\n",
    "v_obs = Observable('v', 1)\n",
    "observables = [v_obs]\n",
    "\n",
    "# fix random seed\n",
    "np.random.seed(1)\n",
    "\n",
    "# initial setup of dataset\n",
    "srd = SRDataset(world_size, data_dict, positions, observables, \n",
    "                kernel_sigma=0.04, cg_res=cg_res, deltat=deltat, cutoff=6)\n",
    "#kernel_sigma=0.01/0.04 (lamp),0.1 (Jason?),0.6 (burgers?)\n",
    "\n",
    "# initialize libraries, domains, and weights\n",
    "#srd.make_libraries(max_complexity=4, max_observables=3)\n",
    "#srd.make_libraries(max_complexity=5, max_observables=4)\n",
    "srd.make_libraries(max_complexity=6, max_observables=3)\n",
    "\n",
    "dom_width = 0.25#0.2 - LJ (lamp); 1.5 - Jason; 10 - Burgers?; 80 - ?\n",
    "dom_time = 20 #20 - LJ; 30/50 - Burgers\n",
    "srd.make_domains(ndomains=20, domain_size=[dom_width, dom_width, dom_time], pad=0)\n",
    "#srd.make_domains(ndomains=30, domain_size=[dom_width, dom_width, dom_time], pad=0)\n",
    "#srd.make_domains(ndomains=1, domain_size=[dom_width, dom_width, dom_time], pad=0)\n",
    "srd.make_weights(m=16, qmax=1) #qmax=1\n",
    "srd.make_library_matrices(debug=False)\n",
    "\n",
    "save('Q_bu.npy', srd.dxs, srd.libs)"
   ]
  },
  {
   "cell_type": "code",
   "execution_count": null,
   "id": "82a15525-a73d-431d-b62d-e6a59adcab5d",
   "metadata": {},
   "outputs": [],
   "source": [
    "_, libs = load('Q_bu.npy', 2)\n",
    "libs = libs.item()"
   ]
  },
  {
   "cell_type": "code",
   "execution_count": null,
   "id": "b0997e66-481e-4ffa-bd61-cfce357ccadc",
   "metadata": {},
   "outputs": [],
   "source": [
    "import scipy.io\n",
    "scipy.io.savemat('lammps_Qs.mat', {'Q0': libs[0].Q, 'Q1': libs[1].Q, 'n0': libs[0].col_weights,\n",
    "                 'n1': libs[1].col_weights})"
   ]
  },
  {
   "cell_type": "code",
   "execution_count": null,
   "id": "121b875b-54a5-4a23-865c-cce55abb6545",
   "metadata": {},
   "outputs": [],
   "source": [
    "from identify_models import *\n",
    "opts = dict()\n",
    "opts['threshold'] = \"'verbose'\"\n",
    "opts['row_norms'] = libs[0].row_weights\n",
    "opts['gamma'] = 2\n",
    "opts['verbose'] = False\n",
    "opts['delta'] = 1e-8#1e-8 # apparently this reaches machine precision as the relative error\n",
    "opts['char_sizes'] = libs[0].col_weights\n",
    "opts['anchor_norm'] = np.linalg.norm(libs[0].Q[:, 0])\n",
    "#opts['verbose'] = True\n",
    "opts1 = opts.copy()\n",
    "opts1['char_sizes'] = libs[1].col_weights\n",
    "opts1['row_norms'] = libs[1].row_weights\n",
    "\n",
    "#Q = libs[0].Q\n",
    "#print(Q[:, 3]+Q[:, 14], np.linalg.norm(Q[:, 3]+Q[:, 14]), \n",
    "#np.linalg.norm(Q[:, 3]+Q[:, 14])/np.linalg.norm(Q[:, 0]))\n",
    "#print(np.linalg.norm(Q[:, 0])/libs[0].col_weights[0])\n",
    "#print(list(zip(libs[1].terms, libs[1].col_weights)))\n",
    "#eqs0, lambdas0, derived_eqs0, excluded_terms = identify_equations(Q0, opts, terms0, observables, threshold=1e-5, \n",
    "#                       max_complexity=None, max_equations=999, timed=True)\n",
    "#print(excluded_terms)\n",
    "#eqs1, lambdas1, derived_eqs1, excluded_terms = identify_equations(Q1, opts1, terms1, observables, threshold=1e-5, \n",
    "#                       max_complexity=None, max_equations=999, timed=True, excluded_terms=excluded_terms)\n",
    "#print(excluded_terms)\n",
    "eqs, lambdas, derived_eqs, excluded_terms = interleave_identify([libs[0].Q, libs[1].Q], \n",
    "[opts, opts1], [libs[0].terms, libs[1].terms], threshold=1e-2)\n",
    "\n",
    "\n",
    "#[0.15 s]\n",
    "#Identified model: -0.9787526520510974 * rho + 0.028230207633854636 * rho * rho + -0.028610932601784253 * rho * rho[v_j * v_j] + 1.0 * rho[v_j * v_j] = 0 (order 5, residual 5.07e-05)\n",
    "#[0.15 s]\n",
    "#Identified model: -0.02837528778491848 * rho * rho + 1.0 * rho[v_j * v_j] = 0 (order 6, residual 1.43e-05)\n",
    "#[0.26 s]\n",
    "#Identified model: 0.9999199152531711 * dj rho[v_j] + 1.0 * dt rho = 0 (order 6, residual 3.51e-06)"
   ]
  },
  {
   "cell_type": "code",
   "execution_count": 17,
   "id": "82e26d16-ea6a-47c2-85cf-cd5427fe0791",
   "metadata": {},
   "outputs": [
    {
     "name": "stdout",
     "output_type": "stream",
     "text": [
      "-0.03249129853410361\n",
      "0.8905623385416921\n",
      "1.3110734750000972\n"
     ]
    },
    {
     "data": {
      "image/png": "[encoded data removed]",
      "text/plain": [
       "<Figure size 600x600 with 1 Axes>"
      ]
     },
     "metadata": {},
     "output_type": "display_data"
    }
   ],
   "source": [
    "import matplotlib.pyplot as plt\n",
    "from utils import construct_from_string as cfs\n",
    "fig, ax = plt.subplots(figsize=(6,6))\n",
    "domain = srd.domains[0]\n",
    "obs_dict = {'v': v_obs}\n",
    "obs_dims = [0, 0, 0]\n",
    "cgp = srd.cgps[-1]\n",
    "data = srd.cg_dict[cgp, tuple(obs_dims), domain]\n",
    "ax.imshow(data[:, :, 0])\n",
    "print(np.mean(data))\n",
    "print(np.mean(np.abs(data)))\n",
    "print(np.std(data))"
   ]
  },
  {
   "cell_type": "code",
   "execution_count": 18,
   "id": "e61aa23b-1579-4969-b228-8b9b4d5d1990",
   "metadata": {},
   "outputs": [
    {
     "name": "stdout",
     "output_type": "stream",
     "text": [
      "107.7019418548561\n",
      "135.77091516711826\n",
      "0.049793997420508045\n"
     ]
    },
    {
     "data": {
      "image/png": "[encoded data removed]",
      "text/plain": [
       "<Figure size 600x600 with 1 Axes>"
      ]
     },
     "metadata": {},
     "output_type": "display_data"
    }
   ],
   "source": [
    "fig, ax = plt.subplots(figsize=(6,6))\n",
    "domain = srd.domains[0]\n",
    "obs_dict = {'v': v_obs}\n",
    "obs_dims = [0]\n",
    "cgp = srd.cgps[1]\n",
    "data = srd.cg_dict[cgp, tuple(obs_dims), domain]\n",
    "ax.imshow(data[:, :, 0])\n",
    "print(np.mean(np.abs(data)))\n",
    "print(np.std(data))\n",
    "print(np.std(vs[np.abs(vs)<10]))"
   ]
  },
  {
   "cell_type": "code",
   "execution_count": 19,
   "id": "ed553ee0-b77f-413b-81b3-188fbf08eba2",
   "metadata": {},
   "outputs": [
    {
     "name": "stdout",
     "output_type": "stream",
     "text": [
      "10330.617882723074\n",
      "3040.4761807963537\n"
     ]
    },
    {
     "data": {
      "image/png": "[encoded data removed]",
      "text/plain": [
       "<Figure size 600x600 with 1 Axes>"
      ]
     },
     "metadata": {},
     "output_type": "display_data"
    }
   ],
   "source": [
    "fig, ax = plt.subplots(figsize=(6,6))\n",
    "domain = srd.domains[0]\n",
    "obs_dict = {'v': v_obs}\n",
    "obs_dims = []\n",
    "cgp = srd.cgps[0]\n",
    "data = srd.cg_dict[cgp, tuple(obs_dims), domain]\n",
    "ax.imshow(data[:, :, 0])\n",
    "print(np.mean(np.abs(data)))\n",
    "print(np.std(data))"
   ]
  },
  {
   "cell_type": "code",
   "execution_count": 25,
   "id": "c3fe3af1-09e6-459a-9f04-2449a2f0584e",
   "metadata": {},
   "outputs": [
    {
     "data": {
      "image/png": "[encoded data removed]",
      "text/plain": [
       "<Figure size 640x480 with 1 Axes>"
      ]
     },
     "metadata": {},
     "output_type": "display_data"
    },
    {
     "name": "stdout",
     "output_type": "stream",
     "text": [
      "IntegrationDomain([47, 150, 82], [86, 189, 101])\n"
     ]
    }
   ],
   "source": [
    "plt.hist(data.flatten(), bins=40)\n",
    "plt.show()\n",
    "print(domain)"
   ]
  },
  {
   "cell_type": "code",
   "execution_count": 8,
   "id": "504c32a3-8c3f-4160-a556-6e96735cadc0",
   "metadata": {},
   "outputs": [
    {
     "name": "stdout",
     "output_type": "stream",
     "text": [
      "0.20012994338106274\n"
     ]
    }
   ],
   "source": [
    "prts = []\n",
    "for i in srd.domain_neighbors[domain, domain.times[0]]:\n",
    "    prts.append(i)\n",
    "print(np.std(vs[prts, :, domain.times[0]]))"
   ]
  },
  {
   "cell_type": "code",
   "execution_count": 1,
   "id": "87f34fc4-1a0d-47c7-a323-8e77c609608f",
   "metadata": {},
   "outputs": [
    {
     "ename": "SyntaxError",
     "evalue": "invalid syntax (2885799474.py, line 2)",
     "output_type": "error",
     "traceback": [
      "\u001b[1;36m  File \u001b[1;32m\"C:\\Users\\nerpa\\AppData\\Local\\Temp\\ipykernel_19476\\2885799474.py\"\u001b[1;36m, line \u001b[1;32m2\u001b[0m\n\u001b[1;33m    for domain in srd.domains[0]\u001b[0m\n\u001b[1;37m                                ^\u001b[0m\n\u001b[1;31mSyntaxError\u001b[0m\u001b[1;31m:\u001b[0m invalid syntax\n"
     ]
    }
   ],
   "source": [
    "data = []\n",
    "for domain in srd.domains[0]\n",
    "obs_dict = {'v': v_obs}\n",
    "obs_dims = []\n",
    "cgp = srd.cgps[0]\n",
    "data = srd.cg_dict[cgp, tuple(obs_dims), domain]\n",
    "ax.imshow(data[:, :, 0])"
   ]
  },
  {
   "cell_type": "code",
   "execution_count": 11,
   "id": "214d748f-2534-4872-8ddf-7e695bec5834",
   "metadata": {},
   "outputs": [
    {
     "name": "stdout",
     "output_type": "stream",
     "text": [
      "0.2657824533912849\n"
     ]
    }
   ],
   "source": [
    "print(np.mean(positions[:, 0, :]))"
   ]
  },
  {
   "cell_type": "code",
   "execution_count": 9,
   "id": "7536a287-c4e1-4e44-b00c-eaae2ecb042f",
   "metadata": {},
   "outputs": [
    {
     "name": "stdout",
     "output_type": "stream",
     "text": [
      "0.34736777173708616\n"
     ]
    }
   ],
   "source": [
    "print(np.std(vs))"
   ]
  },
  {
   "cell_type": "code",
   "execution_count": 6,
   "id": "8bd01fa4",
   "metadata": {},
   "outputs": [
    {
     "name": "stdout",
     "output_type": "stream",
     "text": [
      "(240, 28)\n"
     ]
    }
   ],
   "source": [
    "## mostly not planning to use this code\n",
    "\n",
    "from ipynb.fs.full.sparse_reg import *\n",
    "opts = dict()\n",
    "opts['threshold'] = \"'pareto'\"\n",
    "#opts['verbose'] = True\n",
    "#opts['brute_force'] = False\n",
    "#opts['threshold'] = \"'threshold'\"\n",
    "#opts['n_terms'] = len(terms0)\n",
    "#opts['gamma'] = 1.2\n",
    "opts['char_sizes'] = srd.libs[0].col_weights\n",
    "Xi, lambd, best_term, lambda1 = sparse_reg(srd.libs[0].Q, opts=opts)\n",
    "print(srd.libs[0].Q.shape)"
   ]
  },
  {
   "cell_type": "code",
   "execution_count": 8,
   "id": "dc599f66",
   "metadata": {},
   "outputs": [
    {
     "name": "stdout",
     "output_type": "stream",
     "text": [
      "[Term 19] 1.0 * rho[v_j] * rho[v_j]\n",
      "Model residual: 0.0030944418121483697\n",
      "One-term model residual: 1.294046607514735e-05\n",
      "Best term (#6): dt^3 rho\n"
     ]
    }
   ],
   "source": [
    "for i in range(len(Xi)):\n",
    "    if Xi[i]!=0:\n",
    "        print(f\"[Term {i}] {Xi[i]} * {srd.libs[0].terms[i]}\")\n",
    "print(\"Model residual:\", lambd)\n",
    "print(\"One-term model residual:\", lambda1)\n",
    "print(f\"Best term (#{best_term}):\", srd.libs[0].terms[best_term])"
   ]
  },
  {
   "cell_type": "code",
   "execution_count": null,
   "id": "325adb73",
   "metadata": {},
   "outputs": [],
   "source": [
    "opts['verbose'] = True\n",
    "opts['char_sizes'] = srd.libs[1].col_weights\n",
    "opts['avoid'] = []\n",
    "opts['row_norms'] = None\n",
    "Xi, lambd, best_term, lambda1 = sparse_reg(srd.libs[1].Q, opts=opts)\n",
    "print(srd.libs[1].Q.shape)"
   ]
  },
  {
   "cell_type": "code",
   "execution_count": null,
   "id": "1c5b1a0b",
   "metadata": {},
   "outputs": [],
   "source": [
    "for i in range(len(Xi)):\n",
    "    if Xi[i]!=0:\n",
    "        print(f\"[Term {i}] {Xi[i]} * {srd.libs[1].terms[i]}\")\n",
    "print(\"Model residual:\", lambd)\n",
    "print(\"One-term model residual:\", lambda1)\n",
    "print(\"Best term:\", srd.libs[1].terms[best_term])"
   ]
  },
  {
   "cell_type": "code",
   "execution_count": 14,
   "id": "3ffb458d",
   "metadata": {},
   "outputs": [
    {
     "name": "stdout",
     "output_type": "stream",
     "text": [
      "di rho 5243.694443112036\n",
      "di dj^2 rho 5243.694443112036\n",
      "dt di rho 5243.694443112036\n",
      "dt di dj^2 rho 5243.694443112036\n",
      "dt^2 di rho 5243.694443112036\n",
      "dt^3 di rho 5243.694443112036\n",
      "rho * di rho 26046891.458951727\n",
      "rho * di dj^2 rho 26046891.458951727\n",
      "rho * dt di rho 26046891.458951727\n",
      "rho * dt^2 di rho 26046891.458951727\n",
      "rho * rho * di rho 129382167865.5575\n",
      "rho * rho * dt di rho 129382167865.5575\n",
      "rho[v_i] 186.35647375428374\n",
      "di dj rho[v_j] 196.72664783822557\n",
      "dj^2 rho[v_i] 196.72664783822557\n",
      "di dj^2 dk rho[v_k] 196.72664783822557\n",
      "dj^2 dk^2 rho[v_i] 196.72664783822557\n",
      "dt rho[v_i] 196.72664783822557\n",
      "dt di dj rho[v_j] 196.72664783822557\n",
      "dt dj^2 rho[v_i] 196.72664783822557\n",
      "dt^2 rho[v_i] 196.72664783822557\n",
      "dt^2 di dj rho[v_j] 196.72664783822557\n",
      "dt^2 dj^2 rho[v_i] 196.72664783822557\n",
      "dt^3 rho[v_i] 196.72664783822557\n",
      "dt^4 rho[v_i] 196.72664783822557\n",
      "rho * rho[v_i] 925684.5335309147\n",
      "rho * di dj rho[v_j] 977196.0778638757\n",
      "rho * dj^2 rho[v_i] 977196.0778638757\n",
      "rho * dt rho[v_i] 977196.0778638757\n",
      "rho * dt^2 rho[v_i] 977196.0778638757\n",
      "rho * rho * rho[v_i] 4598133020.847901\n",
      "rho * rho * dt rho[v_i] 4854005215.286319\n",
      "rho * rho * rho * rho[v_i] 22840207988314.348\n",
      "di rho[v_j * v_j] 7.380554757629368\n",
      "dj rho[v_i * v_j] 7.380554757629368\n",
      "di dj^2 rho[v_k * v_k] 7.380554757629368\n",
      "di dj dk rho[v_j * v_k] 7.380554757629368\n",
      "dj^2 dk rho[v_i * v_k] 7.380554757629368\n",
      "dt di rho[v_j * v_j] 7.380554757629368\n",
      "dt dj rho[v_i * v_j] 7.380554757629368\n",
      "dt^2 di rho[v_j * v_j] 7.380554757629368\n",
      "dt^2 dj rho[v_i * v_j] 7.380554757629368\n",
      "rho[v_i] * dj rho[v_j] 36661.284384632505\n",
      "rho[v_j] * di rho[v_j] 36661.284384632505\n",
      "rho[v_j] * dj rho[v_i] 36661.284384632505\n",
      "di rho * rho[v_j * v_j] 36661.29669012589\n",
      "dj rho * rho[v_i * v_j] 36661.29669012589\n",
      "rho * di rho[v_j * v_j] 36661.27207914325\n",
      "rho * dj rho[v_i * v_j] 36661.27207914325\n",
      "di rho[v_j] * dt rho[v_j] 38701.37396966522\n",
      "dj rho[v_i] * dt rho[v_j] 38701.37396966522\n",
      "dj rho[v_j] * dt rho[v_i] 38701.37396966522\n",
      "rho[v_i] * dt dj rho[v_j] 36661.284384632505\n",
      "rho[v_j] * dt di rho[v_j] 36661.284384632505\n",
      "rho[v_j] * dt dj rho[v_i] 36661.284384632505\n",
      "rho[v_i * v_j * v_j] 0.2622988614667654\n",
      "di dj rho[v_j * v_k * v_k] 0.27689481383915004\n",
      "dj^2 rho[v_i * v_k * v_k] 0.27689481383915004\n",
      "dj dk rho[v_i * v_j * v_k] 0.27689481383915004\n",
      "dt rho[v_i * v_j * v_j] 0.27689481383915004\n",
      "dt^2 rho[v_i * v_j * v_j] 0.27689481383915004\n",
      "rho[v_i] * rho[v_j * v_j] 1302.9115347111544\n",
      "rho[v_j] * rho[v_i * v_j] 1302.9115347111544\n",
      "rho * rho[v_i * v_j * v_j] 1302.9115347111544\n",
      "dt rho[v_i] * rho[v_j * v_j] 1375.414620644974\n",
      "dt rho[v_j] * rho[v_i * v_j] 1375.414620644974\n",
      "rho[v_i] * dt rho[v_j * v_j] 1375.4141589822116\n",
      "rho[v_j] * dt rho[v_i * v_j] 1375.4141589822116\n",
      "rho[v_i] * rho[v_j] * rho[v_j] 6471924.650341905\n"
     ]
    }
   ],
   "source": [
    "for term, size in zip(libs[0].terms, libs[0].col_weights):\n",
    "    print(term, size)\n",
    "for term, size in zip(libs[1].terms, libs[1].col_weights):\n",
    "    print(term, size)"
   ]
  },
  {
   "cell_type": "code",
   "execution_count": 16,
   "id": "9b426921-fccb-4f03-b3bd-f79925d369f5",
   "metadata": {},
   "outputs": [
    {
     "name": "stdout",
     "output_type": "stream",
     "text": [
      "dt di rho\n",
      "di dj rho[v_j]\n",
      "rho[v_i]\n",
      "rho * rho[v_i]\n",
      "rho * rho * rho[v_i]\n",
      "rho * rho * rho * rho[v_i]\n",
      "rho[v_j] * dt rho[v_i * v_j]\n",
      "dt rho[v_i]\n",
      "rho * dt rho[v_i]\n"
     ]
    }
   ],
   "source": [
    "for i in [3, 14, 13, 26, 31, 33, 68, 18, 29]:\n",
    "    print(libs[1].terms[i-1])"
   ]
  },
  {
   "cell_type": "code",
   "execution_count": 11,
   "id": "cb571005",
   "metadata": {},
   "outputs": [
    {
     "name": "stdout",
     "output_type": "stream",
     "text": [
      "[Term 3] 0.9968278263606907 * dt rho. (Char. size: 5631.272858119977)\n",
      "[Term 8] 1.0 * dj rho[v_j]. (Char. size: 195.61227047686705)\n",
      "Model residual: 43.71297724731395\n"
     ]
    }
   ],
   "source": [
    "continuity_terms = ['dt rho', 'dj rho[v_j]']\n",
    "#continuity_terms = ['rho * dt rho', 'rho * dj rho[v_j]']\n",
    "#continuity_terms = ['dt rho * rho', 'rho * rho * dj v_j', 'dj rho * rho * v_j']\n",
    "#continuity_terms = ['dt rho', 'dj rv_j']\n",
    "col_numbers = [find_term(libs[0].terms, name) for name in continuity_terms]\n",
    "Xi, lambd = regress(libs[0].Q, col_numbers)\n",
    "for i in range(len(Xi)):\n",
    "    if Xi[i]!=0:\n",
    "        print(f\"[Term {i}] {Xi[i]} * {libs[0].terms[i]}. (Char. size: {libs[0].col_weights[i]})\")\n",
    "print(\"Model residual:\", lambd)"
   ]
  },
  {
   "cell_type": "code",
   "execution_count": 12,
   "id": "307cb50a-f2e4-40b1-8048-a6cf110da6ab",
   "metadata": {},
   "outputs": [
    {
     "name": "stdout",
     "output_type": "stream",
     "text": [
      "[[ 0.00000000e+00  0.00000000e+00  0.00000000e+00 -6.13380247e+05\n",
      "  -1.26070880e-34  4.55955703e+05 -8.65017686e-32 -1.35749173e+06\n",
      "   8.33999928e+05]\n",
      " [ 0.00000000e+00  0.00000000e+00  0.00000000e+00  6.06139303e+05\n",
      "   1.57214943e-34 -4.59057133e+05  8.37603051e-30  1.35960531e+06\n",
      "  -8.32631484e+05]]\n",
      "[ 0.00000000e+00  0.00000000e+00  0.00000000e+00 -7.24094417e+03\n",
      "  3.11440633e-35 -3.10143033e+03  8.28952874e-30  2.11357910e+03\n",
      "  1.36844333e+03]\n",
      "293.374863508793\n",
      "(-0.9999897436875416, 1.1376326992464478e-17)\n",
      "2730.328982074233\n",
      "density: 4197.040407508196 +- 881.555275962474\n",
      "ratio: nan +- nan\n"
     ]
    },
    {
     "name": "stderr",
     "output_type": "stream",
     "text": [
      "C:\\Users\\nerpa\\Anaconda3\\lib\\site-packages\\ipykernel_launcher.py:9: RuntimeWarning: invalid value encountered in true_divide\n",
      "  if __name__ == '__main__':\n",
      "C:\\Users\\nerpa\\Anaconda3\\lib\\site-packages\\ipykernel_launcher.py:10: RuntimeWarning: invalid value encountered in true_divide\n",
      "  # Remove the CWD from sys.path while we load stuff.\n"
     ]
    }
   ],
   "source": [
    "from scipy.stats.stats import pearsonr \n",
    "print(np.vstack([libs[0].Q[1:10, 3],libs[0].Q[1:10, 8]]))\n",
    "print(libs[0].Q[1:10, 3]+libs[0].Q[1:10, 8])\n",
    "print(libs[0].Q[0, 0])\n",
    "print(pearsonr(libs[0].Q[1:10, 3], libs[0].Q[1:10, 8]))\n",
    "print(np.mean(np.abs(libs[0].Q[:, 3]+libs[0].Q[:, 8])))\n",
    "print('density:', np.mean(libs[0].Q[:, 1]/libs[0].Q[:, 0]), '+-', \n",
    "      np.std(libs[0].Q[:, 1]/libs[0].Q[:, 0])/np.sqrt(30))\n",
    "print('ratio:', -np.mean(libs[0].Q[:, 3]/libs[0].Q[:, 8]), '+-', \n",
    "      np.std(libs[0].Q[:, 3]/libs[0].Q[:, 8])/np.sqrt(30))"
   ]
  },
  {
   "cell_type": "code",
   "execution_count": 13,
   "id": "b7d4d45f-bf60-4547-bdee-27103f829a90",
   "metadata": {},
   "outputs": [
    {
     "name": "stdout",
     "output_type": "stream",
     "text": [
      "[1.60688031e+03 2.06597757e+03 2.06140737e+06 6.12239700e+02\n",
      " 1.54698237e+04 4.96925672e+03 1.66688640e+03 1.38242612e+04\n",
      " 1.75692071e+04 4.33909304e+05 4.36979969e+03 4.47815747e+04\n",
      " 7.93437988e+02]\n"
     ]
    }
   ],
   "source": [
    "print(np.linalg.norm(libs[0].Q[:, :], axis=0)/libs[0].col_weights)"
   ]
  },
  {
   "cell_type": "code",
   "execution_count": 9,
   "id": "88a811d7",
   "metadata": {},
   "outputs": [
    {
     "name": "stdout",
     "output_type": "stream",
     "text": [
      "[Term 6] 0.229149593949794 * dt rho[v_i]. (Char. size: 2923.728913619608)\n",
      "[Term 10] 1.0 * dj rho[v_i * v_j]. (Char. size: 3754.447738523255)\n",
      "Model residual: 0.009518828763897036\n"
     ]
    }
   ],
   "source": [
    "burger_terms = ['dt rho[v_i]', 'dj rho[v_i * v_j]']\n",
    "#burger_terms = ['rho[v_i]', 'rho[v_i * v_j * v_j]']\n",
    "#burger_terms = ['rho * dt rv_i', 'dj rv_i * rv_j']\n",
    "col_numbers = [find_term(libs[1].terms, name) for name in burger_terms]\n",
    "Xi, lambd = regress(libs[1].Q, col_numbers)\n",
    "for i in range(len(Xi)):\n",
    "    if Xi[i]!=0:\n",
    "        print(f\"[Term {i}] {Xi[i]} * {libs[1].terms[i]}. (Char. size: {libs[1].col_weights[i]})\")\n",
    "print(\"Model residual:\", lambd)"
   ]
  },
  {
   "cell_type": "code",
   "execution_count": 14,
   "id": "2dc69003",
   "metadata": {},
   "outputs": [
    {
     "name": "stdout",
     "output_type": "stream",
     "text": [
      "[Term 16] -0.004286563115825593 * rho. (Char. size: 0.1464261231728444)\n",
      "[Term 28] 1.0 * rho * v_j * v_j. (Char. size: 0.0005121399208783936)\n",
      "Model residual: 0.0005697337514007149\n"
     ]
    }
   ],
   "source": [
    "### not fixed (obviously)\n",
    "#veqconst_terms = ['1', 'v_j * v_j']\n",
    "veqconst_terms = ['rho', 'rho * v_j * v_j']\n",
    "col_numbers = [find_term(terms0, name) for name in veqconst_terms]\n",
    "Xi, lambd = regress(Q0, col_numbers)\n",
    "for i in range(len(Xi)):\n",
    "    if Xi[i]!=0:\n",
    "        print(f\"[Term {i}] {Xi[i]} * {terms0[i]}. (Char. size: {char_sizes0[i]})\")\n",
    "print(\"Model residual:\", lambd)"
   ]
  },
  {
   "cell_type": "code",
   "execution_count": null,
   "id": "870e63df",
   "metadata": {},
   "outputs": [],
   "source": [
    "rho dt^2 v = 10^-4 dt rho * grad rho"
   ]
  }
 ],
 "metadata": {
  "kernelspec": {
   "display_name": "Python 3 (ipykernel)",
   "language": "python",
   "name": "python3"
  },
  "language_info": {
   "codemirror_mode": {
    "name": "ipython",
    "version": 3
   },
   "file_extension": ".py",
   "mimetype": "text/x-python",
   "name": "python",
   "nbconvert_exporter": "python",
   "pygments_lexer": "ipython3",
   "version": "3.7.13"
  }
 },
 "nbformat": 4,
 "nbformat_minor": 5
}
