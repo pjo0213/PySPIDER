{
 "cells": [
  {
   "cell_type": "code",
   "execution_count": 1,
   "id": "711aab73-b816-4191-9534-a5819c579808",
   "metadata": {},
   "outputs": [],
   "source": [
    "# in case there are any problems with importing because path is wrong\n",
    "import sys\n",
    "sys.path.append('C:/Users/nerpa/Dropbox (Princeton)/Research/discrete_sr/code/SPIDER_discrete')"
   ]
  },
  {
   "cell_type": "code",
   "execution_count": 2,
   "id": "e9866012",
   "metadata": {},
   "outputs": [],
   "source": [
    "import numpy as np\n",
    "\n",
    "from commons.weight import *\n",
    "from utils import save, load\n",
    "from library import *\n",
    "from process_library_terms import *"
   ]
  },
  {
   "cell_type": "code",
   "execution_count": 5,
   "id": "121b875b-54a5-4a23-865c-cce55abb6545",
   "metadata": {},
   "outputs": [
    {
     "name": "stdout",
     "output_type": "stream",
     "text": [
      "[0.10 s]\n",
      "Identified model: 0.9999999999338456 * dj rho[v_j] + 1.0 * dt rho = 0 (order 3, residual 7.88e-10)\n",
      "[0.34 s]\n",
      "Identified model: 1.0 * dj rho[v_i * v_j] + 0.9999999999820364 * dt rho[v_i] = 0 (order 4, residual 5.12e-10)\n"
     ]
    }
   ],
   "source": [
    "from commons.sparse_reg_bf import *\n",
    "from identify_models import *\n",
    "import copy\n",
    "\n",
    "libs = srd.libs\n",
    "\n",
    "# for regression we now need to construct a Scaler, Initializer, ModelIterator, and Threshold\n",
    "scaler0 = Scaler(sub_inds=None, char_sizes=libs[0].col_weights, row_norms=None)\n",
    "init0 = Initializer(method='combinatorial', start_k=2)\n",
    "#init0 = Initializer(method='power', start_k=10)\n",
    "#res0 = Residual(residual_type='fixed_column', anchor_col=0)\n",
    "res0 = Residual(residual_type='dominant_balance')\n",
    "\n",
    "iter0 = ModelIterator(max_k=10, backward_forward=True, brute_force=True) # test also boolean toggles\n",
    "thres0 = Threshold(threshold_type='jump', gamma=1.5, n_terms=None)\n",
    "#thres0 = Threshold(threshold_type='information', ic=AIC)\n",
    "#thres0 = Threshold(threshold_type='jump', gamma=1.5, n_terms=3)\n",
    "\n",
    "opts = {'scaler': scaler0, 'initializer': init0, 'residual': res0,\n",
    "        'model_iterator': iter0, 'threshold': thres0}\n",
    "opts['verbose'] = False\n",
    "opts1 = copy.deepcopy(opts) # need to be careful to deep copy for the stateful ModelIterator\n",
    "opts['inhomog'] = False\n",
    "opts['inhomog_col'] = None\n",
    "#opts['verbose'] = False\n",
    "sub_inds1 = list(range(len(libs[1].terms)))\n",
    "#sub_inds1.remove(35) # dt rho[v_i * v_j * v_j]\n",
    "#sub_inds1.remove(21) # rho * dt rho[v_i]\n",
    "opts1['scaler'] = Scaler(sub_inds=sub_inds1, char_sizes=libs[1].col_weights)\n",
    "opts1['residual'] = Residual(residual_type='fixed_column', anchor_col=13)\n",
    "opts1['threshold'] = Threshold(threshold_type='jump', gamma=1.5, n_terms=None)\n",
    "\n",
    "#opts1['verbose'] = True\n",
    "opts1['inhomog'] = True\n",
    "opts1['inhomog_col'] = 13 \n",
    "    \n",
    "opts['verbose']=False\n",
    "opts1['verbose']=False\n",
    "\n",
    "# note that interleave_identify doesn't work with inhomog or fixed-column residual\n",
    "opts1['inhomog'] = False\n",
    "opts1['inhomog_col'] = None\n",
    "opts1['residual'] = copy.deepcopy(opts['residual'])\n",
    "opts1['threshold'] = Threshold(threshold_type='jump', gamma=1.5, n_terms=None)\n",
    "\n",
    "eqs, lambdas, derived_eqs, excluded_terms = interleave_identify([libs[0].Q, libs[1].Q], \n",
    "[opts, opts1], [libs[0].terms, libs[1].terms], threshold=1e-2, experimental=True)"
   ]
  },
  {
   "cell_type": "code",
   "execution_count": 6,
   "id": "dc04ec26-0bcd-4d66-940f-5380bbc79d6f",
   "metadata": {},
   "outputs": [
    {
     "name": "stdout",
     "output_type": "stream",
     "text": [
      "-0.016958754913634695 * di rho + 1.0 * di rho[v_j * v_j] + 0.2791592729591624 * dt^2 di rho + 0.5934340149577384 * dt^2 rho[v_i] = 0 ; residual: 0.463469825336406\n"
     ]
    }
   ],
   "source": [
    "opts1['inhomog'] = True\n",
    "opts1['inhomog_col'] = 13 # dt rho[v_i]\n",
    "\n",
    "remove_terms = [21, 35] # rho * dt rho[v_i], dt rho[v_i * v_j * v_j]\n",
    "for term in remove_terms:\n",
    "    if term in opts1['scaler'].sub_inds:\n",
    "        opts1['scaler'].sub_inds.remove(term) \n",
    "opts1['scaler'].reset_inds(opts1['scaler'].sub_inds)\n",
    "\n",
    "opts1['threshold'] = Threshold(threshold_type='jump', gamma=1.5, n_terms=4)\n",
    "opts1['verbose'] = False\n",
    "Xi, lambd, best_term, lambda1 = sparse_reg_bf(libs[1].Q, **opts1)\n",
    "zipped = [(libs[1].terms[i], c) for i, c in enumerate(Xi) if c != 0]\n",
    "eqn = Equation([e[0] for e in zipped], [e[1] for e in zipped])\n",
    "print(eqn, \"; residual:\", lambd)"
   ]
  },
  {
   "cell_type": "code",
   "execution_count": 7,
   "id": "64810896-951f-4154-8eea-59fd8b53ee6e",
   "metadata": {},
   "outputs": [
    {
     "name": "stdout",
     "output_type": "stream",
     "text": [
      "1.0 * dj rho[v_i * v_j] + 0.9999999999990757 * dt rho[v_i] = 0\n",
      "rho\n"
     ]
    },
    {
     "data": {
      "image/png": "[encoded data removed]",
      "text/plain": [
       "<Figure size 640x480 with 4 Axes>"
      ]
     },
     "metadata": {},
     "output_type": "display_data"
    }
   ],
   "source": [
    "### plot strong-form fields\n",
    "\n",
    "import matplotlib.pyplot as plt\n",
    "from mpl_toolkits.axes_grid1 import make_axes_locatable\n",
    "\n",
    "zero_arr = [0] * srd.n_dimensions\n",
    "constant_weight = Weight(m=zero_arr, q=zero_arr, k=zero_arr) # should evaluate to 1 everywhere\n",
    "\n",
    "def make_residual_arr(equation, domain, kc):\n",
    "    arrs = [c*srd.make_tw_arr(term, constant_weight, [domain], kc, by_parts=False) \n",
    "            for term, c in zip(equation.term_list, equation.coeffs)]\n",
    "    return sum(arrs)[..., 0]\n",
    "\n",
    "domain = srd.domains[0]\n",
    "kc = 0 # can select x, y components\n",
    "\n",
    "### residual plotting\n",
    "equation = eqs[1]\n",
    "print(equation)\n",
    "ra = make_residual_arr(equation, domain, kc)\n",
    "\n",
    "fig, (ax1, ax2) = plt.subplots(2, 1)\n",
    "im = ax1.imshow(ra[:, :, 0])\n",
    "#colorbar\n",
    "divider = make_axes_locatable(ax1)\n",
    "cax = divider.append_axes(\"right\", size=\"5%\", pad=0.05)\n",
    "plt.colorbar(im, cax=cax)\n",
    "\n",
    "### term plotting\n",
    "#term = equation.term_list[0]\n",
    "term = srd.libs[0].terms[1]\n",
    "print(term)\n",
    "kc = None\n",
    "tw_arr = srd.make_tw_arr(term, constant_weight, [domain], kc, by_parts=False)\n",
    "\n",
    "im = ax2.imshow(tw_arr[:, :, 0])\n",
    "#colorbar\n",
    "divider2 = make_axes_locatable(ax2)\n",
    "cax2 = divider2.append_axes(\"right\", size=\"5%\", pad=0.05)\n",
    "plt.colorbar(im, cax=cax2)\n",
    "\n",
    "ax1.set_ylabel(\"dj rho[v_i * v_j] + dt rho[v_i]\")\n",
    "ax2.set_ylabel(str(term))\n",
    "\n",
    "plt.show()"
   ]
  },
  {
   "cell_type": "code",
   "execution_count": 9,
   "id": "676cd2aa-653c-4608-a29f-d737229b32a2",
   "metadata": {},
   "outputs": [
    {
     "name": "stdout",
     "output_type": "stream",
     "text": [
      "frame=0\n",
      "frame=0\n",
      "frame=0\n"
     ]
    },
    {
     "name": "stderr",
     "output_type": "stream",
     "text": [
      "MovieWriter stderr:\n",
      "[out#0/mp3 @ 000001cbfa78e8c0] Output file does not contain any stream\n",
      "\n"
     ]
    },
    {
     "ename": "CalledProcessError",
     "evalue": "Command '['C:/Users/nerpa/Downloads/ffmpeg-6.0-essentials_build/bin/ffmpeg.exe', '-f', 'rawvideo', '-vcodec', 'rawvideo', '-s', '640x480', '-pix_fmt', 'rgba', '-r', '24', '-loglevel', 'error', '-i', 'pipe:', '-vcodec', 'libx264', '-y', 'viz_test2.mp3']' returned non-zero exit status 1.",
     "output_type": "error",
     "traceback": [
      "\u001b[1;31m---------------------------------------------------------------------------\u001b[0m",
      "\u001b[1;31mOSError\u001b[0m                                   Traceback (most recent call last)",
      "\u001b[1;32m~\\anaconda3\\lib\\site-packages\\matplotlib\\animation.py\u001b[0m in \u001b[0;36msaving\u001b[1;34m(self, fig, outfile, dpi, *args, **kwargs)\u001b[0m\n\u001b[0;32m    233\u001b[0m         \u001b[1;32mtry\u001b[0m\u001b[1;33m:\u001b[0m\u001b[1;33m\u001b[0m\u001b[1;33m\u001b[0m\u001b[0m\n\u001b[1;32m--> 234\u001b[1;33m             \u001b[1;32myield\u001b[0m \u001b[0mself\u001b[0m\u001b[1;33m\u001b[0m\u001b[1;33m\u001b[0m\u001b[0m\n\u001b[0m\u001b[0;32m    235\u001b[0m         \u001b[1;32mfinally\u001b[0m\u001b[1;33m:\u001b[0m\u001b[1;33m\u001b[0m\u001b[1;33m\u001b[0m\u001b[0m\n",
      "\u001b[1;32m~\\anaconda3\\lib\\site-packages\\matplotlib\\animation.py\u001b[0m in \u001b[0;36msave\u001b[1;34m(self, filename, writer, fps, dpi, codec, bitrate, extra_args, metadata, extra_anim, savefig_kwargs, progress_callback)\u001b[0m\n\u001b[0;32m   1092\u001b[0m                         \u001b[0mframe_number\u001b[0m \u001b[1;33m+=\u001b[0m \u001b[1;36m1\u001b[0m\u001b[1;33m\u001b[0m\u001b[1;33m\u001b[0m\u001b[0m\n\u001b[1;32m-> 1093\u001b[1;33m                 \u001b[0mwriter\u001b[0m\u001b[1;33m.\u001b[0m\u001b[0mgrab_frame\u001b[0m\u001b[1;33m(\u001b[0m\u001b[1;33m**\u001b[0m\u001b[0msavefig_kwargs\u001b[0m\u001b[1;33m)\u001b[0m\u001b[1;33m\u001b[0m\u001b[1;33m\u001b[0m\u001b[0m\n\u001b[0m\u001b[0;32m   1094\u001b[0m \u001b[1;33m\u001b[0m\u001b[0m\n",
      "\u001b[1;32m~\\anaconda3\\lib\\site-packages\\matplotlib\\animation.py\u001b[0m in \u001b[0;36mgrab_frame\u001b[1;34m(self, **savefig_kwargs)\u001b[0m\n\u001b[0;32m    350\u001b[0m         \u001b[1;31m# Save the figure data to the sink, using the frame format and dpi.\u001b[0m\u001b[1;33m\u001b[0m\u001b[1;33m\u001b[0m\u001b[0m\n\u001b[1;32m--> 351\u001b[1;33m         self.fig.savefig(self._proc.stdin, format=self.frame_format,\n\u001b[0m\u001b[0;32m    352\u001b[0m                          dpi=self.dpi, **savefig_kwargs)\n",
      "\u001b[1;32m~\\anaconda3\\lib\\site-packages\\matplotlib\\figure.py\u001b[0m in \u001b[0;36msavefig\u001b[1;34m(self, fname, transparent, **kwargs)\u001b[0m\n\u001b[0;32m   3045\u001b[0m \u001b[1;33m\u001b[0m\u001b[0m\n\u001b[1;32m-> 3046\u001b[1;33m             \u001b[0mself\u001b[0m\u001b[1;33m.\u001b[0m\u001b[0mcanvas\u001b[0m\u001b[1;33m.\u001b[0m\u001b[0mprint_figure\u001b[0m\u001b[1;33m(\u001b[0m\u001b[0mfname\u001b[0m\u001b[1;33m,\u001b[0m \u001b[1;33m**\u001b[0m\u001b[0mkwargs\u001b[0m\u001b[1;33m)\u001b[0m\u001b[1;33m\u001b[0m\u001b[1;33m\u001b[0m\u001b[0m\n\u001b[0m\u001b[0;32m   3047\u001b[0m \u001b[1;33m\u001b[0m\u001b[0m\n",
      "\u001b[1;32m~\\anaconda3\\lib\\site-packages\\matplotlib\\backend_bases.py\u001b[0m in \u001b[0;36mprint_figure\u001b[1;34m(self, filename, dpi, facecolor, edgecolor, orientation, format, bbox_inches, pad_inches, bbox_extra_artists, backend, **kwargs)\u001b[0m\n\u001b[0;32m   2318\u001b[0m                 \u001b[1;32mwith\u001b[0m \u001b[0mcbook\u001b[0m\u001b[1;33m.\u001b[0m\u001b[0m_setattr_cm\u001b[0m\u001b[1;33m(\u001b[0m\u001b[0mself\u001b[0m\u001b[1;33m.\u001b[0m\u001b[0mfigure\u001b[0m\u001b[1;33m,\u001b[0m \u001b[0mdpi\u001b[0m\u001b[1;33m=\u001b[0m\u001b[0mdpi\u001b[0m\u001b[1;33m)\u001b[0m\u001b[1;33m:\u001b[0m\u001b[1;33m\u001b[0m\u001b[1;33m\u001b[0m\u001b[0m\n\u001b[1;32m-> 2319\u001b[1;33m                     result = print_method(\n\u001b[0m\u001b[0;32m   2320\u001b[0m                         \u001b[0mfilename\u001b[0m\u001b[1;33m,\u001b[0m\u001b[1;33m\u001b[0m\u001b[1;33m\u001b[0m\u001b[0m\n",
      "\u001b[1;32m~\\anaconda3\\lib\\site-packages\\matplotlib\\backend_bases.py\u001b[0m in \u001b[0;36mwrapper\u001b[1;34m(*args, **kwargs)\u001b[0m\n\u001b[0;32m   1647\u001b[0m \u001b[1;33m\u001b[0m\u001b[0m\n\u001b[1;32m-> 1648\u001b[1;33m         \u001b[1;32mreturn\u001b[0m \u001b[0mfunc\u001b[0m\u001b[1;33m(\u001b[0m\u001b[1;33m*\u001b[0m\u001b[0margs\u001b[0m\u001b[1;33m,\u001b[0m \u001b[1;33m**\u001b[0m\u001b[0mkwargs\u001b[0m\u001b[1;33m)\u001b[0m\u001b[1;33m\u001b[0m\u001b[1;33m\u001b[0m\u001b[0m\n\u001b[0m\u001b[0;32m   1649\u001b[0m \u001b[1;33m\u001b[0m\u001b[0m\n",
      "\u001b[1;32m~\\anaconda3\\lib\\site-packages\\matplotlib\\_api\\deprecation.py\u001b[0m in \u001b[0;36mwrapper\u001b[1;34m(*inner_args, **inner_kwargs)\u001b[0m\n\u001b[0;32m    414\u001b[0m                 **kwargs)\n\u001b[1;32m--> 415\u001b[1;33m         \u001b[1;32mreturn\u001b[0m \u001b[0mfunc\u001b[0m\u001b[1;33m(\u001b[0m\u001b[1;33m*\u001b[0m\u001b[0minner_args\u001b[0m\u001b[1;33m,\u001b[0m \u001b[1;33m**\u001b[0m\u001b[0minner_kwargs\u001b[0m\u001b[1;33m)\u001b[0m\u001b[1;33m\u001b[0m\u001b[1;33m\u001b[0m\u001b[0m\n\u001b[0m\u001b[0;32m    416\u001b[0m \u001b[1;33m\u001b[0m\u001b[0m\n",
      "\u001b[1;32m~\\anaconda3\\lib\\site-packages\\matplotlib\\backends\\backend_agg.py\u001b[0m in \u001b[0;36mprint_raw\u001b[1;34m(self, filename_or_obj, *args)\u001b[0m\n\u001b[0;32m    485\u001b[0m         \u001b[1;32mwith\u001b[0m \u001b[0mcbook\u001b[0m\u001b[1;33m.\u001b[0m\u001b[0mopen_file_cm\u001b[0m\u001b[1;33m(\u001b[0m\u001b[0mfilename_or_obj\u001b[0m\u001b[1;33m,\u001b[0m \u001b[1;34m\"wb\"\u001b[0m\u001b[1;33m)\u001b[0m \u001b[1;32mas\u001b[0m \u001b[0mfh\u001b[0m\u001b[1;33m:\u001b[0m\u001b[1;33m\u001b[0m\u001b[1;33m\u001b[0m\u001b[0m\n\u001b[1;32m--> 486\u001b[1;33m             \u001b[0mfh\u001b[0m\u001b[1;33m.\u001b[0m\u001b[0mwrite\u001b[0m\u001b[1;33m(\u001b[0m\u001b[0mrenderer\u001b[0m\u001b[1;33m.\u001b[0m\u001b[0mbuffer_rgba\u001b[0m\u001b[1;33m(\u001b[0m\u001b[1;33m)\u001b[0m\u001b[1;33m)\u001b[0m\u001b[1;33m\u001b[0m\u001b[1;33m\u001b[0m\u001b[0m\n\u001b[0m\u001b[0;32m    487\u001b[0m \u001b[1;33m\u001b[0m\u001b[0m\n",
      "\u001b[1;31mOSError\u001b[0m: [Errno 22] Invalid argument",
      "\nDuring handling of the above exception, another exception occurred:\n",
      "\u001b[1;31mCalledProcessError\u001b[0m                        Traceback (most recent call last)",
      "\u001b[1;32m~\\AppData\\Local\\Temp\\ipykernel_20032\\1020219416.py\u001b[0m in \u001b[0;36m<module>\u001b[1;34m\u001b[0m\n\u001b[0;32m     57\u001b[0m \u001b[0manim\u001b[0m \u001b[1;33m=\u001b[0m \u001b[0mFuncAnimation\u001b[0m\u001b[1;33m(\u001b[0m\u001b[0mfig\u001b[0m\u001b[1;33m,\u001b[0m \u001b[0manimate\u001b[0m\u001b[1;33m,\u001b[0m \u001b[0mnp\u001b[0m\u001b[1;33m.\u001b[0m\u001b[0marange\u001b[0m\u001b[1;33m(\u001b[0m\u001b[1;36m0\u001b[0m\u001b[1;33m,\u001b[0m \u001b[0mlen\u001b[0m\u001b[1;33m(\u001b[0m\u001b[0mdomain\u001b[0m\u001b[1;33m.\u001b[0m\u001b[0mtimes\u001b[0m\u001b[1;33m)\u001b[0m\u001b[1;33m)\u001b[0m\u001b[1;33m,\u001b[0m \u001b[0minterval\u001b[0m\u001b[1;33m=\u001b[0m\u001b[1;36m1\u001b[0m\u001b[1;33m,\u001b[0m \u001b[0mblit\u001b[0m\u001b[1;33m=\u001b[0m\u001b[1;32mTrue\u001b[0m\u001b[1;33m)\u001b[0m\u001b[1;33m\u001b[0m\u001b[1;33m\u001b[0m\u001b[0m\n\u001b[0;32m     58\u001b[0m \u001b[0mFFwriter\u001b[0m \u001b[1;33m=\u001b[0m \u001b[0manimation\u001b[0m\u001b[1;33m.\u001b[0m\u001b[0mFFMpegWriter\u001b[0m\u001b[1;33m(\u001b[0m\u001b[0mfps\u001b[0m\u001b[1;33m=\u001b[0m\u001b[1;36m24\u001b[0m\u001b[1;33m,\u001b[0m \u001b[0mcodec\u001b[0m\u001b[1;33m=\u001b[0m\u001b[1;34m\"libx264\"\u001b[0m\u001b[1;33m)\u001b[0m\u001b[1;33m\u001b[0m\u001b[1;33m\u001b[0m\u001b[0m\n\u001b[1;32m---> 59\u001b[1;33m \u001b[0manim\u001b[0m\u001b[1;33m.\u001b[0m\u001b[0msave\u001b[0m\u001b[1;33m(\u001b[0m\u001b[0mvid_file\u001b[0m\u001b[1;33m,\u001b[0m \u001b[0mwriter\u001b[0m\u001b[1;33m=\u001b[0m\u001b[0mFFwriter\u001b[0m\u001b[1;33m,\u001b[0m \u001b[0mdpi\u001b[0m\u001b[1;33m=\u001b[0m\u001b[1;36m100\u001b[0m\u001b[1;33m)\u001b[0m\u001b[1;33m\u001b[0m\u001b[1;33m\u001b[0m\u001b[0m\n\u001b[0m\u001b[0;32m     60\u001b[0m \u001b[1;33m\u001b[0m\u001b[0m\n\u001b[0;32m     61\u001b[0m \u001b[0mplt\u001b[0m\u001b[1;33m.\u001b[0m\u001b[0mshow\u001b[0m\u001b[1;33m(\u001b[0m\u001b[1;33m)\u001b[0m\u001b[1;33m\u001b[0m\u001b[1;33m\u001b[0m\u001b[0m\n",
      "\u001b[1;32m~\\anaconda3\\lib\\site-packages\\matplotlib\\animation.py\u001b[0m in \u001b[0;36msave\u001b[1;34m(self, filename, writer, fps, dpi, codec, bitrate, extra_args, metadata, extra_anim, savefig_kwargs, progress_callback)\u001b[0m\n\u001b[0;32m   1091\u001b[0m                         \u001b[0mprogress_callback\u001b[0m\u001b[1;33m(\u001b[0m\u001b[0mframe_number\u001b[0m\u001b[1;33m,\u001b[0m \u001b[0mtotal_frames\u001b[0m\u001b[1;33m)\u001b[0m\u001b[1;33m\u001b[0m\u001b[1;33m\u001b[0m\u001b[0m\n\u001b[0;32m   1092\u001b[0m                         \u001b[0mframe_number\u001b[0m \u001b[1;33m+=\u001b[0m \u001b[1;36m1\u001b[0m\u001b[1;33m\u001b[0m\u001b[1;33m\u001b[0m\u001b[0m\n\u001b[1;32m-> 1093\u001b[1;33m                 \u001b[0mwriter\u001b[0m\u001b[1;33m.\u001b[0m\u001b[0mgrab_frame\u001b[0m\u001b[1;33m(\u001b[0m\u001b[1;33m**\u001b[0m\u001b[0msavefig_kwargs\u001b[0m\u001b[1;33m)\u001b[0m\u001b[1;33m\u001b[0m\u001b[1;33m\u001b[0m\u001b[0m\n\u001b[0m\u001b[0;32m   1094\u001b[0m \u001b[1;33m\u001b[0m\u001b[0m\n\u001b[0;32m   1095\u001b[0m     \u001b[1;32mdef\u001b[0m \u001b[0m_step\u001b[0m\u001b[1;33m(\u001b[0m\u001b[0mself\u001b[0m\u001b[1;33m,\u001b[0m \u001b[1;33m*\u001b[0m\u001b[0margs\u001b[0m\u001b[1;33m)\u001b[0m\u001b[1;33m:\u001b[0m\u001b[1;33m\u001b[0m\u001b[1;33m\u001b[0m\u001b[0m\n",
      "\u001b[1;32m~\\anaconda3\\lib\\contextlib.py\u001b[0m in \u001b[0;36m__exit__\u001b[1;34m(self, typ, value, traceback)\u001b[0m\n\u001b[0;32m    135\u001b[0m                 \u001b[0mvalue\u001b[0m \u001b[1;33m=\u001b[0m \u001b[0mtyp\u001b[0m\u001b[1;33m(\u001b[0m\u001b[1;33m)\u001b[0m\u001b[1;33m\u001b[0m\u001b[1;33m\u001b[0m\u001b[0m\n\u001b[0;32m    136\u001b[0m             \u001b[1;32mtry\u001b[0m\u001b[1;33m:\u001b[0m\u001b[1;33m\u001b[0m\u001b[1;33m\u001b[0m\u001b[0m\n\u001b[1;32m--> 137\u001b[1;33m                 \u001b[0mself\u001b[0m\u001b[1;33m.\u001b[0m\u001b[0mgen\u001b[0m\u001b[1;33m.\u001b[0m\u001b[0mthrow\u001b[0m\u001b[1;33m(\u001b[0m\u001b[0mtyp\u001b[0m\u001b[1;33m,\u001b[0m \u001b[0mvalue\u001b[0m\u001b[1;33m,\u001b[0m \u001b[0mtraceback\u001b[0m\u001b[1;33m)\u001b[0m\u001b[1;33m\u001b[0m\u001b[1;33m\u001b[0m\u001b[0m\n\u001b[0m\u001b[0;32m    138\u001b[0m             \u001b[1;32mexcept\u001b[0m \u001b[0mStopIteration\u001b[0m \u001b[1;32mas\u001b[0m \u001b[0mexc\u001b[0m\u001b[1;33m:\u001b[0m\u001b[1;33m\u001b[0m\u001b[1;33m\u001b[0m\u001b[0m\n\u001b[0;32m    139\u001b[0m                 \u001b[1;31m# Suppress StopIteration *unless* it's the same exception that\u001b[0m\u001b[1;33m\u001b[0m\u001b[1;33m\u001b[0m\u001b[0m\n",
      "\u001b[1;32m~\\anaconda3\\lib\\site-packages\\matplotlib\\animation.py\u001b[0m in \u001b[0;36msaving\u001b[1;34m(self, fig, outfile, dpi, *args, **kwargs)\u001b[0m\n\u001b[0;32m    234\u001b[0m             \u001b[1;32myield\u001b[0m \u001b[0mself\u001b[0m\u001b[1;33m\u001b[0m\u001b[1;33m\u001b[0m\u001b[0m\n\u001b[0;32m    235\u001b[0m         \u001b[1;32mfinally\u001b[0m\u001b[1;33m:\u001b[0m\u001b[1;33m\u001b[0m\u001b[1;33m\u001b[0m\u001b[0m\n\u001b[1;32m--> 236\u001b[1;33m             \u001b[0mself\u001b[0m\u001b[1;33m.\u001b[0m\u001b[0mfinish\u001b[0m\u001b[1;33m(\u001b[0m\u001b[1;33m)\u001b[0m\u001b[1;33m\u001b[0m\u001b[1;33m\u001b[0m\u001b[0m\n\u001b[0m\u001b[0;32m    237\u001b[0m \u001b[1;33m\u001b[0m\u001b[0m\n\u001b[0;32m    238\u001b[0m \u001b[1;33m\u001b[0m\u001b[0m\n",
      "\u001b[1;32m~\\anaconda3\\lib\\site-packages\\matplotlib\\animation.py\u001b[0m in \u001b[0;36mfinish\u001b[1;34m(self)\u001b[0m\n\u001b[0;32m    340\u001b[0m             \u001b[0moverridden_cleanup\u001b[0m\u001b[1;33m(\u001b[0m\u001b[1;33m)\u001b[0m\u001b[1;33m\u001b[0m\u001b[1;33m\u001b[0m\u001b[0m\n\u001b[0;32m    341\u001b[0m         \u001b[1;32melse\u001b[0m\u001b[1;33m:\u001b[0m\u001b[1;33m\u001b[0m\u001b[1;33m\u001b[0m\u001b[0m\n\u001b[1;32m--> 342\u001b[1;33m             \u001b[0mself\u001b[0m\u001b[1;33m.\u001b[0m\u001b[0m_cleanup\u001b[0m\u001b[1;33m(\u001b[0m\u001b[1;33m)\u001b[0m  \u001b[1;31m# Inline _cleanup() once cleanup() is removed.\u001b[0m\u001b[1;33m\u001b[0m\u001b[1;33m\u001b[0m\u001b[0m\n\u001b[0m\u001b[0;32m    343\u001b[0m \u001b[1;33m\u001b[0m\u001b[0m\n\u001b[0;32m    344\u001b[0m     \u001b[1;32mdef\u001b[0m \u001b[0mgrab_frame\u001b[0m\u001b[1;33m(\u001b[0m\u001b[0mself\u001b[0m\u001b[1;33m,\u001b[0m \u001b[1;33m**\u001b[0m\u001b[0msavefig_kwargs\u001b[0m\u001b[1;33m)\u001b[0m\u001b[1;33m:\u001b[0m\u001b[1;33m\u001b[0m\u001b[1;33m\u001b[0m\u001b[0m\n",
      "\u001b[1;32m~\\anaconda3\\lib\\site-packages\\matplotlib\\animation.py\u001b[0m in \u001b[0;36m_cleanup\u001b[1;34m(self)\u001b[0m\n\u001b[0;32m    371\u001b[0m                 \"MovieWriter stderr:\\n%s\", err)\n\u001b[0;32m    372\u001b[0m         \u001b[1;32mif\u001b[0m \u001b[0mself\u001b[0m\u001b[1;33m.\u001b[0m\u001b[0m_proc\u001b[0m\u001b[1;33m.\u001b[0m\u001b[0mreturncode\u001b[0m\u001b[1;33m:\u001b[0m\u001b[1;33m\u001b[0m\u001b[1;33m\u001b[0m\u001b[0m\n\u001b[1;32m--> 373\u001b[1;33m             raise subprocess.CalledProcessError(\n\u001b[0m\u001b[0;32m    374\u001b[0m                 self._proc.returncode, self._proc.args, out, err)\n\u001b[0;32m    375\u001b[0m \u001b[1;33m\u001b[0m\u001b[0m\n",
      "\u001b[1;31mCalledProcessError\u001b[0m: Command '['C:/Users/nerpa/Downloads/ffmpeg-6.0-essentials_build/bin/ffmpeg.exe', '-f', 'rawvideo', '-vcodec', 'rawvideo', '-s', '640x480', '-pix_fmt', 'rgba', '-r', '24', '-loglevel', 'error', '-i', 'pipe:', '-vcodec', 'libx264', '-y', 'viz_test2.mp3']' returned non-zero exit status 1."
     ]
    },
    {
     "data": {
      "image/png": "[encoded data removed]",
      "text/plain": [
       "<Figure size 640x480 with 4 Axes>"
      ]
     },
     "metadata": {},
     "output_type": "display_data"
    }
   ],
   "source": [
    "### plot strong-form fields\n",
    "\n",
    "import matplotlib.pyplot as plt\n",
    "from mpl_toolkits.axes_grid1 import make_axes_locatable\n",
    "from matplotlib import animation\n",
    "from matplotlib.animation import FuncAnimation\n",
    "from IPython.display import HTML\n",
    "plt.rcParams['animation.ffmpeg_path'] = 'C:/Users/nerpa/Downloads/ffmpeg-6.0-essentials_build/bin/ffmpeg.exe'\n",
    "\n",
    "vid_file = 'viz_test2.mp3'\n",
    "\n",
    "zero_arr = [0] * srd.n_dimensions\n",
    "constant_weight = Weight(m=zero_arr, q=zero_arr, k=zero_arr) # should evaluate to 1 everywhere\n",
    "\n",
    "def make_residual_arr(equation, domain, kc):\n",
    "    arrs = [c*srd.make_tw_arr(term, constant_weight, [domain], kc, by_parts=False) \n",
    "            for term, c in zip(equation.term_list, equation.coeffs)]\n",
    "    return sum(arrs)[..., 0]\n",
    "\n",
    "domain = srd.domains[0]\n",
    "kc = None # can select x, y components\n",
    "\n",
    "term1 = srd.libs[0].terms[find_term(libs[0].terms, 'rho')]\n",
    "tw_arr = srd.make_tw_arr(term1, constant_weight, [domain], kc, by_parts=False)[..., 0]\n",
    "fig, (ax1, ax2) = plt.subplots(2, 1)\n",
    "im1 = ax1.imshow(tw_arr[:, :, 0])\n",
    "#colorbar\n",
    "divider = make_axes_locatable(ax1)\n",
    "cax1 = divider.append_axes(\"right\", size=\"5%\", pad=0.05)\n",
    "cb1 = plt.colorbar(im1, cax=cax1)\n",
    "\n",
    "term2 = srd.libs[0].terms[find_term(libs[0].terms, 'dj rho[v_j]')]\n",
    "tw_arr2 = srd.make_tw_arr(term2, constant_weight, [domain], kc, by_parts=False)[..., 0]\n",
    "im2 = ax2.imshow(tw_arr2[:, :, 0])\n",
    "#colorbar\n",
    "divider2 = make_axes_locatable(ax2)\n",
    "cax2 = divider2.append_axes(\"right\", size=\"5%\", pad=0.05)\n",
    "cb2 = plt.colorbar(im2, cax=cax2)\n",
    "\n",
    "ax1.set_ylabel(str(term1))\n",
    "ax2.set_ylabel(str(term2))\n",
    "\n",
    "def animate(i):\n",
    "    if i % 10 == 0:\n",
    "        print(f\"frame={i}\")\n",
    "    im1.set_array(tw_arr[:, :, i])\n",
    "    im2.set_array(tw_arr2[:, :, i])\n",
    "    vmax1 = np.max(tw_arr[:, :, i])\n",
    "    vmin1 = np.min(tw_arr[:, :, i])\n",
    "    vmax2 = np.max(tw_arr2[:, :, i])\n",
    "    vmin2 = np.min(tw_arr2[:, :, i])\n",
    "    im1.set_clim(vmin1, vmax1)\n",
    "    im2.set_clim(vmin2, vmax2)\n",
    "\n",
    "    return im1, im2\n",
    "\n",
    "anim = FuncAnimation(fig, animate, np.arange(0, len(domain.times)), interval=1, blit=True)\n",
    "FFwriter = animation.FFMpegWriter(fps=24, codec=\"libx264\")\n",
    "anim.save(vid_file, writer=FFwriter, dpi=100)\n",
    "\n",
    "plt.show()"
   ]
  },
  {
   "cell_type": "code",
   "execution_count": null,
   "id": "8d377103-0559-4802-991c-00c8e23190ae",
   "metadata": {},
   "outputs": [],
   "source": [
    "from matplotlib import animation\n",
    "from matplotlib.animation import FuncAnimation\n",
    "from IPython.display import HTML\n",
    "plt.rcParams['animation.ffmpeg_path'] = 'C:/Users/nerpa/Downloads/ffmpeg-6.0-essentials_build/bin/ffmpeg.exe'\n",
    "\n",
    "vid_file = 'viz_test.mp4'\n",
    "\n",
    "def animate(i):\n",
    "    if i % 10 == 0:\n",
    "        print(f\"frame={i}\")\n",
    "    ax.imshow(srd.cg_dict[cgp, tuple(obs_dims), domain][i])\n",
    "    return ax,\n",
    "\n",
    "anim = FuncAnimation(fig, animate, np.arange(0, len(domain.times)), interval=1, blit=True)\n",
    "FFwriter = animation.FFMpegWriter(fps=24, codec=\"libx264\")\n",
    "anim.save(vid_file, writer=FFwriter, dpi=100)"
   ]
  },
  {
   "cell_type": "code",
   "execution_count": 6,
   "id": "cb571005",
   "metadata": {},
   "outputs": [
    {
     "name": "stdout",
     "output_type": "stream",
     "text": [
      "[Term 3] 0.9926640242191918 * dt rho. (Char. size: 127.38429347903242)\n",
      "[Term 11] 1.0 * dj rho[v_j]. (Char. size: 37.15183572830772)\n",
      "Model residual: 35388.06041833102\n"
     ]
    }
   ],
   "source": [
    "continuity_terms = ['dt rho', 'dj rho[v_j]']\n",
    "#continuity_terms = ['1', 'rho', 'rho * rho']\n",
    "#continuity_terms = ['rho * rho[v_j * v_j]', 'rho[v_j] * rho[v_j]', 'rho']\n",
    "#continuity_terms = ['rho * dt rho', 'rho * dj rho[v_j]']\n",
    "#continuity_terms = ['dt rho * rho', 'rho * rho * dj v_j', 'dj rho * rho * v_j']\n",
    "#continuity_terms = ['dt rho', 'dj rv_j']\n",
    "col_numbers = [find_term(libs[0].terms, name) for name in continuity_terms]\n",
    "Xi, lambd = regress(libs[0].Q, col_numbers)\n",
    "for i in range(len(Xi)):\n",
    "    if Xi[i]!=0:\n",
    "        print(f\"[Term {i}] {Xi[i]} * {libs[0].terms[i]}. (Char. size: {libs[0].col_weights[i]})\")\n",
    "print(\"Model residual:\", lambd)"
   ]
  },
  {
   "cell_type": "code",
   "execution_count": 8,
   "id": "c37e559b-7a67-4336-aa16-dbff992d1210",
   "metadata": {},
   "outputs": [
    {
     "name": "stdout",
     "output_type": "stream",
     "text": [
      "[[ 426399.432 -117629.328 -347477.276 -185959.026   -1335.408   19657.542\n",
      "  -129532.865 -477933.521  -17532.697]\n",
      " [ -53971.023  -25467.455   23123.166   81551.39   -30894.691   96931.228\n",
      "    39849.469   29409.035    6965.606]]\n",
      "[ 163492.687  -85458.413 -154090.245  -13287.714  -31575.749  106956.574\n",
      "  -26212.292 -214337.061   -1976.07 ]\n",
      "(-0.6997746610668591, 7.754448403691412e-72)\n",
      "2.761917413140266\n"
     ]
    }
   ],
   "source": [
    "print(np.vstack([libs[1].Q[1:10, 9],libs[1].Q[1:10, 17]]))\n",
    "print(0.51*libs[1].Q[1:10, 9]+libs[1].Q[1:10, 17])\n",
    "print(pearsonr(libs[1].Q[:, 9], libs[1].Q[:, 17]))\n",
    "print(np.mean(np.abs(libs[1].Q[:, 9])/np.mean(np.abs(libs[1].Q[:, 17]))))"
   ]
  },
  {
   "cell_type": "code",
   "execution_count": 9,
   "id": "b7d4d45f-bf60-4547-bdee-27103f829a90",
   "metadata": {},
   "outputs": [
    {
     "name": "stdout",
     "output_type": "stream",
     "text": [
      "[9.288e+02 9.233e+02 6.275e+05 8.058e+03 1.212e+07 3.282e+05 3.891e+07\n",
      " 9.470e+02 5.922e+05 7.841e+03 3.189e+05 2.743e+04 4.160e+07 1.143e+06\n",
      " 1.324e+08 2.666e+04 1.812e+03 2.252e+06 1.656e+06 8.179e+04 5.880e+06\n",
      " 1.246e+02 1.822e+03 6.344e+03 1.289e+05]\n"
     ]
    }
   ],
   "source": [
    "print(np.linalg.norm(libs[0].Q[:, :], axis=0)/libs[0].col_weights)"
   ]
  },
  {
   "cell_type": "code",
   "execution_count": 1,
   "id": "88a811d7",
   "metadata": {},
   "outputs": [
    {
     "ename": "NameError",
     "evalue": "name 'find_term' is not defined",
     "output_type": "error",
     "traceback": [
      "\u001b[1;31m---------------------------------------------------------------------------\u001b[0m",
      "\u001b[1;31mNameError\u001b[0m                                 Traceback (most recent call last)",
      "\u001b[1;32m~\\AppData\\Local\\Temp\\ipykernel_21924\\1161368804.py\u001b[0m in \u001b[0;36m<module>\u001b[1;34m\u001b[0m\n\u001b[0;32m      4\u001b[0m \u001b[1;31m#burger_terms = ['rho[v_i]', 'rho[v_i * v_j * v_j]']\u001b[0m\u001b[1;33m\u001b[0m\u001b[1;33m\u001b[0m\u001b[1;33m\u001b[0m\u001b[0m\n\u001b[0;32m      5\u001b[0m \u001b[1;31m#burger_terms = ['rho * dt rv_i', 'dj rv_i * rv_j']\u001b[0m\u001b[1;33m\u001b[0m\u001b[1;33m\u001b[0m\u001b[1;33m\u001b[0m\u001b[0m\n\u001b[1;32m----> 6\u001b[1;33m \u001b[0mcol_numbers\u001b[0m \u001b[1;33m=\u001b[0m \u001b[1;33m[\u001b[0m\u001b[0mfind_term\u001b[0m\u001b[1;33m(\u001b[0m\u001b[0mlibs\u001b[0m\u001b[1;33m[\u001b[0m\u001b[1;36m1\u001b[0m\u001b[1;33m]\u001b[0m\u001b[1;33m.\u001b[0m\u001b[0mterms\u001b[0m\u001b[1;33m,\u001b[0m \u001b[0mname\u001b[0m\u001b[1;33m)\u001b[0m \u001b[1;32mfor\u001b[0m \u001b[0mname\u001b[0m \u001b[1;32min\u001b[0m \u001b[0mburger_terms\u001b[0m\u001b[1;33m]\u001b[0m\u001b[1;33m\u001b[0m\u001b[1;33m\u001b[0m\u001b[0m\n\u001b[0m\u001b[0;32m      7\u001b[0m \u001b[0mXi\u001b[0m\u001b[1;33m,\u001b[0m \u001b[0mlambd\u001b[0m \u001b[1;33m=\u001b[0m \u001b[0mregress\u001b[0m\u001b[1;33m(\u001b[0m\u001b[0mlibs\u001b[0m\u001b[1;33m[\u001b[0m\u001b[1;36m1\u001b[0m\u001b[1;33m]\u001b[0m\u001b[1;33m.\u001b[0m\u001b[0mQ\u001b[0m\u001b[1;33m,\u001b[0m \u001b[0mcol_numbers\u001b[0m\u001b[1;33m)\u001b[0m\u001b[1;33m\u001b[0m\u001b[1;33m\u001b[0m\u001b[0m\n\u001b[0;32m      8\u001b[0m \u001b[1;32mfor\u001b[0m \u001b[0mi\u001b[0m \u001b[1;32min\u001b[0m \u001b[0mrange\u001b[0m\u001b[1;33m(\u001b[0m\u001b[0mlen\u001b[0m\u001b[1;33m(\u001b[0m\u001b[0mXi\u001b[0m\u001b[1;33m)\u001b[0m\u001b[1;33m)\u001b[0m\u001b[1;33m:\u001b[0m\u001b[1;33m\u001b[0m\u001b[1;33m\u001b[0m\u001b[0m\n",
      "\u001b[1;32m~\\AppData\\Local\\Temp\\ipykernel_21924\\1161368804.py\u001b[0m in \u001b[0;36m<listcomp>\u001b[1;34m(.0)\u001b[0m\n\u001b[0;32m      4\u001b[0m \u001b[1;31m#burger_terms = ['rho[v_i]', 'rho[v_i * v_j * v_j]']\u001b[0m\u001b[1;33m\u001b[0m\u001b[1;33m\u001b[0m\u001b[1;33m\u001b[0m\u001b[0m\n\u001b[0;32m      5\u001b[0m \u001b[1;31m#burger_terms = ['rho * dt rv_i', 'dj rv_i * rv_j']\u001b[0m\u001b[1;33m\u001b[0m\u001b[1;33m\u001b[0m\u001b[1;33m\u001b[0m\u001b[0m\n\u001b[1;32m----> 6\u001b[1;33m \u001b[0mcol_numbers\u001b[0m \u001b[1;33m=\u001b[0m \u001b[1;33m[\u001b[0m\u001b[0mfind_term\u001b[0m\u001b[1;33m(\u001b[0m\u001b[0mlibs\u001b[0m\u001b[1;33m[\u001b[0m\u001b[1;36m1\u001b[0m\u001b[1;33m]\u001b[0m\u001b[1;33m.\u001b[0m\u001b[0mterms\u001b[0m\u001b[1;33m,\u001b[0m \u001b[0mname\u001b[0m\u001b[1;33m)\u001b[0m \u001b[1;32mfor\u001b[0m \u001b[0mname\u001b[0m \u001b[1;32min\u001b[0m \u001b[0mburger_terms\u001b[0m\u001b[1;33m]\u001b[0m\u001b[1;33m\u001b[0m\u001b[1;33m\u001b[0m\u001b[0m\n\u001b[0m\u001b[0;32m      7\u001b[0m \u001b[0mXi\u001b[0m\u001b[1;33m,\u001b[0m \u001b[0mlambd\u001b[0m \u001b[1;33m=\u001b[0m \u001b[0mregress\u001b[0m\u001b[1;33m(\u001b[0m\u001b[0mlibs\u001b[0m\u001b[1;33m[\u001b[0m\u001b[1;36m1\u001b[0m\u001b[1;33m]\u001b[0m\u001b[1;33m.\u001b[0m\u001b[0mQ\u001b[0m\u001b[1;33m,\u001b[0m \u001b[0mcol_numbers\u001b[0m\u001b[1;33m)\u001b[0m\u001b[1;33m\u001b[0m\u001b[1;33m\u001b[0m\u001b[0m\n\u001b[0;32m      8\u001b[0m \u001b[1;32mfor\u001b[0m \u001b[0mi\u001b[0m \u001b[1;32min\u001b[0m \u001b[0mrange\u001b[0m\u001b[1;33m(\u001b[0m\u001b[0mlen\u001b[0m\u001b[1;33m(\u001b[0m\u001b[0mXi\u001b[0m\u001b[1;33m)\u001b[0m\u001b[1;33m)\u001b[0m\u001b[1;33m:\u001b[0m\u001b[1;33m\u001b[0m\u001b[1;33m\u001b[0m\u001b[0m\n",
      "\u001b[1;31mNameError\u001b[0m: name 'find_term' is not defined"
     ]
    }
   ],
   "source": [
    "#burger_terms = ['dt rho[v_i]', 'dj rho[v_i * v_j]']\n",
    "#burger_terms = ['dt rho[v_i]', 'dj rho[v_i * v_j]', 'di rho[v_j * v_j]']#, 'dj^2 rho[v_i]']# 'dj^2 rho[v_i]']\n",
    "burger_terms = ['rho * rho[v_i]', 'rho[v_i]']\n",
    "#burger_terms = ['rho[v_i]', 'rho[v_i * v_j * v_j]']\n",
    "#burger_terms = ['rho * dt rv_i', 'dj rv_i * rv_j']\n",
    "col_numbers = [find_term(libs[1].terms, name) for name in burger_terms]\n",
    "Xi, lambd = regress(libs[1].Q, col_numbers)\n",
    "for i in range(len(Xi)):\n",
    "    if Xi[i]!=0:\n",
    "        print(f\"[Term {i}] {Xi[i]} * {libs[1].terms[i]}. (Char. size: {libs[1].col_weights[i]})\")\n",
    "print(\"Model residual:\", lambd)"
   ]
  },
  {
   "cell_type": "code",
   "execution_count": null,
   "id": "870e63df",
   "metadata": {},
   "outputs": [],
   "source": [
    "rho dt^2 v = 10^-4 dt rho * grad rho"
   ]
  },
  {
   "cell_type": "code",
   "execution_count": 144,
   "id": "0315e368-2cfd-41a1-a34a-7e3ae104139e",
   "metadata": {},
   "outputs": [
    {
     "ename": "SyntaxError",
     "evalue": "invalid syntax (3756173767.py, line 1)",
     "output_type": "error",
     "traceback": [
      "\u001b[1;36m  File \u001b[1;32m\"C:\\Users\\nerpa\\AppData\\Local\\Temp\\ipykernel_4024\\3756173767.py\"\u001b[1;36m, line \u001b[1;32m1\u001b[0m\n\u001b[1;33m    [0.01 s]\u001b[0m\n\u001b[1;37m          ^\u001b[0m\n\u001b[1;31mSyntaxError\u001b[0m\u001b[1;31m:\u001b[0m invalid syntax\n"
     ]
    }
   ],
   "source": [
    "### (1, 1) - col size norm, long trajectory, larger domains, sigma=0.04 ###\n",
    "[0.01 s]\n",
    "Identified model: 0.9999941767033532 * dj rho[v_j] + 1.0 * dt rho = 0 (order 3, residual 9.91e-08)\n",
    "[0.12 s]\n",
    "Identified model: 1.0 * dt rho + -0.0019393012307609143 * rho * dt rho + 9.351022221012353e-07 * rho * rho * dt rho = 0 (order 5, residual 2.63e-06)\n",
    "[0.24 s]\n",
    "Identified model: 1.0 * 1 + -0.0009916867285711317 * rho + 1.1697095194982046e-06 * rho * rho[v_j * v_j] + -0.00117931738281563 * rho[v_j * v_j] = 0 (order 5, residual 1.44e-05)\n",
    "[0.36 s]\n",
    "Identified model: 1.0 * dj^2 rho + -0.46760700423159485 * dt^2 rho + -0.0009632186103852298 * rho * dj^2 rho + 0.00045384794082332236 * rho * dt^2 rho = 0 (order 5, residual 2.70e-05)\n",
    "[0.60 s]\n",
    "Identified model: 1.0 * di rho + -0.0019257584194597244 * rho * di rho + 9.238594430200825e-07 * rho * rho * di rho = 0 (order 5, residual 2.27e-06)\n",
    "[0.60 s]\n",
    "Identified model: 1.0 * dt^2 rho + -0.001935212535739339 * rho * dt^2 rho + 9.290322822931163e-07 * rho * rho * dt^2 rho = 0 (order 6, residual 5.65e-06)\n",
    "[1.18 s]\n",
    "Identified model: 1.0 * 1 + -0.0012907457494940621 * rho + 2.855577751197353e-13 * rho * rho * rho * rho = 0 (order 6, residual 8.56e-06)\n",
    "[1.70 s]\n",
    "Identified model: 1.0 * dt dj^2 rho + -0.22515238860762746 * dt^3 rho + -0.0009599756835766671 * rho * dt dj^2 rho + 0.00021603618213135008 * rho * dt^3 rho = 0 (order 6, residual 2.04e-05)\n",
    "[2.22 s]\n",
    "Identified model: 1.0 * dt rho[v_j * v_j] + 0.0005155153703625918 * dt^3 rho + -0.0009685487841685498 * rho * dt rho[v_j * v_j] + -4.939861238044323e-07 * rho * dt^3 rho = 0 (order 6, residual 3.79e-05)\n",
    "[2.67 s]\n",
    "Identified model: 1.0 * dt rho + -0.32875738821901135 * dt rho[v_j * v_j] + -0.0009547248510533903 * rho * dt rho + 0.00031922445963196937 * rho * dt rho[v_j * v_j] = 0 (order 6, residual 3.05e-05)\n",
    "[4.12 s]\n",
    "Identified model: 1.0 * dt di rho + -0.0019356351920459833 * rho * dt di rho + 9.329988764183588e-07 * rho * rho * dt di rho = 0 (order 6, residual 1.79e-06)\n",
    "[8.06 s]\n",
    "Identified model: 1.0 * dt rho[v_i] + -0.0019280208944151233 * rho * dt rho[v_i] + 9.251916968812042e-07 * rho * rho * dt rho[v_i] = 0 (order 6, residual 2.79e-06)\n",
    "[11.81 s]\n",
    "Identified model: 1.8196598972472693e-09 * rho * rho * rho * rho[v_i] + -2.824835613618127e-06 * rho * rho * rho[v_i] + 1.0 * rho[v_i] = 0 (order 6, residual 4.71e-06)\n",
    "[15.31 s]\n",
    "Identified model: 1.0 * di rho + 0.37610159292712514 * dj rho[v_i * v_j] + 0.3933421416870819 * dt rho[v_i] + -0.0009813596765878676 * rho * di rho + -0.00036626024192678794 * rho * dj rho[v_i * v_j] + -0.0003857345839495145 * rho * dt rho[v_i] = 0 (order 6, residual 1.34e-05)\n",
    "[18.70 s]\n",
    "Identified model: 6.924968913187393e-07 * rho * rho * rho[v_i] + -0.0009744242046365395 * rho * rho[v_i * v_j * v_j] + 1.0 * rho[v_i * v_j * v_j] + -0.739382581026262 * rho[v_i] = 0 (order 6, residual 1.37e-05)\n",
    "[21.98 s]\n",
    "Identified model: 1.0 * di dj^2 rho + -0.3817391735900403 * dt^2 di rho + -0.000995404392102315 * rho * di dj^2 rho + 0.00037691444729516017 * rho * dt^2 di rho = 0 (order 6, residual 3.58e-05)"
   ]
  },
  {
   "cell_type": "code",
   "execution_count": null,
   "id": "12635505-ad33-4065-ab38-dc25f9510b1f",
   "metadata": {},
   "outputs": [],
   "source": [
    "### sigma = 0.01 ###\n",
    "[0.02 s]\n",
    "Identified model: 0.9999999959627874 * dj rho[v_j] + 1.0 * dt rho = 0 (order 3, residual 6.34e-12)\n",
    "[1.35 s]\n",
    "Identified model: 1.0 * di rho + -0.0018633277640221532 * rho * di rho + 7.002008258355073e-07 * rho * rho * di rho = 0 (order 5, residual 4.90e-05)\n",
    "[2.58 s]\n",
    "Identified model: -0.9666862875871163 * rho[v_i] * rho[v_j * v_j] + 1.0 * rho[v_j] * rho[v_i * v_j] = 0 (order 5, residual 7.85e-05)\n",
    "[2.00 s]\n",
    "Identified model: 3.9293130942914495e-07 * rho * rho * rho[v_j * v_j] + -0.0013749461512638003 * rho * rho[v_j * v_j] + 1.0 * rho[v_j * v_j] = 0 (order 6, residual 2.39e-05)\n",
    "[3.89 s]\n",
    "Identified model: -0.0006114367940185144 * rho * rho[v_j * v_j] + 4.417065809582353e-07 * rho * rho[v_j] * rho[v_j] + 1.0 * rho[v_j * v_j] + -0.0008597016181151673 * rho[v_j] * rho[v_j] = 0 (order 6, residual 4.10e-05)\n",
    "[5.63 s]\n",
    "Identified model: 1.0 * 1 + -2.756684842649201e-07 * dj^2 rho + 6.255878773278568e-10 * rho * dj^2 rho + -1.7314136727527456e-13 * rho * rho * dj^2 rho = 0 (order 6, residual 3.79e-05)\n",
    "[7.41 s]\n",
    "Identified model: -0.00012408079785366727 * dt^2 rho + 2.4118467865909007e-07 * rho * dt^2 rho + -8.85167280410579e-11 * rho * rho * dt^2 rho + -0.0007071048985563922 * rho * rho[v_j * v_j] + 1.0 * rho[v_j * v_j] = 0 (order 6, residual 3.46e-05)\n",
    "[9.14 s]\n",
    "Identified model: 4.1105500057476617e-10 * rho * rho * rho * rho[v_i] + -1.2071852387395117e-06 * rho * rho * rho[v_i] + 1.0 * rho[v_i] = 0 (order 6, residual 3.62e-05)\n",
    "[17.92 s]\n",
    "Identified model: 1.0 * rho[v_i * v_j * v_j] + 4.959952200079346e-07 * rho[v_i] * rho[v_j] * rho[v_j] + -0.0015942484232388517 * rho[v_j] * rho[v_i * v_j] = 0 (order 6, residual 6.14e-05)\n",
    "[26.20 s]\n",
    "Identified model: 0.6415296986083273 * dj rho[v_i * v_j] + 1.0 * dt rho[v_i] + -0.00048261110036053247 * rho * dj rho[v_i * v_j] + -0.0012608752996658289 * rho * dt rho[v_i] + 3.2533737106148037e-07 * rho * rho * dt rho[v_i] = 0 (order 6, residual 4.06e-05)"
   ]
  },
  {
   "cell_type": "code",
   "execution_count": null,
   "id": "f6c53ab9-b108-4c35-865d-1188d4f4ddd8",
   "metadata": {},
   "outputs": [],
   "source": [
    "### (3, 0.3)\n",
    "0.998 * dj rho[v_i * v_j] + 1.0 * dt rho[v_i] + 1.10e-05 * di rho^2 = 0\n",
    "### (3, 1)\n",
    "Identified model: 0.993633815171316 * dt dj rho[v_i * v_j] + 1.0 * dt^2 rho[v_i] + -0.0004986445654309399 * rho * dt^2 rho[v_i] + -0.0005185104934969214 * rho[v_i] * dt dj rho[v_j] = 0 (order 6, residual 3.45e-05)"
   ]
  }
 ],
 "metadata": {
  "kernelspec": {
   "display_name": "Python 3 (ipykernel)",
   "language": "python",
   "name": "python3"
  },
  "language_info": {
   "codemirror_mode": {
    "name": "ipython",
    "version": 3
   },
   "file_extension": ".py",
   "mimetype": "text/x-python",
   "name": "python",
   "nbconvert_exporter": "python",
   "pygments_lexer": "ipython3",
   "version": "3.12.7"
  }
 },
 "nbformat": 4,
 "nbformat_minor": 5
}
