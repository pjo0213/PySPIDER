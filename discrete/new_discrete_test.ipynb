{
 "cells": [
  {
   "cell_type": "code",
   "execution_count": 1,
   "id": "e9866012",
   "metadata": {
    "pycharm": {
     "name": "#%%\n"
    }
   },
   "outputs": [],
   "source": [
    "import numpy as np\n",
    "\n",
    "from commons.weight import *\n",
    "from utils import save, load\n",
    "from library import *\n",
    "from process_library_terms import *"
   ]
  },
  {
   "cell_type": "code",
   "execution_count": 2,
   "id": "6cfca3bf",
   "metadata": {
    "pycharm": {
     "name": "#%%\n"
    }
   },
   "outputs": [
    {
     "ename": "FileNotFoundError",
     "evalue": "[Errno 2] No such file or directory: 'gas_1000_4_0.mat'",
     "output_type": "error",
     "traceback": [
      "\u001B[1;31m---------------------------------------------------------------------------\u001B[0m",
      "\u001B[1;31mFileNotFoundError\u001B[0m                         Traceback (most recent call last)",
      "File \u001B[1;32mD:\\ProgramData\\Anaconda3\\envs\\spider\\lib\\site-packages\\scipy\\io\\matlab\\mio.py:39\u001B[0m, in \u001B[0;36m_open_file\u001B[1;34m(file_like, appendmat, mode)\u001B[0m\n\u001B[0;32m     38\u001B[0m \u001B[38;5;28;01mtry\u001B[39;00m:\n\u001B[1;32m---> 39\u001B[0m     \u001B[38;5;28;01mreturn\u001B[39;00m \u001B[38;5;28;43mopen\u001B[39;49m\u001B[43m(\u001B[49m\u001B[43mfile_like\u001B[49m\u001B[43m,\u001B[49m\u001B[43m \u001B[49m\u001B[43mmode\u001B[49m\u001B[43m)\u001B[49m, \u001B[38;5;28;01mTrue\u001B[39;00m\n\u001B[0;32m     40\u001B[0m \u001B[38;5;28;01mexcept\u001B[39;00m \u001B[38;5;167;01mIOError\u001B[39;00m \u001B[38;5;28;01mas\u001B[39;00m e:\n\u001B[0;32m     41\u001B[0m     \u001B[38;5;66;03m# Probably \"not found\"\u001B[39;00m\n",
      "\u001B[1;31mFileNotFoundError\u001B[0m: [Errno 2] No such file or directory: 'gas_1000_4_0.mat'",
      "\nDuring handling of the above exception, another exception occurred:\n",
      "\u001B[1;31mFileNotFoundError\u001B[0m                         Traceback (most recent call last)",
      "Input \u001B[1;32mIn [2]\u001B[0m, in \u001B[0;36m<cell line: 1>\u001B[1;34m()\u001B[0m\n\u001B[1;32m----> 1\u001B[0m \u001B[43mget_ipython\u001B[49m\u001B[43m(\u001B[49m\u001B[43m)\u001B[49m\u001B[38;5;241;43m.\u001B[39;49m\u001B[43mrun_cell_magic\u001B[49m\u001B[43m(\u001B[49m\u001B[38;5;124;43m'\u001B[39;49m\u001B[38;5;124;43mprun\u001B[39;49m\u001B[38;5;124;43m'\u001B[39;49m\u001B[43m,\u001B[49m\u001B[43m \u001B[49m\u001B[38;5;124;43m'\u001B[39;49m\u001B[38;5;124;43m# profiling\u001B[39;49m\u001B[38;5;124;43m'\u001B[39;49m\u001B[43m,\u001B[49m\u001B[43m \u001B[49m\u001B[38;5;124;43m\"\u001B[39;49m\u001B[38;5;130;43;01m\\n\u001B[39;49;00m\u001B[38;5;124;43m### load data\u001B[39;49m\u001B[38;5;130;43;01m\\n\u001B[39;49;00m\u001B[38;5;124;43m# vicsek:\u001B[39;49m\u001B[38;5;130;43;01m\\n\u001B[39;49;00m\u001B[38;5;124;43m#arrays.npy - normal. arrays2.npy - very few particles. arrays3.npy - high density. arrays4.npy - high density, low noise.\u001B[39;49m\u001B[38;5;130;43;01m\\n\u001B[39;49;00m\u001B[38;5;124;43m#arrays5.npy - small domain, one clump\u001B[39;49m\u001B[38;5;130;43;01m\\n\u001B[39;49;00m\u001B[38;5;124;43m#datasets = [\u001B[39;49m\u001B[38;5;124;43m'\u001B[39;49m\u001B[38;5;124;43marrays.npy\u001B[39;49m\u001B[38;5;124;43m'\u001B[39;49m\u001B[38;5;124;43m, \u001B[39;49m\u001B[38;5;124;43m'\u001B[39;49m\u001B[38;5;124;43marrays2.npy\u001B[39;49m\u001B[38;5;124;43m'\u001B[39;49m\u001B[38;5;124;43m, \u001B[39;49m\u001B[38;5;124;43m'\u001B[39;49m\u001B[38;5;124;43marrays3.npy\u001B[39;49m\u001B[38;5;124;43m'\u001B[39;49m\u001B[38;5;124;43m]#, \u001B[39;49m\u001B[38;5;124;43m'\u001B[39;49m\u001B[38;5;124;43marrays5.npy\u001B[39;49m\u001B[38;5;124;43m'\u001B[39;49m\u001B[38;5;124;43m]\u001B[39;49m\u001B[38;5;130;43;01m\\n\u001B[39;49;00m\u001B[38;5;124;43m#datasets = [\u001B[39;49m\u001B[38;5;124;43m'\u001B[39;49m\u001B[38;5;124;43mdata_bu.npy\u001B[39;49m\u001B[38;5;124;43m'\u001B[39;49m\u001B[38;5;124;43m] # burgers\u001B[39;49m\u001B[38;5;124;43m'\u001B[39;49m\u001B[38;5;124;43m equation data\u001B[39;49m\u001B[38;5;130;43;01m\\n\u001B[39;49;00m\u001B[38;5;124;43m## it may be interesting to reintroduce regression on multiple datasets,\u001B[39;49m\u001B[38;5;130;43;01m\\n\u001B[39;49;00m\u001B[38;5;124;43m## but for now we\u001B[39;49m\u001B[38;5;124;43m'\u001B[39;49m\u001B[38;5;124;43mre just not going to do it\u001B[39;49m\u001B[38;5;130;43;01m\\n\u001B[39;49;00m\u001B[38;5;130;43;01m\\n\u001B[39;49;00m\u001B[38;5;124;43m#dataset = \u001B[39;49m\u001B[38;5;124;43m'\u001B[39;49m\u001B[38;5;124;43mdata_bu.npy\u001B[39;49m\u001B[38;5;124;43m'\u001B[39;49m\u001B[38;5;130;43;01m\\n\u001B[39;49;00m\u001B[38;5;124;43mimport scipy.io\u001B[39;49m\u001B[38;5;130;43;01m\\n\u001B[39;49;00m\u001B[38;5;124;43mdataset = \u001B[39;49m\u001B[38;5;124;43m'\u001B[39;49m\u001B[38;5;124;43mgas_1000_4_0.mat\u001B[39;49m\u001B[38;5;124;43m'\u001B[39;49m\u001B[38;5;130;43;01m\\n\u001B[39;49;00m\u001B[38;5;124;43mmatdata = scipy.io.loadmat(dataset)\u001B[39;49m\u001B[38;5;130;43;01m\\n\u001B[39;49;00m\u001B[38;5;124;43mpositions = matdata[\u001B[39;49m\u001B[38;5;124;43m'\u001B[39;49m\u001B[38;5;124;43mpos_data\u001B[39;49m\u001B[38;5;124;43m'\u001B[39;49m\u001B[38;5;124;43m]\u001B[39;49m\u001B[38;5;130;43;01m\\n\u001B[39;49;00m\u001B[38;5;124;43mvs = matdata[\u001B[39;49m\u001B[38;5;124;43m'\u001B[39;49m\u001B[38;5;124;43mvs_data\u001B[39;49m\u001B[38;5;124;43m'\u001B[39;49m\u001B[38;5;124;43m]\u001B[39;49m\u001B[38;5;130;43;01m\\n\u001B[39;49;00m\u001B[38;5;124;43mdeltat = matdata[\u001B[39;49m\u001B[38;5;124;43m'\u001B[39;49m\u001B[38;5;124;43mdt\u001B[39;49m\u001B[38;5;124;43m'\u001B[39;49m\u001B[38;5;124;43m][0][0]\u001B[39;49m\u001B[38;5;130;43;01m\\n\u001B[39;49;00m\u001B[38;5;124;43mdims = matdata[\u001B[39;49m\u001B[38;5;124;43m'\u001B[39;49m\u001B[38;5;124;43mdims\u001B[39;49m\u001B[38;5;124;43m'\u001B[39;49m\u001B[38;5;124;43m][0]\u001B[39;49m\u001B[38;5;130;43;01m\\n\u001B[39;49;00m\u001B[38;5;124;43m#for i, dset in enumerate(datasets):\u001B[39;49m\u001B[38;5;130;43;01m\\n\u001B[39;49;00m\u001B[38;5;124;43m#positions, vs, deltat, dims = load(dataset, 4)\u001B[39;49m\u001B[38;5;130;43;01m\\n\u001B[39;49;00m\u001B[38;5;124;43mworld_size = np.array([dims[0], dims[0], dims[1]])\u001B[39;49m\u001B[38;5;130;43;01m\\n\u001B[39;49;00m\u001B[38;5;124;43m#world_size[2] = world_size[2]-200 # start at frame 200\u001B[39;49m\u001B[38;5;130;43;01m\\n\u001B[39;49;00m\u001B[38;5;124;43m#print(positions.shape)\u001B[39;49m\u001B[38;5;130;43;01m\\n\u001B[39;49;00m\u001B[38;5;124;43m#positions = positions[:, :, 200:]\u001B[39;49m\u001B[38;5;130;43;01m\\n\u001B[39;49;00m\u001B[38;5;124;43m#vs = vs[:, :, 200:]\u001B[39;49m\u001B[38;5;130;43;01m\\n\u001B[39;49;00m\u001B[38;5;124;43mprint(world_size)\u001B[39;49m\u001B[38;5;130;43;01m\\n\u001B[39;49;00m\u001B[38;5;124;43m#world_size[2] = 50 # restrict to first 50 time steps\u001B[39;49m\u001B[38;5;130;43;01m\\n\u001B[39;49;00m\u001B[38;5;124;43mdata_dict = \u001B[39;49m\u001B[38;5;132;43;01m{}\u001B[39;49;00m\u001B[38;5;130;43;01m\\n\u001B[39;49;00m\u001B[38;5;124;43mdata_dict[\u001B[39;49m\u001B[38;5;124;43m'\u001B[39;49m\u001B[38;5;124;43mv\u001B[39;49m\u001B[38;5;124;43m'\u001B[39;49m\u001B[38;5;124;43m] = vs\u001B[39;49m\u001B[38;5;130;43;01m\\n\u001B[39;49;00m\u001B[38;5;124;43mv_obs = Observable(\u001B[39;49m\u001B[38;5;124;43m'\u001B[39;49m\u001B[38;5;124;43mv\u001B[39;49m\u001B[38;5;124;43m'\u001B[39;49m\u001B[38;5;124;43m, 1)\u001B[39;49m\u001B[38;5;130;43;01m\\n\u001B[39;49;00m\u001B[38;5;124;43mobservables = [v_obs]\u001B[39;49m\u001B[38;5;130;43;01m\\n\u001B[39;49;00m\u001B[38;5;130;43;01m\\n\u001B[39;49;00m\u001B[38;5;124;43m# fix random seed\u001B[39;49m\u001B[38;5;130;43;01m\\n\u001B[39;49;00m\u001B[38;5;124;43mnp.random.seed(1)\u001B[39;49m\u001B[38;5;130;43;01m\\n\u001B[39;49;00m\u001B[38;5;130;43;01m\\n\u001B[39;49;00m\u001B[38;5;124;43m# initial setup of dataset\u001B[39;49m\u001B[38;5;130;43;01m\\n\u001B[39;49;00m\u001B[38;5;124;43msrd = SRDataset(world_size, data_dict, positions, observables, \u001B[39;49m\u001B[38;5;130;43;01m\\n\u001B[39;49;00m\u001B[38;5;124;43m                kernel_sigma=0.1, cg_res=20, deltat=deltat, cutoff=6) #kernel_sigma=0.6\u001B[39;49m\u001B[38;5;130;43;01m\\n\u001B[39;49;00m\u001B[38;5;130;43;01m\\n\u001B[39;49;00m\u001B[38;5;124;43m# initialize libraries, domains, and weights\u001B[39;49m\u001B[38;5;130;43;01m\\n\u001B[39;49;00m\u001B[38;5;124;43m#srd.make_libraries(max_complexity=4, max_observables=3)\u001B[39;49m\u001B[38;5;130;43;01m\\n\u001B[39;49;00m\u001B[38;5;124;43msrd.make_libraries(max_complexity=6, max_observables=4)\u001B[39;49m\u001B[38;5;130;43;01m\\n\u001B[39;49;00m\u001B[38;5;130;43;01m\\n\u001B[39;49;00m\u001B[38;5;124;43mdom_width = 1.5 #10 #80\u001B[39;49m\u001B[38;5;130;43;01m\\n\u001B[39;49;00m\u001B[38;5;124;43mdom_time = 50 #20\u001B[39;49m\u001B[38;5;130;43;01m\\n\u001B[39;49;00m\u001B[38;5;124;43msrd.make_domains(ndomains=30, domain_size=[dom_width, dom_width, dom_time], pad=0)\u001B[39;49m\u001B[38;5;130;43;01m\\n\u001B[39;49;00m\u001B[38;5;124;43m#srd.make_domains(ndomains=1, domain_size=[dom_width, dom_width, dom_time], pad=0)\u001B[39;49m\u001B[38;5;130;43;01m\\n\u001B[39;49;00m\u001B[38;5;124;43msrd.make_weights(m=16, qmax=1)\u001B[39;49m\u001B[38;5;130;43;01m\\n\u001B[39;49;00m\u001B[38;5;124;43msrd.make_library_matrices()\u001B[39;49m\u001B[38;5;130;43;01m\\n\u001B[39;49;00m\u001B[38;5;130;43;01m\\n\u001B[39;49;00m\u001B[38;5;124;43msave(\u001B[39;49m\u001B[38;5;124;43m'\u001B[39;49m\u001B[38;5;124;43mQ_bu.npy\u001B[39;49m\u001B[38;5;124;43m'\u001B[39;49m\u001B[38;5;124;43m, srd.dxs, srd.libs)\u001B[39;49m\u001B[38;5;130;43;01m\\n\u001B[39;49;00m\u001B[38;5;124;43m\"\u001B[39;49m\u001B[43m)\u001B[49m\n",
      "File \u001B[1;32mD:\\ProgramData\\Anaconda3\\envs\\spider\\lib\\site-packages\\IPython\\core\\interactiveshell.py:2357\u001B[0m, in \u001B[0;36mInteractiveShell.run_cell_magic\u001B[1;34m(self, magic_name, line, cell)\u001B[0m\n\u001B[0;32m   2355\u001B[0m \u001B[38;5;28;01mwith\u001B[39;00m \u001B[38;5;28mself\u001B[39m\u001B[38;5;241m.\u001B[39mbuiltin_trap:\n\u001B[0;32m   2356\u001B[0m     args \u001B[38;5;241m=\u001B[39m (magic_arg_s, cell)\n\u001B[1;32m-> 2357\u001B[0m     result \u001B[38;5;241m=\u001B[39m fn(\u001B[38;5;241m*\u001B[39margs, \u001B[38;5;241m*\u001B[39m\u001B[38;5;241m*\u001B[39mkwargs)\n\u001B[0;32m   2358\u001B[0m \u001B[38;5;28;01mreturn\u001B[39;00m result\n",
      "File \u001B[1;32mD:\\ProgramData\\Anaconda3\\envs\\spider\\lib\\site-packages\\IPython\\core\\magics\\execution.py:296\u001B[0m, in \u001B[0;36mExecutionMagics.prun\u001B[1;34m(self, parameter_s, cell)\u001B[0m\n\u001B[0;32m    294\u001B[0m     arg_str \u001B[38;5;241m+\u001B[39m\u001B[38;5;241m=\u001B[39m \u001B[38;5;124m'\u001B[39m\u001B[38;5;130;01m\\n\u001B[39;00m\u001B[38;5;124m'\u001B[39m \u001B[38;5;241m+\u001B[39m cell\n\u001B[0;32m    295\u001B[0m arg_str \u001B[38;5;241m=\u001B[39m \u001B[38;5;28mself\u001B[39m\u001B[38;5;241m.\u001B[39mshell\u001B[38;5;241m.\u001B[39mtransform_cell(arg_str)\n\u001B[1;32m--> 296\u001B[0m \u001B[38;5;28;01mreturn\u001B[39;00m \u001B[38;5;28;43mself\u001B[39;49m\u001B[38;5;241;43m.\u001B[39;49m\u001B[43m_run_with_profiler\u001B[49m\u001B[43m(\u001B[49m\u001B[43marg_str\u001B[49m\u001B[43m,\u001B[49m\u001B[43m \u001B[49m\u001B[43mopts\u001B[49m\u001B[43m,\u001B[49m\u001B[43m \u001B[49m\u001B[38;5;28;43mself\u001B[39;49m\u001B[38;5;241;43m.\u001B[39;49m\u001B[43mshell\u001B[49m\u001B[38;5;241;43m.\u001B[39;49m\u001B[43muser_ns\u001B[49m\u001B[43m)\u001B[49m\n",
      "File \u001B[1;32mD:\\ProgramData\\Anaconda3\\envs\\spider\\lib\\site-packages\\IPython\\core\\magics\\execution.py:318\u001B[0m, in \u001B[0;36mExecutionMagics._run_with_profiler\u001B[1;34m(self, code, opts, namespace)\u001B[0m\n\u001B[0;32m    316\u001B[0m prof \u001B[38;5;241m=\u001B[39m profile\u001B[38;5;241m.\u001B[39mProfile()\n\u001B[0;32m    317\u001B[0m \u001B[38;5;28;01mtry\u001B[39;00m:\n\u001B[1;32m--> 318\u001B[0m     prof \u001B[38;5;241m=\u001B[39m \u001B[43mprof\u001B[49m\u001B[38;5;241;43m.\u001B[39;49m\u001B[43mrunctx\u001B[49m\u001B[43m(\u001B[49m\u001B[43mcode\u001B[49m\u001B[43m,\u001B[49m\u001B[43m \u001B[49m\u001B[43mnamespace\u001B[49m\u001B[43m,\u001B[49m\u001B[43m \u001B[49m\u001B[43mnamespace\u001B[49m\u001B[43m)\u001B[49m\n\u001B[0;32m    319\u001B[0m     sys_exit \u001B[38;5;241m=\u001B[39m \u001B[38;5;124m'\u001B[39m\u001B[38;5;124m'\u001B[39m\n\u001B[0;32m    320\u001B[0m \u001B[38;5;28;01mexcept\u001B[39;00m \u001B[38;5;167;01mSystemExit\u001B[39;00m:\n",
      "File \u001B[1;32mD:\\ProgramData\\Anaconda3\\envs\\spider\\lib\\cProfile.py:100\u001B[0m, in \u001B[0;36mProfile.runctx\u001B[1;34m(self, cmd, globals, locals)\u001B[0m\n\u001B[0;32m     98\u001B[0m \u001B[38;5;28mself\u001B[39m\u001B[38;5;241m.\u001B[39menable()\n\u001B[0;32m     99\u001B[0m \u001B[38;5;28;01mtry\u001B[39;00m:\n\u001B[1;32m--> 100\u001B[0m     \u001B[43mexec\u001B[49m\u001B[43m(\u001B[49m\u001B[43mcmd\u001B[49m\u001B[43m,\u001B[49m\u001B[43m \u001B[49m\u001B[38;5;28;43mglobals\u001B[39;49m\u001B[43m,\u001B[49m\u001B[43m \u001B[49m\u001B[38;5;28;43mlocals\u001B[39;49m\u001B[43m)\u001B[49m\n\u001B[0;32m    101\u001B[0m \u001B[38;5;28;01mfinally\u001B[39;00m:\n\u001B[0;32m    102\u001B[0m     \u001B[38;5;28mself\u001B[39m\u001B[38;5;241m.\u001B[39mdisable()\n",
      "File \u001B[1;32m<string>:15\u001B[0m, in \u001B[0;36m<module>\u001B[1;34m\u001B[0m\n",
      "File \u001B[1;32mD:\\ProgramData\\Anaconda3\\envs\\spider\\lib\\site-packages\\scipy\\io\\matlab\\mio.py:224\u001B[0m, in \u001B[0;36mloadmat\u001B[1;34m(file_name, mdict, appendmat, **kwargs)\u001B[0m\n\u001B[0;32m     87\u001B[0m \u001B[38;5;124;03m\"\"\"\u001B[39;00m\n\u001B[0;32m     88\u001B[0m \u001B[38;5;124;03mLoad MATLAB file.\u001B[39;00m\n\u001B[0;32m     89\u001B[0m \n\u001B[1;32m   (...)\u001B[0m\n\u001B[0;32m    221\u001B[0m \u001B[38;5;124;03m    3.14159265+3.14159265j])\u001B[39;00m\n\u001B[0;32m    222\u001B[0m \u001B[38;5;124;03m\"\"\"\u001B[39;00m\n\u001B[0;32m    223\u001B[0m variable_names \u001B[38;5;241m=\u001B[39m kwargs\u001B[38;5;241m.\u001B[39mpop(\u001B[38;5;124m'\u001B[39m\u001B[38;5;124mvariable_names\u001B[39m\u001B[38;5;124m'\u001B[39m, \u001B[38;5;28;01mNone\u001B[39;00m)\n\u001B[1;32m--> 224\u001B[0m \u001B[38;5;28;01mwith\u001B[39;00m _open_file_context(file_name, appendmat) \u001B[38;5;28;01mas\u001B[39;00m f:\n\u001B[0;32m    225\u001B[0m     MR, _ \u001B[38;5;241m=\u001B[39m mat_reader_factory(f, \u001B[38;5;241m*\u001B[39m\u001B[38;5;241m*\u001B[39mkwargs)\n\u001B[0;32m    226\u001B[0m     matfile_dict \u001B[38;5;241m=\u001B[39m MR\u001B[38;5;241m.\u001B[39mget_variables(variable_names)\n",
      "File \u001B[1;32mD:\\ProgramData\\Anaconda3\\envs\\spider\\lib\\contextlib.py:135\u001B[0m, in \u001B[0;36m_GeneratorContextManager.__enter__\u001B[1;34m(self)\u001B[0m\n\u001B[0;32m    133\u001B[0m \u001B[38;5;28;01mdel\u001B[39;00m \u001B[38;5;28mself\u001B[39m\u001B[38;5;241m.\u001B[39margs, \u001B[38;5;28mself\u001B[39m\u001B[38;5;241m.\u001B[39mkwds, \u001B[38;5;28mself\u001B[39m\u001B[38;5;241m.\u001B[39mfunc\n\u001B[0;32m    134\u001B[0m \u001B[38;5;28;01mtry\u001B[39;00m:\n\u001B[1;32m--> 135\u001B[0m     \u001B[38;5;28;01mreturn\u001B[39;00m \u001B[38;5;28;43mnext\u001B[39;49m\u001B[43m(\u001B[49m\u001B[38;5;28;43mself\u001B[39;49m\u001B[38;5;241;43m.\u001B[39;49m\u001B[43mgen\u001B[49m\u001B[43m)\u001B[49m\n\u001B[0;32m    136\u001B[0m \u001B[38;5;28;01mexcept\u001B[39;00m \u001B[38;5;167;01mStopIteration\u001B[39;00m:\n\u001B[0;32m    137\u001B[0m     \u001B[38;5;28;01mraise\u001B[39;00m \u001B[38;5;167;01mRuntimeError\u001B[39;00m(\u001B[38;5;124m\"\u001B[39m\u001B[38;5;124mgenerator didn\u001B[39m\u001B[38;5;124m'\u001B[39m\u001B[38;5;124mt yield\u001B[39m\u001B[38;5;124m\"\u001B[39m) \u001B[38;5;28;01mfrom\u001B[39;00m \u001B[38;5;28mNone\u001B[39m\n",
      "File \u001B[1;32mD:\\ProgramData\\Anaconda3\\envs\\spider\\lib\\site-packages\\scipy\\io\\matlab\\mio.py:17\u001B[0m, in \u001B[0;36m_open_file_context\u001B[1;34m(file_like, appendmat, mode)\u001B[0m\n\u001B[0;32m     15\u001B[0m \u001B[38;5;129m@contextmanager\u001B[39m\n\u001B[0;32m     16\u001B[0m \u001B[38;5;28;01mdef\u001B[39;00m \u001B[38;5;21m_open_file_context\u001B[39m(file_like, appendmat, mode\u001B[38;5;241m=\u001B[39m\u001B[38;5;124m'\u001B[39m\u001B[38;5;124mrb\u001B[39m\u001B[38;5;124m'\u001B[39m):\n\u001B[1;32m---> 17\u001B[0m     f, opened \u001B[38;5;241m=\u001B[39m \u001B[43m_open_file\u001B[49m\u001B[43m(\u001B[49m\u001B[43mfile_like\u001B[49m\u001B[43m,\u001B[49m\u001B[43m \u001B[49m\u001B[43mappendmat\u001B[49m\u001B[43m,\u001B[49m\u001B[43m \u001B[49m\u001B[43mmode\u001B[49m\u001B[43m)\u001B[49m\n\u001B[0;32m     18\u001B[0m     \u001B[38;5;28;01mtry\u001B[39;00m:\n\u001B[0;32m     19\u001B[0m         \u001B[38;5;28;01myield\u001B[39;00m f\n",
      "File \u001B[1;32mD:\\ProgramData\\Anaconda3\\envs\\spider\\lib\\site-packages\\scipy\\io\\matlab\\mio.py:45\u001B[0m, in \u001B[0;36m_open_file\u001B[1;34m(file_like, appendmat, mode)\u001B[0m\n\u001B[0;32m     43\u001B[0m     \u001B[38;5;28;01mif\u001B[39;00m appendmat \u001B[38;5;129;01mand\u001B[39;00m \u001B[38;5;129;01mnot\u001B[39;00m file_like\u001B[38;5;241m.\u001B[39mendswith(\u001B[38;5;124m'\u001B[39m\u001B[38;5;124m.mat\u001B[39m\u001B[38;5;124m'\u001B[39m):\n\u001B[0;32m     44\u001B[0m         file_like \u001B[38;5;241m+\u001B[39m\u001B[38;5;241m=\u001B[39m \u001B[38;5;124m'\u001B[39m\u001B[38;5;124m.mat\u001B[39m\u001B[38;5;124m'\u001B[39m\n\u001B[1;32m---> 45\u001B[0m     \u001B[38;5;28;01mreturn\u001B[39;00m \u001B[38;5;28;43mopen\u001B[39;49m\u001B[43m(\u001B[49m\u001B[43mfile_like\u001B[49m\u001B[43m,\u001B[49m\u001B[43m \u001B[49m\u001B[43mmode\u001B[49m\u001B[43m)\u001B[49m, \u001B[38;5;28;01mTrue\u001B[39;00m\n\u001B[0;32m     46\u001B[0m \u001B[38;5;28;01melse\u001B[39;00m:\n\u001B[0;32m     47\u001B[0m     \u001B[38;5;28;01mraise\u001B[39;00m \u001B[38;5;167;01mIOError\u001B[39;00m(\n\u001B[0;32m     48\u001B[0m         \u001B[38;5;124m'\u001B[39m\u001B[38;5;124mReader needs file name or open file-like object\u001B[39m\u001B[38;5;124m'\u001B[39m\n\u001B[0;32m     49\u001B[0m     ) \u001B[38;5;28;01mfrom\u001B[39;00m \u001B[38;5;21;01me\u001B[39;00m\n",
      "\u001B[1;31mFileNotFoundError\u001B[0m: [Errno 2] No such file or directory: 'gas_1000_4_0.mat'"
     ]
    }
   ],
   "source": [
    "%%prun # profiling\n",
    "\n",
    "### load data\n",
    "# vicsek:\n",
    "#arrays.npy - normal. arrays2.npy - very few particles. arrays3.npy - high density. arrays4.npy - high density, low noise.\n",
    "#arrays5.npy - small domain, one clump\n",
    "#datasets = ['arrays.npy', 'arrays2.npy', 'arrays3.npy']#, 'arrays5.npy']\n",
    "#datasets = ['data_bu.npy'] # burgers' equation data\n",
    "## it may be interesting to reintroduce regression on multiple datasets,\n",
    "## but for now we're just not going to do it\n",
    "\n",
    "#dataset = 'data_bu.npy'\n",
    "import scipy.io\n",
    "dataset = 'gas_1000_4_0.mat'\n",
    "matdata = scipy.io.loadmat(dataset)\n",
    "positions = matdata['pos_data']\n",
    "vs = matdata['vs_data']\n",
    "deltat = matdata['dt'][0][0]\n",
    "dims = matdata['dims'][0]\n",
    "#for i, dset in enumerate(datasets):\n",
    "#positions, vs, deltat, dims = load(dataset, 4)\n",
    "world_size = np.array([dims[0], dims[0], dims[1]])\n",
    "#world_size[2] = world_size[2]-200 # start at frame 200\n",
    "#print(positions.shape)\n",
    "#positions = positions[:, :, 200:]\n",
    "#vs = vs[:, :, 200:]\n",
    "print(world_size)\n",
    "#world_size[2] = 50 # restrict to first 50 time steps\n",
    "data_dict = {}\n",
    "data_dict['v'] = vs\n",
    "v_obs = Observable('v', 1)\n",
    "observables = [v_obs]\n",
    "\n",
    "# fix random seed\n",
    "np.random.seed(1)\n",
    "\n",
    "# initial setup of dataset\n",
    "srd = SRDataset(world_size, data_dict, positions, observables, \n",
    "                kernel_sigma=0.1, cg_res=20, deltat=deltat, cutoff=6) #kernel_sigma=0.6\n",
    "\n",
    "# initialize libraries, domains, and weights\n",
    "#srd.make_libraries(max_complexity=4, max_observables=3)\n",
    "srd.make_libraries(max_complexity=6, max_observables=4)\n",
    "\n",
    "dom_width = 1.5 #10 #80\n",
    "dom_time = 50 #20\n",
    "srd.make_domains(ndomains=30, domain_size=[dom_width, dom_width, dom_time], pad=0)\n",
    "#srd.make_domains(ndomains=1, domain_size=[dom_width, dom_width, dom_time], pad=0)\n",
    "srd.make_weights(m=16, qmax=1)\n",
    "srd.make_library_matrices()\n",
    "\n",
    "save('Q_bu.npy', srd.dxs, srd.libs)"
   ]
  },
  {
   "cell_type": "code",
   "execution_count": null,
   "id": "0919f884-77b5-403d-a63c-5fd8b3f2d66b",
   "metadata": {
    "pycharm": {
     "name": "#%%\n"
    }
   },
   "outputs": [],
   "source": [
    "import matplotlib.pyplot as plt\n",
    "\n",
    "fig, (ax1, ax2)= plt.subplots(ncols=2, figsize=(12,6))\n",
    "print(srd.cgps)\n",
    "print(srd.domains[2])\n",
    "cg_arr = srd.cg_dict[srd.cgps[1], (0,), srd.domains[2]]\n",
    "ax1.imshow(cg_arr[:, :, 0], origin='lower', extent=[133, 172, 203, 242])\n",
    "ax1.scatter(srd.scaled_pts[:, 1, 279].flatten(), srd.scaled_pts[:, 0, 279].flatten(), s=1, c='red')\n"
   ]
  },
  {
   "cell_type": "code",
   "execution_count": 2,
   "id": "82a15525-a73d-431d-b62d-e6a59adcab5d",
   "metadata": {
    "pycharm": {
     "name": "#%%\n"
    }
   },
   "outputs": [],
   "source": [
    "_, libs = load('Q_bu.npy', 2)\n",
    "libs = libs.item()"
   ]
  },
  {
   "cell_type": "code",
   "execution_count": null,
   "id": "121b875b-54a5-4a23-865c-cce55abb6545",
   "metadata": {
    "pycharm": {
     "name": "#%%\n"
    }
   },
   "outputs": [
    {
     "name": "stdout",
     "output_type": "stream",
     "text": [
      "[0.70 s]\n",
      "Identified model: 0.9998215355353482 * dj rho[v_i * v_j] + 1.0 * dt rho[v_i] = 0 (order 4, residual 4.93e-04)\n",
      "[0.87 s]\n",
      "Identified model: 0.9999528936754771 * dj rho[v_j] + -0.0017673133413029076 * dj^2 dk rho[v_k] + -0.001766973863926731 * dt dj^2 rho + 1.0 * dt rho = 0 (order 5, residual 3.00e-04)\n",
      "[1.69 s]\n",
      "Identified model: -0.669066589107206 * dj rho[v_j * v_k * v_k] + 0.9998524593300425 * dj rho[v_j] + 1.0 * dt rho + -0.6691704735363441 * dt rho[v_j * v_j] = 0 (order 5, residual 4.47e-04)\n",
      "[5.38 s]\n",
      "Identified model: 1.0 * rho * dj rho[v_j] + 0.0689347098393327 * rho * dt rho + -0.012495276957370344 * rho * rho * dj rho[v_j] + -0.0008614956060599838 * rho * rho * dt rho = 0 (order 6, residual 4.47e-04)\n",
      "[10.17 s]\n",
      "Identified model: 0.5917197171168598 * dj rho[v_j] * rho[v_k * v_k] + 1.0 * dt rho * rho[v_j * v_j] + -0.7124226173527592 * rho * dj rho[v_j] + -0.04912989004557294 * rho * dt rho = 0 (order 6, residual 3.27e-04)\n",
      "[14.78 s]\n",
      "Identified model: 1.0 * rho * dj rho[v_j] + 2.9502899348742893e-06 * rho * dt dj^2 rho + 0.06904646482467922 * rho * dt rho = 0 (order 6, residual 7.71e-04)\n",
      "[24.91 s]\n",
      "Identified model: 0.9999093750241399 * dj rho[v_i * v_j * v_k * v_k] + -0.0028012167997588646 * dj^2 dk rho[v_i * v_k] + -0.0027999052419255487 * dt dj^2 rho[v_i] + 1.0 * dt rho[v_i * v_j * v_j] = 0 (order 6, residual 3.50e-04)\n",
      "[56.69 s]\n",
      "Identified model: -0.9714656893992808 * dj rho * dt rho[v_i * v_j] + 1.0 * dj rho[v_j] * dt rho[v_i] + 0.0718471727336284 * rho * dt dj rho[v_i * v_j] + 0.0719201646471603 * rho * dt^2 rho[v_i] = 0 (order 7, residual 2.22e-04)\n",
      "[111.06 s]\n",
      "Identified model: 0.5934503909962606 * rho * rho * dj rho[v_i * v_j] + 1.0 * rho * rho * dt rho[v_i] = 0 (order 7, residual 7.00e-04)\n"
     ]
    }
   ],
   "source": [
    "from identify_models import *\n",
    "opts = dict()\n",
    "opts['threshold'] = \"'threshold'\"\n",
    "opts['row_norms'] = libs[0].row_weights\n",
    "opts['gamma'] = 2\n",
    "opts['verbose'] = False\n",
    "opts['delta'] = 1e-8#1e-8 # apparently this reaches machine precision as the relative error\n",
    "opts['char_sizes'] = libs[0].col_weights\n",
    "#opts['verbose'] = True\n",
    "opts1 = opts.copy()\n",
    "opts1['char_sizes'] = libs[1].col_weights\n",
    "opts1['row_norms'] = libs[1].row_weights\n",
    "\n",
    "Q = libs[0].Q\n",
    "#print(Q[:, 3]+Q[:, 14], np.linalg.norm(Q[:, 3]+Q[:, 14]), \n",
    "#np.linalg.norm(Q[:, 3]+Q[:, 14])/np.linalg.norm(Q[:, 0]))\n",
    "#print(np.linalg.norm(Q[:, 0])/libs[0].col_weights[0])\n",
    "#print(list(zip(libs[1].terms, libs[1].col_weights)))\n",
    "#eqs0, lambdas0, derived_eqs0, excluded_terms = identify_equations(Q0, opts, terms0, observables, threshold=1e-5, \n",
    "#                       max_complexity=None, max_equations=999, timed=True)\n",
    "#print(excluded_terms)\n",
    "#eqs1, lambdas1, derived_eqs1, excluded_terms = identify_equations(Q1, opts1, terms1, observables, threshold=1e-5, \n",
    "#                       max_complexity=None, max_equations=999, timed=True, excluded_terms=excluded_terms)\n",
    "#print(excluded_terms)\n",
    "eqs, lambdas, derived_eqs, excluded_terms = interleave_identify([libs[0].Q, libs[1].Q], \n",
    "[opts, opts1], [libs[0].terms, libs[1].terms], threshold=1e-3)\n",
    "\n",
    "\n",
    "#[0.15 s]\n",
    "#Identified model: -0.9787526520510974 * rho + 0.028230207633854636 * rho * rho + -0.028610932601784253 * rho * rho[v_j * v_j] + 1.0 * rho[v_j * v_j] = 0 (order 5, residual 5.07e-05)\n",
    "#[0.15 s]\n",
    "#Identified model: -0.02837528778491848 * rho * rho + 1.0 * rho[v_j * v_j] = 0 (order 6, residual 1.43e-05)\n",
    "#[0.26 s]\n",
    "#Identified model: 0.9999199152531711 * dj rho[v_j] + 1.0 * dt rho = 0 (order 6, residual 3.51e-06)"
   ]
  },
  {
   "cell_type": "code",
   "execution_count": 6,
   "id": "aa2535bd-03ed-4596-adb9-428d9d339ca5",
   "metadata": {
    "pycharm": {
     "name": "#%%\n"
    }
   },
   "outputs": [
    {
     "name": "stdout",
     "output_type": "stream",
     "text": [
      "98\n",
      "109\n"
     ]
    }
   ],
   "source": [
    "print(len(libs[0].terms))\n",
    "print(len(libs[1].terms))"
   ]
  },
  {
   "cell_type": "code",
   "execution_count": 11,
   "id": "8bd01fa4",
   "metadata": {
    "pycharm": {
     "name": "#%%\n"
    }
   },
   "outputs": [
    {
     "name": "stdout",
     "output_type": "stream",
     "text": [
      "(50, 21)\n"
     ]
    }
   ],
   "source": [
    "## mostly not planning to use this code\n",
    "\n",
    "from ipynb.fs.full.sparse_reg import *\n",
    "opts = dict()\n",
    "opts['threshold'] = \"'pareto'\"\n",
    "#opts['verbose'] = True\n",
    "#opts['brute_force'] = False\n",
    "#opts['threshold'] = \"'threshold'\"\n",
    "#opts['n_terms'] = len(terms0)\n",
    "#opts['gamma'] = 1.2\n",
    "opts['char_sizes'] = srd.libs[0].col_weights\n",
    "Xi, lambd, best_term, lambda1 = sparse_reg(srd.libs[0].Q, opts=opts)\n",
    "print(srd.libs[0].Q.shape)"
   ]
  },
  {
   "cell_type": "code",
   "execution_count": 8,
   "id": "dc599f66",
   "metadata": {
    "pycharm": {
     "name": "#%%\n"
    }
   },
   "outputs": [
    {
     "name": "stdout",
     "output_type": "stream",
     "text": [
      "[Term 19] 1.0 * rho[v_j] * rho[v_j]\n",
      "Model residual: 0.0030944418121483697\n",
      "One-term model residual: 1.294046607514735e-05\n",
      "Best term (#6): dt^3 rho\n"
     ]
    }
   ],
   "source": [
    "for i in range(len(Xi)):\n",
    "    if Xi[i]!=0:\n",
    "        print(f\"[Term {i}] {Xi[i]} * {srd.libs[0].terms[i]}\")\n",
    "print(\"Model residual:\", lambd)\n",
    "print(\"One-term model residual:\", lambda1)\n",
    "print(f\"Best term (#{best_term}):\", srd.libs[0].terms[best_term])"
   ]
  },
  {
   "cell_type": "code",
   "execution_count": null,
   "id": "325adb73",
   "metadata": {
    "pycharm": {
     "name": "#%%\n"
    }
   },
   "outputs": [],
   "source": [
    "opts['verbose'] = True\n",
    "opts['char_sizes'] = srd.libs[1].col_weights\n",
    "opts['avoid'] = []\n",
    "opts['row_norms'] = None\n",
    "Xi, lambd, best_term, lambda1 = sparse_reg(srd.libs[1].Q, opts=opts)\n",
    "print(srd.libs[1].Q.shape)"
   ]
  },
  {
   "cell_type": "code",
   "execution_count": null,
   "id": "1c5b1a0b",
   "metadata": {
    "pycharm": {
     "name": "#%%\n"
    }
   },
   "outputs": [],
   "source": [
    "for i in range(len(Xi)):\n",
    "    if Xi[i]!=0:\n",
    "        print(f\"[Term {i}] {Xi[i]} * {srd.libs[1].terms[i]}\")\n",
    "print(\"Model residual:\", lambd)\n",
    "print(\"One-term model residual:\", lambda1)\n",
    "print(\"Best term:\", srd.libs[1].terms[best_term])"
   ]
  },
  {
   "cell_type": "code",
   "execution_count": null,
   "id": "3ffb458d",
   "metadata": {
    "pycharm": {
     "name": "#%%\n"
    }
   },
   "outputs": [
    {
     "ename": "NameError",
     "evalue": "name 'terms0' is not defined",
     "output_type": "error",
     "traceback": [
      "\u001B[1;31m---------------------------------------------------------------------------\u001B[0m",
      "\u001B[1;31mNameError\u001B[0m                                 Traceback (most recent call last)",
      "\u001B[1;32m<ipython-input-6-edd965249804>\u001B[0m in \u001B[0;36m<module>\u001B[1;34m\u001B[0m\n\u001B[1;32m----> 1\u001B[1;33m \u001B[1;32mfor\u001B[0m \u001B[0mterm\u001B[0m\u001B[1;33m,\u001B[0m \u001B[0msize\u001B[0m \u001B[1;32min\u001B[0m \u001B[0mzip\u001B[0m\u001B[1;33m(\u001B[0m\u001B[0mterms0\u001B[0m\u001B[1;33m,\u001B[0m \u001B[0mchar_sizes0\u001B[0m\u001B[1;33m)\u001B[0m\u001B[1;33m:\u001B[0m\u001B[1;33m\u001B[0m\u001B[1;33m\u001B[0m\u001B[0m\n\u001B[0m\u001B[0;32m      2\u001B[0m     \u001B[0mprint\u001B[0m\u001B[1;33m(\u001B[0m\u001B[0mterm\u001B[0m\u001B[1;33m,\u001B[0m \u001B[0msize\u001B[0m\u001B[1;33m)\u001B[0m\u001B[1;33m\u001B[0m\u001B[1;33m\u001B[0m\u001B[0m\n",
      "\u001B[1;31mNameError\u001B[0m: name 'terms0' is not defined"
     ]
    }
   ],
   "source": [
    "### not fixed\n",
    "for term, size in zip(terms1, char_sizes1):\n",
    "    print(term, size)"
   ]
  },
  {
   "cell_type": "code",
   "execution_count": 4,
   "id": "cb571005",
   "metadata": {
    "pycharm": {
     "name": "#%%\n"
    }
   },
   "outputs": [
    {
     "name": "stdout",
     "output_type": "stream",
     "text": [
      "[Term 3] 1.0 * dt rho.\n",
      "[Term 14] 0.999890075425048 * dj rho[v_j].\n",
      "Model residual: 0.041745759055163256\n"
     ]
    }
   ],
   "source": [
    "continuity_terms = ['dt rho', 'dj rho[v_j]']\n",
    "#continuity_terms = ['dt rho * rho', 'rho * rho * dj v_j', 'dj rho * rho * v_j']\n",
    "#continuity_terms = ['dt rho', 'dj rv_j']\n",
    "col_numbers = [find_term(libs[0].terms, name) for name in continuity_terms]\n",
    "Xi, lambd = regress(libs[0].Q, col_numbers)\n",
    "for i in range(len(Xi)):\n",
    "    if Xi[i]!=0:\n",
    "        print(f\"[Term {i}] {Xi[i]} * {libs[0].terms[i]}.\")# (Char. size: {srd.libs[0].col_weights[i]})\")\n",
    "print(\"Model residual:\", lambd)"
   ]
  },
  {
   "cell_type": "code",
   "execution_count": 7,
   "id": "88a811d7",
   "metadata": {
    "pycharm": {
     "name": "#%%\n"
    }
   },
   "outputs": [
    {
     "name": "stdout",
     "output_type": "stream",
     "text": [
      "[Term 7] 1.0 * rho[v_i]. (Char. size: 39.88487226171494)\n",
      "[Term 17] -0.6035255718187591 * rho[v_i * v_j * v_j]. (Char. size: 29913654.19628622)\n",
      "Model residual: 0.27352189197837534\n"
     ]
    }
   ],
   "source": [
    "#burger_terms = ['dt rho[v_i]', 'dj rho[v_i * v_j]']\n",
    "burger_terms = ['rho[v_i]', 'rho[v_i * v_j * v_j]']\n",
    "#burger_terms = ['rho * dt rv_i', 'dj rv_i * rv_j']\n",
    "col_numbers = [find_term(libs[1].terms, name) for name in burger_terms]\n",
    "Xi, lambd = regress(libs[1].Q, col_numbers)\n",
    "for i in range(len(Xi)):\n",
    "    if Xi[i]!=0:\n",
    "        print(f\"[Term {i}] {Xi[i]} * {libs[1].terms[i]}. (Char. size: {libs[1].col_weights[i]})\")\n",
    "print(\"Model residual:\", lambd)"
   ]
  },
  {
   "cell_type": "code",
   "execution_count": 14,
   "id": "2dc69003",
   "metadata": {
    "pycharm": {
     "name": "#%%\n"
    }
   },
   "outputs": [
    {
     "name": "stdout",
     "output_type": "stream",
     "text": [
      "[Term 16] -0.004286563115825593 * rho. (Char. size: 0.1464261231728444)\n",
      "[Term 28] 1.0 * rho * v_j * v_j. (Char. size: 0.0005121399208783936)\n",
      "Model residual: 0.0005697337514007149\n"
     ]
    }
   ],
   "source": [
    "### not fixed (obviously)\n",
    "#veqconst_terms = ['1', 'v_j * v_j']\n",
    "veqconst_terms = ['rho', 'rho * v_j * v_j']\n",
    "col_numbers = [find_term(terms0, name) for name in veqconst_terms]\n",
    "Xi, lambd = regress(Q0, col_numbers)\n",
    "for i in range(len(Xi)):\n",
    "    if Xi[i]!=0:\n",
    "        print(f\"[Term {i}] {Xi[i]} * {terms0[i]}. (Char. size: {char_sizes0[i]})\")\n",
    "print(\"Model residual:\", lambd)"
   ]
  },
  {
   "cell_type": "code",
   "execution_count": null,
   "id": "870e63df",
   "metadata": {
    "pycharm": {
     "name": "#%%\n"
    }
   },
   "outputs": [],
   "source": [
    "rho dt^2 v = 10^-4 dt rho * grad rho"
   ]
  }
 ],
 "metadata": {
  "kernelspec": {
   "display_name": "Python 3 (ipykernel)",
   "language": "python",
   "name": "python3"
  },
  "language_info": {
   "codemirror_mode": {
    "name": "ipython",
    "version": 3
   },
   "file_extension": ".py",
   "mimetype": "text/x-python",
   "name": "python",
   "nbconvert_exporter": "python",
   "pygments_lexer": "ipython3",
   "version": "3.7.13"
  }
 },
 "nbformat": 4,
 "nbformat_minor": 5
}