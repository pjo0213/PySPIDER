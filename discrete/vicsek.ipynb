{
 "cells": [
  {
   "cell_type": "code",
   "execution_count": 2,
   "metadata": {
    "pycharm": {
     "name": "#%%\n"
    }
   },
   "outputs": [],
   "source": [
    "%matplotlib inline"
   ]
  },
  {
   "cell_type": "code",
   "execution_count": 3,
   "metadata": {
    "pycharm": {
     "name": "#%%\n"
    },
    "scrolled": true
   },
   "outputs": [],
   "source": [
    "# -*- coding: utf-8 -*-\n",
    "\"\"\"\n",
    "Created on Sat Jul 31 16:42:06 2021\n",
    "\n",
    "@author: Daniel\n",
    "\n",
    "Note: make sure latest version of scipy is installed\n",
    "\"\"\"\n",
    "import numpy as np\n",
    "import scipy as sp\n",
    "from scipy import sparse\n",
    "from scipy.spatial import KDTree\n",
    "import matplotlib.pyplot as plt\n",
    "from matplotlib.animation import FuncAnimation\n",
    "from IPython.display import HTML\n",
    "from utils import save, load\n",
    "from convolution import coarse_grain, gauss1d"
   ]
  },
  {
   "cell_type": "code",
   "execution_count": 165,
   "metadata": {
    "pycharm": {
     "name": "#%%\n"
    }
   },
   "outputs": [
    {
     "name": "stdout",
     "output_type": "stream",
     "text": [
      "N = 768\n",
      "1\n",
      "1\n",
      "1\n",
      "2\n",
      "3\n",
      "4\n",
      "5\n",
      "6\n",
      "7\n",
      "8\n",
      "9\n",
      "10\n",
      "11\n",
      "12\n",
      "13\n",
      "14\n",
      "15\n",
      "16\n",
      "17\n",
      "18\n",
      "19\n",
      "20\n",
      "21\n",
      "22\n",
      "23\n",
      "24\n",
      "25\n",
      "26\n",
      "27\n",
      "28\n",
      "29\n",
      "30\n",
      "31\n",
      "32\n",
      "33\n",
      "34\n",
      "35\n",
      "36\n",
      "37\n",
      "38\n",
      "39\n",
      "40\n",
      "41\n",
      "42\n",
      "43\n",
      "44\n",
      "45\n",
      "46\n",
      "47\n",
      "48\n",
      "49\n",
      "50\n",
      "51\n",
      "52\n",
      "53\n",
      "54\n",
      "55\n",
      "56\n",
      "57\n",
      "58\n",
      "59\n",
      "60\n",
      "61\n",
      "62\n",
      "63\n",
      "64\n",
      "65\n",
      "66\n",
      "67\n",
      "68\n",
      "69\n",
      "70\n",
      "71\n",
      "72\n",
      "73\n",
      "74\n",
      "75\n",
      "76\n",
      "77\n",
      "78\n",
      "79\n",
      "80\n",
      "81\n",
      "82\n",
      "83\n",
      "84\n",
      "85\n",
      "86\n",
      "87\n",
      "88\n",
      "89\n",
      "90\n",
      "91\n",
      "92\n",
      "93\n",
      "94\n",
      "95\n",
      "96\n",
      "97\n",
      "98\n",
      "99\n",
      "100\n",
      "101\n",
      "102\n",
      "103\n",
      "104\n",
      "105\n",
      "106\n",
      "107\n",
      "108\n",
      "109\n",
      "110\n",
      "111\n",
      "112\n",
      "113\n",
      "114\n",
      "115\n",
      "116\n",
      "117\n",
      "118\n",
      "119\n",
      "120\n",
      "121\n",
      "122\n",
      "123\n",
      "124\n",
      "125\n",
      "126\n",
      "127\n",
      "128\n",
      "129\n",
      "130\n",
      "131\n",
      "132\n",
      "133\n",
      "134\n",
      "135\n",
      "136\n",
      "137\n",
      "138\n",
      "139\n",
      "140\n",
      "141\n",
      "142\n",
      "143\n",
      "144\n",
      "145\n",
      "146\n",
      "147\n",
      "148\n",
      "149\n",
      "150\n",
      "151\n",
      "152\n",
      "153\n",
      "154\n",
      "155\n",
      "156\n",
      "157\n",
      "158\n",
      "159\n",
      "160\n",
      "161\n",
      "162\n",
      "163\n",
      "164\n",
      "165\n",
      "166\n",
      "167\n",
      "168\n",
      "169\n",
      "170\n",
      "171\n",
      "172\n",
      "173\n",
      "174\n",
      "175\n",
      "176\n",
      "177\n",
      "178\n",
      "179\n",
      "180\n",
      "181\n",
      "182\n",
      "183\n",
      "184\n",
      "185\n",
      "186\n",
      "187\n",
      "188\n",
      "189\n",
      "190\n",
      "191\n",
      "192\n",
      "193\n",
      "194\n",
      "195\n",
      "196\n",
      "197\n",
      "198\n",
      "199\n",
      "200\n",
      "201\n",
      "202\n",
      "203\n",
      "204\n",
      "205\n",
      "206\n",
      "207\n",
      "208\n",
      "209\n",
      "210\n",
      "211\n",
      "212\n",
      "213\n",
      "214\n",
      "215\n",
      "216\n",
      "217\n",
      "218\n",
      "219\n",
      "220\n",
      "221\n",
      "222\n",
      "223\n",
      "224\n",
      "225\n",
      "226\n",
      "227\n",
      "228\n",
      "229\n",
      "230\n",
      "231\n",
      "232\n",
      "233\n",
      "234\n",
      "235\n",
      "236\n",
      "237\n",
      "238\n",
      "239\n",
      "240\n",
      "241\n",
      "242\n",
      "243\n",
      "244\n",
      "245\n",
      "246\n",
      "247\n",
      "248\n",
      "249\n",
      "250\n",
      "251\n",
      "252\n",
      "253\n",
      "254\n",
      "255\n",
      "256\n",
      "257\n",
      "258\n",
      "259\n",
      "260\n",
      "261\n",
      "262\n",
      "263\n",
      "264\n",
      "265\n",
      "266\n",
      "267\n",
      "268\n",
      "269\n",
      "270\n",
      "271\n",
      "272\n",
      "273\n",
      "274\n",
      "275\n",
      "276\n",
      "277\n",
      "278\n",
      "279\n",
      "280\n",
      "281\n",
      "282\n",
      "283\n",
      "284\n",
      "285\n",
      "286\n",
      "287\n",
      "288\n",
      "289\n",
      "290\n",
      "291\n",
      "292\n",
      "293\n",
      "294\n",
      "295\n",
      "296\n",
      "297\n",
      "298\n",
      "299\n",
      "300\n",
      "301\n",
      "302\n",
      "303\n",
      "304\n",
      "305\n",
      "306\n",
      "307\n",
      "308\n",
      "309\n",
      "310\n",
      "311\n",
      "312\n",
      "313\n",
      "314\n",
      "315\n",
      "316\n",
      "317\n",
      "318\n",
      "319\n",
      "320\n",
      "321\n",
      "322\n",
      "323\n",
      "324\n",
      "325\n",
      "326\n",
      "327\n",
      "328\n",
      "329\n",
      "330\n",
      "331\n",
      "332\n",
      "333\n",
      "334\n",
      "335\n",
      "336\n",
      "337\n",
      "338\n",
      "339\n",
      "340\n",
      "341\n",
      "342\n",
      "343\n",
      "344\n",
      "345\n",
      "346\n",
      "347\n",
      "348\n",
      "349\n",
      "350\n",
      "351\n",
      "352\n",
      "353\n",
      "354\n",
      "355\n",
      "356\n",
      "357\n",
      "358\n",
      "359\n",
      "360\n",
      "361\n",
      "362\n",
      "363\n",
      "364\n",
      "365\n",
      "366\n",
      "367\n",
      "368\n",
      "369\n",
      "370\n",
      "371\n",
      "372\n",
      "373\n",
      "374\n",
      "375\n",
      "376\n",
      "377\n",
      "378\n",
      "379\n",
      "380\n",
      "381\n",
      "382\n",
      "383\n",
      "384\n",
      "385\n",
      "386\n",
      "387\n",
      "388\n",
      "389\n",
      "390\n",
      "391\n",
      "392\n",
      "393\n",
      "394\n",
      "395\n",
      "396\n",
      "397\n",
      "398\n",
      "399\n",
      "400\n",
      "401\n",
      "402\n",
      "403\n",
      "404\n",
      "405\n",
      "406\n",
      "407\n",
      "408\n",
      "409\n",
      "410\n",
      "411\n",
      "412\n",
      "413\n",
      "414\n",
      "415\n",
      "416\n",
      "417\n",
      "418\n",
      "419\n",
      "420\n",
      "421\n",
      "422\n",
      "423\n",
      "424\n",
      "425\n",
      "426\n",
      "427\n",
      "428\n",
      "429\n",
      "430\n",
      "431\n",
      "432\n",
      "433\n",
      "434\n",
      "435\n",
      "436\n",
      "437\n",
      "438\n",
      "439\n",
      "440\n",
      "441\n",
      "442\n",
      "443\n",
      "444\n",
      "445\n",
      "446\n",
      "447\n",
      "448\n",
      "449\n",
      "450\n",
      "451\n",
      "452\n",
      "453\n",
      "454\n",
      "455\n",
      "456\n",
      "457\n",
      "458\n",
      "459\n",
      "460\n",
      "461\n",
      "462\n",
      "463\n",
      "464\n",
      "465\n",
      "466\n",
      "467\n",
      "468\n",
      "469\n",
      "470\n",
      "471\n",
      "472\n",
      "473\n",
      "474\n",
      "475\n",
      "476\n",
      "477\n",
      "478\n",
      "479\n",
      "480\n",
      "481\n",
      "482\n",
      "483\n",
      "484\n",
      "485\n",
      "486\n",
      "487\n",
      "488\n",
      "489\n",
      "490\n",
      "491\n",
      "492\n",
      "493\n",
      "494\n",
      "495\n",
      "496\n",
      "497\n",
      "498\n",
      "499\n",
      "500\n"
     ]
    },
    {
     "data": {
      "image/png": "[encoded data removed]",
      "text/plain": [
       "<Figure size 432x432 with 1 Axes>"
      ]
     },
     "metadata": {
      "needs_background": "light"
     },
     "output_type": "display_data"
    }
   ],
   "source": [
    "L = 16.0#8.0  # size of domain\n",
    "rho = 3#30, 3, 0.03 # density of particles\n",
    "N = int(rho*L**2) # number of particles\n",
    "print(\"N =\",N)\n",
    " \n",
    "r0 = 1.0 # interaction range\n",
    "deltat = 0.3#1.0 # time step\n",
    "alpha = 0.1 # ratio of particle speed and interaction range\n",
    "v0 = r0/deltat*alpha # particle speed\n",
    "iterations = 500 # number of time steps\n",
    "eta = 0.15#0.01 # magnitude of noise\n",
    "\n",
    "all_pos = np.zeros(shape=(N,2,iterations))\n",
    "all_orient = np.zeros(shape=(N,iterations))\n",
    "pos = np.random.uniform(0,L,size=(N,2)) # positions of particles\n",
    "orient = np.random.uniform(-np.pi, np.pi,size=N) # orientations of particles\n",
    " \n",
    "fig, ax= plt.subplots(figsize=(6,6))\n",
    " \n",
    "qv = ax.quiver(pos[:,0], pos[:,1], np.cos(orient[0]), np.sin(orient), orient, clim=[-np.pi, np.pi])\n",
    " \n",
    "def animate(i):\n",
    "    if i%10==0:\n",
    "        print(i)\n",
    "    global orient\n",
    "\n",
    "    tree = KDTree(pos, boxsize=[L,L])\n",
    "    dist = tree.sparse_distance_matrix(tree, max_distance=r0,output_type='coo_matrix')\n",
    " \n",
    "    # compute directions in complex plane\n",
    "    data = np.exp(orient[dist.col]*1j)\n",
    "    # construct a new sparse matrix with entries in the same places ij of the dist matrix\n",
    "    neigh = sparse.coo_matrix((data,(dist.row,dist.col)), shape=dist.get_shape())\n",
    "    # sum over the columns (sum over j)\n",
    "    S = np.squeeze(np.asarray(neigh.tocsr().sum(axis=1)))\n",
    "     \n",
    "    # update orientations\n",
    "    orient = np.angle(S)+eta*np.random.normal(0, 1, size=N)\n",
    " \n",
    "    cos, sin = np.cos(orient), np.sin(orient)\n",
    "    pos[:,0] += deltat*cos*v0\n",
    "    pos[:,1] += deltat*sin*v0\n",
    " \n",
    "    # periodic boundary conditions\n",
    "    pos[pos>L] -= L\n",
    "    pos[pos<0] += L\n",
    "    \n",
    "    all_pos[:, :, i-1] = pos\n",
    "    all_orient[:, i-1] = orient\n",
    " \n",
    "    qv.set_offsets(pos)\n",
    "    qv.set_UVC(cos, sin, orient)\n",
    "    return qv,\n",
    " \n",
    "anim = FuncAnimation(fig, animate, np.arange(1, iterations+1), interval=1, blit=True)\n",
    "anim.save('vicsek.mp4', fps=30, extra_args=['-vcodec', 'libx264'])"
   ]
  },
  {
   "cell_type": "code",
   "execution_count": null,
   "metadata": {
    "pycharm": {
     "name": "#%%\n"
    }
   },
   "outputs": [],
   "source": [
    "#def save(filename, *args):\n",
    "#    with open(filename, 'wb') as f:\n",
    "#        for arr in args:\n",
    "#            np.save(f, arr)\n",
    "\n",
    "save('data.npy', all_pos, all_orient, deltat, (L, iterations))\n",
    "\n",
    "### BELOW HERE IS OUTDATED"
   ]
  },
  {
   "cell_type": "code",
   "execution_count": null,
   "metadata": {
    "pycharm": {
     "name": "#%%\n"
    }
   },
   "outputs": [],
   "source": [
    "#def load(filename, nload):\n",
    "#     to_load = []\n",
    "#     with open(filename, 'rb') as f:\n",
    "#         for i in range(nload):\n",
    "#             to_load.append(np.load(f))\n",
    "#     return tuple(to_load)\n",
    "    \n",
    "(all_pos, all_orient) = load('data.npy', 2)"
   ]
  },
  {
   "cell_type": "code",
   "execution_count": 166,
   "metadata": {
    "pycharm": {
     "name": "#%%\n"
    }
   },
   "outputs": [],
   "source": [
    "# coarse-graining\n",
    "res = 4#16 # number of points per unit length of L\n",
    "width = int(res*L) # length of domain in grid points\n",
    "\n",
    "# binned density \n",
    "binned_pts = np.zeros(shape=(width, width, iterations))\n",
    "# binned rho*velocity\n",
    "binned_rv = np.zeros(shape=(width, width, iterations, 2))\n",
    "# binned velocity (not actually used, for illustration only)\n",
    "binned_v = np.zeros(shape=(width, width, iterations, 2))\n",
    "\n",
    "for i in range(iterations):\n",
    "    for j in range(N):\n",
    "        pt = all_pos[j, :, i]*res\n",
    "        binned_pts[int(pt[0]), int(pt[1]), i] += 1\n",
    "        binned_rv[int(pt[0]), int(pt[1]), i, :] += [np.cos(all_orient[j, i]), np.sin(all_orient[j, i])]\n",
    "binned_rv *= v0\n",
    "binned_pts *= res**2\n",
    "binned_rv *= res**2\n",
    "for x in range(width):\n",
    "    for y in range(width):\n",
    "        for z in range(iterations):\n",
    "            if binned_pts[x, y, z]>0:\n",
    "                binned_v[x, y, z, :] = binned_rv[x, y, z, :]/binned_pts[x, y, z]"
   ]
  },
  {
   "cell_type": "code",
   "execution_count": 167,
   "metadata": {
    "pycharm": {
     "name": "#%%\n"
    }
   },
   "outputs": [
    {
     "data": {
      "text/plain": [
       "<matplotlib.image.AxesImage at 0x2830526ee88>"
      ]
     },
     "execution_count": 167,
     "metadata": {},
     "output_type": "execute_result"
    },
    {
     "data": {
      "image/png": "[encoded data removed]",
      "text/plain": [
       "<Figure size 1296x432 with 3 Axes>"
      ]
     },
     "metadata": {
      "needs_background": "light"
     },
     "output_type": "display_data"
    }
   ],
   "source": [
    "fig, (ax1, ax2, ax3)= plt.subplots(ncols=3, figsize=(18,6))\n",
    "ax1.imshow(binned_pts[:, :, 100], extent=[0, L, 0, L])\n",
    "ax2.imshow(binned_v[:, :, 100, 0], extent=[0, L, 0, L])\n",
    "ax3.imshow(binned_v[:, :, 100, 1], extent=[0, L, 0, L])"
   ]
  },
  {
   "cell_type": "code",
   "execution_count": 168,
   "metadata": {
    "pycharm": {
     "name": "#%%\n"
    }
   },
   "outputs": [],
   "source": [
    "from scipy.ndimage import gaussian_filter\n",
    "\n",
    "sigma0 = 1\n",
    "\n",
    "# def coarse_grain(binned, positions=None):\n",
    "#     # positions - optional argument for tuning width of kernel and such\n",
    "#     sigma = sigma0*res # width of convolution kernel\n",
    "#     sigma_vector = np.zeros(shape=(len(binned.shape),1))\n",
    "#     sigma_vector[0:2] = sigma\n",
    "#     smoothed = gaussian_filter(binned, sigma_vector, mode='wrap', truncate=12)\n",
    "#     return smoothed\n",
    "\n",
    "rho = coarse_grain(binned_pts, sigma0*res)\n",
    "rv = coarse_grain(binned_rv, sigma0*res)\n",
    "v = np.copy(rv)\n",
    "\n",
    "nzind = rho[:]>0\n",
    "zind = rho[:]==0\n",
    "v[nzind, 0] = rv[nzind, 0]/rho[nzind]\n",
    "v[zind, 0] = 0\n",
    "v[nzind, 1] = rv[nzind, 1]/rho[nzind]\n",
    "v[zind, 1] = 0"
   ]
  },
  {
   "cell_type": "code",
   "execution_count": 169,
   "metadata": {
    "pycharm": {
     "name": "#%%\n"
    }
   },
   "outputs": [
    {
     "data": {
      "text/plain": [
       "<matplotlib.image.AxesImage at 0x28300396248>"
      ]
     },
     "execution_count": 169,
     "metadata": {},
     "output_type": "execute_result"
    },
    {
     "data": {
      "image/png": "[encoded data removed]",
      "text/plain": [
       "<Figure size 1296x432 with 3 Axes>"
      ]
     },
     "metadata": {
      "needs_background": "light"
     },
     "output_type": "display_data"
    }
   ],
   "source": [
    "fig, (ax1, ax2, ax3)= plt.subplots(ncols=3, figsize=(18,6))\n",
    "ax1.imshow(rho[:, :, 100], extent=[0, L, 0, L])\n",
    "ax2.imshow(rv[:, :, 100, 1], extent=[0, L, 0, L])\n",
    "ax3.imshow(v[:, :, 100, 1], extent=[0, L, 0, L])"
   ]
  },
  {
   "cell_type": "code",
   "execution_count": null,
   "metadata": {
    "pycharm": {
     "name": "#%%\n"
    }
   },
   "outputs": [],
   "source": [
    "save('arrays.npy', rho, v, res, deltat)"
   ]
  },
  {
   "cell_type": "code",
   "execution_count": 39,
   "metadata": {
    "pycharm": {
     "name": "#%%\n"
    }
   },
   "outputs": [],
   "source": [
    "c, d, e, f = load('arrays.npy', 4)"
   ]
  },
  {
   "cell_type": "code",
   "execution_count": 135,
   "metadata": {
    "pycharm": {
     "name": "#%%\n"
    }
   },
   "outputs": [
    {
     "data": {
      "text/plain": [
       "DescribeResult(nobs=3276800, minmax=(0.0, 488.9239799462526), mean=0.18750000000000008, variance=0.4116481067201219, skewness=285.2039077957352, kurtosis=166007.33375734318)"
      ]
     },
     "execution_count": 135,
     "metadata": {},
     "output_type": "execute_result"
    },
    {
     "data": {
      "image/png": "[encoded data removed]",
      "text/plain": [
       "<Figure size 432x288 with 2 Axes>"
      ]
     },
     "metadata": {
      "needs_background": "light"
     },
     "output_type": "display_data"
    }
   ],
   "source": [
    "from scipy.stats import describe\n",
    "\n",
    "rho_flat = c.flatten()\n",
    "rho_flat2 = c[:, :, 100].flatten()\n",
    "fig, axs = plt.subplots(1, 2, tight_layout=True)\n",
    "axs[0].hist(rho_flat[rho_flat<np.max(rho_flat)/20], bins=20, log=True)\n",
    "axs[1].hist(rho_flat2, bins=20, log=True)\n",
    "describe(rho_flat)\n"
   ]
  },
  {
   "cell_type": "code",
   "execution_count": 246,
   "metadata": {
    "pycharm": {
     "name": "#%%\n"
    }
   },
   "outputs": [
    {
     "name": "stdout",
     "output_type": "stream",
     "text": [
      "0\n",
      "10\n",
      "20\n",
      "30\n",
      "40\n",
      "50\n",
      "60\n",
      "70\n",
      "80\n",
      "90\n",
      "100\n",
      "110\n",
      "120\n",
      "130\n",
      "140\n",
      "150\n",
      "160\n",
      "170\n",
      "180\n",
      "190\n",
      "200\n",
      "210\n",
      "220\n",
      "230\n",
      "240\n",
      "250\n",
      "260\n",
      "270\n",
      "280\n",
      "290\n",
      "300\n",
      "310\n",
      "320\n",
      "330\n",
      "340\n",
      "350\n",
      "360\n",
      "370\n",
      "380\n",
      "390\n",
      "400\n",
      "410\n",
      "420\n",
      "430\n",
      "440\n",
      "450\n",
      "460\n",
      "470\n",
      "480\n",
      "490\n"
     ]
    }
   ],
   "source": [
    "# coarse-graining\n",
    "res = 4 # number of points per unit length of L\n",
    "width = int(res*L) # length of domain in grid points\n",
    "\n",
    "rho_tuned = np.zeros(shape=(width, width, iterations))\n",
    "rv_tuned = np.zeros(shape=(width, width, iterations, 2))\n",
    "v_tuned = np.zeros(shape=(width, width, iterations, 2))\n",
    "rhom = np.mean(rho)\n",
    "\n",
    "# def gauss1d(x0, sigma, truncate=8, xmin=0, xmax=0, wrap=True):\n",
    "#     offset = int(x0)\n",
    "#     halfwidth = int(np.ceil(truncate*sigma))\n",
    "#     if not wrap:\n",
    "#         mn = np.max([offset-halfwidth, xmin])\n",
    "#         mx = np.min([offset+halfwidth, xmax])\n",
    "#     else:\n",
    "#         mn = offset-halfwidth \n",
    "#         mx = offset+halfwidth\n",
    "#     x = np.arange(mn, mx)\n",
    "#     gx = np.exp(-(x-x0)**2/(2*sigma**2))\n",
    "#     #gx /= ((2*np.pi)**0.5*sigma) # normalize\n",
    "#     gx /= sum(gx) \n",
    "#     return gx, mn, mx\n",
    "\n",
    "for i in range(iterations):\n",
    "    if i % 10 == 0:\n",
    "        print(i)\n",
    "    for j in range(N):\n",
    "        pt = all_pos[j, :, i]*res\n",
    "        ptx = pt[0]\n",
    "        pty = pt[1]\n",
    "        orient = all_orient[j, i]\n",
    "        this_v = v0*np.array(np.cos(orient), np.sin(orient))\n",
    "        local_dens = rho[int(ptx), int(pty), i]\n",
    "        #sigma = sigma0*res\n",
    "        sigma = np.min([L/3, sigma0*(local_dens/rhom)**-0.5])*res\n",
    "        gx, mnx, mxx = gauss1d(ptx, sigma)\n",
    "        gy, mny, mxy = gauss1d(pty, sigma)\n",
    "        g = res**2*np.outer(gx, gy)\n",
    "        xrng = np.array(range(mnx, mxx)) % width\n",
    "        yrng = np.array(range(mny, mxy)) % width\n",
    "        rho_tuned[xrng[:, np.newaxis], yrng, i] += g\n",
    "        rv_tuned[xrng[:, np.newaxis], yrng, i, :] += g[:, :, np.newaxis]*this_v\n",
    "        \n",
    "nzind = rho_tuned[:]>0\n",
    "zind = rho_tuned[:]==0\n",
    "v_tuned[nzind, :] = rv_tuned[nzind, :]/rho_tuned[nzind, np.newaxis]\n",
    "v_tuned[zind, :] = 0"
   ]
  },
  {
   "cell_type": "code",
   "execution_count": 239,
   "metadata": {
    "pycharm": {
     "name": "#%%\n"
    }
   },
   "outputs": [
    {
     "data": {
      "image/png": "[encoded data removed]",
      "text/plain": [
       "<Figure size 432x288 with 1 Axes>"
      ]
     },
     "metadata": {
      "needs_background": "light"
     },
     "output_type": "display_data"
    }
   ],
   "source": [
    "plt.imshow(binned_pts[:, :, 325], interpolation=\"nearest\", origin=\"lower\")\n",
    "plt.show()"
   ]
  },
  {
   "cell_type": "code",
   "execution_count": 238,
   "metadata": {
    "pycharm": {
     "name": "#%%\n"
    }
   },
   "outputs": [
    {
     "data": {
      "image/png": "[encoded data removed]",
      "text/plain": [
       "<Figure size 432x288 with 1 Axes>"
      ]
     },
     "metadata": {
      "needs_background": "light"
     },
     "output_type": "display_data"
    }
   ],
   "source": [
    "plt.imshow(rho_tuned[:, :, 325], interpolation=\"nearest\", origin=\"lower\")\n",
    "plt.show()"
   ]
  },
  {
   "cell_type": "code",
   "execution_count": 240,
   "metadata": {
    "pycharm": {
     "name": "#%%\n"
    }
   },
   "outputs": [
    {
     "data": {
      "text/plain": [
       "(0.16137053006325597,\n",
       " 0.21207420854578982,\n",
       " 2.9958818230393742,\n",
       " 3.0000000000000018)"
      ]
     },
     "execution_count": 240,
     "metadata": {},
     "output_type": "execute_result"
    }
   ],
   "source": [
    "np.mean(abs(v_tuned)), np.mean(abs(v)), np.mean(rho_tuned), np.mean(rho)"
   ]
  },
  {
   "cell_type": "code",
   "execution_count": 244,
   "metadata": {
    "pycharm": {
     "name": "#%%\n"
    }
   },
   "outputs": [],
   "source": [
    "save('arrays.npy', rho_tuned, v_tuned, res, deltat)"
   ]
  },
  {
   "cell_type": "code",
   "execution_count": null,
   "metadata": {
    "pycharm": {
     "name": "#%%\n"
    }
   },
   "outputs": [],
   "source": []
  }
 ],
 "metadata": {
  "kernelspec": {
   "display_name": "Python 3 (ipykernel)",
   "language": "python",
   "name": "python3"
  },
  "language_info": {
   "codemirror_mode": {
    "name": "ipython",
    "version": 3
   },
   "file_extension": ".py",
   "mimetype": "text/x-python",
   "name": "python",
   "nbconvert_exporter": "python",
   "pygments_lexer": "ipython3",
   "version": "3.9.13"
  }
 },
 "nbformat": 4,
 "nbformat_minor": 4
}
