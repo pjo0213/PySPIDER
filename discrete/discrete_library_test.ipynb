{
 "cells": [
  {
   "cell_type": "code",
   "execution_count": 1,
   "metadata": {},
   "outputs": [],
   "source": [
    "# in case there are any problems with importing because path is wrong\n",
    "import sys\n",
    "sys.path.append('C:/Users/nerpa/Dropbox (Princeton)/Research/discrete_sr/code/SPIDER_discrete')"
   ]
  },
  {
   "cell_type": "code",
   "execution_count": 2,
   "metadata": {},
   "outputs": [
    {
     "name": "stdout",
     "output_type": "stream",
     "text": [
      "['C:\\\\Users\\\\nerpa\\\\Dropbox (Princeton)\\\\Research\\\\discrete_sr\\\\code\\\\SPIDER_discrete\\\\discrete', 'C:\\\\Users\\\\nerpa\\\\anaconda3\\\\python312.zip', 'C:\\\\Users\\\\nerpa\\\\anaconda3\\\\DLLs', 'C:\\\\Users\\\\nerpa\\\\anaconda3\\\\Lib', 'C:\\\\Users\\\\nerpa\\\\anaconda3', '', 'C:\\\\Users\\\\nerpa\\\\anaconda3\\\\Lib\\\\site-packages', 'C:\\\\Users\\\\nerpa\\\\anaconda3\\\\Lib\\\\site-packages\\\\win32', 'C:\\\\Users\\\\nerpa\\\\anaconda3\\\\Lib\\\\site-packages\\\\win32\\\\lib', 'C:\\\\Users\\\\nerpa\\\\anaconda3\\\\Lib\\\\site-packages\\\\Pythonwin', 'C:\\\\Users\\\\nerpa\\\\anaconda3\\\\Lib\\\\site-packages\\\\setuptools\\\\_vendor', 'C:/Users/nerpa/Dropbox (Princeton)/Research/discrete_sr/code/SPIDER_discrete']\n"
     ]
    }
   ],
   "source": [
    "### NEXT: structural generation\n",
    "\n",
    "#from .commons.library import *\n",
    "from library import *"
   ]
  },
  {
   "cell_type": "code",
   "execution_count": 3,
   "metadata": {},
   "outputs": [],
   "source": [
    "A = Observable(string='A', rank=2)\n",
    "b = Observable(string='b', rank=1)"
   ]
  },
  {
   "cell_type": "code",
   "execution_count": 4,
   "metadata": {},
   "outputs": [
    {
     "ename": "NameError",
     "evalue": "name 'terms0' is not defined",
     "output_type": "error",
     "traceback": [
      "\u001b[1;31m---------------------------------------------------------------------------\u001b[0m",
      "\u001b[1;31mNameError\u001b[0m                                 Traceback (most recent call last)",
      "Cell \u001b[1;32mIn[4], line 1\u001b[0m\n\u001b[1;32m----> 1\u001b[0m \u001b[38;5;28mprint\u001b[39m(terms0, \u001b[38;5;28mlen\u001b[39m(terms0))\n\u001b[0;32m      2\u001b[0m \u001b[38;5;28mprint\u001b[39m(terms1, \u001b[38;5;28mlen\u001b[39m(terms1))\n",
      "\u001b[1;31mNameError\u001b[0m: name 'terms0' is not defined"
     ]
    }
   ],
   "source": [
    "print(terms0, len(terms0))\n",
    "print(terms1, len(terms1))\n",
    "#print(terms_matt, len(terms_matt))"
   ]
  },
  {
   "cell_type": "code",
   "execution_count": null,
   "metadata": {},
   "outputs": [],
   "source": [
    "prim2"
   ]
  },
  {
   "cell_type": "code",
   "execution_count": null,
   "metadata": {},
   "outputs": [],
   "source": [
    "repr(term1)"
   ]
  },
  {
   "cell_type": "code",
   "execution_count": null,
   "metadata": {},
   "outputs": [],
   "source": [
    "tensor = term2*term1\n",
    "print(tensor)"
   ]
  },
  {
   "cell_type": "code",
   "execution_count": null,
   "metadata": {},
   "outputs": [],
   "source": [
    "labels = []\n",
    "for label in list_labels(tensor):\n",
    "    labels.append(label)\n",
    "    print(label)"
   ]
  },
  {
   "cell_type": "code",
   "execution_count": null,
   "metadata": {},
   "outputs": [],
   "source": [
    "libterm1 = LibraryTerm(tensor, labels[0])\n",
    "libterm2 = LibraryTerm(tensor, labels[1])\n",
    "print(libterm1)\n",
    "print(libterm2)"
   ]
  },
  {
   "cell_type": "code",
   "execution_count": null,
   "metadata": {},
   "outputs": [],
   "source": [
    "do = DerivativeOrder(0, 1)\n",
    "trank2 = LibraryTensor(LibraryPrimitive(do, v))\n",
    "trank6 = trank2*trank2*trank2\n",
    "trank8 = tensor*trank6\n",
    "for label in list_labels(trank6):\n",
    "    lt = LibraryTerm(trank6, label)\n",
    "    print(lt, \"->\", lt.canonicalize())\n",
    "    print(\"Is it canonical?\", lt.is_canonical)\n",
    "    #print(LibraryTerm(trank6, label))\n",
    "    \n",
    "# note that there are duplicates which are valid by lexicographic ordering, e.g.\n",
    "# dj v_j * dk v_l * dk v_l, dj v_k * dj v_k * dl v_l (11 23 23; 12 12 33)\n",
    "# this problem however seems to only be possible for order>=5 so we won't worry about it for now.\n",
    "# dj v_j * dk v_k * dl v_l\n",
    "# dj v_j * dk v_l * dk v_l\n",
    "# dj v_j * dk v_l * dl v_k\n",
    "# dj v_k * dj v_k * dl v_l\n",
    "# dj v_k * dj v_l * dk v_l\n",
    "# dj v_k * dj v_l * dl v_k\n",
    "# dj v_k * dk v_j * dl v_l\n",
    "# dj v_k * dl v_j * dk v_l\n",
    "# dj v_k * dl v_j * dl v_k\n",
    "# dj v_k * dk v_l * dj v_l\n",
    "# dj v_k * dl v_k * dj v_l\n",
    "# dj v_k * dl v_l * dj v_k\n",
    "# dj v_k * dk v_l * dl v_j\n",
    "# dj v_k * dl v_k * dl v_j\n",
    "# dj v_k * dl v_l * dk v_j"
   ]
  },
  {
   "cell_type": "code",
   "execution_count": null,
   "metadata": {},
   "outputs": [],
   "source": [
    "cp1 < cp2"
   ]
  },
  {
   "cell_type": "code",
   "execution_count": null,
   "metadata": {},
   "outputs": [],
   "source": [
    "print(cl1<=cl2, cl1>=cl2)"
   ]
  },
  {
   "cell_type": "code",
   "execution_count": null,
   "metadata": {},
   "outputs": [],
   "source": [
    "prim1, prim2"
   ]
  },
  {
   "cell_type": "code",
   "execution_count": null,
   "metadata": {},
   "outputs": [],
   "source": [
    "prim1 < prim2"
   ]
  },
  {
   "cell_type": "code",
   "execution_count": null,
   "metadata": {},
   "outputs": [],
   "source": [
    "prim3 = LibraryPrimitive(do2, rho)"
   ]
  },
  {
   "cell_type": "code",
   "execution_count": null,
   "metadata": {},
   "outputs": [],
   "source": [
    "prim1, prim3"
   ]
  },
  {
   "cell_type": "code",
   "execution_count": null,
   "metadata": {},
   "outputs": [],
   "source": [
    "prim1 < prim3"
   ]
  },
  {
   "cell_type": "code",
   "execution_count": null,
   "metadata": {},
   "outputs": [],
   "source": [
    "#For example, if the list I want to sort is [2,3,1,4,5], I need [2,0,1,3,4] to be returned.\n",
    "# 2<-0, 0<-1, ...\n",
    "# [2, 3, 1, 4, 5] + [a:b, c:d, e:f, g:h, i:j] (index_list) -> sort via zip \n",
    "# if i locations were initially a,d, now need to rewrite labels according to NEW LOCATIONS of a and d\n",
    "x = ['a', 'b', 'c']; y = [1, 2, 3]; z = ['alpha', 'beta', 'gamma']\n",
    "zr = zip(x, y, z)"
   ]
  },
  {
   "cell_type": "code",
   "execution_count": null,
   "metadata": {},
   "outputs": [],
   "source": [
    "print(list(zr))"
   ]
  },
  {
   "cell_type": "code",
   "execution_count": null,
   "metadata": {},
   "outputs": [],
   "source": [
    "print(libterm1, \"->\", libterm1.structure_canonicalize())\n",
    "print(libterm2, \"->\", libterm2.structure_canonicalize())"
   ]
  },
  {
   "cell_type": "code",
   "execution_count": null,
   "metadata": {},
   "outputs": [],
   "source": [
    "list(range(10))"
   ]
  },
  {
   "cell_type": "code",
   "execution_count": null,
   "metadata": {},
   "outputs": [],
   "source": [
    "def flatten(t):\n",
    "    return [item for sublist in t for item in sublist]  \n",
    "#flatten([0, 1, 2, 3])"
   ]
  },
  {
   "cell_type": "code",
   "execution_count": null,
   "metadata": {},
   "outputs": [],
   "source": [
    "for t in get_isomorphic_terms(trank8.observable_list):\n",
    "    print(t)"
   ]
  },
  {
   "cell_type": "code",
   "execution_count": null,
   "metadata": {},
   "outputs": [],
   "source": [
    "min(\"str\", \"cat\", \"boy\")"
   ]
  },
  {
   "cell_type": "code",
   "execution_count": null,
   "metadata": {},
   "outputs": [],
   "source": [
    "min(map(lambda x:x[-1], [\"str\", \"cat\", \"boy\"]))"
   ]
  },
  {
   "cell_type": "code",
   "execution_count": null,
   "metadata": {},
   "outputs": [],
   "source": [
    "min([\"str\", \"cat\", \"boy\"], key=lambda x:x[-1])"
   ]
  },
  {
   "cell_type": "code",
   "execution_count": null,
   "metadata": {},
   "outputs": [],
   "source": [
    "x = [1]\n",
    "x[1:], x[:-1]"
   ]
  },
  {
   "cell_type": "code",
   "execution_count": null,
   "metadata": {},
   "outputs": [],
   "source": [
    "obs_dict = {'rho': rho, 'v': v}\n",
    "obs = construct_from_string('dx dt dx v', 'LP', obs_dict)\n",
    "tens = construct_from_string('di dt dj v_k * dj dk rho', 'LT', obs_dict)\n",
    "print(obs)\n",
    "print(tens.canonicalize())"
   ]
  },
  {
   "cell_type": "code",
   "execution_count": null,
   "metadata": {},
   "outputs": [],
   "source": []
  }
 ],
 "metadata": {
  "kernelspec": {
   "display_name": "Python 3 (ipykernel)",
   "language": "python",
   "name": "python3"
  },
  "language_info": {
   "codemirror_mode": {
    "name": "ipython",
    "version": 3
   },
   "file_extension": ".py",
   "mimetype": "text/x-python",
   "name": "python",
   "nbconvert_exporter": "python",
   "pygments_lexer": "ipython3",
   "version": "3.12.4"
  }
 },
 "nbformat": 4,
 "nbformat_minor": 4
}
