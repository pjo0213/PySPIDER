{
 "cells": [
  {
   "cell_type": "code",
   "execution_count": 1,
   "id": "e9866012",
   "metadata": {},
   "outputs": [],
   "source": [
    "import numpy as np\n",
    "\n",
    "from weight import *\n",
    "from utils import save, load\n",
    "from library import *\n",
    "from process_library_terms import *"
   ]
  },
  {
   "cell_type": "code",
   "execution_count": 2,
   "id": "6cfca3bf",
   "metadata": {},
   "outputs": [],
   "source": [
    "#%%prun # profiling\n",
    "\n",
    "### load data\n",
    "# vicsek:\n",
    "#arrays.npy - normal. arrays2.npy - very few particles. arrays3.npy - high density. arrays4.npy - high density, low noise.\n",
    "#arrays5.npy - small domain, one clump\n",
    "#datasets = ['arrays.npy', 'arrays2.npy', 'arrays3.npy']#, 'arrays5.npy']\n",
    "#datasets = ['arrays.npy']\n",
    "datasets = ['arrays_bu.npy'] # burgers' equation data\n",
    "#datasets = ['arrays_bu_rv.npy'] # burgers' equation data\n",
    "\n",
    "Q0s = list()\n",
    "Q1s = list()\n",
    "rw0s = list()\n",
    "rw1s = list()\n",
    "\n",
    "### define all parameters and \"make library\"\n",
    "rho_obs = Observable(\"rho\", 0)\n",
    "sqrtrho_obs = Observable(\"sqrt(rho)\", 0)\n",
    "v_obs = Observable(\"v\", 1)\n",
    "rv_obs = Observable(\"rv\", 1)k\n",
    "observables = [rho_obs, v_obs]\n",
    "#terms = generate_terms_to(4, observables=[rho_obs, sqrtrho_obs, v_obs], max_observables=3) # generally go to 4?\n",
    "#terms = generate_terms_to(4, observables=[sqrtrho_obs, v_obs], max_observables=3)\n",
    "terms = generate_terms_to(4, observables=[observables], max_observables=3)\n",
    "#terms = generate_terms_to(4, observables=[rho_obs, rv_obs], max_observables=3)\n",
    "terms0 = []\n",
    "terms1 = []\n",
    "for term in terms:\n",
    "    if term.rank==0:\n",
    "        terms0.append(term)\n",
    "    else:\n",
    "        terms1.append(term)\n",
    "m = 6\n",
    "qmax = 1\n",
    "nweights = qmax**3\n",
    "ndomains = 200#50\n",
    "dom_width = 20\n",
    "dom_time = 20\n",
    "pad = 0\n",
    "\n",
    "# fix random seed\n",
    "np.random.seed(1)\n",
    "\n",
    "for i, dset in enumerate(datasets):\n",
    "    #rho, v, res = load(dset, 3)\n",
    "    rho, v, res, deltat = load(dset, 4) \n",
    "    #rho, rv, res, deltat = load(dset, 4) \n",
    "    world_size = np.array(rho.shape)\n",
    "    #world_size[2] = 50 # restrict to first 50 time steps\n",
    "    data_dict = {}\n",
    "    data_dict['rho'] = rho\n",
    "    data_dict['v'] = v\n",
    "    data_dict['sqrt(rho)'] = np.sqrt(rho)\n",
    "    #data_dict['rv'] = rv\n",
    "\n",
    "    dx = 1/res # inverse of res\n",
    "    dt = float(deltat) # same as deltat\n",
    "    dxs = [dx, dx, dt]\n",
    "\n",
    "    scale_dict = find_scales(data_dict)\n",
    "    #print(scale_dict)\n",
    "    \n",
    "    char_sizes0 = [get_char_size(term, scale_dict, dx, dt) for term in terms0]\n",
    "    char_sizes1 = [get_char_size(term, scale_dict, dx, dt) for term in terms1]\n",
    "\n",
    "    # precompute derivatives here?\n",
    "    # ...\n",
    "    \n",
    "    weights = []\n",
    "    dxs_weight = [(dom_width-1)/2*dx, (dom_width-1)/2*dx, (dom_time-1)/2*dt] # grid spacing used by weight function\n",
    "\n",
    "    #for domain in domains:\n",
    "    for q1 in range(qmax):\n",
    "        for q2 in range(qmax):\n",
    "            for q3 in range(qmax):\n",
    "                weights.append(Weight([m]*3, [q1, q2, q3], [0, 0, 0], dxs=dxs_weight))\n",
    "    #domains = domains*nweights\n",
    "\n",
    "    # make domains and \"count\" density\n",
    "    domains = make_domains([dom_width, dom_width, dom_time], world_size, ndomains, pad)\n",
    "\n",
    "    Q0 = make_library(terms0, data_dict, weights, domains, 0, dxs)#, by_parts=False)\n",
    "    Q1 = make_library(terms1, data_dict, weights, domains, 1, dxs)#, by_parts=False)\n",
    "    Q0s.append(Q0)\n",
    "    Q1s.append(Q1)\n",
    "    \n",
    "    ### compute row normalizations\n",
    "    # rows of Q0 are constructed in blocks of nweights*ndomains; Q1, nweights*dimensions*ndomains\n",
    "    rho_col = find_term(terms0, 'rho')\n",
    "    dom_densities = Q0[0:ndomains, rho_col] # integral of rho with the 0 harmonics weight\n",
    "    #dom_densities = [1]*ndomains\n",
    "    row_weights0 = np.tile(dom_densities, nweights)\n",
    "    # scale weights according to square root of density (to cancel CLT noise scaling)\n",
    "    row_weights0 = np.sqrt(row_weights0)\n",
    "    row_weights0 += 1e-6 # don't want it to be exactly zero either\n",
    "    # normalize\n",
    "    row_weights0 = row_weights0/np.max(row_weights0)\n",
    "    row_weights1 = np.tile(row_weights0, 2) # because of doubling for dimension\n",
    "    rw0s.append(row_weights0)\n",
    "    rw1s.append(row_weights1)\n",
    "    \n",
    "Q0 = np.concatenate(Q0s, axis=0)\n",
    "Q1 = np.concatenate(Q1s, axis=0)\n",
    "row_weights0 = np.concatenate(rw0s, axis=0)\n",
    "row_weights1 = np.concatenate(rw1s, axis=0)\n",
    "\n",
    "save('Q_bu.npy', Q0, Q1, dxs, char_sizes0, char_sizes1, terms0, terms1, row_weights0, row_weights1)"
   ]
  },
  {
   "cell_type": "code",
   "execution_count": 4,
   "id": "82a15525-a73d-431d-b62d-e6a59adcab5d",
   "metadata": {},
   "outputs": [
    {
     "name": "stdout",
     "output_type": "stream",
     "text": [
      "[3.87 s]\n",
      "Identified model: 1.0 * dt rho * dt v_i + 0.005372754888942757 * dt rho * rho * v_i = 0 (order 4, residual 2.95e-05)\n",
      "[7.45 s]\n",
      "Identified model: 1.0 * rho * dt^2 v_i = 0 (order 4, residual 4.01e-05)\n"
     ]
    }
   ],
   "source": [
    "from identify_models import *\n",
    "\n",
    "opts = dict()\n",
    "opts['threshold'] = \"'threshold'\"\n",
    "opts['gamma'] = 2\n",
    "opts['verbose'] = False\n",
    "opts['delta'] = 1e-8 # apparently this reaches machine precision as the relative error\n",
    "opts['char_sizes'] = char_sizes0\n",
    "opts1 = opts.copy()\n",
    "opts1['char_sizes'] = char_sizes1\n",
    "#eqs0, lambdas0, derived_eqs0, excluded_terms = identify_equations(Q0, opts, terms0, observables, threshold=1e-5, \n",
    "#                       max_complexity=None, max_equations=999, timed=True)\n",
    "#print(excluded_terms)\n",
    "#eqs1, lambdas1, derived_eqs1, excluded_terms = identify_equations(Q1, opts1, terms1, observables, threshold=1e-5, \n",
    "#                       max_complexity=None, max_equations=999, timed=True, excluded_terms=excluded_terms)\n",
    "#print(excluded_terms)\n",
    "eqs, lambdas, derived_eqs, excluded_terms = interleave_identify([Q0, Q1], [opts, opts1], [terms0, terms1],\n",
    "                                                                observables, threshold=1e-4)"
   ]
  },
  {
   "cell_type": "code",
   "execution_count": 3,
   "id": "8bd01fa4",
   "metadata": {},
   "outputs": [],
   "source": [
    "from ipynb.fs.full.sparse_reg import *\n",
    "opts = dict()\n",
    "opts['threshold'] = \"'pareto'\"\n",
    "#opts['verbose'] = True\n",
    "#opts['brute_force'] = False\n",
    "#opts['threshold'] = \"'threshold'\"\n",
    "#opts['n_terms'] = len(terms0)\n",
    "#opts['gamma'] = 1.2\n",
    "opts['char_sizes'] = char_sizes0\n",
    "Xi, lambd, best_term, lambda1 = sparse_reg(Q0, opts=opts)"
   ]
  },
  {
   "cell_type": "code",
   "execution_count": 4,
   "id": "dc599f66",
   "metadata": {},
   "outputs": [
    {
     "name": "stdout",
     "output_type": "stream",
     "text": [
      "[Term 21] 1.0 * dt^3 rho\n",
      "[Term 33] -0.00310537026920138 * dj^2 rho * rho\n",
      "[Term 34] 0.3948215574281788 * dt rho * rho\n",
      "[Term 37] 0.39869942669808356 * rho * rho * dj v_j\n",
      "[Term 38] 0.3749498972317281 * dj rho * rho * v_j\n",
      "Model residual: 8.882726050953584e-05\n",
      "One-term model residual: 0.00015723970981573098\n",
      "Best term (#21): dt^3 rho\n"
     ]
    }
   ],
   "source": [
    "for i in range(len(Xi)):\n",
    "    if Xi[i]!=0:\n",
    "        print(f\"[Term {i}] {Xi[i]} * {terms0[i]}\")\n",
    "print(\"Model residual:\", lambd)\n",
    "print(\"One-term model residual:\", lambda1)\n",
    "print(f\"Best term (#{best_term}):\", terms0[best_term])"
   ]
  },
  {
   "cell_type": "code",
   "execution_count": 5,
   "id": "07059c86",
   "metadata": {},
   "outputs": [
    {
     "name": "stdout",
     "output_type": "stream",
     "text": [
      "[Term 12] 1.0 * dt v_j * dt v_j\n",
      "[Term 15] -0.0036532437302029016 * dj v_k * v_j * v_k\n",
      "Model residual: 9.320023473785616e-06\n",
      "One-term model residual: 2.4963892321884583e-05\n",
      "Best term (#12): dt v_j * dt v_j\n"
     ]
    }
   ],
   "source": [
    "opts['row_norms'] = row_weights0\n",
    "Xip, lambdp, best_termp, lambda1p = sparse_reg(Q0, *opts)\n",
    "for i in range(len(Xip)):\n",
    "    if Xip[i]!=0:\n",
    "        print(f\"[Term {i}] {Xip[i]} * {terms0[i]}\")\n",
    "print(\"Model residual:\", lambdp)\n",
    "print(\"One-term model residual:\", lambda1p)\n",
    "print(f\"Best term (#{best_termp}):\", terms0[best_termp])"
   ]
  },
  {
   "cell_type": "code",
   "execution_count": 6,
   "id": "0463c55b",
   "metadata": {},
   "outputs": [
    {
     "name": "stdout",
     "output_type": "stream",
     "text": [
      "[Term 21] 1.0 * dt^3 rho\n",
      "[Term 33] -0.00310537026920138 * dj^2 rho * rho\n",
      "[Term 34] 0.3948215574281788 * dt rho * rho\n",
      "[Term 37] 0.39869942669808356 * rho * rho * dj v_j\n",
      "[Term 38] 0.3749498972317281 * dj rho * rho * v_j\n",
      "Model residual:  4.8215759067274014e-05\n",
      "One-term model residual: 6.161145626870743e-05\n",
      "Best term (#13): dt^2 v_j * v_j\n"
     ]
    }
   ],
   "source": [
    "avoid = []\n",
    "avoid.append(Xip)\n",
    "opts['avoid'] = avoid\n",
    "Xip, lambd, best_term, lambda1 = sparse_reg(Q0, *opts)\n",
    "#avoid.append(Xi)\n",
    "#Xi, lambd, best_term, lambda1 = sparse_reg(Q0, opts=opts, char_sizes=char_sizes0, avoid=avoid)\n",
    "for i in range(len(Xi)):\n",
    "    if Xi[i]!=0:\n",
    "        print(f\"[Term {i}] {Xi[i]} * {terms0[i]}\")\n",
    "print(\"Model residual: \", lambd)\n",
    "print(\"One-term model residual:\", lambda1)\n",
    "print(f\"Best term (#{best_term}):\", terms0[best_term])"
   ]
  },
  {
   "cell_type": "code",
   "execution_count": 7,
   "id": "325adb73",
   "metadata": {},
   "outputs": [],
   "source": [
    "#opts['verbose'] = True\n",
    "opts['char_sizes'] = char_sizes1\n",
    "opts['avoid'] = []\n",
    "opts['row_norms'] = None\n",
    "Xi, lambd, best_term, lambda1 = sparse_reg(Q1, *opts)"
   ]
  },
  {
   "cell_type": "code",
   "execution_count": 8,
   "id": "1c5b1a0b",
   "metadata": {},
   "outputs": [
    {
     "name": "stdout",
     "output_type": "stream",
     "text": [
      "[Term 35] 1.0 * dt rho * dt v_i\n",
      "[Term 39] -0.004415356527089719 * rho * dj v_j * v_i\n",
      "[Term 41] -0.003500865798095438 * dj rho * v_j * v_i\n",
      "Model residual: 3.166815428071119e-05\n",
      "One-term model residual: 4.4941031236945656e-05\n",
      "Best term: dt^3 v_i\n"
     ]
    }
   ],
   "source": [
    "for i in range(len(Xi)):\n",
    "    if Xi[i]!=0:\n",
    "        print(f\"[Term {i}] {Xi[i]} * {terms1[i]}\")\n",
    "print(\"Model residual:\", lambd)\n",
    "print(\"One-term model residual:\", lambda1)\n",
    "print(\"Best term:\", terms1[best_term])"
   ]
  },
  {
   "cell_type": "code",
   "execution_count": 5,
   "id": "f3ad1502",
   "metadata": {},
   "outputs": [
    {
     "ename": "NameError",
     "evalue": "name 'sparse_reg' is not defined",
     "output_type": "error",
     "traceback": [
      "\u001b[1;31m---------------------------------------------------------------------------\u001b[0m",
      "\u001b[1;31mNameError\u001b[0m                                 Traceback (most recent call last)",
      "\u001b[1;32m<ipython-input-5-a4c284cec7dc>\u001b[0m in \u001b[0;36m<module>\u001b[1;34m\u001b[0m\n\u001b[0;32m      1\u001b[0m \u001b[1;31m#avoid = []\u001b[0m\u001b[1;33m\u001b[0m\u001b[1;33m\u001b[0m\u001b[1;33m\u001b[0m\u001b[0m\n\u001b[0;32m      2\u001b[0m \u001b[1;31m#avoid.append(Xi)\u001b[0m\u001b[1;33m\u001b[0m\u001b[1;33m\u001b[0m\u001b[1;33m\u001b[0m\u001b[0m\n\u001b[1;32m----> 3\u001b[1;33m \u001b[0mXi\u001b[0m\u001b[1;33m,\u001b[0m \u001b[0mlambd\u001b[0m\u001b[1;33m,\u001b[0m \u001b[0mbest_term\u001b[0m\u001b[1;33m,\u001b[0m \u001b[0mlambda1\u001b[0m \u001b[1;33m=\u001b[0m \u001b[0msparse_reg\u001b[0m\u001b[1;33m(\u001b[0m\u001b[0mQ1\u001b[0m\u001b[1;33m,\u001b[0m \u001b[0mopts\u001b[0m\u001b[1;33m=\u001b[0m\u001b[0mopts\u001b[0m\u001b[1;33m,\u001b[0m \u001b[0mchar_sizes\u001b[0m\u001b[1;33m=\u001b[0m\u001b[0mchar_sizes1\u001b[0m\u001b[1;33m,\u001b[0m \u001b[0mavoid\u001b[0m\u001b[1;33m=\u001b[0m\u001b[0mavoid\u001b[0m\u001b[1;33m,\u001b[0m \u001b[0mrow_norms\u001b[0m\u001b[1;33m=\u001b[0m\u001b[0mrow_weights1\u001b[0m\u001b[1;33m)\u001b[0m\u001b[1;33m\u001b[0m\u001b[1;33m\u001b[0m\u001b[0m\n\u001b[0m\u001b[0;32m      4\u001b[0m \u001b[1;32mfor\u001b[0m \u001b[0mi\u001b[0m \u001b[1;32min\u001b[0m \u001b[0mrange\u001b[0m\u001b[1;33m(\u001b[0m\u001b[0mlen\u001b[0m\u001b[1;33m(\u001b[0m\u001b[0mXi\u001b[0m\u001b[1;33m)\u001b[0m\u001b[1;33m)\u001b[0m\u001b[1;33m:\u001b[0m\u001b[1;33m\u001b[0m\u001b[1;33m\u001b[0m\u001b[0m\n\u001b[0;32m      5\u001b[0m     \u001b[1;32mif\u001b[0m \u001b[0mXi\u001b[0m\u001b[1;33m[\u001b[0m\u001b[0mi\u001b[0m\u001b[1;33m]\u001b[0m\u001b[1;33m!=\u001b[0m\u001b[1;36m0\u001b[0m\u001b[1;33m:\u001b[0m\u001b[1;33m\u001b[0m\u001b[1;33m\u001b[0m\u001b[0m\n",
      "\u001b[1;31mNameError\u001b[0m: name 'sparse_reg' is not defined"
     ]
    }
   ],
   "source": [
    "#avoid = []\n",
    "#avoid.append(Xi)\n",
    "#opts['avoid'] = avoid\n",
    "opts['row_norms'] = row_weights1\n",
    "Xi, lambd, best_term, lambda1 = sparse_reg(Q1, *opts)\n",
    "for i in range(len(Xi)):\n",
    "    if Xi[i]!=0:\n",
    "        print(f\"[Term {i}] {Xi[i]} * {terms1[i]}\")\n",
    "print(\"Model residual:\", lambd)\n",
    "print(\"One-term model residual:\", lambda1)\n",
    "print(\"Best term:\", terms1[best_term])"
   ]
  },
  {
   "cell_type": "code",
   "execution_count": 6,
   "id": "3ffb458d",
   "metadata": {},
   "outputs": [
    {
     "ename": "NameError",
     "evalue": "name 'terms0' is not defined",
     "output_type": "error",
     "traceback": [
      "\u001b[1;31m---------------------------------------------------------------------------\u001b[0m",
      "\u001b[1;31mNameError\u001b[0m                                 Traceback (most recent call last)",
      "\u001b[1;32m<ipython-input-6-edd965249804>\u001b[0m in \u001b[0;36m<module>\u001b[1;34m\u001b[0m\n\u001b[1;32m----> 1\u001b[1;33m \u001b[1;32mfor\u001b[0m \u001b[0mterm\u001b[0m\u001b[1;33m,\u001b[0m \u001b[0msize\u001b[0m \u001b[1;32min\u001b[0m \u001b[0mzip\u001b[0m\u001b[1;33m(\u001b[0m\u001b[0mterms0\u001b[0m\u001b[1;33m,\u001b[0m \u001b[0mchar_sizes0\u001b[0m\u001b[1;33m)\u001b[0m\u001b[1;33m:\u001b[0m\u001b[1;33m\u001b[0m\u001b[1;33m\u001b[0m\u001b[0m\n\u001b[0m\u001b[0;32m      2\u001b[0m     \u001b[0mprint\u001b[0m\u001b[1;33m(\u001b[0m\u001b[0mterm\u001b[0m\u001b[1;33m,\u001b[0m \u001b[0msize\u001b[0m\u001b[1;33m)\u001b[0m\u001b[1;33m\u001b[0m\u001b[1;33m\u001b[0m\u001b[0m\n",
      "\u001b[1;31mNameError\u001b[0m: name 'terms0' is not defined"
     ]
    }
   ],
   "source": [
    "for term, size in zip(terms0, char_sizes0):\n",
    "    print(term, size)"
   ]
  },
  {
   "cell_type": "code",
   "execution_count": 11,
   "id": "b46a36b9",
   "metadata": {},
   "outputs": [
    {
     "data": {
      "text/plain": [
       "((200, 41), (400, 49))"
      ]
     },
     "execution_count": 11,
     "metadata": {},
     "output_type": "execute_result"
    }
   ],
   "source": [
    "Q0.shape, Q1.shape"
   ]
  },
  {
   "cell_type": "code",
   "execution_count": 12,
   "id": "cb571005",
   "metadata": {},
   "outputs": [
    {
     "name": "stdout",
     "output_type": "stream",
     "text": [
      "[Term 18] 0.9580798131049473 * dt rho. (Char. size: 0.09999999999999992)\n",
      "[Term 22] 1.0 * rho * dj v_j. (Char. size: 0.0018307660444226443)\n",
      "[Term 23] 0.957149176179876 * dj rho * v_j. (Char. size: 0.0014785126399141976)\n",
      "Model residual: 5.754352712048967e-05\n"
     ]
    }
   ],
   "source": [
    "continuity_terms = ['dt rho', 'rho * dj v_j', 'dj rho * v_j']\n",
    "#continuity_terms = ['dt rho * rho', 'rho * rho * dj v_j', 'dj rho * rho * v_j']\n",
    "#continuity_terms = ['dt rho', 'dj rv_j']\n",
    "col_numbers = [find_term(terms0, name) for name in continuity_terms]\n",
    "Xi, lambd = regress(Q0, col_numbers)\n",
    "for i in range(len(Xi)):\n",
    "    if Xi[i]!=0:\n",
    "        print(f\"[Term {i}] {Xi[i]} * {terms0[i]}. (Char. size: {char_sizes0[i]})\")\n",
    "print(\"Model residual:\", lambd)"
   ]
  },
  {
   "cell_type": "code",
   "execution_count": 13,
   "id": "88a811d7",
   "metadata": {},
   "outputs": [
    {
     "name": "stdout",
     "output_type": "stream",
     "text": [
      "[Term 32] 1.0 * rho * dt v_i. (Char. size: 0.007323064177690577)\n",
      "[Term 38] 0.9940317982966582 * rho * dj v_i * v_j. (Char. size: 0.00010827242949618395)\n",
      "Model residual: 1.379498529061086e-05\n"
     ]
    }
   ],
   "source": [
    "burger_terms = ['rho * dt v_i', 'rho * dj v_i * v_j']\n",
    "#burger_terms = ['rho * dt rv_i', 'dj rv_i * rv_j']\n",
    "col_numbers = [find_term(terms1, name) for name in burger_terms]\n",
    "Xi, lambd = regress(Q1, col_numbers)\n",
    "for i in range(len(Xi)):\n",
    "    if Xi[i]!=0:\n",
    "        print(f\"[Term {i}] {Xi[i]} * {terms1[i]}. (Char. size: {char_sizes1[i]})\")\n",
    "print(\"Model residual:\", lambd)"
   ]
  },
  {
   "cell_type": "code",
   "execution_count": 14,
   "id": "2dc69003",
   "metadata": {},
   "outputs": [
    {
     "name": "stdout",
     "output_type": "stream",
     "text": [
      "[Term 16] -0.004286563115825593 * rho. (Char. size: 0.1464261231728444)\n",
      "[Term 28] 1.0 * rho * v_j * v_j. (Char. size: 0.0005121399208783936)\n",
      "Model residual: 0.0005697337514007149\n"
     ]
    }
   ],
   "source": [
    "#veqconst_terms = ['1', 'v_j * v_j']\n",
    "veqconst_terms = ['rho', 'rho * v_j * v_j']\n",
    "col_numbers = [find_term(terms0, name) for name in veqconst_terms]\n",
    "Xi, lambd = regress(Q0, col_numbers)\n",
    "for i in range(len(Xi)):\n",
    "    if Xi[i]!=0:\n",
    "        print(f\"[Term {i}] {Xi[i]} * {terms0[i]}. (Char. size: {char_sizes0[i]})\")\n",
    "print(\"Model residual:\", lambd)"
   ]
  },
  {
   "cell_type": "code",
   "execution_count": 15,
   "id": "2737320e",
   "metadata": {},
   "outputs": [
    {
     "ename": "ValueError",
     "evalue": "'di dj v_j * v_k * v_k' is not in list",
     "output_type": "error",
     "traceback": [
      "\u001b[1;31m---------------------------------------------------------------------------\u001b[0m",
      "\u001b[1;31mValueError\u001b[0m                                Traceback (most recent call last)",
      "\u001b[1;32m<ipython-input-15-a83a1f7d7086>\u001b[0m in \u001b[0;36m<module>\u001b[1;34m\u001b[0m\n\u001b[0;32m      1\u001b[0m \u001b[0mdup_terms\u001b[0m \u001b[1;33m=\u001b[0m \u001b[1;33m[\u001b[0m\u001b[1;34m'di dj v_j * v_k * v_k'\u001b[0m\u001b[1;33m,\u001b[0m \u001b[1;34m'di dj v_k * v_j * v_k'\u001b[0m\u001b[1;33m]\u001b[0m\u001b[1;33m\u001b[0m\u001b[1;33m\u001b[0m\u001b[0m\n\u001b[1;32m----> 2\u001b[1;33m \u001b[0mcol_numbers\u001b[0m \u001b[1;33m=\u001b[0m \u001b[1;33m[\u001b[0m\u001b[0mfind_term\u001b[0m\u001b[1;33m(\u001b[0m\u001b[0mterms1\u001b[0m\u001b[1;33m,\u001b[0m \u001b[0mname\u001b[0m\u001b[1;33m)\u001b[0m \u001b[1;32mfor\u001b[0m \u001b[0mname\u001b[0m \u001b[1;32min\u001b[0m \u001b[0mdup_terms\u001b[0m\u001b[1;33m]\u001b[0m\u001b[1;33m\u001b[0m\u001b[1;33m\u001b[0m\u001b[0m\n\u001b[0m\u001b[0;32m      3\u001b[0m \u001b[0mXi\u001b[0m\u001b[1;33m,\u001b[0m \u001b[0mlambd\u001b[0m \u001b[1;33m=\u001b[0m \u001b[0mregress\u001b[0m\u001b[1;33m(\u001b[0m\u001b[0mQ1\u001b[0m\u001b[1;33m,\u001b[0m \u001b[0mcol_numbers\u001b[0m\u001b[1;33m)\u001b[0m\u001b[1;33m\u001b[0m\u001b[1;33m\u001b[0m\u001b[0m\n\u001b[0;32m      4\u001b[0m \u001b[1;32mfor\u001b[0m \u001b[0mi\u001b[0m \u001b[1;32min\u001b[0m \u001b[0mrange\u001b[0m\u001b[1;33m(\u001b[0m\u001b[0mlen\u001b[0m\u001b[1;33m(\u001b[0m\u001b[0mXi\u001b[0m\u001b[1;33m)\u001b[0m\u001b[1;33m)\u001b[0m\u001b[1;33m:\u001b[0m\u001b[1;33m\u001b[0m\u001b[1;33m\u001b[0m\u001b[0m\n\u001b[0;32m      5\u001b[0m     \u001b[1;32mif\u001b[0m \u001b[0mXi\u001b[0m\u001b[1;33m[\u001b[0m\u001b[0mi\u001b[0m\u001b[1;33m]\u001b[0m\u001b[1;33m!=\u001b[0m\u001b[1;36m0\u001b[0m\u001b[1;33m:\u001b[0m\u001b[1;33m\u001b[0m\u001b[1;33m\u001b[0m\u001b[0m\n",
      "\u001b[1;32m<ipython-input-15-a83a1f7d7086>\u001b[0m in \u001b[0;36m<listcomp>\u001b[1;34m(.0)\u001b[0m\n\u001b[0;32m      1\u001b[0m \u001b[0mdup_terms\u001b[0m \u001b[1;33m=\u001b[0m \u001b[1;33m[\u001b[0m\u001b[1;34m'di dj v_j * v_k * v_k'\u001b[0m\u001b[1;33m,\u001b[0m \u001b[1;34m'di dj v_k * v_j * v_k'\u001b[0m\u001b[1;33m]\u001b[0m\u001b[1;33m\u001b[0m\u001b[1;33m\u001b[0m\u001b[0m\n\u001b[1;32m----> 2\u001b[1;33m \u001b[0mcol_numbers\u001b[0m \u001b[1;33m=\u001b[0m \u001b[1;33m[\u001b[0m\u001b[0mfind_term\u001b[0m\u001b[1;33m(\u001b[0m\u001b[0mterms1\u001b[0m\u001b[1;33m,\u001b[0m \u001b[0mname\u001b[0m\u001b[1;33m)\u001b[0m \u001b[1;32mfor\u001b[0m \u001b[0mname\u001b[0m \u001b[1;32min\u001b[0m \u001b[0mdup_terms\u001b[0m\u001b[1;33m]\u001b[0m\u001b[1;33m\u001b[0m\u001b[1;33m\u001b[0m\u001b[0m\n\u001b[0m\u001b[0;32m      3\u001b[0m \u001b[0mXi\u001b[0m\u001b[1;33m,\u001b[0m \u001b[0mlambd\u001b[0m \u001b[1;33m=\u001b[0m \u001b[0mregress\u001b[0m\u001b[1;33m(\u001b[0m\u001b[0mQ1\u001b[0m\u001b[1;33m,\u001b[0m \u001b[0mcol_numbers\u001b[0m\u001b[1;33m)\u001b[0m\u001b[1;33m\u001b[0m\u001b[1;33m\u001b[0m\u001b[0m\n\u001b[0;32m      4\u001b[0m \u001b[1;32mfor\u001b[0m \u001b[0mi\u001b[0m \u001b[1;32min\u001b[0m \u001b[0mrange\u001b[0m\u001b[1;33m(\u001b[0m\u001b[0mlen\u001b[0m\u001b[1;33m(\u001b[0m\u001b[0mXi\u001b[0m\u001b[1;33m)\u001b[0m\u001b[1;33m)\u001b[0m\u001b[1;33m:\u001b[0m\u001b[1;33m\u001b[0m\u001b[1;33m\u001b[0m\u001b[0m\n\u001b[0;32m      5\u001b[0m     \u001b[1;32mif\u001b[0m \u001b[0mXi\u001b[0m\u001b[1;33m[\u001b[0m\u001b[0mi\u001b[0m\u001b[1;33m]\u001b[0m\u001b[1;33m!=\u001b[0m\u001b[1;36m0\u001b[0m\u001b[1;33m:\u001b[0m\u001b[1;33m\u001b[0m\u001b[1;33m\u001b[0m\u001b[0m\n",
      "\u001b[1;32m<ipython-input-1-9f9faf42b12e>\u001b[0m in \u001b[0;36mfind_term\u001b[1;34m(term_list, string)\u001b[0m\n\u001b[0;32m    342\u001b[0m \u001b[1;33m\u001b[0m\u001b[0m\n\u001b[0;32m    343\u001b[0m \u001b[1;32mdef\u001b[0m \u001b[0mfind_term\u001b[0m\u001b[1;33m(\u001b[0m\u001b[0mterm_list\u001b[0m\u001b[1;33m,\u001b[0m \u001b[0mstring\u001b[0m\u001b[1;33m)\u001b[0m\u001b[1;33m:\u001b[0m \u001b[1;31m# find index of term in list matching string\u001b[0m\u001b[1;33m\u001b[0m\u001b[1;33m\u001b[0m\u001b[0m\n\u001b[1;32m--> 344\u001b[1;33m     \u001b[1;32mreturn\u001b[0m \u001b[1;33m[\u001b[0m\u001b[0melt\u001b[0m\u001b[1;33m.\u001b[0m\u001b[0m__repr__\u001b[0m\u001b[1;33m(\u001b[0m\u001b[1;33m)\u001b[0m \u001b[1;32mfor\u001b[0m \u001b[0melt\u001b[0m \u001b[1;32min\u001b[0m \u001b[0mterm_list\u001b[0m\u001b[1;33m]\u001b[0m\u001b[1;33m.\u001b[0m\u001b[0mindex\u001b[0m\u001b[1;33m(\u001b[0m\u001b[0mstring\u001b[0m\u001b[1;33m)\u001b[0m\u001b[1;33m\u001b[0m\u001b[1;33m\u001b[0m\u001b[0m\n\u001b[0m",
      "\u001b[1;31mValueError\u001b[0m: 'di dj v_j * v_k * v_k' is not in list"
     ]
    }
   ],
   "source": [
    "dup_terms = ['di dj v_j * v_k * v_k', 'di dj v_k * v_j * v_k']\n",
    "col_numbers = [find_term(terms1, name) for name in dup_terms]\n",
    "Xi, lambd = regress(Q1, col_numbers)\n",
    "for i in range(len(Xi)):\n",
    "    if Xi[i]!=0:\n",
    "        print(f\"[Term {i}] {Xi[i]} * {terms1[i]}. (Char. size: {char_sizes1[i]})\")\n",
    "print(\"Model residual:\", lambd)"
   ]
  },
  {
   "cell_type": "code",
   "execution_count": null,
   "id": "870e63df",
   "metadata": {},
   "outputs": [],
   "source": [
    "rho dt^2 v = 10^-4 dt rho * grad rho"
   ]
  }
 ],
 "metadata": {
  "kernelspec": {
   "display_name": "Python 3 (ipykernel)",
   "language": "python",
   "name": "python3"
  },
  "language_info": {
   "codemirror_mode": {
    "name": "ipython",
    "version": 3
   },
   "file_extension": ".py",
   "mimetype": "text/x-python",
   "name": "python",
   "nbconvert_exporter": "python",
   "pygments_lexer": "ipython3",
   "version": "3.7.6"
  }
 },
 "nbformat": 4,
 "nbformat_minor": 5
}
