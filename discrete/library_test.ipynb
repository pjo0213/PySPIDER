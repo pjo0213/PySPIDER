{
 "cells": [
  {
   "cell_type": "code",
   "execution_count": 5,
   "metadata": {},
   "outputs": [
    {
     "name": "stdout",
     "output_type": "stream",
     "text": [
      "1\n"
     ]
    }
   ],
   "source": [
    "# to do: update is_canonical setting in continuous code\n",
    "# port improved checks for already canonical\n",
    "# fix special_bigger\n",
    "\n",
    "from library import *\n",
    "\n",
    "uobs = Observable('u', 1)\n",
    "vobs = Observable('v', 1)\n",
    "pobs = Observable('p', 0)\n",
    "#observables = [uobs, vobs, pobs]\n",
    "observables = [uobs]\n",
    "\n",
    "### define all parameters and \"make library\"\n",
    "#terms = generate_terms_to(4, observables=observables, max_observables=4)\n",
    "terms = generate_terms_to(4, observables=observables, max_observables=4)\n",
    "\n",
    "terms0 = []\n",
    "terms1 = []\n",
    "for term in terms:\n",
    "    if term.rank==0:\n",
    "        #if term.complexity <= 4:\n",
    "            terms0.append(term)\n",
    "    else:\n",
    "        #if term.complexity <= 4:\n",
    "            terms1.append(term)"
   ]
  },
  {
   "cell_type": "code",
   "execution_count": 6,
   "metadata": {},
   "outputs": [
    {
     "name": "stdout",
     "output_type": "stream",
     "text": [
      "***Rank 0 library***\n",
      "1 1\n",
      "dj rho[u_j] 3\n",
      "dt dj rho[u_j] 4\n",
      "rho[u_j] * rho[u_j] 4\n",
      "rho[u_j * u_j] 3\n",
      "dt rho[u_j] * rho[u_j] 5\n",
      "dt rho[u_j * u_j] 4\n",
      "\n",
      "***Rank 1 library***\n",
      "rho[u_i] 2\n",
      "di dj rho[u_j] 4\n",
      "dj^2 rho[u_i] 4\n",
      "dt rho[u_i] 3\n",
      "dt^2 rho[u_i] 4\n",
      "di rho[u_j] * rho[u_j] 5\n",
      "dj rho[u_i] * rho[u_j] 5\n",
      "dj rho[u_j] * rho[u_i] 5\n",
      "di rho[u_j * u_j] 4\n",
      "dj rho[u_i * u_j] 4\n",
      "rho[u_i] * rho[u_j] * rho[u_j] 6\n",
      "rho[u_i * u_j] * rho[u_j] 5\n",
      "rho[u_i * u_j * u_j] 4\n",
      "7 13\n"
     ]
    }
   ],
   "source": [
    "print(\"***Rank 0 library***\")\n",
    "for term in terms0:\n",
    "    print(term, term.complexity)\n",
    "print(\"\\n***Rank 1 library***\")\n",
    "for term in terms1:\n",
    "    print(term, term.complexity)\n",
    "print(len(terms0), len(terms1))"
   ]
  },
  {
   "cell_type": "code",
   "execution_count": 14,
   "metadata": {},
   "outputs": [
    {
     "name": "stdout",
     "output_type": "stream",
     "text": [
      "rho[u * u * v]\n"
     ]
    }
   ],
   "source": [
    "cgp = CoarseGrainedPrimitive([uobs, uobs, vobs])\n",
    "cgp2 = CoarseGrainedPrimitive([uobs, vobs, vobs])\n",
    "print(cgp)"
   ]
  },
  {
   "cell_type": "code",
   "execution_count": 15,
   "metadata": {},
   "outputs": [
    {
     "name": "stdout",
     "output_type": "stream",
     "text": [
      "rho[u_k * u_j * v_k]\n",
      "[1, 2, 2]\n",
      "[1, 2, 0]\n",
      "[2, 1, 2]\n",
      "[2, 0, 1]\n"
     ]
    }
   ],
   "source": [
    "print(cgp.index_str([2, 1, 2]))\n",
    "print(cgp.index_canon([2, 1, 2]))\n",
    "print(cgp.index_canon([2, 1, 0]))\n",
    "print(cgp2.index_canon([2, 1, 2]))\n",
    "print(cgp2.index_canon([2, 1, 0]))"
   ]
  },
  {
   "cell_type": "code",
   "execution_count": 23,
   "metadata": {},
   "outputs": [
    {
     "name": "stdout",
     "output_type": "stream",
     "text": [
      "{1: [(0, 0), (2, 0)], 3: [(0, 1), (2, 2)], 5: [(0, 2), (3, 1)], 6: [(1, 0), (1, 2)], 4: [(1, 1), (2, 1)], 2: [(3, 0), (3, 2)]}\n"
     ]
    }
   ],
   "source": [
    "labels = ordered_index_list_to_labels([[1, 3, 5], [6, 4, 6], [1, 4, 3], [2, 5, 2]])\n",
    "print(labels)"
   ]
  },
  {
   "cell_type": "code",
   "execution_count": 26,
   "metadata": {},
   "outputs": [
    {
     "data": {
      "text/plain": [
       "[[1, 3, 5], [6, 4, 6], [1, 4, 3], [2, 5, 2]]"
      ]
     },
     "execution_count": 26,
     "metadata": {},
     "output_type": "execute_result"
    }
   ],
   "source": [
    "labels_to_ordered_index_list(labels, [3]*4)"
   ]
  },
  {
   "cell_type": "code",
   "execution_count": null,
   "metadata": {},
   "outputs": [],
   "source": []
  }
 ],
 "metadata": {
  "kernelspec": {
   "display_name": "Python 3 (ipykernel)",
   "language": "python",
   "name": "python3"
  },
  "language_info": {
   "codemirror_mode": {
    "name": "ipython",
    "version": 3
   },
   "file_extension": ".py",
   "mimetype": "text/x-python",
   "name": "python",
   "nbconvert_exporter": "python",
   "pygments_lexer": "ipython3",
   "version": "3.7.6"
  }
 },
 "nbformat": 4,
 "nbformat_minor": 4
}
