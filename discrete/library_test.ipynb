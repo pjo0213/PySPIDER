{
 "cells": [
  {
   "cell_type": "code",
   "execution_count": 1,
   "metadata": {
    "tags": [],
    "pycharm": {
     "name": "#%%\n"
    }
   },
   "outputs": [],
   "source": [
    "# to do: update is_canonical setting in continuous code\n",
    "# port improved checks for already canonical\n",
    "# fix special_bigger\n",
    "# (pretty sure they're all done)\n",
    "\n",
    "from library import *\n",
    "from utils import *\n",
    "\n",
    "uobs = Observable('u', 1)\n",
    "vobs = Observable('v', 1)\n",
    "pobs = Observable('p', 0)\n",
    "#observables = [uobs, vobs, pobs]\n",
    "observables = [uobs]\n",
    "\n",
    "### define all parameters and \"make library\"\n",
    "N = 6\n",
    "terms = generate_terms_to(N, observables=observables, max_observables=4)\n",
    "\n",
    "terms0 = []\n",
    "terms1 = []\n",
    "for term in terms:\n",
    "    if term.rank==0:\n",
    "        if term.complexity <= N:\n",
    "            terms0.append(term)\n",
    "    else:\n",
    "        if term.complexity <= N:\n",
    "            terms1.append(term)"
   ]
  },
  {
   "cell_type": "code",
   "execution_count": 31,
   "metadata": {
    "pycharm": {
     "name": "#%%\n"
    }
   },
   "outputs": [
    {
     "name": "stdout",
     "output_type": "stream",
     "text": [
      "[1 2] [1 2]\n",
      "[[ 6  8]\n",
      " [13 17]]\n",
      "[[[ 6 24]\n",
      "  [ 8 32]]\n",
      "\n",
      " [[13 52]\n",
      "  [17 68]]]\n",
      "[2 4]\n",
      "[1 2]\n"
     ]
    }
   ],
   "source": [
    "x = np.array([[1, 2, 3], [4, 6, 8], [9, 13, 17]])\n",
    "y = np.dstack([x, 2*x, 4*x])\n",
    "a = np.array(np.arange(1, 3))\n",
    "b = np.array(np.arange(1, 3))\n",
    "c = np.array([0, 2])\n",
    "ind1 = (a[:, np.newaxis], b)\n",
    "ind2 = (a[:, np.newaxis, np.newaxis], b[:, np.newaxis], c)\n",
    "print(a, b)\n",
    "print(x[ind1])\n",
    "print(y[ind2])\n",
    "print(np.multiply.outer(2, np.array([1, 2])))\n",
    "n_free_dims=0\n",
    "print(np.expand_dims(a, axis=tuple(range(1, 1+n_free_dims))))"
   ]
  },
  {
   "cell_type": "code",
   "execution_count": 2,
   "metadata": {
    "pycharm": {
     "name": "#%%\n"
    }
   },
   "outputs": [
    {
     "name": "stdout",
     "output_type": "stream",
     "text": [
      "***Rank 0 library***\n",
      "1 1\n",
      "rho 1.33\n",
      "dj^2 rho 3.33\n",
      "dj^2 dk^2 rho 5.33\n",
      "dt rho 2.33\n",
      "dt dj^2 rho 4.33\n",
      "dt^2 rho 3.33\n",
      "dt^2 dj^2 rho 5.33\n",
      "dt^3 rho 4.33\n",
      "dt^4 rho 5.33\n",
      "rho * rho 2.66\n",
      "rho * dj^2 rho 4.66\n",
      "rho * dt rho 3.66\n",
      "rho * dt dj^2 rho 5.66\n",
      "rho * dt^2 rho 4.66\n",
      "rho * dt^3 rho 5.66\n",
      "rho * rho * rho 3.99\n",
      "rho * rho * dj^2 rho 5.99\n",
      "rho * rho * dt rho 4.99\n",
      "rho * rho * dt^2 rho 5.99\n",
      "rho * rho * rho * rho 5.32\n",
      "dj rho[u_j] 3\n",
      "dj^2 dk rho[u_k] 5\n",
      "dt dj rho[u_j] 4\n",
      "dt dj^2 dk rho[u_k] 6\n",
      "dt^2 dj rho[u_j] 5\n",
      "dt^3 dj rho[u_j] 6\n",
      "rho * dj rho[u_j] 4.33\n",
      "rho * dt dj rho[u_j] 5.33\n",
      "rho * rho * dj rho[u_j] 5.66\n",
      "rho[u_j * u_j] 3\n",
      "dj^2 rho[u_k * u_k] 5\n",
      "dj dk rho[u_j * u_k] 5\n",
      "dt rho[u_j * u_j] 4\n",
      "dt dj^2 rho[u_k * u_k] 6\n",
      "dt dj dk rho[u_j * u_k] 6\n",
      "dt^2 rho[u_j * u_j] 5\n",
      "dt^3 rho[u_j * u_j] 6\n",
      "rho[u_j] * rho[u_j] 4\n",
      "rho * rho[u_j * u_j] 4.33\n",
      "dj rho[u_j] * dk rho[u_k] 6\n",
      "dj rho[u_k] * dj rho[u_k] 6\n",
      "dj rho[u_k] * dk rho[u_j] 6\n",
      "rho[u_j] * dj dk rho[u_k] 6\n",
      "rho[u_j] * dk^2 rho[u_j] 6\n",
      "rho[u_j] * dt rho[u_j] 5\n",
      "dt rho * rho[u_j * u_j] 5.33\n",
      "rho * dt rho[u_j * u_j] 5.33\n",
      "dt rho[u_j] * dt rho[u_j] 6\n",
      "rho[u_j] * dt^2 rho[u_j] 6\n",
      "rho * rho[u_j] * rho[u_j] 5.33\n",
      "rho * rho * rho[u_j * u_j] 5.66\n",
      "dj rho[u_j * u_k * u_k] 5\n",
      "dt dj rho[u_j * u_k * u_k] 6\n",
      "dj rho[u_j] * rho[u_k * u_k] 6\n",
      "dj rho[u_k] * rho[u_j * u_k] 6\n",
      "rho[u_j] * dj rho[u_k * u_k] 6\n",
      "rho[u_j] * dk rho[u_j * u_k] 6\n",
      "rho[u_j * u_j * u_k * u_k] 5\n",
      "dt rho[u_j * u_j * u_k * u_k] 6\n",
      "rho[u_j * u_j] * rho[u_k * u_k] 6\n",
      "rho[u_j * u_k] * rho[u_j * u_k] 6\n",
      "rho[u_j] * rho[u_j * u_k * u_k] 6\n",
      "\n",
      "***Rank 1 library***\n",
      "di rho 2.33\n",
      "di dj^2 rho 4.33\n",
      "dt di rho 3.33\n",
      "dt di dj^2 rho 5.33\n",
      "dt^2 di rho 4.33\n",
      "dt^3 di rho 5.33\n",
      "rho * di rho 3.66\n",
      "rho * di dj^2 rho 5.66\n",
      "rho * dt di rho 4.66\n",
      "rho * dt^2 di rho 5.66\n",
      "rho * rho * di rho 4.99\n",
      "rho * rho * dt di rho 5.99\n",
      "rho[u_i] 2\n",
      "di dj rho[u_j] 4\n",
      "dj^2 rho[u_i] 4\n",
      "di dj^2 dk rho[u_k] 6\n",
      "dj^2 dk^2 rho[u_i] 6\n",
      "dt rho[u_i] 3\n",
      "dt di dj rho[u_j] 5\n",
      "dt dj^2 rho[u_i] 5\n",
      "dt^2 rho[u_i] 4\n",
      "dt^2 di dj rho[u_j] 6\n",
      "dt^2 dj^2 rho[u_i] 6\n",
      "dt^3 rho[u_i] 5\n",
      "dt^4 rho[u_i] 6\n",
      "rho * rho[u_i] 3.33\n",
      "rho * di dj rho[u_j] 5.33\n",
      "rho * dj^2 rho[u_i] 5.33\n",
      "rho * dt rho[u_i] 4.33\n",
      "rho * dt^2 rho[u_i] 5.33\n",
      "rho * rho * rho[u_i] 4.66\n",
      "rho * rho * dt rho[u_i] 5.66\n",
      "rho * rho * rho * rho[u_i] 5.99\n",
      "di rho[u_j * u_j] 4\n",
      "dj rho[u_i * u_j] 4\n",
      "di dj^2 rho[u_k * u_k] 6\n",
      "di dj dk rho[u_j * u_k] 6\n",
      "dj^2 dk rho[u_i * u_k] 6\n",
      "dt di rho[u_j * u_j] 5\n",
      "dt dj rho[u_i * u_j] 5\n",
      "dt^2 di rho[u_j * u_j] 6\n",
      "dt^2 dj rho[u_i * u_j] 6\n",
      "rho[u_i] * dj rho[u_j] 5\n",
      "rho[u_j] * di rho[u_j] 5\n",
      "rho[u_j] * dj rho[u_i] 5\n",
      "di rho * rho[u_j * u_j] 5.33\n",
      "dj rho * rho[u_i * u_j] 5.33\n",
      "rho * di rho[u_j * u_j] 5.33\n",
      "rho * dj rho[u_i * u_j] 5.33\n",
      "di rho[u_j] * dt rho[u_j] 6\n",
      "dj rho[u_i] * dt rho[u_j] 6\n",
      "dj rho[u_j] * dt rho[u_i] 6\n",
      "rho[u_i] * dt dj rho[u_j] 6\n",
      "rho[u_j] * dt di rho[u_j] 6\n",
      "rho[u_j] * dt dj rho[u_i] 6\n",
      "rho[u_i * u_j * u_j] 4\n",
      "di dj rho[u_j * u_k * u_k] 6\n",
      "dj^2 rho[u_i * u_k * u_k] 6\n",
      "dj dk rho[u_i * u_j * u_k] 6\n",
      "dt rho[u_i * u_j * u_j] 5\n",
      "dt^2 rho[u_i * u_j * u_j] 6\n",
      "rho[u_i] * rho[u_j * u_j] 5\n",
      "rho[u_j] * rho[u_i * u_j] 5\n",
      "rho * rho[u_i * u_j * u_j] 5.33\n",
      "dt rho[u_i] * rho[u_j * u_j] 6\n",
      "dt rho[u_j] * rho[u_i * u_j] 6\n",
      "rho[u_i] * dt rho[u_j * u_j] 6\n",
      "rho[u_j] * dt rho[u_i * u_j] 6\n",
      "rho[u_i] * rho[u_j] * rho[u_j] 6\n",
      "di rho[u_j * u_j * u_k * u_k] 6\n",
      "dj rho[u_i * u_j * u_k * u_k] 6\n",
      "63 71\n"
     ]
    }
   ],
   "source": [
    "print(\"***Rank 0 library***\")\n",
    "for term in terms0:\n",
    "    print(term, term.complexity)\n",
    "print(\"\\n***Rank 1 library***\")\n",
    "for term in terms1:\n",
    "    print(term, term.complexity)\n",
    "print(len(terms0), len(terms1))"
   ]
  },
  {
   "cell_type": "code",
   "execution_count": 4,
   "metadata": {
    "pycharm": {
     "name": "#%%\n"
    }
   },
   "outputs": [
    {
     "name": "stdout",
     "output_type": "stream",
     "text": [
      "[1, 1, 2, 1, 2, 3]\n",
      "(1, 2, 3, 4)\n"
     ]
    }
   ],
   "source": [
    "print([x for y in range(1,5) for x in range(1,y)])\n",
    "print((1,2)+(3,4))"
   ]
  },
  {
   "cell_type": "code",
   "execution_count": 5,
   "metadata": {
    "pycharm": {
     "name": "#%%\n"
    }
   },
   "outputs": [
    {
     "name": "stdout",
     "output_type": "stream",
     "text": [
      "rho[u * u * v]\n"
     ]
    }
   ],
   "source": [
    "cgp = CoarseGrainedPrimitive([uobs, uobs, vobs])\n",
    "cgp2 = CoarseGrainedPrimitive([uobs, vobs, vobs])\n",
    "print(cgp)"
   ]
  },
  {
   "cell_type": "code",
   "execution_count": 15,
   "metadata": {
    "pycharm": {
     "name": "#%%\n"
    }
   },
   "outputs": [
    {
     "name": "stdout",
     "output_type": "stream",
     "text": [
      "rho[u_k * u_j * v_k]\n",
      "[1, 2, 2]\n",
      "[1, 2, 0]\n",
      "[2, 1, 2]\n",
      "[2, 0, 1]\n"
     ]
    }
   ],
   "source": [
    "print(cgp.index_str([2, 1, 2]))\n",
    "print(cgp.index_canon([2, 1, 2]))\n",
    "print(cgp.index_canon([2, 1, 0]))\n",
    "print(cgp2.index_canon([2, 1, 2]))\n",
    "print(cgp2.index_canon([2, 1, 0]))"
   ]
  },
  {
   "cell_type": "code",
   "execution_count": 23,
   "metadata": {
    "pycharm": {
     "name": "#%%\n"
    }
   },
   "outputs": [
    {
     "name": "stdout",
     "output_type": "stream",
     "text": [
      "{1: [(0, 0), (2, 0)], 3: [(0, 1), (2, 2)], 5: [(0, 2), (3, 1)], 6: [(1, 0), (1, 2)], 4: [(1, 1), (2, 1)], 2: [(3, 0), (3, 2)]}\n"
     ]
    }
   ],
   "source": [
    "labels = ordered_index_list_to_labels([[1, 3, 5], [6, 4, 6], [1, 4, 3], [2, 5, 2]])\n",
    "print(labels)"
   ]
  },
  {
   "cell_type": "code",
   "execution_count": 26,
   "metadata": {
    "pycharm": {
     "name": "#%%\n"
    }
   },
   "outputs": [
    {
     "data": {
      "text/plain": [
       "[[1, 3, 5], [6, 4, 6], [1, 4, 3], [2, 5, 2]]"
      ]
     },
     "execution_count": 26,
     "metadata": {},
     "output_type": "execute_result"
    }
   ],
   "source": [
    "labels_to_ordered_index_list(labels, [3]*4)"
   ]
  },
  {
   "cell_type": "code",
   "execution_count": 3,
   "metadata": {},
   "outputs": [
    {
     "name": "stdout",
     "output_type": "stream",
     "text": [
      "dj rho[u_i * u_k] * rho\n",
      "rho * dj rho[u_i * u_k]\n",
      "False\n",
      "True\n",
      "[rho, dx rho[u * u]]\n",
      "2.0 * rho * dj rho[u_i * u_k] + -1.0 * rho * rho = 0\n"
     ]
    }
   ],
   "source": [
    "obs_dict = {'u': uobs}\n",
    "lt = construct_from_string(\"dj rho[u_i * u_k] @ rho\", \"LT\", obs_dict)\n",
    "print(lt)\n",
    "print(lt.structure_canonicalize())\n",
    "print(lt.obs_list[0] < lt.obs_list[1])\n",
    "print(lt.obs_list[1] < lt.obs_list[0])\n",
    "print(sorted(lt.obs_list, reverse=False))\n",
    "eq = construct_from_string(\"2 * dj rho[u_i * u_k] @ rho + -1 * rho @ rho\", \"EQ\", obs_dict)\n",
    "print(eq)"
   ]
  },
  {
   "cell_type": "code",
   "execution_count": null,
   "metadata": {
    "pycharm": {
     "name": "#%%\n"
    }
   },
   "outputs": [],
   "source": []
  }
 ],
 "metadata": {
  "kernelspec": {
   "display_name": "Python 3 (ipykernel)",
   "language": "python",
   "name": "python3"
  },
  "language_info": {
   "codemirror_mode": {
    "name": "ipython",
    "version": 3
   },
   "file_extension": ".py",
   "mimetype": "text/x-python",
   "name": "python",
   "nbconvert_exporter": "python",
   "pygments_lexer": "ipython3",
   "version": "3.7.13"
  }
 },
 "nbformat": 4,
 "nbformat_minor": 4
}