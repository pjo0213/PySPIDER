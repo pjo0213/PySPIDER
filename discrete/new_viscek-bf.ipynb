{
 "cells": [
  {
   "cell_type": "code",
   "execution_count": 1,
   "id": "711aab73-b816-4191-9534-a5819c579808",
   "metadata": {},
   "outputs": [],
   "source": [
    "# in case there are any problems with importing because path is wrong\n",
    "import sys\n",
    "sys.path.append('C:/Users/nerpa/Dropbox (Personal)/Research/discrete_sr/code/SPIDER_discrete')"
   ]
  },
  {
   "cell_type": "code",
   "execution_count": 2,
   "id": "e9866012",
   "metadata": {},
   "outputs": [],
   "source": [
    "import numpy as np\n",
    "\n",
    "from commons.weight import *\n",
    "from utils import save, load\n",
    "from library import *\n",
    "from process_library_terms import *"
   ]
  },
  {
   "cell_type": "code",
   "execution_count": 42,
   "id": "6cfca3bf",
   "metadata": {
    "scrolled": true,
    "tags": []
   },
   "outputs": [
    {
     "name": "stdout",
     "output_type": "stream",
     "text": [
      "<class 'netCDF4._netCDF4.Dataset'>\n",
      "root group (NETCDF3_CLASSIC data model, file format NETCDF3):\n",
      "    dimensions(sizes): rec(1000), Nv(100000), dof(200000), boxdim(4), unit(1)\n",
      "    variables(dimensions): float64 time(rec, unit), float64 means0(rec, unit), float64 pos(rec, dof), int32 type(rec, Nv), float64 director(rec, Nv), float64 BoxMatrix(rec, boxdim)\n",
      "    groups: \n",
      "1000 100000\n",
      "(1000, 100000)\n",
      "(100000, 2, 1000)\n",
      "(100000, 2, 1000)\n",
      "[ 223.607  223.607 1000.   ]\n"
     ]
    }
   ],
   "source": [
    "import netCDF4 as nc\n",
    "\n",
    "dataset = 'viscek/N=100000_rho=2.000_v=0.500_alpha=6.000_delta=0.150_t0=10000000_tf=10100000_dt=0.010_T=100_g=0.nc'\n",
    "#dataset = 'viscek/N=100000_rho=2.000_v=0.500_alpha=6.000_delta=0.200_t0=10000000_tf=10100000_dt=0.010_T=100_g=0.nc'\n",
    "#dataset = 'viscek/N=100000_rho=2.000_v=0.500_alpha=6.000_delta=0.300_t0=10000000_tf=10100000_dt=0.010_T=100_g=0.nc'\n",
    "\n",
    "# (don't interpolate)\n",
    "\n",
    "ds = nc.Dataset(dataset)\n",
    "print(ds)\n",
    "\n",
    "nt = len(ds.dimensions[\"rec\"])\n",
    "n_particles = len(ds.dimensions[\"Nv\"])\n",
    "print(nt, n_particles)\n",
    "deltat = 1\n",
    "# deltat = 0.01\n",
    "v = 0.5\n",
    "positions = np.array(ds.variables[\"pos\"]).T.astype('float64')\n",
    "positions = np.reshape(positions, (n_particles, 2, nt))\n",
    "positions -= np.min(positions[:]) # recenter positions to [0, L]\n",
    "directors = np.array(ds.variables[\"director\"]).astype('float64')\n",
    "vs = v*np.stack([np.cos(directors), np.sin(directors)], axis=1).T\n",
    "print(directors.shape)\n",
    "print(positions.shape)\n",
    "print(vs.shape)\n",
    "dims = [np.max(positions[:]), nt]\n",
    "world_size = np.array([dims[0], dims[0], dims[1]])\n",
    "print(world_size)"
   ]
  },
  {
   "cell_type": "code",
   "execution_count": null,
   "id": "9f45a3cb-6550-4ecc-ba88-3d33f64e8b7b",
   "metadata": {
    "tags": []
   },
   "outputs": [
    {
     "name": "stdout",
     "output_type": "stream",
     "text": [
      "0\n",
      "0\n",
      "0\n",
      "10\n",
      "20\n",
      "30\n",
      "40\n",
      "50\n",
      "60\n",
      "70\n"
     ]
    }
   ],
   "source": [
    "import matplotlib.pyplot as plt\n",
    "from matplotlib import animation\n",
    "from matplotlib.animation import FuncAnimation\n",
    "from IPython.display import HTML\n",
    "plt.rcParams['animation.ffmpeg_path'] = 'C:/Users/nerpa/Downloads/ffmpeg-6.0-essentials_build/bin/ffmpeg.exe'\n",
    "\n",
    "vid_file = 'viscek/eta0.15_t0.01.mp4'\n",
    "#vid_file = 'viscek/eta0.2_t0.01.mp4'\n",
    "#vid_file = 'viscek/eta0.3_t0.01.mp4'\n",
    "\n",
    "\n",
    "fig, ax = plt.subplots(figsize=(6, 6))\n",
    "qv = ax.quiver(positions[:, 0, -1], positions[:, 1, -1], 1, 0, clim=[-np.pi, np.pi])\n",
    "\n",
    "def animate(i):\n",
    "    if i % 10 == 0:\n",
    "        print(i)\n",
    "    qv.set_offsets(positions[:, :, i])\n",
    "    norms = np.sqrt(vs[:, 0, i] ** 2 + vs[:, 1, i] ** 2)\n",
    "    qv.set_UVC(vs[:, 0, i] / norms, vs[:, 1, i] / norms, np.angle(vs[:, 0, i] + 1.0j * vs[:, 1, i]))\n",
    "    return qv,\n",
    "\n",
    "anim = FuncAnimation(fig, animate, np.arange(0, positions.shape[-1]), interval=1, blit=True)\n",
    "FFwriter = animation.FFMpegWriter(fps=24, codec=\"libx264\")\n",
    "anim.save(vid_file, writer=FFwriter, dpi=100)"
   ]
  },
  {
   "cell_type": "code",
   "execution_count": null,
   "id": "e6f581df-108f-4699-ac4f-fa8b136cc804",
   "metadata": {},
   "outputs": [],
   "source": [
    "%%prun # profiling\n",
    "\n",
    "data_dict = {}\n",
    "data_dict['v'] = vs\n",
    "v_obs = Observable('v', 1)\n",
    "observables = [v_obs]\n",
    "\n",
    "# fix random seed\n",
    "np.random.seed(1)\n",
    "\n",
    "# initial setup of dataset\n",
    "corr_L = 5\n",
    "kernel_sigma = corr_L/2.5\n",
    "cg_res = 1\n",
    "srd = SRDataset(world_size, data_dict, positions, observables, \n",
    "                kernel_sigma=kernel_sigma, cg_res=cg_res, deltat=deltat, cutoff=6)\n",
    "\n",
    "# initialize libraries, domains, and weights\n",
    "#srd.make_libraries(max_complexity=4, max_observables=3)\n",
    "srd.make_libraries(max_complexity=5, max_observables=3, max_rho=2)\n",
    "#srd.make_libraries(max_complexity=6, max_observables=4)\n",
    "\n",
    "dom_width = 80\n",
    "dom_time = 50 #previously 20 (without interpolation)\n",
    "srd.make_domains(ndomains=15, domain_size=[dom_width, dom_width, dom_time], pad=kernel_sigma*8) #ndomains = 30\n",
    "srd.make_weights(m=8, qmax=1)\n",
    "srd.set_LT_scale(L=corr_L, T=corr_L/v) # note that this line must go before make_library_matrices\n",
    "srd.make_library_matrices(debug=False)\n",
    "\n",
    "save('Q_XY_t0.01_eta0.15.npy', srd.dxs, srd.libs)\n",
    "#save('Q_XY_t0.01_eta0.2.npy', srd.dxs, srd.libs)\n",
    "#save('Q_XY_t0.01_eta0.3.npy', srd.dxs, srd.libs)"
   ]
  },
  {
   "cell_type": "code",
   "execution_count": null,
   "id": "82a15525-a73d-431d-b62d-e6a59adcab5d",
   "metadata": {},
   "outputs": [],
   "source": [
    "_, libs = load('Q_XY_t0.01_eta0.15.npy', 2)\n",
    "#_, libs = load('Q_XY_t0.01_eta0.2.npy', 2)\n",
    "#_, libs = load('Q_XY_t0.01_eta0.3.npy', 2)\n",
    "libs = libs.item()"
   ]
  },
  {
   "cell_type": "code",
   "execution_count": null,
   "id": "121b875b-54a5-4a23-865c-cce55abb6545",
   "metadata": {},
   "outputs": [],
   "source": [
    "from commons.sparse_reg_bf import *\n",
    "from identify_models import *\n",
    "import copy\n",
    "\n",
    "# for regression we now need to construct a Scaler, Initializer, ModelIterator, and Threshold\n",
    "scaler0 = Scaler(sub_inds=None, char_sizes=libs[0].col_weights, row_norms=None)\n",
    "init0 = Initializer(method='combinatorial', start_k=2)\n",
    "#init0 = Initializer(method='power', start_k=10)\n",
    "#res0 = Residual(residual_type='fixed_column', anchor_col=0)\n",
    "res0 = Residual(residual_type='dominant_balance')\n",
    "\n",
    "iter0 = ModelIterator(max_k=10, backward_forward=True, brute_force=True) # test also boolean toggles\n",
    "thres0 = Threshold(threshold_type='jump', gamma=1.5, n_terms=None)\n",
    "#thres0 = Threshold(threshold_type='information', ic=AIC)\n",
    "#thres0 = Threshold(threshold_type='jump', gamma=1.5, n_terms=3)\n",
    "\n",
    "opts = {'scaler': scaler0, 'initializer': init0, 'residual': res0,\n",
    "        'model_iterator': iter0, 'threshold': thres0}\n",
    "opts['verbose'] = False\n",
    "opts1 = copy.deepcopy(opts) # need to be careful to deep copy for the stateful ModelIterator\n",
    "opts['inhomog'] = False\n",
    "opts['inhomog_col'] = None\n",
    "#opts['verbose'] = False\n",
    "sub_inds1 = list(range(len(libs[1].terms)))\n",
    "#sub_inds1.remove(35) # dt rho[v_i * v_j * v_j]\n",
    "#sub_inds1.remove(21) # rho * dt rho[v_i]\n",
    "opts1['scaler'] = Scaler(sub_inds=sub_inds1, char_sizes=libs[1].col_weights)\n",
    "opts1['residual'] = Residual(residual_type='fixed_column', anchor_col=13)\n",
    "opts1['threshold'] = Threshold(threshold_type='jump', gamma=1.5, n_terms=5)\n",
    "\n",
    "#opts1['verbose'] = True\n",
    "opts1['inhomog'] = True\n",
    "opts1['inhomog_col'] = 13 \n",
    "    \n",
    "opts['verbose']=False\n",
    "opts1['verbose']=False\n",
    "\n",
    "# note that interleave_identify doesn't work with inhomog or fixed-column residual\n",
    "opts1['inhomog'] = False\n",
    "opts1['inhomog_col'] = None\n",
    "opts1['residual'] = copy.deepcopy(opts['residual'])\n",
    "opts1['threshold'] = Threshold(threshold_type='jump', gamma=1.5, n_terms=None)\n",
    "\n",
    "eqs, lambdas, derived_eqs, excluded_terms = interleave_identify([libs[0].Q, libs[1].Q], \n",
    "[opts, opts1], [libs[0].terms, libs[1].terms], threshold=1e-1, experimental=True)"
   ]
  },
  {
   "cell_type": "code",
   "execution_count": null,
   "id": "faae485b-ec93-4e93-abf7-892f90c26ea2",
   "metadata": {},
   "outputs": [],
   "source": [
    "opts1['inhomog'] = True\n",
    "opts1['inhomog_col'] = 13 # dt rho[v_i]\n",
    "\n",
    "remove_terms = [21, 35] # rho * dt rho[v_i], dt rho[v_i * v_j * v_j]\n",
    "for term in remove_terms:\n",
    "    if term in opts1['scaler'].sub_inds:\n",
    "        opts1['scaler'].sub_inds.remove(term) \n",
    "opts1['scaler'].reset_inds(opts1['scaler'].sub_inds)\n",
    "\n",
    "opts1['threshold'] = Threshold(threshold_type='jump', gamma=1.5, n_terms=2)\n",
    "opts1['verbose'] = False\n",
    "Xi, lambd, best_term, lambda1 = sparse_reg_bf(libs[1].Q, **opts1)\n",
    "zipped = [(libs[1].terms[i], c) for i, c in enumerate(Xi) if c != 0]\n",
    "print(Equation([e[0] for e in zipped], [e[1] for e in zipped]), \"; residual:\", lambd)"
   ]
  },
  {
   "cell_type": "code",
   "execution_count": null,
   "id": "5246ef25-1a2c-43cd-83d4-028f3efd3b06",
   "metadata": {},
   "outputs": [],
   "source": [
    "import seaborn as sns\n",
    "%matplotlib inline\n",
    "sns.set(rc={'figure.figsize':(14,9)})\n",
    "\n",
    "# calculate the correlation matrix\n",
    "R2 = (np.corrcoef(libs[0].Q, rowvar=False)**2)\n",
    "# plot the heatmap\n",
    "label_names = [str(term) for term in libs[0].terms]\n",
    "sns.heatmap(R2, xticklabels=label_names, yticklabels=label_names, annot=True, fmt=\".2f\")"
   ]
  },
  {
   "cell_type": "code",
   "execution_count": 22,
   "id": "3ffb458d",
   "metadata": {},
   "outputs": [
    {
     "name": "stdout",
     "output_type": "stream",
     "text": [
      "0 1 1 0\n",
      "1 rho 2.000000025293657 1\n",
      "2 dj^2 rho 0.048849751257286744 3\n",
      "3 dj^2 dk^2 rho 0.00195399005029147 5\n",
      "4 dt rho 0.12212437814321686 2\n",
      "5 dt dj^2 rho 0.004884975125728675 4\n",
      "6 dt^2 rho 0.012212437814321686 3\n",
      "7 dt^2 dj^2 rho 0.0004884975125728675 5\n",
      "8 dt^3 rho 0.0012212437814321687 4\n",
      "9 dt^4 rho 0.00012212437814321687 5\n",
      "10 rho * rho 4.000000101174629 2\n",
      "11 rho * dj^2 rho 0.09769950375016234 4\n",
      "12 rho * dt rho 0.24424875937540586 3\n",
      "13 rho * dt dj^2 rho 0.009769950375016235 5\n",
      "14 rho * dt^2 rho 0.024424875937540586 4\n",
      "15 rho * dt^3 rho 0.0024424875937540586 5\n",
      "16 dj rho[v_j] 0.03495691833410024 3\n",
      "17 dj^2 dk rho[v_k] 0.0013982767333640094 5\n",
      "18 dt dj rho[v_j] 0.0034956918334100237 4\n",
      "19 dt^2 dj rho[v_j] 0.00034956918334100236 5\n",
      "20 rho * dj rho[v_j] 0.06991383755238877 4\n",
      "21 rho * dt dj rho[v_j] 0.006991383755238877 5\n",
      "22 rho[v_j * v_j] 0.2500000031617072 3\n",
      "23 dj^2 rho[v_k * v_k] 0.0010006078704318264 5\n",
      "24 dj dk rho[v_j * v_k] 0.0010006078704318264 5\n",
      "25 dt rho[v_j * v_j] 0.002501519676079566 4\n",
      "26 dt^2 rho[v_j * v_j] 0.0002501519676079566 5\n",
      "27 rho[v_j] * rho[v_j] 0.5000000126468287 4\n",
      "28 rho * rho[v_j * v_j] 0.5000000126468287 4\n",
      "29 rho[v_j] * dt rho[v_j] 0.0123591371580172 5\n",
      "30 dt rho * rho[v_j * v_j] 0.030531094921925735 5\n",
      "31 rho * dt rho[v_j * v_j] 0.005003039415431712 5\n",
      "32 dj rho[v_j * v_k * v_k] 0.0007160357363319374 5\n",
      "0 di rho 0.24424875628643372 2\n",
      "1 di dj^2 rho 0.00976995025145735 4\n",
      "2 dt di rho 0.024424875628643372 3\n",
      "3 dt di dj^2 rho 0.000976995025145735 5\n",
      "4 dt^2 di rho 0.0024424875628643373 4\n",
      "5 dt^3 di rho 0.00024424875628643373 5\n",
      "6 rho * di rho 0.4884975187508117 3\n",
      "7 rho * di dj^2 rho 0.01953990075003247 5\n",
      "8 rho * dt di rho 0.04884975187508117 4\n",
      "9 rho * dt^2 di rho 0.004884975187508117 5\n",
      "10 rho[v_i] 0.7071067901292057 2\n",
      "11 di dj rho[v_j] 0.0069913836668200465 4\n",
      "12 dj^2 rho[v_i] 0.0069913836668200465 4\n",
      "13 dt rho[v_i] 0.01747845916705012 3\n",
      "14 dt di dj rho[v_j] 0.0006991383666820046 5\n",
      "15 dt dj^2 rho[v_i] 0.0006991383666820046 5\n",
      "16 dt^2 rho[v_i] 0.0017478459167050116 4\n",
      "17 dt^3 rho[v_i] 0.00017478459167050118 5\n",
      "18 rho * rho[v_i] 1.414213598143728 3\n",
      "19 rho * di dj rho[v_j] 0.013982767510477754 5\n",
      "20 rho * dj^2 rho[v_i] 0.013982767510477754 5\n",
      "21 rho * dt rho[v_i] 0.03495691877619438 4\n",
      "22 rho * dt^2 rho[v_i] 0.0034956918776194385 5\n",
      "23 di rho[v_j * v_j] 0.005003039352159132 4\n",
      "24 dj rho[v_i * v_j] 0.005003039352159132 4\n",
      "25 dt di rho[v_j * v_j] 0.0005003039352159132 5\n",
      "26 dt dj rho[v_i * v_j] 0.0005003039352159132 5\n",
      "27 rho[v_i] * dj rho[v_j] 0.0247182743160344 5\n",
      "28 rho[v_j] * di rho[v_j] 0.0247182743160344 5\n",
      "29 rho[v_j] * dj rho[v_i] 0.0247182743160344 5\n",
      "30 di rho * rho[v_j * v_j] 0.06106218984385147 5\n",
      "31 dj rho * rho[v_i * v_j] 0.06106218984385147 5\n",
      "32 rho * di rho[v_j * v_j] 0.010006078830863425 5\n",
      "33 rho * dj rho[v_i * v_j] 0.010006078830863425 5\n",
      "34 rho[v_i * v_j * v_j] 0.08838834876615073 4\n",
      "35 dt rho[v_i * v_j * v_j] 0.0003580178681659687 5\n",
      "36 rho[v_i] * rho[v_j * v_j] 0.17677669976796603 5\n",
      "37 rho[v_j] * rho[v_i * v_j] 0.17677669976796603 5\n",
      "38 rho * rho[v_i * v_j * v_j] 0.17677669976796603 5\n"
     ]
    }
   ],
   "source": [
    "for i, term, size in zip(list(range(len(libs[0].terms))), libs[0].terms, libs[0].col_weights):\n",
    "    print(i, term, size, term.complexity)\n",
    "for i, term, size in zip(list(range(len(libs[1].terms))), libs[1].terms, libs[1].col_weights):\n",
    "    print(i, term, size, term.complexity)"
   ]
  },
  {
   "cell_type": "code",
   "execution_count": null,
   "id": "cb571005",
   "metadata": {},
   "outputs": [],
   "source": [
    "continuity_terms = ['dt rho', 'dj rho[v_j]']\n",
    "#continuity_terms = ['dt rho', 'dj rho[v_j]', 'dt^2 rho', 'dj^2 rho']\n",
    "\n",
    "#continuity_terms = ['1', 'rho', 'rho * rho']\n",
    "#continuity_terms = ['1']\n",
    "#continuity_terms = ['rho * dt rho', 'rho * dj rho[v_j]']\n",
    "#continuity_terms = ['dt rho * rho', 'rho * rho * dj v_j', 'dj rho * rho * v_j']\n",
    "#continuity_terms = ['dt rho', 'dj rv_j']\n",
    "col_numbers = [find_term(libs[0].terms, name) for name in continuity_terms]\n",
    "Xi, lambd = regress(libs[0].Q, col_numbers, libs[0].col_weights, normalization=opts['anchor_norm'])\n",
    "for i in range(len(Xi)):\n",
    "    if Xi[i]!=0:\n",
    "        print(f\"[Term {i}] {Xi[i]} * {libs[0].terms[i]}. (Char. size: {libs[0].col_weights[i]})\")\n",
    "print(\"Model residual:\", lambd)"
   ]
  },
  {
   "cell_type": "code",
   "execution_count": null,
   "id": "c23fd3cc-af07-4a51-b50d-aba278905c2f",
   "metadata": {},
   "outputs": [],
   "source": [
    "### plot strong-form fields\n",
    "\n",
    "import matplotlib.pyplot as plt\n",
    "from mpl_toolkits.axes_grid1 import make_axes_locatable\n",
    "from matplotlib import animation\n",
    "from matplotlib.animation import FuncAnimation\n",
    "from IPython.display import HTML\n",
    "plt.rcParams['animation.ffmpeg_path'] = 'C:/Users/nerpa/Downloads/ffmpeg-6.0-essentials_build/bin/ffmpeg.exe'\n",
    "\n",
    "vid_file = 'viz_test.mp3'\n",
    "\n",
    "zero_arr = [0] * srd.n_dimensions\n",
    "constant_weight = Weight(m=zero_arr, q=zero_arr, k=zero_arr) # should evaluate to 1 everywhere\n",
    "\n",
    "def make_residual_arr(equation, domain, kc):\n",
    "    arrs = [c*srd.make_tw_arr(term, constant_weight, [domain], kc, by_parts=False) \n",
    "            for term, c in zip(equation.term_list, equation.coeffs)]\n",
    "    return sum(arrs)[..., 0]\n",
    "\n",
    "def make_all_but_first(equation, domain, kc):\n",
    "    arrs = [c*srd.make_tw_arr(term, constant_weight, [domain], kc, by_parts=False) \n",
    "            for term, c in zip(equation.term_list, equation.coeffs)]\n",
    "    return sum(arrs[1:])[..., 0]\n",
    "\n",
    "domain = srd.domains[0]\n",
    "kc = 0 # can select x, y components\n",
    "\n",
    "print(eqn)\n",
    "\n",
    "#term1 = srd.libs[1].terms[find_term(libs[1].terms, 'dt rho[v_i]')]\n",
    "#tw_arr = srd.make_tw_arr(term1, constant_weight, [domain], kc, by_parts=False)[..., 0]\n",
    "term1 = srd.libs[0].terms[find_term(libs[0].terms, 'rho')]\n",
    "tw_arr = srd.make_tw_arr(term1, constant_weight, [domain], None, by_parts=False)[..., 0]\n",
    "fig, (ax1, ax2) = plt.subplots(2, 1)\n",
    "im1 = ax1.imshow(tw_arr[:, :, 0])\n",
    "#colorbar\n",
    "divider = make_axes_locatable(ax1)\n",
    "cax1 = divider.append_axes(\"right\", size=\"5%\", pad=0.05)\n",
    "cb1 = plt.colorbar(im1, cax=cax1)\n",
    "\n",
    "tw_arr2 = make_residual_arr(eqn, domain, kc) # or \n",
    "im2 = ax2.imshow(tw_arr2[:, :, 0])\n",
    "#colorbar\n",
    "divider2 = make_axes_locatable(ax2)\n",
    "cax2 = divider2.append_axes(\"right\", size=\"5%\", pad=0.05)\n",
    "cb2 = plt.colorbar(im2, cax=cax2)\n",
    "\n",
    "ax1.set_ylabel(str(term1))\n",
    "ax2.set_ylabel(\"residual\")\n",
    "\n",
    "def animate(i):\n",
    "    if i % 10 == 0:\n",
    "        print(f\"frame={i}\")\n",
    "    im1.set_array(tw_arr[:, :, i])\n",
    "    im2.set_array(tw_arr2[:, :, i])\n",
    "    vmax1 = np.max(tw_arr[:, :, i])\n",
    "    vmin1 = np.min(tw_arr[:, :, i])\n",
    "    vmax2 = np.max(tw_arr2[:, :, i])\n",
    "    vmin2 = np.min(tw_arr2[:, :, i])\n",
    "    #im1.set_clim(vmin1, vmax1)\n",
    "    #im2.set_clim(vmin2, vmax2)\n",
    "\n",
    "    return im1, im2\n",
    "\n",
    "anim = FuncAnimation(fig, animate, np.arange(0, len(domain.times)), interval=100, blit=True)\n",
    "FFwriter = animation.FFMpegWriter(fps=24, codec=\"libx264\")\n",
    "#anim.save(vid_file, writer=FFwriter, dpi=100)\n",
    "HTML(anim.to_html5_video())\n",
    "\n",
    "#plt.show()"
   ]
  },
  {
   "cell_type": "code",
   "execution_count": null,
   "id": "d8725f66-39be-4687-b097-fdc8875d7996",
   "metadata": {},
   "outputs": [],
   "source": [
    "fig, ax = plt.subplots(1, 1)\n",
    "ax.plot(tw_arr[0, 0, :])\n",
    "ax.plot(tw_arr[1, 0, :])\n",
    "ax.plot(tw_arr[2, 0, :])"
   ]
  },
  {
   "cell_type": "code",
   "execution_count": 11,
   "id": "dc2ede69-c41a-4a70-9dee-d632adce99df",
   "metadata": {},
   "outputs": [
    {
     "name": "stdout",
     "output_type": "stream",
     "text": [
      "[Term 1] -0.25000000000000017 * rho. (Char. size: 2.000000025293657)\n",
      "[Term 22] 1.0 * rho[v_j * v_j]. (Char. size: 0.2500000031617072)\n",
      "Model residual: 8.283271158830063e-16\n"
     ]
    }
   ],
   "source": [
    "constraint_terms = ['rho', 'rho[v_j * v_j]']\n",
    "col_numbers = [find_term(libs[0].terms, name) for name in constraint_terms]\n",
    "Xi, lambd = regress(libs[0].Q, col_numbers, libs[0].col_weights)\n",
    "for i in range(len(Xi)):\n",
    "    if Xi[i]!=0:\n",
    "        print(f\"[Term {i}] {Xi[i]} * {libs[0].terms[i]}. (Char. size: {libs[0].col_weights[i]})\")\n",
    "print(\"Model residual:\", lambd)"
   ]
  },
  {
   "cell_type": "code",
   "execution_count": 12,
   "id": "a78f31f0-a142-4d7d-b6e3-e4b20f911ec5",
   "metadata": {},
   "outputs": [
    {
     "name": "stdout",
     "output_type": "stream",
     "text": [
      "[Term 2] -0.13484239722442778 * dj^2 rho. (Char. size: 0.048849751257286744)\n",
      "[Term 6] 1.0 * dt^2 rho. (Char. size: 0.012212437814321686)\n",
      "Model residual: 0.4630823815284282\n"
     ]
    }
   ],
   "source": [
    "wave_terms = ['dt^2 rho', 'dj^2 rho']\n",
    "col_numbers = [find_term(libs[0].terms, name) for name in wave_terms]\n",
    "Xi, lambd = regress(libs[0].Q, col_numbers, libs[0].col_weights)\n",
    "for i in range(len(Xi)):\n",
    "    if Xi[i]!=0:\n",
    "        print(f\"[Term {i}] {Xi[i]} * {libs[0].terms[i]}. (Char. size: {libs[0].col_weights[i]})\")\n",
    "print(\"Model residual:\", lambd)"
   ]
  },
  {
   "cell_type": "code",
   "execution_count": 13,
   "id": "88a811d7",
   "metadata": {},
   "outputs": [
    {
     "name": "stdout",
     "output_type": "stream",
     "text": [
      "[Term 13] 0.9873453145900928 * dt rho[v_i]. (Char. size: 0.01747845916705012)\n",
      "[Term 24] 1.0 * dj rho[v_i * v_j]. (Char. size: 0.005003039352159132)\n",
      "Model residual: 0.14586121110096015\n"
     ]
    }
   ],
   "source": [
    "burger_terms = ['dt rho[v_i]', 'dj rho[v_i * v_j]']\n",
    "#burger_terms = ['dt rho[v_i]', 'dj rho[v_i * v_j]', 'di rho']#, 'dj^2 rho[v_i]']# 'dj^2 rho[v_i]']\n",
    "#burger_terms = ['dt rho[v_i]', 'rho * dj rho[v_i * v_j]', 'di rho']\n",
    "col_numbers = [find_term(libs[1].terms, name) for name in burger_terms]\n",
    "Xi, lambd = regress(libs[1].Q, col_numbers, libs[1].col_weights)\n",
    "for i in range(len(Xi)):\n",
    "    if Xi[i]!=0:\n",
    "        print(f\"[Term {i}] {Xi[i]} * {libs[1].terms[i]}. (Char. size: {libs[1].col_weights[i]})\")\n",
    "print(\"Model residual:\", lambd)"
   ]
  },
  {
   "cell_type": "code",
   "execution_count": 14,
   "id": "9db9023f-8546-49a8-b4fa-f81c2ff11a9c",
   "metadata": {},
   "outputs": [
    {
     "name": "stdout",
     "output_type": "stream",
     "text": [
      "[Term 0] 0.002511222354484635 * di rho. (Char. size: 0.24424875628643372)\n",
      "[Term 13] 0.9987648071887012 * dt rho[v_i]. (Char. size: 0.01747845916705012)\n",
      "[Term 24] 1.0 * dj rho[v_i * v_j]. (Char. size: 0.005003039352159132)\n",
      "Model residual: 0.14552068875769886\n"
     ]
    }
   ],
   "source": [
    "#euler_terms = ['dt rho[v_i]', 'dj rho[v_i * v_j]']\n",
    "euler_terms = ['dt rho[v_i]', 'dj rho[v_i * v_j]', 'di rho']\n",
    "#euler_terms = ['dt rho[v_i]', 'dj rho[v_i * v_j]', 'di rho', 'dj^2 rho[v_i]']\n",
    "#euler_terms = ['dj rho[v_i * v_j]', 'di rho']\n",
    "col_numbers = [find_term(libs[1].terms, name) for name in euler_terms]\n",
    "Xi, lambd = regress(libs[1].Q, col_numbers, libs[1].col_weights)\n",
    "for i in range(len(Xi)):\n",
    "    if Xi[i]!=0:\n",
    "        print(f\"[Term {i}] {Xi[i]} * {libs[1].terms[i]}. (Char. size: {libs[1].col_weights[i]})\")\n",
    "print(\"Model residual:\", lambd)"
   ]
  },
  {
   "cell_type": "code",
   "execution_count": 15,
   "id": "445157d8-afe4-43d6-a885-6832cf832fac",
   "metadata": {},
   "outputs": [
    {
     "name": "stdout",
     "output_type": "stream",
     "text": [
      "[Term 0] 0.0038654497762913294 * di rho. (Char. size: 0.24424875628643372)\n",
      "[Term 10] 0.00023545175394586962 * rho[v_i]. (Char. size: 0.7071067901292057)\n",
      "[Term 11] 0.2941205541285419 * di dj rho[v_j]. (Char. size: 0.0069913836668200465)\n",
      "[Term 12] -0.1523119907402973 * dj^2 rho[v_i]. (Char. size: 0.0069913836668200465)\n",
      "[Term 13] 0.9582763922533301 * dt rho[v_i]. (Char. size: 0.01747845916705012)\n",
      "[Term 24] 1.0 * dj rho[v_i * v_j]. (Char. size: 0.005003039352159132)\n",
      "[Term 27] -0.021253094159674035 * rho[v_i] * dj rho[v_j]. (Char. size: 0.0247182743160344)\n",
      "Model residual: 0.13116340333329035\n"
     ]
    }
   ],
   "source": [
    "toner_tu_terms = ['dt rho[v_i]', 'dj rho[v_i * v_j]', 'rho[v_i] * dj rho[v_j]', 'rho[v_i]',\n",
    "                'di rho', 'dj^2 rho[v_i]', 'di dj rho[v_j]']#, 'dj dk rho[v_i * v_j * v_k]', \n",
    "                #'rho * di rho', 'rho * rho * di rho']\n",
    "# third term is a bit sketchy\n",
    "col_numbers = [find_term(libs[1].terms, name) for name in toner_tu_terms]\n",
    "Xi, lambd = regress(libs[1].Q, col_numbers, libs[1].col_weights)\n",
    "for i in range(len(Xi)):\n",
    "    if Xi[i]!=0:\n",
    "        print(f\"[Term {i}] {Xi[i]} * {libs[1].terms[i]}. (Char. size: {libs[1].col_weights[i]})\")\n",
    "print(\"Model residual:\", lambd)"
   ]
  },
  {
   "cell_type": "code",
   "execution_count": 16,
   "id": "ee85fb54-9d42-4fc7-8c9a-3c35ce0d5191",
   "metadata": {},
   "outputs": [
    {
     "name": "stdout",
     "output_type": "stream",
     "text": [
      "[Term 2] 0.0008745238100672925 * dt di rho. \n",
      "(Char. size: 0.024424875628643372, term contribution: 0.06668920578637524)\n",
      "[Term 4] 1.0 * dt^2 di rho. \n",
      "(Char. size: 0.0024424875628643373, term contribution: 4.691589783176698)\n",
      "[Term 13] -0.008076617680246194 * dt rho[v_i]. \n",
      "(Char. size: 0.01747845916705012, term contribution: 2.143535963045057)\n",
      "[Term 15] 0.7824016869735495 * dt dj^2 rho[v_i]. \n",
      "(Char. size: 0.0006991383666820046, term contribution: 3.784904460110101)\n",
      "[Term 22] 0.004819990279059284 * rho * dt^2 rho[v_i]. \n",
      "(Char. size: 0.0034956918776194385, term contribution: 1.5050974246969686)\n",
      "[Term 24] -0.007415440308375883 * dj rho[v_i * v_j]. \n",
      "(Char. size: 0.005003039352159132, term contribution: 1.9256094472338354)\n",
      "[Term 27] 0.0035371449010126463 * rho[v_i] * dj rho[v_j]. \n",
      "(Char. size: 0.0247182743160344, term contribution: 2.5780670785414346)\n",
      "[Term 29] -0.003260556963014042 * rho[v_j] * dj rho[v_i]. \n",
      "(Char. size: 0.0247182743160344, term contribution: 2.4272037321809266)\n",
      "Model residual: 0.4629573137137459\n"
     ]
    }
   ],
   "source": [
    "#inhomog_terms = ['dt rho[v_i]', 'dj rho[v_i * v_j]']\n",
    "#inhomog_terms = ['dt rho[v_i]', 'dj rho[v_i * v_j]', 'rho * dt rho[v_i]', 'rho * dj rho[v_i * v_j]']\n",
    "#inhomog_terms = ['dt rho[v_i]', 'dt^2 di rho', 'rho * di rho', 'rho * dt di rho', 'rho * dt^2 di rho',\n",
    "#                 'rho * dt^2 rho[v_i]']\n",
    "inhomog_terms = ['dj rho[v_i * v_j]', 'dt di rho', 'dt dj^2 rho[v_i]', 'dt rho[v_i]', 'dt^2 di rho',\n",
    "'rho * dt^2 rho[v_i]', 'rho[v_i] * dj rho[v_j]', 'rho[v_j] * dj rho[v_i]']\n",
    "#inhomog_terms = ['dj rho[v_i * v_j]', 'dt di rho', 'dt dj^2 rho[v_i]', 'dt rho[v_i]', 'dt^2 di rho',\n",
    "#'rho * dt^2 rho[v_i]', 'rho[v_i] * dj rho[v_j]', 'rho[v_j] * dj rho[v_i]', 'di rho']\n",
    "col_numbers = [find_term(libs[1].terms, name) for name in inhomog_terms]\n",
    "Xi, lambd = regress(libs[1].Q, col_numbers, libs[1].col_weights)\n",
    "for i in range(len(Xi)):\n",
    "    if Xi[i]!=0:\n",
    "        print(f\"[Term {i}] {Xi[i]} * {libs[1].terms[i]}. \\n(Char. size: {libs[1].col_weights[i]}, term contribution: {abs(np.linalg.norm(libs[1].Q[:, i])*Xi[i])})\")\n",
    "print(\"Model residual:\", lambd)"
   ]
  },
  {
   "cell_type": "code",
   "execution_count": null,
   "id": "ea5b1c1d-577d-4afe-a8d1-6fc412bb0f87",
   "metadata": {},
   "outputs": [],
   "source": [
    "noise=0.1:\n",
    "\n",
    "noise=0.2:\n",
    "1.0 * dj rho[v_i * v_j] + 0.9890065535710518 * dt rho[v_i] = 0 ; residual: 0.14585171310218614\n",
    "1.0 * dj rho[v_i * v_j] + 0.9410084749613301 * dt rho[v_i] + \n",
    "    -0.2515534627028856 * rho * dj rho[v_i * v_j] + -0.23378824355993344 * rho * dt rho[v_i] = 0 ; \n",
    "    residual: 0.09879053083935584\n",
    "0.1303148677799985 * di dj^2 rho + 0.16323332493962914 * dj rho[v_i * v_j] + \n",
    "    1.0 * dt di dj rho[v_j] + 0.16574805811439555 * dt rho[v_i] = 0 ; \n",
    "    residual: 0.13484770611457966 ... \n",
    "    (note: dj rho[v_j] = -dt rho, so added terms are di [c^2 dj^2 rho-dt^2 rho])\n",
    "next - di rho, dj rho * rho[v_i * v_j]"
   ]
  }
 ],
 "metadata": {
  "kernelspec": {
   "display_name": "Python 3 (ipykernel)",
   "language": "python",
   "name": "python3"
  },
  "language_info": {
   "codemirror_mode": {
    "name": "ipython",
    "version": 3
   },
   "file_extension": ".py",
   "mimetype": "text/x-python",
   "name": "python",
   "nbconvert_exporter": "python",
   "pygments_lexer": "ipython3",
   "version": "3.9.13"
  }
 },
 "nbformat": 4,
 "nbformat_minor": 5
}
