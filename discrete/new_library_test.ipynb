{
 "cells": [
  {
   "cell_type": "code",
   "execution_count": 1,
   "id": "6361d425-936a-4513-b19c-8dc14afe052a",
   "metadata": {},
   "outputs": [],
   "source": [
    "# in case there are any problems with importing because path is wrong\n",
    "import sys\n",
    "sys.path.append('C:/Users/nerpa/Dropbox (Princeton)/Research/discrete_sr/code/SPIDER_discrete')"
   ]
  },
  {
   "cell_type": "code",
   "execution_count": 2,
   "id": "b418581d-62fe-4f91-bc2a-d1073fc83164",
   "metadata": {},
   "outputs": [],
   "source": [
    "### NEXT: structural generation\n",
    "\n",
    "from library import *"
   ]
  },
  {
   "cell_type": "code",
   "execution_count": 3,
   "id": "5688ca19-9ef5-40a4-95d2-5562e686c607",
   "metadata": {},
   "outputs": [],
   "source": [
    "A = Observable(string='A', rank=2)\n",
    "b = Observable(string='b', rank=1)\n",
    "c = Observable(string='c', rank=0)"
   ]
  },
  {
   "cell_type": "code",
   "execution_count": 4,
   "id": "aac7eae8-e1fb-4a85-925f-d5d4978f2c37",
   "metadata": {},
   "outputs": [
    {
     "name": "stdout",
     "output_type": "stream",
     "text": [
      "192 [ρ, ρ · ρ, ρ · ∂α ρ, ρ · ∂α² ρ, ρ · ∂α ∂β ρ, ρ · ∂α ∂β² ρ, ρ · ∂t ρ, ρ · ∂t ∂α ρ, ρ · ∂t ∂α² ρ, ρ · ∂t ∂α ∂β ρ, ρ · ∂t² ρ, ρ · ∂t² ∂α ρ, ρ · ∂t³ ρ, ρ · ρ[b_α], ρ · ∂α ρ[b_α], ρ · ∂α ρ[b_β], ρ · ∂β² ρ[b_α], ρ · ∂α ∂β ρ[b_β], ρ · ∂t ρ[b_α], ρ · ∂t ∂α ρ[b_α], ρ · ∂t ∂α ρ[b_β], ρ · ∂t² ρ[b_α], ρ · ρ[b_α · b_α], ρ · ρ[b_α · b_β], ρ · ∂β ρ[b_α · b_β], ρ · ∂α ρ[b_β · b_β], ρ · ∂t ρ[b_α · b_α], ρ · ∂t ρ[b_α · b_β], ρ · ρ[b_α · b_β · b_β], ρ · ρ[A_αα], ρ · ρ[A_αβ], ρ · ∂β ρ[A_αβ], ρ · ∂β ρ[A_βα], ρ · ∂α ρ[A_ββ], ρ · ∂t ρ[A_αα], ρ · ∂t ρ[A_αβ], ρ · ρ[A_βα · b_β], ρ · ρ[A_αβ · b_β], ρ · ρ[A_ββ · b_α], ∂α ρ, ∂α ρ · ∂α ρ, ∂α ρ · ∂β ρ, ∂β ρ · ∂α ∂β ρ, ∂α ρ · ∂β² ρ, ∂α ρ · ∂t ρ, ∂α ρ · ∂t ∂α ρ, ∂α ρ · ∂t ∂β ρ, ∂α ρ · ∂t² ρ, ∂α ρ · ρ[b_α], ∂α ρ · ρ[b_β], ∂α ρ · ∂β ρ[b_β], ∂β ρ · ∂α ρ[b_β], ∂β ρ · ∂β ρ[b_α], ∂α ρ · ∂t ρ[b_α], ∂α ρ · ∂t ρ[b_β], ∂α ρ · ρ[b_β · b_β], ∂β ρ · ρ[b_α · b_β], ∂α ρ · ρ[A_ββ], ∂β ρ · ρ[A_βα], ∂β ρ · ρ[A_αβ], ∂α² ρ, ∂α ∂β ρ, ∂α² ρ · ∂t ρ, ∂α ∂β ρ · ∂t ρ, ∂α ∂β ρ · ρ[b_β], ∂β² ρ · ρ[b_α], ∂α ∂β² ρ, ∂α² ∂β² ρ, ∂α ∂β ∂γ² ρ, ∂t ρ, ∂t ρ · ∂t ρ, ∂t ρ · ∂t ∂α ρ, ∂t ρ · ∂t² ρ, ∂t ρ · ρ[b_α], ∂t ρ · ∂α ρ[b_α], ∂t ρ · ∂α ρ[b_β], ∂t ρ · ∂t ρ[b_α], ∂t ρ · ρ[b_α · b_α], ∂t ρ · ρ[b_α · b_β], ∂t ρ · ρ[A_αα], ∂t ρ · ρ[A_αβ], ∂t ∂α ρ, ∂t ∂α ρ · ρ[b_α], ∂t ∂α ρ · ρ[b_β], ∂t ∂α² ρ, ∂t ∂α ∂β ρ, ∂t ∂α ∂β² ρ, ∂t² ρ, ∂t² ρ · ρ[b_α], ∂t² ∂α ρ, ∂t² ∂α² ρ, ∂t² ∂α ∂β ρ, ∂t³ ρ, ∂t³ ∂α ρ, ∂t⁴ ρ, ρ[b_α], ρ[b_α] · ρ[b_α], ρ[b_α] · ρ[b_β], ρ[b_α] · ∂β ρ[b_β], ρ[b_β] · ∂β ρ[b_α], ρ[b_β] · ∂α ρ[b_β], ρ[b_α] · ∂t ρ[b_α], ρ[b_α] · ∂t ρ[b_β], ρ[b_α] · ρ[b_β · b_β], ρ[b_β] · ρ[b_α · b_β], ρ[b_α] · ρ[A_ββ], ρ[b_β] · ρ[A_βα], ρ[b_β] · ρ[A_αβ], ∂α ρ[b_α], ∂α ρ[b_β], ∂α ∂β ρ[b_β], ∂β² ρ[b_α], ∂α ∂β² ρ[b_α], ∂α² ∂β ρ[b_β], ∂α ∂γ² ρ[b_β], ∂α ∂β ∂γ ρ[b_γ], ∂t ρ[b_α], ∂t ∂α ρ[b_α], ∂t ∂α ρ[b_β], ∂t ∂α ∂β ρ[b_β], ∂t ∂β² ρ[b_α], ∂t² ρ[b_α], ∂t² ∂α ρ[b_α], ∂t² ∂α ρ[b_β], ∂t³ ρ[b_α], ρ[b_α · b_α], ρ[b_α · b_β], ∂β ρ[b_α · b_β], ∂α ρ[b_β · b_β], ∂α ∂β ρ[b_α · b_β], ∂α² ρ[b_β · b_β], ∂α ∂γ ρ[b_β · b_γ], ∂γ² ρ[b_α · b_β], ∂α ∂β ρ[b_γ · b_γ], ∂t ρ[b_α · b_α], ∂t ρ[b_α · b_β], ∂t ∂α ρ[b_β · b_β], ∂t ∂β ρ[b_α · b_β], ∂t² ρ[b_α · b_α], ∂t² ρ[b_α · b_β], ρ[b_α · b_β · b_β], ∂α ρ[b_α · b_β · b_β], ∂γ ρ[b_α · b_β · b_γ], ∂α ρ[b_β · b_γ · b_γ], ∂t ρ[b_α · b_β · b_β], ρ[A_αα], ρ[A_αβ], ∂α ρ[A_ββ], ∂β ρ[A_αβ], ∂β ρ[A_βα], ∂α ∂β ρ[A_βα], ∂α² ρ[A_ββ], ∂α ∂β ρ[A_αβ], ∂α ∂β ρ[A_γγ], ∂γ² ρ[A_αβ], ∂α ∂γ ρ[A_βγ], ∂α ∂γ ρ[A_γβ], ∂t ρ[A_αα], ∂t ρ[A_αβ], ∂t ∂α ρ[A_ββ], ∂t ∂β ρ[A_βα], ∂t ∂β ρ[A_αβ], ∂t² ρ[A_αα], ∂t² ρ[A_αβ], ρ[A_βα · b_β], ρ[A_αβ · b_β], ρ[A_ββ · b_α], ∂α ρ[A_ββ · b_α], ∂α ρ[A_βα · b_β], ∂α ρ[A_αβ · b_β], ∂α ρ[A_βγ · b_γ], ∂γ ρ[A_αγ · b_β], ∂γ ρ[A_γα · b_β], ∂γ ρ[A_αβ · b_γ], ∂α ρ[A_γβ · b_γ], ∂α ρ[A_γγ · b_β], ∂t ρ[A_ββ · b_α], ∂t ρ[A_αβ · b_β], ∂t ρ[A_βα · b_β], ρ[A_αβ · b_α · b_β], ρ[A_αα · b_β · b_β], ρ[A_αγ · b_β · b_γ], ρ[A_γγ · b_α · b_β], ρ[A_γα · b_β · b_γ], ρ[A_αβ · b_γ · b_γ], ρ[A_αα · A_ββ], ρ[A_αβ · A_αβ], ρ[A_αβ · A_βα], ρ[A_αγ · A_βγ], ρ[A_αγ · A_γβ], ρ[A_γα · A_γβ], ρ[A_αβ · A_γγ]]\n"
     ]
    }
   ],
   "source": [
    "#observables = [A, b, c]\n",
    "observables = [A, b]\n",
    "terms = generate_terms_to(5, observables, max_rank=2, max_observables=3, max_rho=2)\n",
    "print(len(terms), terms)"
   ]
  },
  {
   "cell_type": "code",
   "execution_count": 5,
   "id": "7fb3b372-49be-4884-807a-b624f6ec341e",
   "metadata": {},
   "outputs": [
    {
     "name": "stdout",
     "output_type": "stream",
     "text": [
      "ρ · ∂α ρ[A_ββ] ... ρ · ∂t ρ[A_αα]\n",
      "-1734561112321917418 -2470267538790025353\n",
      "<class 'commons.library.LibraryTerm'> <class 'commons.library.LibraryTerm'>\n",
      "0 0 ()\n",
      "0 0 ()\n"
     ]
    }
   ],
   "source": [
    "print(terms[33], \"...\", terms[34])\n",
    "print(hash(terms[33]), hash(terms[34]))\n",
    "print(type(terms[33]), type(terms[34]))\n",
    "der1 = terms[33].primes[0].derivative\n",
    "der2 = terms[34].primes[0].derivative\n",
    "print(der1.torder, der1.xorder, der1.x_derivatives)\n",
    "print(der2.torder, der2.xorder, der2.x_derivatives)"
   ]
  },
  {
   "cell_type": "code",
   "execution_count": 6,
   "id": "112e8f86-604f-465c-95df-d5fec7125a65",
   "metadata": {},
   "outputs": [
    {
     "name": "stdout",
     "output_type": "stream",
     "text": [
      "[(2, ρ · ∂α ρ), (7, ρ · ∂t ∂α ρ), (11, ρ · ∂t² ∂α ρ), (14, ρ · ∂α ρ[b_α]), (15, ρ · ∂α ρ[b_β]), (19, ρ · ∂t ∂α ρ[b_α]), (20, ρ · ∂t ∂α ρ[b_β]), (25, ρ · ∂α ρ[b_β · b_β]), (33, ρ · ∂α ρ[A_ββ]), (39, ∂α ρ), (40, ∂α ρ · ∂α ρ), (41, ∂α ρ · ∂β ρ), (43, ∂α ρ · ∂β² ρ), (44, ∂α ρ · ∂t ρ), (45, ∂α ρ · ∂t ∂α ρ), (46, ∂α ρ · ∂t ∂β ρ), (47, ∂α ρ · ∂t² ρ), (48, ∂α ρ · ρ[b_α]), (49, ∂α ρ · ρ[b_β]), (50, ∂α ρ · ∂β ρ[b_β]), (51, ∂β ρ · ∂α ρ[b_β]), (53, ∂α ρ · ∂t ρ[b_α]), (54, ∂α ρ · ∂t ρ[b_β]), (55, ∂α ρ · ρ[b_β · b_β]), (57, ∂α ρ · ρ[A_ββ]), (71, ∂t ρ · ∂t ∂α ρ), (74, ∂t ρ · ∂α ρ[b_α]), (75, ∂t ρ · ∂α ρ[b_β]), (81, ∂t ∂α ρ), (82, ∂t ∂α ρ · ρ[b_α]), (83, ∂t ∂α ρ · ρ[b_β]), (89, ∂t² ∂α ρ), (93, ∂t³ ∂α ρ), (100, ρ[b_β] · ∂α ρ[b_β]), (108, ∂α ρ[b_α]), (109, ∂α ρ[b_β]), (117, ∂t ∂α ρ[b_α]), (118, ∂t ∂α ρ[b_β]), (122, ∂t² ∂α ρ[b_α]), (123, ∂t² ∂α ρ[b_β]), (128, ∂α ρ[b_β · b_β]), (136, ∂t ∂α ρ[b_β · b_β]), (141, ∂α ρ[b_α · b_β · b_β]), (143, ∂α ρ[b_β · b_γ · b_γ]), (147, ∂α ρ[A_ββ]), (159, ∂t ∂α ρ[A_ββ]), (167, ∂α ρ[A_ββ · b_α]), (168, ∂α ρ[A_βα · b_β]), (169, ∂α ρ[A_αβ · b_β]), (170, ∂α ρ[A_βγ · b_γ]), (174, ∂α ρ[A_γβ · b_γ]), (175, ∂α ρ[A_γγ · b_β])]\n"
     ]
    }
   ],
   "source": [
    "from commons.utils import regex_find\n",
    "print(list(regex_find(terms, r'.*∂α ρ.*')))"
   ]
  },
  {
   "cell_type": "code",
   "execution_count": null,
   "id": "06817013-8750-42db-ad20-fb8e3eeee5a3",
   "metadata": {},
   "outputs": [],
   "source": []
  }
 ],
 "metadata": {
  "kernelspec": {
   "display_name": "Python 3 (ipykernel)",
   "language": "python",
   "name": "python3"
  },
  "language_info": {
   "codemirror_mode": {
    "name": "ipython",
    "version": 3
   },
   "file_extension": ".py",
   "mimetype": "text/x-python",
   "name": "python",
   "nbconvert_exporter": "python",
   "pygments_lexer": "ipython3",
   "version": "3.12.4"
  }
 },
 "nbformat": 4,
 "nbformat_minor": 5
}
