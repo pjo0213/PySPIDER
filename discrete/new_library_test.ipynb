{
 "cells": [
  {
   "cell_type": "code",
   "execution_count": 1,
   "id": "6361d425-936a-4513-b19c-8dc14afe052a",
   "metadata": {},
   "outputs": [],
   "source": [
    "# in case there are any problems with importing because path is wrong\n",
    "import sys\n",
    "sys.path.append('C:/Users/nerpa/Dropbox (Princeton)/Research/discrete_sr/code/SPIDER_discrete')"
   ]
  },
  {
   "cell_type": "code",
   "execution_count": 2,
   "id": "b418581d-62fe-4f91-bc2a-d1073fc83164",
   "metadata": {},
   "outputs": [],
   "source": [
    "### NEXT: structural generation\n",
    "\n",
    "from library import *"
   ]
  },
  {
   "cell_type": "code",
   "execution_count": 3,
   "id": "5688ca19-9ef5-40a4-95d2-5562e686c607",
   "metadata": {},
   "outputs": [],
   "source": [
    "A = Observable(string='A', rank=2)\n",
    "A_as = Observable(string='A', rank=2, can_commute_indices=True, antisymmetric=True)\n",
    "b = Observable(string='b', rank=1)\n",
    "c = Observable(string='c', rank=0)"
   ]
  },
  {
   "cell_type": "code",
   "execution_count": 4,
   "id": "aac7eae8-e1fb-4a85-925f-d5d4978f2c37",
   "metadata": {},
   "outputs": [
    {
     "name": "stdout",
     "output_type": "stream",
     "text": [
      "175 [ρ, ρ · ρ, ρ · ∂α ρ, ρ · ∂α² ρ, ρ · ∂α ∂β ρ, ρ · ∂α ∂β² ρ, ρ · ∂t ρ, ρ · ∂t ∂α ρ, ρ · ∂t ∂α² ρ, ρ · ∂t ∂α ∂β ρ, ρ · ∂t² ρ, ρ · ∂t² ∂α ρ, ρ · ∂t³ ρ, ρ · ρ[b_α], ρ · ∂α ρ[b_α], ρ · ∂α ρ[b_β], ρ · ∂α ∂β ρ[b_β], ρ · ∂β² ρ[b_α], ρ · ∂t ρ[b_α], ρ · ∂t ∂α ρ[b_α], ρ · ∂t ∂α ρ[b_β], ρ · ∂t² ρ[b_α], ρ · ρ[b_α · b_α], ρ · ρ[b_α · b_β], ρ · ∂β ρ[b_α · b_β], ρ · ∂α ρ[b_β · b_β], ρ · ∂t ρ[b_α · b_α], ρ · ∂t ρ[b_α · b_β], ρ · ρ[b_α · b_β · b_β], ρ · ρ[A_αα], ρ · ρ[A_αβ], ρ · ∂β ρ[A_αβ], ρ · ∂α ρ[A_ββ], ρ · ∂t ρ[A_αα], ρ · ∂t ρ[A_αβ], ρ · ρ[A_ββ · b_α], ρ · ρ[A_αβ · b_β], ∂α ρ, ∂α ρ · ∂α ρ, ∂α ρ · ∂β ρ, ∂β ρ · ∂α ∂β ρ, ∂α ρ · ∂β² ρ, ∂α ρ · ∂t ρ, ∂α ρ · ∂t ∂α ρ, ∂α ρ · ∂t ∂β ρ, ∂α ρ · ∂t² ρ, ∂α ρ · ρ[b_α], ∂α ρ · ρ[b_β], ∂α ρ · ∂β ρ[b_β], ∂β ρ · ∂α ρ[b_β], ∂β ρ · ∂β ρ[b_α], ∂α ρ · ∂t ρ[b_α], ∂α ρ · ∂t ρ[b_β], ∂β ρ · ρ[b_α · b_β], ∂α ρ · ρ[b_β · b_β], ∂β ρ · ρ[A_αβ], ∂α ρ · ρ[A_ββ], ∂α² ρ, ∂α ∂β ρ, ∂α² ρ · ∂t ρ, ∂α ∂β ρ · ∂t ρ, ∂β² ρ · ρ[b_α], ∂α ∂β ρ · ρ[b_β], ∂α ∂β² ρ, ∂α² ∂β² ρ, ∂α ∂β ∂γ² ρ, ∂t ρ, ∂t ρ · ∂t ρ, ∂t ρ · ∂t ∂α ρ, ∂t ρ · ∂t² ρ, ∂t ρ · ρ[b_α], ∂t ρ · ∂α ρ[b_α], ∂t ρ · ∂α ρ[b_β], ∂t ρ · ∂t ρ[b_α], ∂t ρ · ρ[b_α · b_α], ∂t ρ · ρ[b_α · b_β], ∂t ρ · ρ[A_αα], ∂t ρ · ρ[A_αβ], ∂t ∂α ρ, ∂t ∂α ρ · ρ[b_α], ∂t ∂α ρ · ρ[b_β], ∂t ∂α² ρ, ∂t ∂α ∂β ρ, ∂t ∂α ∂β² ρ, ∂t² ρ, ∂t² ρ · ρ[b_α], ∂t² ∂α ρ, ∂t² ∂α² ρ, ∂t² ∂α ∂β ρ, ∂t³ ρ, ∂t³ ∂α ρ, ∂t⁴ ρ, ρ[b_α], ρ[b_α] · ρ[b_α], ρ[b_α] · ρ[b_β], ρ[b_β] · ∂α ρ[b_β], ρ[b_β] · ∂β ρ[b_α], ρ[b_α] · ∂β ρ[b_β], ρ[b_α] · ∂t ρ[b_α], ρ[b_α] · ∂t ρ[b_β], ρ[b_β] · ρ[b_α · b_β], ρ[b_α] · ρ[b_β · b_β], ρ[b_β] · ρ[A_αβ], ρ[b_α] · ρ[A_ββ], ∂α ρ[b_α], ∂α ρ[b_β], ∂β² ρ[b_α], ∂α ∂β ρ[b_β], ∂α² ∂β ρ[b_β], ∂α ∂β² ρ[b_α], ∂α ∂γ² ρ[b_β], ∂α ∂β ∂γ ρ[b_γ], ∂t ρ[b_α], ∂t ∂α ρ[b_α], ∂t ∂α ρ[b_β], ∂t ∂β² ρ[b_α], ∂t ∂α ∂β ρ[b_β], ∂t² ρ[b_α], ∂t² ∂α ρ[b_α], ∂t² ∂α ρ[b_β], ∂t³ ρ[b_α], ρ[b_α · b_α], ρ[b_α · b_β], ∂α ρ[b_β · b_β], ∂β ρ[b_α · b_β], ∂α ∂β ρ[b_α · b_β], ∂α² ρ[b_β · b_β], ∂α ∂γ ρ[b_β · b_γ], ∂γ² ρ[b_α · b_β], ∂α ∂β ρ[b_γ · b_γ], ∂t ρ[b_α · b_α], ∂t ρ[b_α · b_β], ∂t ∂α ρ[b_β · b_β], ∂t ∂β ρ[b_α · b_β], ∂t² ρ[b_α · b_α], ∂t² ρ[b_α · b_β], ρ[b_α · b_β · b_β], ∂α ρ[b_α · b_β · b_β], ∂γ ρ[b_α · b_β · b_γ], ∂α ρ[b_β · b_γ · b_γ], ∂t ρ[b_α · b_β · b_β], ρ[A_αα], ρ[A_αβ], ∂α ρ[A_ββ], ∂β ρ[A_αβ], ∂α² ρ[A_ββ], ∂α ∂β ρ[A_αβ], ∂α ∂γ ρ[A_βγ], ∂γ² ρ[A_αβ], ∂α ∂β ρ[A_γγ], ∂t ρ[A_αα], ∂t ρ[A_αβ], ∂t ∂α ρ[A_ββ], ∂t ∂β ρ[A_αβ], ∂t² ρ[A_αα], ∂t² ρ[A_αβ], ρ[A_ββ · b_α], ρ[A_αβ · b_β], ∂α ρ[A_αβ · b_β], ∂α ρ[A_ββ · b_α], ∂α ρ[A_γγ · b_β], ∂γ ρ[A_αβ · b_γ], ∂α ρ[A_βγ · b_γ], ∂γ ρ[A_αγ · b_β], ∂t ρ[A_αβ · b_β], ∂t ρ[A_ββ · b_α], ρ[A_αβ · b_α · b_β], ρ[A_αα · b_β · b_β], ρ[A_γγ · b_α · b_β], ρ[A_αγ · b_β · b_γ], ρ[A_αβ · b_γ · b_γ], ρ[A_αα · A_ββ], ρ[A_αβ · A_αβ], ρ[A_αβ · A_γγ], ρ[A_αγ · A_βγ]]\n"
     ]
    }
   ],
   "source": [
    "#observables = [A, b, c]\n",
    "observables = [A_as, b]\n",
    "terms = generate_terms_to(5, observables, max_rank=2, max_observables=3, max_rho=2)\n",
    "print(len(terms), terms)"
   ]
  },
  {
   "cell_type": "code",
   "execution_count": 5,
   "id": "7fb3b372-49be-4884-807a-b624f6ec341e",
   "metadata": {},
   "outputs": [
    {
     "name": "stdout",
     "output_type": "stream",
     "text": [
      "ρ · ∂t ρ[A_αα] ... ρ · ∂t ρ[A_αβ]\n",
      "-8223989797567607954 -9197986082183880480\n",
      "<class 'commons.library.LibraryTerm'> <class 'commons.library.LibraryTerm'>\n",
      "0 0 ()\n",
      "0 0 ()\n"
     ]
    }
   ],
   "source": [
    "print(terms[33], \"...\", terms[34])\n",
    "print(hash(terms[33]), hash(terms[34]))\n",
    "print(type(terms[33]), type(terms[34]))\n",
    "der1 = terms[33].primes[0].derivative\n",
    "der2 = terms[34].primes[0].derivative\n",
    "print(der1.torder, der1.xorder, der1.x_derivatives)\n",
    "print(der2.torder, der2.xorder, der2.x_derivatives)"
   ]
  },
  {
   "cell_type": "code",
   "execution_count": 6,
   "id": "112e8f86-604f-465c-95df-d5fec7125a65",
   "metadata": {},
   "outputs": [
    {
     "name": "stdout",
     "output_type": "stream",
     "text": [
      "[(2, ρ · ∂α ρ), (7, ρ · ∂t ∂α ρ), (11, ρ · ∂t² ∂α ρ), (14, ρ · ∂α ρ[b_α]), (15, ρ · ∂α ρ[b_β]), (19, ρ · ∂t ∂α ρ[b_α]), (20, ρ · ∂t ∂α ρ[b_β]), (25, ρ · ∂α ρ[b_β · b_β]), (32, ρ · ∂α ρ[A_ββ]), (37, ∂α ρ), (38, ∂α ρ · ∂α ρ), (39, ∂α ρ · ∂β ρ), (41, ∂α ρ · ∂β² ρ), (42, ∂α ρ · ∂t ρ), (43, ∂α ρ · ∂t ∂α ρ), (44, ∂α ρ · ∂t ∂β ρ), (45, ∂α ρ · ∂t² ρ), (46, ∂α ρ · ρ[b_α]), (47, ∂α ρ · ρ[b_β]), (48, ∂α ρ · ∂β ρ[b_β]), (49, ∂β ρ · ∂α ρ[b_β]), (51, ∂α ρ · ∂t ρ[b_α]), (52, ∂α ρ · ∂t ρ[b_β]), (54, ∂α ρ · ρ[b_β · b_β]), (56, ∂α ρ · ρ[A_ββ]), (68, ∂t ρ · ∂t ∂α ρ), (71, ∂t ρ · ∂α ρ[b_α]), (72, ∂t ρ · ∂α ρ[b_β]), (78, ∂t ∂α ρ), (79, ∂t ∂α ρ · ρ[b_α]), (80, ∂t ∂α ρ · ρ[b_β]), (86, ∂t² ∂α ρ), (90, ∂t³ ∂α ρ), (95, ρ[b_β] · ∂α ρ[b_β]), (104, ∂α ρ[b_α]), (105, ∂α ρ[b_β]), (113, ∂t ∂α ρ[b_α]), (114, ∂t ∂α ρ[b_β]), (118, ∂t² ∂α ρ[b_α]), (119, ∂t² ∂α ρ[b_β]), (123, ∂α ρ[b_β · b_β]), (132, ∂t ∂α ρ[b_β · b_β]), (137, ∂α ρ[b_α · b_β · b_β]), (139, ∂α ρ[b_β · b_γ · b_γ]), (143, ∂α ρ[A_ββ]), (152, ∂t ∂α ρ[A_ββ]), (158, ∂α ρ[A_αβ · b_β]), (159, ∂α ρ[A_ββ · b_α]), (160, ∂α ρ[A_γγ · b_β]), (162, ∂α ρ[A_βγ · b_γ])]\n"
     ]
    }
   ],
   "source": [
    "from commons.utils import regex_find\n",
    "print(list(regex_find(terms, r'.*∂α ρ.*')))"
   ]
  },
  {
   "cell_type": "code",
   "execution_count": 7,
   "id": "bc38869c-3809-44c5-9120-b92d74ee5e16",
   "metadata": {},
   "outputs": [
    {
     "name": "stdout",
     "output_type": "stream",
     "text": [
      "ρ · ∂α ∂β ρ IS SYMMETRIC\n",
      "ρ · ∂t ∂α ∂β ρ IS SYMMETRIC\n",
      "ρ · ∂α ρ[b_β] is not symmetric\n",
      "ρ · ∂t ∂α ρ[b_β] is not symmetric\n",
      "ρ · ρ[b_α · b_β] IS SYMMETRIC\n",
      "ρ · ∂t ρ[b_α · b_β] IS SYMMETRIC\n",
      "ρ · ρ[A_αβ] IS ANTISYMMETRIC\n",
      "ρ · ∂t ρ[A_αβ] IS ANTISYMMETRIC\n",
      "∂α ρ · ∂β ρ IS SYMMETRIC\n",
      "∂α ρ · ∂t ∂β ρ is not symmetric\n",
      "∂α ρ · ρ[b_β] is not symmetric\n",
      "∂α ρ · ∂t ρ[b_β] is not symmetric\n",
      "∂α ∂β ρ IS SYMMETRIC\n",
      "∂α ∂β ρ · ∂t ρ IS SYMMETRIC\n",
      "∂α ∂β ∂γ² ρ IS SYMMETRIC\n",
      "∂t ρ · ∂α ρ[b_β] is not symmetric\n",
      "∂t ρ · ρ[b_α · b_β] IS SYMMETRIC\n",
      "∂t ρ · ρ[A_αβ] IS ANTISYMMETRIC\n",
      "∂t ∂α ρ · ρ[b_β] is not symmetric\n",
      "∂t ∂α ∂β ρ IS SYMMETRIC\n",
      "∂t² ∂α ∂β ρ IS SYMMETRIC\n",
      "ρ[b_α] · ρ[b_β] IS SYMMETRIC\n",
      "ρ[b_α] · ∂t ρ[b_β] is not symmetric\n",
      "∂α ρ[b_β] is not symmetric\n",
      "∂α ∂γ² ρ[b_β] is not symmetric\n",
      "∂α ∂β ∂γ ρ[b_γ] IS SYMMETRIC\n",
      "∂t ∂α ρ[b_β] is not symmetric\n",
      "∂t² ∂α ρ[b_β] is not symmetric\n",
      "ρ[b_α · b_β] IS SYMMETRIC\n",
      "∂α ∂γ ρ[b_β · b_γ] is not symmetric\n",
      "∂γ² ρ[b_α · b_β] IS SYMMETRIC\n",
      "∂α ∂β ρ[b_γ · b_γ] IS SYMMETRIC\n",
      "∂t ρ[b_α · b_β] IS SYMMETRIC\n",
      "∂t² ρ[b_α · b_β] IS SYMMETRIC\n",
      "∂γ ρ[b_α · b_β · b_γ] IS SYMMETRIC\n",
      "∂α ρ[b_β · b_γ · b_γ] is not symmetric\n",
      "ρ[A_αβ] IS ANTISYMMETRIC\n",
      "∂α ∂γ ρ[A_βγ] is not symmetric\n",
      "∂γ² ρ[A_αβ] IS ANTISYMMETRIC\n",
      "∂α ∂β ρ[A_γγ] IS SYMMETRIC\n",
      "∂t ρ[A_αβ] IS ANTISYMMETRIC\n",
      "∂t² ρ[A_αβ] IS ANTISYMMETRIC\n",
      "∂α ρ[A_γγ · b_β] is not symmetric\n",
      "∂γ ρ[A_αβ · b_γ] IS ANTISYMMETRIC\n",
      "∂α ρ[A_βγ · b_γ] is not symmetric\n",
      "∂γ ρ[A_αγ · b_β] is not symmetric\n",
      "ρ[A_γγ · b_α · b_β] IS SYMMETRIC\n",
      "ρ[A_αγ · b_β · b_γ] is not symmetric\n",
      "ρ[A_αβ · b_γ · b_γ] IS ANTISYMMETRIC\n",
      "ρ[A_αβ · A_γγ] IS ANTISYMMETRIC\n",
      "ρ[A_αγ · A_βγ] IS SYMMETRIC\n"
     ]
    }
   ],
   "source": [
    "for term in terms:\n",
    "    if term.rank==2:\n",
    "        sign = term.symmetry()\n",
    "        match sign:\n",
    "            case 1:\n",
    "                print(term, \"IS SYMMETRIC\")\n",
    "            case -1:\n",
    "                print(term, \"IS ANTISYMMETRIC\")\n",
    "            case _:\n",
    "                print(term, \"is not symmetric\")"
   ]
  },
  {
   "cell_type": "code",
   "execution_count": null,
   "id": "06817013-8750-42db-ad20-fb8e3eeee5a3",
   "metadata": {},
   "outputs": [],
   "source": []
  },
  {
   "cell_type": "code",
   "execution_count": null,
   "id": "bd792b18-682c-47e0-a558-ba409aab828a",
   "metadata": {},
   "outputs": [],
   "source": []
  }
 ],
 "metadata": {
  "kernelspec": {
   "display_name": "Python 3 (ipykernel)",
   "language": "python",
   "name": "python3"
  },
  "language_info": {
   "codemirror_mode": {
    "name": "ipython",
    "version": 3
   },
   "file_extension": ".py",
   "mimetype": "text/x-python",
   "name": "python",
   "nbconvert_exporter": "python",
   "pygments_lexer": "ipython3",
   "version": "3.12.4"
  }
 },
 "nbformat": 4,
 "nbformat_minor": 5
}
