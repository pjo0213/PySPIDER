{
 "cells": [
  {
   "cell_type": "code",
   "execution_count": 1,
   "metadata": {},
   "outputs": [],
   "source": [
    "import numpy as np\n",
    "from functools import reduce\n",
    "from numpy import polynomial as P\n",
    "\n",
    "def weight_leg(q):\n",
    "# return qth Legendre polynomial as a polynomial object\n",
    "    orders = np.zeros(q+1)\n",
    "    orders[q] = 1\n",
    "    leg = P.legendre.leg2poly(orders)\n",
    "    poly = P.Polynomial(leg)\n",
    "    return poly\n",
    "\n",
    "def weight_poly(m):\n",
    "# return (x^2-1)^m as a polynomial object\n",
    "    return P.Polynomial([-1, 0, 1])**m\n",
    "\n",
    "def weight_1d(m, q, k, dx):\n",
    "    poly = weight_leg(q)*weight_poly(m)\n",
    "    poly = poly/dx**k\n",
    "    return poly.deriv(k)\n",
    "\n",
    "#def weight_array(ms, qs, ks, dims):\n",
    "#    weights = [weight_1d(m, q, k) for (m, q, k) in zip(ms, qs, ks)]\n",
    "#    weights_eval = [weight.linspace(dim)[1] for (weight, dim) in zip(weights, dims)]\n",
    "#    return reduce(lambda x, y: np.tensordot(x, y, axes=0), weights_eval)"
   ]
  }
 ],
 "metadata": {
  "kernelspec": {
   "display_name": "Python 3",
   "language": "python",
   "name": "python3"
  },
  "language_info": {
   "codemirror_mode": {
    "name": "ipython",
    "version": 3
   },
   "file_extension": ".py",
   "mimetype": "text/x-python",
   "name": "python",
   "nbconvert_exporter": "python",
   "pygments_lexer": "ipython3",
   "version": "3.7.6"
  }
 },
 "nbformat": 4,
 "nbformat_minor": 5
}
