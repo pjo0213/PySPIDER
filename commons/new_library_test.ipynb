{
 "cells": [
  {
   "cell_type": "code",
   "execution_count": 1,
   "id": "6361d425-936a-4513-b19c-8dc14afe052a",
   "metadata": {},
   "outputs": [],
   "source": [
    "# in case there are any problems with importing because path is wrong\n",
    "import sys\n",
    "sys.path.append('/Users/daniel/Princeton Dropbox/Daniel Gurevich/Research/discrete_sr/code/SPIDER_discrete')"
   ]
  },
  {
   "cell_type": "code",
   "execution_count": 2,
   "id": "b418581d-62fe-4f91-bc2a-d1073fc83164",
   "metadata": {},
   "outputs": [],
   "source": [
    "### NEXT: structural generation\n",
    "\n",
    "from library import *"
   ]
  },
  {
   "cell_type": "code",
   "execution_count": 4,
   "id": "fe234778-ccf7-4644-9405-b58ec236a1e5",
   "metadata": {},
   "outputs": [
    {
     "name": "stdout",
     "output_type": "stream",
     "text": [
      "u_β · ∂ω ∂β u_α <class 'library.LibraryTerm'> 2\n",
      "u_γ · ∂α ∂γ u_β\n"
     ]
    }
   ],
   "source": [
    "uobs = Observable(string='u', rank=1)\n",
    "do1 = DerivativeOrder.blank_derivative(torder=0, xorder=0) \n",
    "do2 = DerivativeOrder(torder=0, x_derivatives=(VarIndex(-1), VarIndex(1)))\n",
    "obs1 = replace(uobs, indices=(VarIndex(1),)) \n",
    "obs2 = replace(uobs, indices=(VarIndex(0),)) \n",
    "p1 = LibraryPrime(derivative=do1, derivand=obs1) \n",
    "p2 = LibraryPrime(derivative=do2, derivand=obs2) \n",
    "term = ES_safe_prod(p1, p2) \n",
    "print(term, type(term), term.rank)\n",
    "term = canonicalize(term)\n",
    "print(term)"
   ]
  },
  {
   "cell_type": "code",
   "execution_count": null,
   "id": "5688ca19-9ef5-40a4-95d2-5562e686c607",
   "metadata": {},
   "outputs": [],
   "source": [
    "A = Observable(string='A', rank=2)\n",
    "b = Observable(string='b', rank=1)"
   ]
  },
  {
   "cell_type": "code",
   "execution_count": null,
   "id": "ecc398d5-0d77-4e39-a75b-4e758436f9e5",
   "metadata": {},
   "outputs": [],
   "source": [
    "A_indexings = []\n",
    "b_indexings = []\n",
    "for indexing in generate_indexings(A):\n",
    "    A_indexings.append(indexing)\n",
    "for indexing in generate_indexings(b):\n",
    "    b_indexings.append(indexing)\n",
    "print(A_indexings, b_indexings)"
   ]
  },
  {
   "cell_type": "code",
   "execution_count": null,
   "id": "d30129c8-5a63-4c27-97b8-ae5e3e54057f",
   "metadata": {},
   "outputs": [],
   "source": [
    "zero_deriv_order = DerivativeOrder.indexed_derivative(0, 0)\n",
    "x_do = DerivativeOrder.indexed_derivative(0, 1)\n",
    "t_do = DerivativeOrder.indexed_derivative(1, 0)\n",
    "deriv1 = LibraryPrime(derivative=x_do, derivand=A_indexings[0])\n",
    "deriv2 = LibraryPrime(derivative=t_do, derivand=b_indexings[0])\n",
    "A_no_deriv = LibraryPrime(derivative=zero_deriv_order, derivand=A_indexings[0])\n",
    "B_no_deriv = LibraryPrime(derivative=zero_deriv_order, derivand=b_indexings[0])\n",
    "\n",
    "print(deriv1, \"-\", deriv1.rank, \"-\", deriv2, \"-\", deriv2.rank)\n"
   ]
  },
  {
   "cell_type": "code",
   "execution_count": null,
   "id": "8445d302-7522-4b09-89fc-8158dc76c18f",
   "metadata": {},
   "outputs": [],
   "source": [
    "# PROBLEM: solver getting called every time we multiply instead of on final outcome \n",
    "# -> I guess we want a helper function that multiplies a ton of stuff together\n",
    "\n",
    "# second problem: lexicographic comparison between primes failing in derivative order comparison\n",
    "\n",
    "big_prod = deriv1 * deriv2 * A_no_deriv * B_no_deriv * B_no_deriv\n",
    "print(deriv1 * ConstantTerm(), \",\", ConstantTerm() * ConstantTerm(), ConstantTerm() * A_no_deriv)\n",
    "print(big_prod, type(big_prod))\n",
    "print(deriv1 * B_no_deriv * B_no_deriv * deriv2 * A_no_deriv)\n",
    "print(big_prod.primes)\n",
    "print(big_prod+big_prod)\n",
    "print(big_prod+(big_prod+big_prod))\n",
    "eq = big_prod + deriv1 * deriv2\n",
    "print(eq.eliminate_complex_term())\n",
    "eq2 = eq + big_prod\n",
    "print(eq2)\n"
   ]
  },
  {
   "cell_type": "code",
   "execution_count": null,
   "id": "1701c8cc-f735-47b9-975c-5b7009a132c5",
   "metadata": {},
   "outputs": [],
   "source": [
    "print(deriv1, deriv2)\n",
    "print(deriv1 * deriv2)\n",
    "eq = dx(deriv1 * deriv2 * deriv2) + big_prod\n",
    "print(eq)\n",
    "print(canonicalize(eq.terms[0]))"
   ]
  },
  {
   "cell_type": "code",
   "execution_count": null,
   "id": "3a69d2e8-ba50-4382-9609-c89e5ccc1073",
   "metadata": {},
   "outputs": [],
   "source": [
    "ex = eq.terms[0]\n",
    "#ex = contract(contract(ex, 1, 2), 0, 3)\n",
    "c = contract(ex, 1, 2)\n",
    "c2 = contract(c, 0, 3)\n",
    "print(\"EX:\", ex)\n",
    "print(\"Contractions:\", c, \"and\", c2)\n",
    "#ex = contract(ex, 1, 2)\n",
    "print(c2, \"has rank\", ex.rank)\n",
    "sq = deriv1*deriv1\n",
    "print(sq, \"has rank\", sq.rank)\n",
    "ex = c2.map_all_indices(lambda _: IndexHole())\n",
    "print(\"Emptied ex:\", ex)"
   ]
  }
 ],
 "metadata": {
  "kernelspec": {
   "display_name": "Python 3 (ipykernel)",
   "language": "python",
   "name": "python3"
  },
  "language_info": {
   "codemirror_mode": {
    "name": "ipython",
    "version": 3
   },
   "file_extension": ".py",
   "mimetype": "text/x-python",
   "name": "python",
   "nbconvert_exporter": "python",
   "pygments_lexer": "ipython3",
   "version": "3.12.7"
  }
 },
 "nbformat": 4,
 "nbformat_minor": 5
}
