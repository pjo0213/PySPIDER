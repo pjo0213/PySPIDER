{
 "cells": [
  {
   "cell_type": "code",
   "execution_count": 7,
   "id": "6361d425-936a-4513-b19c-8dc14afe052a",
   "metadata": {},
   "outputs": [],
   "source": [
    "# in case there are any problems with importing because path is wrong\n",
    "import sys\n",
    "sys.path.append('C:/Users/nerpa/Dropbox (Princeton)/Research/discrete_sr/code/SPIDER_discrete')"
   ]
  },
  {
   "cell_type": "code",
   "execution_count": 13,
   "id": "b418581d-62fe-4f91-bc2a-d1073fc83164",
   "metadata": {},
   "outputs": [],
   "source": [
    "### NEXT: structural generation\n",
    "\n",
    "from library import *"
   ]
  },
  {
   "cell_type": "code",
   "execution_count": 11,
   "id": "5688ca19-9ef5-40a4-95d2-5562e686c607",
   "metadata": {},
   "outputs": [],
   "source": [
    "A = Observable(string='A', rank=2)\n",
    "b = Observable(string='b', rank=1)"
   ]
  },
  {
   "cell_type": "code",
   "execution_count": 3,
   "id": "ecc398d5-0d77-4e39-a75b-4e758436f9e5",
   "metadata": {},
   "outputs": [
    {
     "name": "stdout",
     "output_type": "stream",
     "text": [
      "[A_αβ] [b_α]\n"
     ]
    }
   ],
   "source": [
    "A_indexings = []\n",
    "b_indexings = []\n",
    "for indexing in generate_indexings(A):\n",
    "    A_indexings.append(indexing)\n",
    "for indexing in generate_indexings(b):\n",
    "    b_indexings.append(indexing)\n",
    "print(A_indexings, b_indexings)"
   ]
  },
  {
   "cell_type": "code",
   "execution_count": 4,
   "id": "d30129c8-5a63-4c27-97b8-ae5e3e54057f",
   "metadata": {},
   "outputs": [
    {
     "name": "stdout",
     "output_type": "stream",
     "text": [
      "∂α A_αβ - 1 - ∂t b_α - 1\n"
     ]
    }
   ],
   "source": [
    "zero_deriv_order = DerivativeOrder.indexed_derivative(0, 0)\n",
    "x_do = DerivativeOrder.indexed_derivative(0, 1)\n",
    "t_do = DerivativeOrder.indexed_derivative(1, 0)\n",
    "deriv1 = LibraryPrime(derivative=x_do, derivand=A_indexings[0])\n",
    "deriv2 = LibraryPrime(derivative=t_do, derivand=b_indexings[0])\n",
    "A_no_deriv = LibraryPrime(derivative=zero_deriv_order, derivand=A_indexings[0])\n",
    "B_no_deriv = LibraryPrime(derivative=zero_deriv_order, derivand=b_indexings[0])\n",
    "\n",
    "print(deriv1, \"-\", deriv1.rank, \"-\", deriv2, \"-\", deriv2.rank)\n"
   ]
  },
  {
   "cell_type": "code",
   "execution_count": 5,
   "id": "8445d302-7522-4b09-89fc-8158dc76c18f",
   "metadata": {},
   "outputs": [
    {
     "name": "stdout",
     "output_type": "stream",
     "text": [
      "∂β A_βα , 1 A_αβ\n",
      "A_αβ · ∂η A_ηγ · b_δ · b_ε · ∂t b_ζ <class 'library.LibraryTerm'>\n",
      "A_αβ · ∂η A_ηγ · b_δ · b_ε · ∂t b_ζ\n",
      "(A_αβ, ∂η A_ηγ, b_δ, b_ε, ∂t b_ζ)\n",
      "(A_αβ · ∂η A_ηγ · b_δ · b_ε · ∂t b_ζ,) (1,)\n",
      "(A_αβ · ∂η A_ηγ · b_δ · b_ε · ∂t b_ζ,) (1,)\n",
      "(A_αβ · ∂η A_ηγ · b_δ · b_ε · ∂t b_ζ,) (2,)\n",
      "2 · A_αβ · ∂η A_ηγ · b_δ · b_ε · ∂t b_ζ = 0\n",
      "(A_αβ · ∂η A_ηγ · b_δ · b_ε · ∂t b_ζ,) (1,)\n",
      "(A_αβ · ∂η A_ηγ · b_δ · b_ε · ∂t b_ζ,) (1,)\n",
      "(A_αβ · ∂η A_ηγ · b_δ · b_ε · ∂t b_ζ,) (2,)\n",
      "(A_αβ · ∂η A_ηγ · b_δ · b_ε · ∂t b_ζ,) (1,)\n",
      "(A_αβ · ∂η A_ηγ · b_δ · b_ε · ∂t b_ζ, A_αβ · ∂η A_ηγ · b_δ · b_ε · ∂t b_ζ) (1, 2)\n",
      "A_αβ · ∂η A_ηγ · b_δ · b_ε · ∂t b_ζ + 2 · A_αβ · ∂η A_ηγ · b_δ · b_ε · ∂t b_ζ = 0\n",
      "(A_αβ · ∂η A_ηγ · b_δ · b_ε · ∂t b_ζ,) (1,)\n",
      "(∂γ A_γα · ∂t b_β,) (1,)\n",
      "(A_αβ · ∂η A_ηγ · b_δ · b_ε · ∂t b_ζ, ∂γ A_γα · ∂t b_β) (1, 1)\n",
      "(∂γ A_γα · ∂t b_β,) (-1.0,)\n",
      "(A_αβ · ∂η A_ηγ · b_δ · b_ε · ∂t b_ζ, -1.0 · ∂γ A_γα · ∂t b_β)\n",
      "(A_αβ · ∂η A_ηγ · b_δ · b_ε · ∂t b_ζ,) (1,)\n",
      "(A_αβ · ∂η A_ηγ · b_δ · b_ε · ∂t b_ζ, A_αβ · ∂η A_ηγ · b_δ · b_ε · ∂t b_ζ, ∂γ A_γα · ∂t b_β) (1, 1, 1)\n",
      "A_αβ · ∂η A_ηγ · b_δ · b_ε · ∂t b_ζ + A_αβ · ∂η A_ηγ · b_δ · b_ε · ∂t b_ζ + ∂γ A_γα · ∂t b_β = 0\n"
     ]
    }
   ],
   "source": [
    "# PROBLEM: solver getting called every time we multiply instead of on final outcome \n",
    "# -> I guess we want a helper function that multiplies a ton of stuff together\n",
    "\n",
    "# second problem: lexicographic comparison between primes failing in derivative order comparison\n",
    "\n",
    "big_prod = deriv1 * deriv2 * A_no_deriv * B_no_deriv * B_no_deriv\n",
    "print(deriv1 * ConstantTerm(), \",\", ConstantTerm() * ConstantTerm(), ConstantTerm() * A_no_deriv)\n",
    "print(big_prod, type(big_prod))\n",
    "print(deriv1 * B_no_deriv * B_no_deriv * deriv2 * A_no_deriv)\n",
    "print(big_prod.primes)\n",
    "print(big_prod+big_prod)\n",
    "print(big_prod+(big_prod+big_prod))\n",
    "eq = big_prod + deriv1 * deriv2\n",
    "print(eq.eliminate_complex_term())\n",
    "eq2 = eq + big_prod\n",
    "print(eq2)\n"
   ]
  },
  {
   "cell_type": "code",
   "execution_count": 7,
   "id": "1701c8cc-f735-47b9-975c-5b7009a132c5",
   "metadata": {},
   "outputs": [
    {
     "name": "stdout",
     "output_type": "stream",
     "text": [
      "∂α A_αβ ∂t b_α\n",
      "∂γ A_γα · ∂t b_β\n",
      "(∂α ∂ε A_εβ · ∂t b_γ · ∂t b_δ,) (1,)\n",
      "(∂ε A_εα · ∂t b_β · ∂t ∂γ b_δ,) (1,)\n",
      "(∂ε A_εα · ∂t b_β · ∂t ∂γ b_δ,) (1,)\n",
      "(∂ε A_εα · ∂t b_β · ∂t ∂γ b_δ, ∂ε A_εα · ∂t b_β · ∂t ∂γ b_δ, ∂α ∂ε A_εβ · ∂t b_γ · ∂t b_δ) (1, 1, 1)\n",
      "(A_αβ · ∂η A_ηγ · b_δ · b_ε · ∂t b_ζ,) (1,)\n",
      "(A_αβ · ∂η A_ηγ · b_δ · b_ε · ∂t b_ζ, ∂ε A_εα · ∂t b_β · ∂t ∂γ b_δ, ∂ε A_εα · ∂t b_β · ∂t ∂γ b_δ, ∂α ∂ε A_εβ · ∂t b_γ · ∂t b_δ) (1, 1, 1, 1)\n",
      "A_αβ · ∂η A_ηγ · b_δ · b_ε · ∂t b_ζ + ∂ε A_εα · ∂t b_β · ∂t ∂γ b_δ + ∂ε A_εα · ∂t b_β · ∂t ∂γ b_δ + ∂α ∂ε A_εβ · ∂t b_γ · ∂t b_δ = 0\n",
      "A_αβ · ∂η A_ηγ · b_δ · b_ε · ∂t b_ζ\n"
     ]
    }
   ],
   "source": [
    "print(deriv1, deriv2)\n",
    "print(deriv1 * deriv2)\n",
    "eq = dx(deriv1 * deriv2 * deriv2) + big_prod\n",
    "print(eq)\n",
    "print(canonicalize(eq.terms[0]))"
   ]
  },
  {
   "cell_type": "code",
   "execution_count": 11,
   "id": "3a69d2e8-ba50-4382-9609-c89e5ccc1073",
   "metadata": {},
   "outputs": [
    {
     "name": "stdout",
     "output_type": "stream",
     "text": [
      "EX: A_αβ · ∂η A_ηγ · b_δ · b_ε · ∂t b_ζ\n",
      "Contractions: A_αε · ∂ζ A_ζε · b_β · b_γ · ∂t b_δ and A_γδ · ∂ε A_εδ · b_α · b_β · ∂t b_γ\n",
      "A_γδ · ∂ε A_εδ · b_α · b_β · ∂t b_γ has rank 6\n",
      "∂γ A_γα · ∂δ A_δβ has rank 2\n",
      "Emptied ex: A_{ }{ } · ∂{ } A_{ }{ } · b_{ } · b_{ } · ∂t b_{ }\n"
     ]
    }
   ],
   "source": [
    "ex = eq.terms[0]\n",
    "#ex = contract(contract(ex, 1, 2), 0, 3)\n",
    "c = contract(ex, 1, 2)\n",
    "c2 = contract(c, 0, 3)\n",
    "print(\"EX:\", ex)\n",
    "print(\"Contractions:\", c, \"and\", c2)\n",
    "#ex = contract(ex, 1, 2)\n",
    "print(c2, \"has rank\", ex.rank)\n",
    "sq = deriv1*deriv1\n",
    "print(sq, \"has rank\", sq.rank)\n",
    "ex = c2.map_all_indices(lambda _: IndexHole())\n",
    "print(\"Emptied ex:\", ex)"
   ]
  }
 ],
 "metadata": {
  "kernelspec": {
   "display_name": "Python 3 (ipykernel)",
   "language": "python",
   "name": "python3"
  },
  "language_info": {
   "codemirror_mode": {
    "name": "ipython",
    "version": 3
   },
   "file_extension": ".py",
   "mimetype": "text/x-python",
   "name": "python",
   "nbconvert_exporter": "python",
   "pygments_lexer": "ipython3",
   "version": "3.12.4"
  }
 },
 "nbformat": 4,
 "nbformat_minor": 5
}
