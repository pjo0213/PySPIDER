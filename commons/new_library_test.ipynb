{
 "cells": [
  {
   "cell_type": "code",
   "execution_count": 1,
   "id": "b418581d-62fe-4f91-bc2a-d1073fc83164",
   "metadata": {},
   "outputs": [],
   "source": [
    "from library import *"
   ]
  },
  {
   "cell_type": "code",
   "execution_count": 2,
   "id": "5688ca19-9ef5-40a4-95d2-5562e686c607",
   "metadata": {},
   "outputs": [],
   "source": [
    "A = Observable(string='A', rank=2)\n",
    "b = Observable(string='b', rank=1)"
   ]
  },
  {
   "cell_type": "code",
   "execution_count": 3,
   "id": "ecc398d5-0d77-4e39-a75b-4e758436f9e5",
   "metadata": {},
   "outputs": [
    {
     "name": "stdout",
     "output_type": "stream",
     "text": [
      "[A_αβ] [b_α]\n"
     ]
    }
   ],
   "source": [
    "A_indexings = []\n",
    "b_indexings = []\n",
    "for indexing in generate_indexings(A):\n",
    "    A_indexings.append(indexing)\n",
    "for indexing in generate_indexings(b):\n",
    "    b_indexings.append(indexing)\n",
    "print(A_indexings, b_indexings)"
   ]
  },
  {
   "cell_type": "code",
   "execution_count": 4,
   "id": "d30129c8-5a63-4c27-97b8-ae5e3e54057f",
   "metadata": {},
   "outputs": [
    {
     "name": "stdout",
     "output_type": "stream",
     "text": [
      "∂α A_αβ - 1 - ∂t b_α - 1\n"
     ]
    }
   ],
   "source": [
    "zero_deriv_order = DerivativeOrder.indexed_derivative(0, 0)\n",
    "x_do = DerivativeOrder.indexed_derivative(0, 1)\n",
    "t_do = DerivativeOrder.indexed_derivative(1, 0)\n",
    "deriv1 = LibraryPrime(derivative=x_do, derivand=A_indexings[0])\n",
    "deriv2 = LibraryPrime(derivative=t_do, derivand=b_indexings[0])\n",
    "A_no_deriv = LibraryPrime(derivative=zero_deriv_order, derivand=A_indexings[0])\n",
    "B_no_deriv = LibraryPrime(derivative=zero_deriv_order, derivand=b_indexings[0])\n",
    "\n",
    "print(deriv1, \"-\", deriv1.rank, \"-\", deriv2, \"-\", deriv2.rank)\n"
   ]
  },
  {
   "cell_type": "code",
   "execution_count": 5,
   "id": "8445d302-7522-4b09-89fc-8158dc76c18f",
   "metadata": {},
   "outputs": [
    {
     "name": "stdout",
     "output_type": "stream",
     "text": [
      "∂α A_αβ · ∂t b_γ\n",
      "A_δε · ∂γ A_γα · ∂t b_β\n",
      "A_αβ · ∂ε A_εγ · b_ζ · ∂t b_δ\n",
      "A_αβ · ∂ζ A_ζγ · b_δ · b_η · ∂t b_ε\n",
      "∂α A_αβ\n",
      "∂β A_βα , 1 A_αβ\n",
      "A_αβ · ∂η A_ηγ · b_δ · b_ε · ∂t b_ζ <class 'library.LibraryTerm'>\n",
      "∂α A_αβ · b_γ\n",
      "∂γ A_γα · b_β · b_δ\n",
      "∂δ A_δα · b_β · b_γ · ∂t b_ε\n",
      "A_ζη · ∂ε A_εα · b_β · b_γ · ∂t b_δ\n",
      "A_αβ · ∂η A_ηγ · b_δ · b_ε · ∂t b_ζ\n",
      "(A_αβ, ∂η A_ηγ, b_δ, b_ε, ∂t b_ζ)\n",
      "A_αβ · ∂η A_ηγ · b_δ · b_ε · ∂t b_ζ\n",
      "2 · A_αβ · ∂η A_ηγ · b_δ · b_ε · ∂t b_ζ = 0\n",
      "A_αβ · ∂η A_ηγ · b_δ · b_ε · ∂t b_ζ\n",
      "A_αβ · ∂η A_ηγ · b_δ · b_ε · ∂t b_ζ\n",
      "A_αβ · ∂η A_ηγ · b_δ · b_ε · ∂t b_ζ\n",
      "A_αβ · ∂η A_ηγ · b_δ · b_ε · ∂t b_ζ + 2 · A_αβ · ∂η A_ηγ · b_δ · b_ε · ∂t b_ζ = 0\n",
      "∂α A_αβ · ∂t b_γ\n",
      "A_αβ · ∂η A_ηγ · b_δ · b_ε · ∂t b_ζ\n",
      "∂γ A_γα · ∂t b_β\n",
      "∂γ A_γα · ∂t b_β\n",
      "(A_αβ · ∂η A_ηγ · b_δ · b_ε · ∂t b_ζ, -1.0 · ∂γ A_γα · ∂t b_β)\n"
     ]
    }
   ],
   "source": [
    "# PROBLEM: solver getting called every time we multiply instead of on final outcome \n",
    "# -> I guess we want a helper function that multiplies a ton of stuff together\n",
    "\n",
    "# second problem: lexicographic comparison between primes failing in derivative order comparison\n",
    "\n",
    "big_prod = deriv1 * deriv2 * A_no_deriv * B_no_deriv * B_no_deriv\n",
    "print(deriv1 * ConstantTerm(), \",\", ConstantTerm() * ConstantTerm(), ConstantTerm() * A_no_deriv)\n",
    "print(big_prod, type(big_prod))\n",
    "print(deriv1 * B_no_deriv * B_no_deriv * deriv2 * A_no_deriv)\n",
    "print(big_prod.primes)\n",
    "print(big_prod+big_prod)\n",
    "print(big_prod+(big_prod+big_prod))\n",
    "eq = big_prod + deriv1 * deriv2\n",
    "print(eq.eliminate_complex_term())\n"
   ]
  },
  {
   "cell_type": "code",
   "execution_count": 6,
   "id": "14d1ca9f-5848-431d-a1a4-6fcb2ebbfa16",
   "metadata": {},
   "outputs": [
    {
     "name": "stdout",
     "output_type": "stream",
     "text": [
      "A_εα · ∂ε A_εε · b_β · b_γ · ∂t b_δ\n"
     ]
    }
   ],
   "source": [
    "print(contract(contract(big_prod, 0, 7), 6, 1))"
   ]
  },
  {
   "cell_type": "code",
   "execution_count": 7,
   "id": "1701c8cc-f735-47b9-975c-5b7009a132c5",
   "metadata": {},
   "outputs": [
    {
     "name": "stdout",
     "output_type": "stream",
     "text": [
      "∂α A_αβ ∂t b_α\n",
      "∂α A_αβ · ∂t b_γ\n",
      "∂γ A_γα · ∂t b_β\n",
      "∂α A_αβ · ∂t b_γ\n",
      "∂γ A_γα · ∂t b_β · ∂t b_δ\n",
      "∂β ∂ζ A_ζγ\n",
      "∂α ∂γ A_γβ · ∂t b_ζ\n",
      "∂α ∂δ A_δβ · ∂t b_γ · ∂t b_θ\n",
      "∂α ∂ε A_εβ · ∂t b_γ · ∂t b_δ\n",
      "∂ζ A_ζγ\n",
      "∂β A_βα · ∂t ∂γ b_ε\n",
      "∂δ A_δα · ∂t b_θ · ∂t ∂β b_γ\n",
      "∂ε A_εα · ∂t b_β · ∂t ∂γ b_δ\n",
      "∂α ∂ε A_εβ · ∂t b_γ · ∂t b_δ\n",
      "∂ζ A_ζγ\n",
      "∂β A_βα · ∂t b_ε\n",
      "∂γ A_γα · ∂t b_β · ∂t ∂δ b_η\n",
      "∂ε A_εα · ∂t b_β · ∂t ∂γ b_δ\n",
      "∂ε A_εα · ∂t b_β · ∂t ∂γ b_δ\n",
      "∂α ∂ε A_εβ · ∂t b_γ · ∂t b_δ\n",
      "A_αβ · ∂η A_ηγ · b_δ · b_ε · ∂t b_ζ\n",
      "∂ε A_εα · ∂t b_β · ∂t ∂γ b_δ\n",
      "∂ε A_εα · ∂t b_β · ∂t ∂γ b_δ\n",
      "∂α ∂ε A_εβ · ∂t b_γ · ∂t b_δ\n",
      "A_αβ · ∂η A_ηγ · b_δ · b_ε · ∂t b_ζ + ∂ε A_εα · ∂t b_β · ∂t ∂γ b_δ + ∂ε A_εα · ∂t b_β · ∂t ∂γ b_δ + ∂α ∂ε A_εβ · ∂t b_γ · ∂t b_δ = 0\n",
      "A_αβ · ∂η A_ηγ · b_δ · b_ε · ∂t b_ζ\n",
      "A_αβ · ∂η A_ηγ · b_δ · b_ε · ∂t b_ζ\n"
     ]
    }
   ],
   "source": [
    "print(deriv1, deriv2)\n",
    "print(deriv1 * deriv2)\n",
    "eq = dx(deriv1 * deriv2 * deriv2) + big_prod\n",
    "print(eq)\n",
    "print(canonicalize(eq.terms[0]))"
   ]
  },
  {
   "cell_type": "code",
   "execution_count": 9,
   "id": "3a69d2e8-ba50-4382-9609-c89e5ccc1073",
   "metadata": {},
   "outputs": [
    {
     "name": "stdout",
     "output_type": "stream",
     "text": [
      "A_δδ · ∂γ A_γδ · b_α · b_β · ∂t b_δ has rank 2\n",
      "∂α A_αβ · ∂γ A_γδ\n",
      "∂γ A_γα · ∂δ A_δβ has rank 2\n",
      "A_δδ · ∂γ A_γδ · b_α · b_β · ∂t b_δ\n"
     ]
    },
    {
     "ename": "AssertionError",
     "evalue": "Didn't find any indexings :(",
     "output_type": "error",
     "traceback": [
      "\u001b[1;31m---------------------------------------------------------------------------\u001b[0m",
      "\u001b[1;31mStopIteration\u001b[0m                             Traceback (most recent call last)",
      "File \u001b[1;32m~\\Dropbox (Princeton)\\Research\\discrete_sr\\code\\SPIDER_discrete\\commons\\library.py:37\u001b[0m, in \u001b[0;36mcanonicalize\u001b[1;34m(expr)\u001b[0m\n\u001b[0;32m     36\u001b[0m \u001b[38;5;28;01mtry\u001b[39;00m:\n\u001b[1;32m---> 37\u001b[0m     canon \u001b[38;5;241m=\u001b[39m \u001b[38;5;28mnext\u001b[39m(indexings)\n\u001b[0;32m     38\u001b[0m \u001b[38;5;28;01mexcept\u001b[39;00m \u001b[38;5;167;01mStopIteration\u001b[39;00m:\n",
      "\u001b[1;31mStopIteration\u001b[0m: ",
      "\nDuring handling of the above exception, another exception occurred:\n",
      "\u001b[1;31mAssertionError\u001b[0m                            Traceback (most recent call last)",
      "Cell \u001b[1;32mIn[9], line 6\u001b[0m\n\u001b[0;32m      4\u001b[0m sq \u001b[38;5;241m=\u001b[39m deriv1\u001b[38;5;241m*\u001b[39mderiv1\n\u001b[0;32m      5\u001b[0m \u001b[38;5;28mprint\u001b[39m(sq, \u001b[38;5;124m\"\u001b[39m\u001b[38;5;124mhas rank\u001b[39m\u001b[38;5;124m\"\u001b[39m, sq\u001b[38;5;241m.\u001b[39mrank)\n\u001b[1;32m----> 6\u001b[0m \u001b[38;5;28mprint\u001b[39m(canonicalize(ex))\n\u001b[0;32m      7\u001b[0m \u001b[38;5;28mprint\u001b[39m(canonicalize(sq))\n\u001b[0;32m      8\u001b[0m \u001b[38;5;28mprint\u001b[39m(ex \u001b[38;5;241m+\u001b[39m sq)\n",
      "File \u001b[1;32m~\\Dropbox (Princeton)\\Research\\discrete_sr\\code\\SPIDER_discrete\\commons\\library.py:39\u001b[0m, in \u001b[0;36mcanonicalize\u001b[1;34m(expr)\u001b[0m\n\u001b[0;32m     37\u001b[0m     canon \u001b[38;5;241m=\u001b[39m \u001b[38;5;28mnext\u001b[39m(indexings)\n\u001b[0;32m     38\u001b[0m \u001b[38;5;28;01mexcept\u001b[39;00m \u001b[38;5;167;01mStopIteration\u001b[39;00m:\n\u001b[1;32m---> 39\u001b[0m     \u001b[38;5;28;01massert\u001b[39;00m \u001b[38;5;28;01mFalse\u001b[39;00m, \u001b[38;5;124mf\u001b[39m\u001b[38;5;124m\"\u001b[39m\u001b[38;5;124mDidn\u001b[39m\u001b[38;5;124m'\u001b[39m\u001b[38;5;124mt find any indexings :(\u001b[39m\u001b[38;5;124m\"\u001b[39m\n\u001b[0;32m     40\u001b[0m \u001b[38;5;28;01mtry\u001b[39;00m:\n\u001b[0;32m     41\u001b[0m     canon2 \u001b[38;5;241m=\u001b[39m \u001b[38;5;28mnext\u001b[39m(indexings)\n",
      "\u001b[1;31mAssertionError\u001b[0m: Didn't find any indexings :("
     ]
    }
   ],
   "source": [
    "ex = eq.terms[0]\n",
    "ex = contract(contract(ex, 1, 2), 0, 3)\n",
    "print(ex, \"has rank\", ex.rank)\n",
    "sq = deriv1*deriv1\n",
    "print(sq, \"has rank\", sq.rank)\n",
    "print(canonicalize(ex))\n",
    "print(canonicalize(sq))\n",
    "print(ex + sq)\n",
    "ex = ex.map_all_indices(lambda _: IndexHole())\n",
    "print(\"Emptied ex:\", ex)\n",
    "indexings = []\n",
    "for indexing in generate_indexings(ex):\n",
    "    indexings.append(indexing)\n",
    "    print(indexing)\n",
    "print(len(indexings))"
   ]
  },
  {
   "cell_type": "code",
   "execution_count": null,
   "id": "ddb6b939-4fd2-479a-afe5-99cc83af412b",
   "metadata": {},
   "outputs": [],
   "source": []
  }
 ],
 "metadata": {
  "kernelspec": {
   "display_name": "Python 3 (ipykernel)",
   "language": "python",
   "name": "python3"
  },
  "language_info": {
   "codemirror_mode": {
    "name": "ipython",
    "version": 3
   },
   "file_extension": ".py",
   "mimetype": "text/x-python",
   "name": "python",
   "nbconvert_exporter": "python",
   "pygments_lexer": "ipython3",
   "version": "3.12.4"
  }
 },
 "nbformat": 4,
 "nbformat_minor": 5
}
