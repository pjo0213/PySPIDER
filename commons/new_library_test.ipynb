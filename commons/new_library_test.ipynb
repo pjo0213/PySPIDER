{
 "cells": [
  {
   "cell_type": "code",
   "execution_count": 1,
   "id": "b418581d-62fe-4f91-bc2a-d1073fc83164",
   "metadata": {},
   "outputs": [],
   "source": [
    "from library import *"
   ]
  },
  {
   "cell_type": "code",
   "execution_count": 2,
   "id": "5688ca19-9ef5-40a4-95d2-5562e686c607",
   "metadata": {},
   "outputs": [],
   "source": [
    "A = Observable(string='A', rank=2)\n",
    "b = Observable(string='b', rank=1)"
   ]
  },
  {
   "cell_type": "code",
   "execution_count": 3,
   "id": "ecc398d5-0d77-4e39-a75b-4e758436f9e5",
   "metadata": {},
   "outputs": [
    {
     "name": "stdout",
     "output_type": "stream",
     "text": [
      "[A_αβ] [b_α]\n"
     ]
    }
   ],
   "source": [
    "A_indexings = []\n",
    "b_indexings = []\n",
    "for indexing in generate_indexings(A):\n",
    "    A_indexings.append(indexing)\n",
    "for indexing in generate_indexings(b):\n",
    "    b_indexings.append(indexing)\n",
    "print(A_indexings, b_indexings)"
   ]
  },
  {
   "cell_type": "code",
   "execution_count": 4,
   "id": "d30129c8-5a63-4c27-97b8-ae5e3e54057f",
   "metadata": {},
   "outputs": [],
   "source": [
    "deriv1 = dx(A_indexings[0])\n",
    "deriv2 = dt(b_indexings[0])\n",
    "zero_deriv_order = DerivativeOrder.indexed_derivative(0, 0)\n",
    "A_no_deriv = LibraryPrime(derivative=zero_deriv_order, derivand=A_indexings[0])\n",
    "B_no_deriv = LibraryPrime(derivative=zero_deriv_order, derivand=b_indexings[0])\n"
   ]
  },
  {
   "cell_type": "code",
   "execution_count": 5,
   "id": "8445d302-7522-4b09-89fc-8158dc76c18f",
   "metadata": {},
   "outputs": [
    {
     "name": "stdout",
     "output_type": "stream",
     "text": [
      "∂α A_βγ , 1 A_αβ\n",
      "A_αβ · ∂γ A_δε · b_ζ · b_η · ∂t b_θ <class 'library.LibraryTerm'>\n",
      "(A_αβ, ∂γ A_δε, b_ζ, b_η, ∂t b_θ)\n",
      "2 · A_αβ · ∂γ A_δε · b_ζ · b_η · ∂t b_θ = 0\n",
      "3 · A_αβ · ∂γ A_δε · b_ζ · b_η · ∂t b_θ = 0\n",
      "(A_αβ · ∂γ A_δε · b_ζ · b_η · ∂t b_θ, -1.0 · ∂α A_βγ · ∂t b_δ)\n"
     ]
    }
   ],
   "source": [
    "big_prod = deriv1 * deriv2 * A_no_deriv * B_no_deriv * B_no_deriv\n",
    "print(deriv1 * ConstantTerm(), \",\", ConstantTerm() * ConstantTerm(), ConstantTerm() * A_no_deriv)\n",
    "print(big_prod, type(big_prod))\n",
    "print(big_prod.primes)\n",
    "print(big_prod+big_prod)\n",
    "print(big_prod+(big_prod+big_prod))\n",
    "eq = big_prod + deriv1 * deriv2\n",
    "print(eq.eliminate_complex_term())\n"
   ]
  },
  {
   "cell_type": "code",
   "execution_count": 6,
   "id": "14d1ca9f-5848-431d-a1a4-6fcb2ebbfa16",
   "metadata": {},
   "outputs": [
    {
     "name": "stdout",
     "output_type": "stream",
     "text": [
      "A_αβ · ∂γ A_δε · ∂t b_α · b_β · b_ζ\n"
     ]
    }
   ],
   "source": [
    "print(contract(contract(big_prod, 0, 7), 6, 1))"
   ]
  },
  {
   "cell_type": "code",
   "execution_count": 9,
   "id": "1701c8cc-f735-47b9-975c-5b7009a132c5",
   "metadata": {},
   "outputs": [
    {
     "name": "stdout",
     "output_type": "stream",
     "text": [
      "∂α A_βγ · ∂t b_δ\n",
      "∂α A_βγ · ∂t ∂δ b_ε + ∂α ∂β A_γδ · ∂t b_ε = 0\n"
     ]
    }
   ],
   "source": [
    "print(deriv1 * deriv2)\n",
    "print(dx(deriv1 * deriv2))"
   ]
  },
  {
   "cell_type": "code",
   "execution_count": null,
   "id": "580af26f-55d7-4aa8-af12-ecfae4e45f40",
   "metadata": {},
   "outputs": [],
   "source": []
  }
 ],
 "metadata": {
  "kernelspec": {
   "display_name": "Python 3 (ipykernel)",
   "language": "python",
   "name": "python3"
  },
  "language_info": {
   "codemirror_mode": {
    "name": "ipython",
    "version": 3
   },
   "file_extension": ".py",
   "mimetype": "text/x-python",
   "name": "python",
   "nbconvert_exporter": "python",
   "pygments_lexer": "ipython3",
   "version": "3.12.4"
  }
 },
 "nbformat": 4,
 "nbformat_minor": 5
}
