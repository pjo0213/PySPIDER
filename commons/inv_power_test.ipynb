{
 "cells": [
  {
   "cell_type": "code",
   "execution_count": 147,
   "id": "4331f96a-de64-4d79-83e8-6855b81fe662",
   "metadata": {},
   "outputs": [],
   "source": [
    "import numpy as np\n",
    "\n",
    "def TInvPower(A, k, x0=None, mu0=None, tol=1e-12, max_iter=50, verbose=True):\n",
    "    w = A.shape[0]\n",
    "    if x0 is None:\n",
    "        x = smallest_sv(A)\n",
    "    else:\n",
    "        x = x0\n",
    "    if mu0 is None:\n",
    "        mu = x.T @ A @ x\n",
    "    else:\n",
    "        mu = mu0\n",
    "    if verbose:\n",
    "        print(\"non-sparse mu: \", mu)\n",
    "        print(\"non-sparse x: \", x)\n",
    "    update_size = np.inf \n",
    "    it = 0\n",
    "    while update_size>tol and it<max_iter:\n",
    "        x /= np.linalg.norm(x)\n",
    "        try:\n",
    "            y = np.linalg.solve(A - mu * np.eye(w), x) # Rayleigh iteration\n",
    "            # y = np.linalg.solve(A, x) # pure inverse iteration\n",
    "        except:\n",
    "            print(\"Exiting early due to singular matrix\")\n",
    "            return x, mu\n",
    "        inds = np.argpartition(np.abs(y), -k)[-k:] # indices of largest absolute entries\n",
    "        y = keep_inds(y, inds)\n",
    "        y /= np.linalg.norm(y)\n",
    "        #mu = y.T @ A @ y # comment out to fix mu\n",
    "        update_size = min(np.linalg.norm(y - x), np.linalg.norm(y + x))/np.linalg.norm(y)\n",
    "        if verbose:\n",
    "            print(\"x:\", x, \"y:\", y, \"mu:\", mu, \"update_size:\", update_size)\n",
    "        x = y\n",
    "        it += 1\n",
    "    return x, mu, it\n",
    "\n",
    "def keep_inds(vector, inds): # set all but inds of vector to 0\n",
    "    temp = vector*0\n",
    "    temp[inds] = vector[inds]\n",
    "    return temp\n",
    "\n",
    "def smallest_sv(A):\n",
    "    U, Sigma, V = np.linalg.svd(A, full_matrices=True)\n",
    "    V = V.transpose()  # since numpy SVD returns the transpose\n",
    "    return V[:, -1] # smallest singular vector"
   ]
  },
  {
   "cell_type": "code",
   "execution_count": 148,
   "id": "404142f2-6158-4c3e-b556-ba466999269c",
   "metadata": {},
   "outputs": [
    {
     "name": "stdout",
     "output_type": "stream",
     "text": [
      "Singular values of A: [3.00000046 1.99999815 1.00000761 0.02997774 0.02002224 0.01104951\n",
      " 0.01100328 0.01097603 0.01097299 0.01094947 0.0099752 ]\n",
      "Ended in 50 iterations\n",
      "x: [-0.8978517   0.32185157  0.30045614 -0.         -0.         -0.\n",
      "  0.          0.          0.          0.         -0.        ] mu: 0 error: 0.01813513867878563\n",
      "True x: [-0.89529806  0.33718466  0.29111491 -0.         -0.         -0.\n",
      " -0.         -0.         -0.         -0.         -0.        ]\n",
      "True Rayleigh quotient after noise: 0.009977224978423248\n"
     ]
    }
   ],
   "source": [
    "def generate_matrix(eigs, k, noise=0): # note: first eig should be smallest one\n",
    "    w = len(eigs)\n",
    "    A = np.zeros((w, w))\n",
    "    u_list = []\n",
    "    for i in range(w):\n",
    "        u_list.append(np.random.normal(0, 1, w))\n",
    "    u_list[0][k:] = 0\n",
    "    U = np.vstack(u_list).T\n",
    "    Q, R = np.linalg.qr(U) # orthogonalize u_list\n",
    "    for i in range(w):\n",
    "        A += eigs[i] * np.outer(Q[:, i], Q[:, i])\n",
    "    A += np.random.normal(0, noise, (w, w))\n",
    "    return A, Q\n",
    "\n",
    "np.random.seed(1) # fix random seed for reproducibility\n",
    "\n",
    "eigs = [0.01, 0.02, 0.03, 1, 2, 3] + [0.011]*5\n",
    "k = 3\n",
    "A, Q = generate_matrix(eigs, k, noise=2e-5)\n",
    "x, mu, it = TInvPower(A, k, mu0=0, verbose=False)\n",
    "#print(\"A:\", A)\n",
    "#print(\"Q:\", Q)\n",
    "U, Sigma, V = np.linalg.svd(A, full_matrices=True)\n",
    "print(\"Singular values of A:\", Sigma)\n",
    "print(f\"Ended in {it} iterations\")\n",
    "print(\"x:\", x, \"mu:\", mu, \"error:\", min(np.linalg.norm(x-Q[:, 0]), np.linalg.norm(x+Q[:, 0])))\n",
    "print(\"True x:\", Q[:, 0])\n",
    "print(\"True Rayleigh quotient after noise:\", Q[:, 0].T @ A @ Q[:, 0]) "
   ]
  },
  {
   "cell_type": "code",
   "execution_count": null,
   "id": "b452f68c-019c-46ea-b680-04dcb5810a9d",
   "metadata": {},
   "outputs": [],
   "source": []
  }
 ],
 "metadata": {
  "kernelspec": {
   "display_name": "Python 3 (ipykernel)",
   "language": "python",
   "name": "python3"
  },
  "language_info": {
   "codemirror_mode": {
    "name": "ipython",
    "version": 3
   },
   "file_extension": ".py",
   "mimetype": "text/x-python",
   "name": "python",
   "nbconvert_exporter": "python",
   "pygments_lexer": "ipython3",
   "version": "3.9.13"
  }
 },
 "nbformat": 4,
 "nbformat_minor": 5
}
