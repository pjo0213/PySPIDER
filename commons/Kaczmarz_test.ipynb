{
 "cells": [
  {
   "cell_type": "code",
   "execution_count": 98,
   "id": "4ad4aaf2-8e31-4f83-911e-5c83277304fd",
   "metadata": {},
   "outputs": [],
   "source": [
    "import numpy as np\n",
    "\n",
    "# Code partly adapted from https://github.com/jdmoorman/kaczmarz-algorithms\n",
    "def kaczmarz(A, k, x0=None, tol=1e-12, max_iter=100, max_stuck=10, gamma=1, verbose=True):\n",
    "    w, h = A.shape\n",
    "    if x0 is None:\n",
    "        x = smallest_sv(A)\n",
    "    else:\n",
    "        x = x0/np.norm(x0)\n",
    "    if verbose:\n",
    "        print(\"non-sparse x: \", x)\n",
    "    learning_rate = 1\n",
    "    it = 0\n",
    "    update_size = np.inf\n",
    "    while update_size>tol and it<max_iter:\n",
    "        # compute residual and sampling probabilities\n",
    "        residual = A @ x\n",
    "        squared_residual = residual ** 2\n",
    "        probabilities = squared_residual / squared_residual.sum()\n",
    "        \n",
    "        # sample row and update x\n",
    "        i = np.random.choice(h, p=probabilities)\n",
    "        ai = A[i, :]\n",
    "        y = x - learning_rate*(ai @ x)\n",
    "        \n",
    "        # keep only k largest entries\n",
    "        inds = np.argpartition(np.abs(y), -k)[-k:] # indices of largest absolute entries\n",
    "        #y = keep_inds(y, inds)\n",
    "        y = solve(A, inds)\n",
    "        y /= np.linalg.norm(y) # projection step: x always normalized\n",
    "        update_size = min(np.linalg.norm(y - x), np.linalg.norm(y + x))/np.linalg.norm(y)\n",
    "        if verbose:\n",
    "            print(\"x:\", x, \"y:\", y, \"update_size:\", update_size)\n",
    "        x = y\n",
    "        learning_rate *= gamma # LR decay\n",
    "        it += 1\n",
    "    return x, it\n",
    "\n",
    "def keep_inds(vector, inds): # set all but inds of vector to 0\n",
    "    temp = vector*0\n",
    "    temp[inds] = vector[inds]\n",
    "    return temp\n",
    "\n",
    "def smallest_sv(A):\n",
    "    U, Sigma, V = np.linalg.svd(A, full_matrices=True)\n",
    "    V = V.transpose()  # since numpy SVD returns the transpose\n",
    "    return V[:, -1] # smallest singular vector\n",
    "\n",
    "def solve(A, inds):\n",
    "    w = A.shape[1]\n",
    "    x = np.zeros(shape=(w,))\n",
    "    x[np.ix_(inds)] = smallest_sv(A[np.ix_(inds, inds)]) # work on submatrix with inds\n",
    "    return x"
   ]
  },
  {
   "cell_type": "code",
   "execution_count": 107,
   "id": "c1016446-0e7f-44b9-b994-e42bfbb1456b",
   "metadata": {},
   "outputs": [
    {
     "name": "stdout",
     "output_type": "stream",
     "text": [
      "Singular values of A: [3.00000476 1.99998162 1.00007635 0.02979163 0.02024038 0.01149741\n",
      " 0.01105158 0.01078834 0.01074537 0.01061625 0.00957274]\n",
      "Smallest singular vector of A: [-0.78992093  0.17565353  0.48938403  0.00685085  0.02086993  0.11851741\n",
      "  0.05374033  0.02473806  0.24947046 -0.12851094 -0.09431116]\n",
      "Ended in 2 iterations\n",
      "x: [ 0.84822728  0.         -0.49944024  0.          0.          0.\n",
      "  0.          0.         -0.17626665  0.          0.        ] error: 0.4363238779248026\n",
      "True x: [-0.89529806  0.33718466  0.29111491 -0.         -0.         -0.\n",
      " -0.         -0.         -0.         -0.         -0.        ]\n",
      "Residual norm: 0.019449520295791473\n",
      "True x residual norm: 0.009797050941428336\n"
     ]
    }
   ],
   "source": [
    "def generate_matrix(eigs, k, noise=0): # note: first eig should be smallest one\n",
    "    w = len(eigs)\n",
    "    A = np.zeros((w, w))\n",
    "    u_list = []\n",
    "    for i in range(w):\n",
    "        u_list.append(np.random.normal(0, 1, w))\n",
    "    u_list[0][k:] = 0\n",
    "    U = np.vstack(u_list).T\n",
    "    Q, R = np.linalg.qr(U) # orthogonalize u_list\n",
    "    for i in range(w):\n",
    "        A += eigs[i] * np.outer(Q[:, i], Q[:, i])\n",
    "    A += np.random.normal(0, noise, (w, w))\n",
    "    return A, Q\n",
    "\n",
    "np.random.seed(1) # fix random seed for reproducibility\n",
    "\n",
    "eigs = [0.01, 0.02, 0.03, 1, 2, 3] + [0.011]*5\n",
    "k = 3\n",
    "A, Q = generate_matrix(eigs, k, noise=2e-4)\n",
    "x, it = kaczmarz(A, k, gamma=0.9, verbose=False)\n",
    "#print(\"A:\", A)\n",
    "#print(\"Q:\", Q)\n",
    "U, Sigma, V = np.linalg.svd(A, full_matrices=True)\n",
    "print(\"Singular values of A:\", Sigma)\n",
    "print(\"Smallest singular vector of A:\", smallest_sv(A))\n",
    "print(f\"Ended in {it} iterations\")\n",
    "print(\"x:\", x, \"error:\", min(np.linalg.norm(x-Q[:, 0]), np.linalg.norm(x+Q[:, 0])))\n",
    "print(\"True x:\", Q[:, 0])\n",
    "print(\"Residual norm:\", np.linalg.norm(A @ x))\n",
    "print(\"True x residual norm:\", np.linalg.norm(A@ Q[:, 0]))"
   ]
  },
  {
   "cell_type": "code",
   "execution_count": 32,
   "id": "9ca0c28c-d95f-4fa7-adea-669613789b17",
   "metadata": {},
   "outputs": [
    {
     "ename": "SyntaxError",
     "evalue": "invalid syntax (456067962.py, line 1)",
     "output_type": "error",
     "traceback": [
      "\u001b[1;36m  File \u001b[1;32m\"C:\\Users\\nerpa\\AppData\\Local\\Temp\\ipykernel_8312\\456067962.py\"\u001b[1;36m, line \u001b[1;32m1\u001b[0m\n\u001b[1;33m    -8.91535915e-01  3.22631342e-01  3.15940362e-01\u001b[0m\n\u001b[1;37m                     ^\u001b[0m\n\u001b[1;31mSyntaxError\u001b[0m\u001b[1;31m:\u001b[0m invalid syntax\n"
     ]
    }
   ],
   "source": [
    "-8.91535915e-01  3.22631342e-01  3.15940362e-01"
   ]
  },
  {
   "cell_type": "code",
   "execution_count": null,
   "id": "ff1d6efc-8fa9-44c3-a9db-6f1ee87c7b56",
   "metadata": {},
   "outputs": [],
   "source": []
  }
 ],
 "metadata": {
  "kernelspec": {
   "display_name": "Python 3 (ipykernel)",
   "language": "python",
   "name": "python3"
  },
  "language_info": {
   "codemirror_mode": {
    "name": "ipython",
    "version": 3
   },
   "file_extension": ".py",
   "mimetype": "text/x-python",
   "name": "python",
   "nbconvert_exporter": "python",
   "pygments_lexer": "ipython3",
   "version": "3.9.13"
  }
 },
 "nbformat": 4,
 "nbformat_minor": 5
}
