{
 "cells": [
  {
   "cell_type": "code",
   "execution_count": 17,
   "metadata": {},
   "outputs": [],
   "source": [
    "# A very simple representation for Nodes. Leaves are anything which is not a Node.\n",
    "class Node(object):\n",
    "  def __init__(self, left, right):\n",
    "    self.left = left\n",
    "    self.right = right\n",
    "\n",
    "  def __repr__(self):\n",
    "    return '(%s %s)' % (self.left, self.right)\n",
    "\n",
    "class Leaf(object):\n",
    "  def __init__(self, string, rank):\n",
    "    self.string = string\n",
    "    self.rank = rank\n",
    "    \n",
    "  def __repr__(self):\n",
    "    return self.string\n",
    "\n",
    "class Observable(Leaf):\n",
    "  pass\n",
    "\n",
    "class DifferentialOperator(Leaf):\n",
    "  pass\n",
    "\n",
    "# Given a tree and a label, yields every possible augmentation of the tree by\n",
    "# adding a new node with the label as a child \"above\" some existing Node or Leaf.\n",
    "def add_leaf(tree, label):\n",
    "  yield Node(label, tree)\n",
    "  if isinstance(tree, Node):\n",
    "    for left in add_leaf(tree.left, label):\n",
    "      yield Node(left, tree.right)\n",
    "    for right in add_leaf(tree.right, label):\n",
    "      yield Node(tree.left, right)\n",
    "\n",
    "#def add_leaf(tree, label):\n",
    "#  if isinstance(tree, Node):\n",
    "#    for left in add_leaf(tree.left, label):\n",
    "#      #print(label, 'right->left')\n",
    "#      yield Node(left, tree.right)\n",
    "#    for right in add_leaf(tree.right, label):\n",
    "#      #print(label, 'right->right')\n",
    "#      yield Node(tree.left, right)\n",
    "#    if not isinstance(label, DifferentialOperator): # forbid separating out\n",
    "#      #print(label, 'left')\n",
    "#      yield Node(label, tree)\n",
    "#  else:\n",
    "#    yield Node(label, tree)\n",
    "\n",
    "# Given a list of labels, yield each rooted, unordered full binary tree with\n",
    "# the specified labels.\n",
    "def enum_unordered(labels):\n",
    "  if len(labels) == 1:\n",
    "    yield labels[0]\n",
    "  else:\n",
    "    for tree in enum_unordered(labels[1:]):\n",
    "      for new_tree in add_leaf(tree, labels[0]):\n",
    "        yield new_tree"
   ]
  },
  {
   "cell_type": "code",
   "execution_count": null,
   "metadata": {},
   "outputs": [],
   "source": []
  },
  {
   "cell_type": "code",
   "execution_count": 18,
   "metadata": {},
   "outputs": [
    {
     "name": "stdout",
     "output_type": "stream",
     "text": [
      "(((rho v) dt) dx)\n",
      "((v (rho dt)) dx)\n",
      "((rho (v dt)) dx)\n",
      "((v dt) (rho dx))\n",
      "(rho ((v dt) dx))\n",
      "((rho dt) (v dx))\n",
      "(dt ((rho v) dx))\n",
      "(dt (v (rho dx)))\n",
      "(dt (rho (v dx)))\n",
      "(rho (dt (v dx)))\n",
      "((rho v) (dt dx))\n",
      "(v ((rho dt) dx))\n",
      "(v (dt (rho dx)))\n",
      "(v (rho (dt dx)))\n",
      "(rho (v (dt dx)))\n"
     ]
    }
   ],
   "source": [
    "for tree in enum_unordered(['rho', 'v', 'dt', 'dx']):\n",
    "    print(tree)"
   ]
  },
  {
   "cell_type": "code",
   "execution_count": 19,
   "metadata": {},
   "outputs": [
    {
     "name": "stdout",
     "output_type": "stream",
     "text": [
      "((rho v) dt)\n",
      "(v (rho dt))\n",
      "(rho (v dt))\n"
     ]
    }
   ],
   "source": [
    "for tree in enum_unordered(['rho', 'v', 'dt']):\n",
    "    print(tree)"
   ]
  },
  {
   "cell_type": "code",
   "execution_count": 26,
   "metadata": {},
   "outputs": [],
   "source": [
    "rho = Observable('rho', 0)\n",
    "v = Observable('v', 1)\n",
    "c = Observable('c', 0)\n",
    "dt = DifferentialOperator('dt', 0)\n",
    "dx = DifferentialOperator('dx', 1)"
   ]
  },
  {
   "cell_type": "code",
   "execution_count": 27,
   "metadata": {},
   "outputs": [
    {
     "name": "stdout",
     "output_type": "stream",
     "text": [
      "(((rho v) dt) dx)\n",
      "((v (rho dt)) dx)\n",
      "((rho (v dt)) dx)\n",
      "((v dt) (rho dx))\n",
      "(rho ((v dt) dx))\n",
      "((rho dt) (v dx))\n",
      "(dt ((rho v) dx))\n",
      "(dt (v (rho dx)))\n",
      "(dt (rho (v dx)))\n",
      "(rho (dt (v dx)))\n",
      "((rho v) (dt dx))\n",
      "(v ((rho dt) dx))\n",
      "(v (dt (rho dx)))\n",
      "(v (rho (dt dx)))\n",
      "(rho (v (dt dx)))\n"
     ]
    }
   ],
   "source": [
    "for tree in enum_unordered([rho, v, dt, dx]):\n",
    "    print(tree)"
   ]
  },
  {
   "cell_type": "code",
   "execution_count": 28,
   "metadata": {},
   "outputs": [
    {
     "name": "stdout",
     "output_type": "stream",
     "text": [
      "(((dt dx) v) rho)\n",
      "((dx (dt v)) rho)\n",
      "((dx v) (dt rho))\n",
      "((dt v) (dx rho))\n",
      "(v ((dt dx) rho))\n",
      "(v (dx (dt rho)))\n"
     ]
    }
   ],
   "source": [
    "for tree in enum_unordered([dt, dx, v, rho]):\n",
    "    print(tree)"
   ]
  },
  {
   "cell_type": "code",
   "execution_count": 29,
   "metadata": {},
   "outputs": [
    {
     "name": "stdout",
     "output_type": "stream",
     "text": [
      "((dt dx) rho)\n",
      "(dx (dt rho))\n"
     ]
    }
   ],
   "source": [
    "for tree in enum_unordered([dt, dx, rho]):\n",
    "    print(tree)"
   ]
  },
  {
   "cell_type": "code",
   "execution_count": 33,
   "metadata": {},
   "outputs": [
    {
     "name": "stdout",
     "output_type": "stream",
     "text": [
      "(((v rho) dt) dx)\n",
      "((rho (v dt)) dx)\n",
      "((v (rho dt)) dx)\n",
      "((rho dt) (v dx))\n",
      "(v ((rho dt) dx))\n",
      "((v dt) (rho dx))\n",
      "(dt ((v rho) dx))\n",
      "(dt (rho (v dx)))\n",
      "(dt (v (rho dx)))\n",
      "(v (dt (rho dx)))\n",
      "((v rho) (dt dx))\n",
      "(rho ((v dt) dx))\n",
      "(rho (dt (v dx)))\n",
      "(rho (v (dt dx)))\n",
      "(v (rho (dt dx)))\n"
     ]
    }
   ],
   "source": [
    "for tree in enum_unordered([v, rho, dt, dx]):\n",
    "    print(tree)"
   ]
  },
  {
   "cell_type": "code",
   "execution_count": null,
   "metadata": {},
   "outputs": [],
   "source": []
  }
 ],
 "metadata": {
  "kernelspec": {
   "display_name": "Python 3",
   "language": "python",
   "name": "python3"
  },
  "language_info": {
   "codemirror_mode": {
    "name": "ipython",
    "version": 3
   },
   "file_extension": ".py",
   "mimetype": "text/x-python",
   "name": "python",
   "nbconvert_exporter": "python",
   "pygments_lexer": "ipython3",
   "version": "3.7.11"
  }
 },
 "nbformat": 4,
 "nbformat_minor": 4
}
