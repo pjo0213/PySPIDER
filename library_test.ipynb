{
 "cells": [
  {
   "cell_type": "code",
   "execution_count": 2,
   "metadata": {},
   "outputs": [],
   "source": [
    "from ipynb.fs.full.library import *\n",
    "\n",
    "do1 = DerivativeOrder(2, 1)\n",
    "do2 = DerivativeOrder(0, 2)\n",
    "rho = Observable('rho', 0)\n",
    "v = Observable('v', 1)\n",
    "prim1 = LibraryPrimitive(do1, rho)\n",
    "prim2 = LibraryPrimitive(do2, v)\n",
    "term1 = LibraryTensor(prim1)\n",
    "term2 = LibraryTensor(prim2)"
   ]
  },
  {
   "cell_type": "code",
   "execution_count": 3,
   "metadata": {},
   "outputs": [
    {
     "data": {
      "text/plain": [
       "dt^2 dx rho"
      ]
     },
     "execution_count": 3,
     "metadata": {},
     "output_type": "execute_result"
    }
   ],
   "source": [
    "term1"
   ]
  },
  {
   "cell_type": "code",
   "execution_count": 4,
   "metadata": {},
   "outputs": [
    {
     "data": {
      "text/plain": [
       "dx^2 v"
      ]
     },
     "execution_count": 4,
     "metadata": {},
     "output_type": "execute_result"
    }
   ],
   "source": [
    "prim2"
   ]
  },
  {
   "cell_type": "code",
   "execution_count": 5,
   "metadata": {},
   "outputs": [
    {
     "data": {
      "text/plain": [
       "'dt^2 dx rho'"
      ]
     },
     "execution_count": 5,
     "metadata": {},
     "output_type": "execute_result"
    }
   ],
   "source": [
    "repr(term1)"
   ]
  },
  {
   "cell_type": "code",
   "execution_count": 6,
   "metadata": {},
   "outputs": [
    {
     "name": "stdout",
     "output_type": "stream",
     "text": [
      "rho * dt dx v\n",
      "dx rho * dt v\n",
      "dt rho * dx v\n",
      "dt dx rho * v\n"
     ]
    }
   ],
   "source": [
    "for term in raw_library_tensors(1, 1, 1, 1):\n",
    "    print(term)"
   ]
  },
  {
   "cell_type": "code",
   "execution_count": 7,
   "metadata": {},
   "outputs": [
    {
     "name": "stdout",
     "output_type": "stream",
     "text": [
      "dt^2 dx rho * dx^2 v\n"
     ]
    }
   ],
   "source": [
    "tensor = term1*term2\n",
    "print(tensor)"
   ]
  },
  {
   "cell_type": "code",
   "execution_count": 8,
   "metadata": {},
   "outputs": [
    {
     "name": "stdout",
     "output_type": "stream",
     "text": [
      "{1: (0, 2), 2: (2, 3)}\n",
      "{1: (0, 3), 2: (2, 2)}\n"
     ]
    }
   ],
   "source": [
    "labels = []\n",
    "for label in list_labels(tensor):\n",
    "    labels.append(label)\n",
    "    print(label)"
   ]
  },
  {
   "cell_type": "code",
   "execution_count": 9,
   "metadata": {},
   "outputs": [
    {
     "name": "stdout",
     "output_type": "stream",
     "text": [
      "dt^2 dj rho * dj dk v_k\n",
      "dt^2 dj rho * dk^2 v_j\n"
     ]
    }
   ],
   "source": [
    "libterm1 = LibraryTerm(tensor, labels[0])\n",
    "libterm2 = LibraryTerm(tensor, labels[1])\n",
    "print(libterm1)\n",
    "print(libterm2)"
   ]
  },
  {
   "cell_type": "code",
   "execution_count": 10,
   "metadata": {},
   "outputs": [
    {
     "name": "stdout",
     "output_type": "stream",
     "text": [
      "v\n",
      "dx v\n",
      "dx^2 v\n",
      "dx^3 v\n",
      "dt v\n",
      "dt dx v\n",
      "dt dx^2 v\n",
      "dt^2 v\n",
      "dt^2 dx v\n",
      "dt^3 v\n",
      "v * v\n",
      "dx v * v\n",
      "dx v * dx v\n",
      "dx^2 v * v\n",
      "dt v * v\n",
      "dt v * dx v\n",
      "dt dx v * v\n",
      "dt v * dt v\n",
      "dt^2 v * v\n",
      "v * v * v\n",
      "dx v * v * v\n",
      "dt v * v * v\n",
      "v * v * v * v\n",
      "rho\n",
      "dx rho\n",
      "dx^2 rho\n",
      "dx^3 rho\n",
      "dt rho\n",
      "dt dx rho\n",
      "dt dx^2 rho\n",
      "dt^2 rho\n",
      "dt^2 dx rho\n",
      "dt^3 rho\n",
      "rho * v\n",
      "rho * dx v\n",
      "dx rho * v\n",
      "rho * dx^2 v\n",
      "dx rho * dx v\n",
      "dx^2 rho * v\n",
      "rho * dt v\n",
      "dt rho * v\n",
      "rho * dt dx v\n",
      "dx rho * dt v\n",
      "dt rho * dx v\n",
      "dt dx rho * v\n",
      "rho * dt^2 v\n",
      "dt rho * dt v\n",
      "dt^2 rho * v\n",
      "rho * v * v\n",
      "rho * dx v * v\n",
      "dx rho * v * v\n",
      "rho * dt v * v\n",
      "dt rho * v * v\n",
      "rho * v * v * v\n",
      "rho * rho\n",
      "dx rho * rho\n",
      "dx rho * dx rho\n",
      "dx^2 rho * rho\n",
      "dt rho * rho\n",
      "dt rho * dx rho\n",
      "dt dx rho * rho\n",
      "dt rho * dt rho\n",
      "dt^2 rho * rho\n",
      "rho * rho * v\n",
      "rho * rho * dx v\n",
      "dx rho * rho * v\n",
      "rho * rho * dt v\n",
      "dt rho * rho * v\n",
      "rho * rho * v * v\n",
      "rho * rho * rho\n",
      "dx rho * rho * rho\n",
      "dt rho * rho * rho\n",
      "rho * rho * rho * v\n",
      "rho * rho * rho * rho\n"
     ]
    }
   ],
   "source": [
    "libtensors = list()\n",
    "libterms = list()\n",
    "N = 4 # max number of \"blocks\" to include\n",
    "for a in range(N+1): # number of rhos\n",
    "    for b in range(N-a+1): # number of vs\n",
    "        for c in range(N-b-a+1): # number of dts\n",
    "            for d in range(N-c-b-a+1): # number of dxs\n",
    "                if a+b>0: # not a valid term of no rho or v\n",
    "                    for tensor in raw_library_tensors(a, b, c, d):\n",
    "                        libtensors.append(tensor)\n",
    "                        print(tensor)\n",
    "                        for label in list_labels(tensor):\n",
    "                            libterms.append(LibraryTerm(tensor, label))"
   ]
  },
  {
   "cell_type": "code",
   "execution_count": 159,
   "metadata": {},
   "outputs": [
    {
     "name": "stdout",
     "output_type": "stream",
     "text": [
      "Rank 0 terms:\n",
      "dj v_j\n",
      "dj^2 dk v_k\n",
      "dt dj v_j\n",
      "dt^2 dj v_j\n",
      "v_j * v_j\n",
      "dj v_j * dk v_k\n",
      "dj v_k * dj v_k\n",
      "dj v_k * dk v_j\n",
      "dj^2 v_k * v_k\n",
      "dj dk v_j * v_k\n",
      "dt v_j * v_j\n",
      "dt v_j * dt v_j\n",
      "dt^2 v_j * v_j\n",
      "dj v_j * v_k * v_k\n",
      "dj v_k * v_j * v_k\n",
      "v_j * v_j * v_k * v_k\n",
      "rho\n",
      "dj^2 rho\n",
      "dt rho\n",
      "dt dj^2 rho\n",
      "dt^2 rho\n",
      "dt^3 rho\n",
      "rho * dj v_j\n",
      "dj rho * v_j\n",
      "rho * dt dj v_j\n",
      "dj rho * dt v_j\n",
      "dt rho * dj v_j\n",
      "dt dj rho * v_j\n",
      "rho * v_j * v_j\n",
      "rho * dt v_j * v_j\n",
      "dt rho * v_j * v_j\n",
      "rho * rho\n",
      "dj rho * dj rho\n",
      "dj^2 rho * rho\n",
      "dt rho * rho\n",
      "dt rho * dt rho\n",
      "dt^2 rho * rho\n",
      "rho * rho * dj v_j\n",
      "dj rho * rho * v_j\n",
      "rho * rho * v_j * v_j\n",
      "rho * rho * rho\n",
      "dt rho * rho * rho\n",
      "rho * rho * rho * rho\n",
      "Rank 1 terms:\n",
      "v_i\n",
      "di dj v_j\n",
      "dj^2 v_i\n",
      "dt v_i\n",
      "dt di dj v_j\n",
      "dt dj^2 v_i\n",
      "dt^2 v_i\n",
      "dt^3 v_i\n",
      "di v_j * v_j\n",
      "dj v_i * v_j\n",
      "dj v_j * v_i\n",
      "dt v_i * dj v_j\n",
      "dt v_j * di v_j\n",
      "dt v_j * dj v_i\n",
      "dt di v_j * v_j\n",
      "dt dj v_i * v_j\n",
      "dt dj v_j * v_i\n",
      "v_i * v_j * v_j\n",
      "dt v_i * v_j * v_j\n",
      "dt v_j * v_i * v_j\n",
      "di rho\n",
      "di dj^2 rho\n",
      "dt di rho\n",
      "dt^2 di rho\n",
      "rho * v_i\n",
      "rho * di dj v_j\n",
      "rho * dj^2 v_i\n",
      "di rho * dj v_j\n",
      "dj rho * di v_j\n",
      "dj rho * dj v_i\n",
      "di dj rho * v_j\n",
      "dj^2 rho * v_i\n",
      "rho * dt v_i\n",
      "dt rho * v_i\n",
      "rho * dt^2 v_i\n",
      "dt rho * dt v_i\n",
      "dt^2 rho * v_i\n",
      "rho * di v_j * v_j\n",
      "rho * dj v_i * v_j\n",
      "rho * dj v_j * v_i\n",
      "di rho * v_j * v_j\n",
      "dj rho * v_i * v_j\n",
      "rho * v_i * v_j * v_j\n",
      "di rho * rho\n",
      "dt rho * di rho\n",
      "dt di rho * rho\n",
      "rho * rho * v_i\n",
      "rho * rho * dt v_i\n",
      "dt rho * rho * v_i\n",
      "di rho * rho * rho\n",
      "rho * rho * rho * v_i\n"
     ]
    }
   ],
   "source": [
    "print(\"Rank 0 terms:\")\n",
    "for term in libterms:\n",
    "    if term.rank==0:\n",
    "        print(term)\n",
    "print(\"Rank 1 terms:\")\n",
    "for term in libterms:\n",
    "    if term.rank==1:\n",
    "        print(term)"
   ]
  },
  {
   "cell_type": "code",
   "execution_count": 156,
   "metadata": {},
   "outputs": [
    {
     "data": {
      "text/plain": [
       "(27, 30)"
      ]
     },
     "execution_count": 156,
     "metadata": {},
     "output_type": "execute_result"
    }
   ],
   "source": [
    "len(libtensors), len(libterms)"
   ]
  },
  {
   "cell_type": "code",
   "execution_count": 160,
   "metadata": {},
   "outputs": [
    {
     "name": "stdout",
     "output_type": "stream",
     "text": [
      "dj v_j * dk v_k * dl v_l\n",
      "dj v_j * dk v_l * dk v_l\n",
      "dj v_j * dk v_l * dl v_k\n",
      "dj v_k * dj v_k * dl v_l\n",
      "dj v_k * dj v_l * dk v_l\n",
      "dj v_k * dj v_l * dl v_k\n",
      "dj v_k * dk v_j * dl v_l\n",
      "dj v_k * dl v_j * dl v_k\n",
      "dj v_k * dk v_l * dl v_j\n"
     ]
    }
   ],
   "source": [
    "do = DerivativeOrder(0, 1)\n",
    "trank2 = LibraryTensor(LibraryPrimitive(do, v))\n",
    "trank6 = trank2*trank2*trank2\n",
    "for label in list_labels(trank6):\n",
    "    print(LibraryTerm(trank6, label))\n",
    "    \n",
    "# note that there are duplicates which are valid by lexicographic ordering, e.g.\n",
    "# dj v_j * dk v_l * dk v_l, dj v_k * dj v_k * dl v_l (11 23 23; 12 12 33)\n",
    "# this problem however seems to only be possible for order>=6 so we won't worry about it for now."
   ]
  },
  {
   "cell_type": "code",
   "execution_count": null,
   "metadata": {},
   "outputs": [],
   "source": []
  }
 ],
 "metadata": {
  "kernelspec": {
   "display_name": "Python 3",
   "language": "python",
   "name": "python3"
  },
  "language_info": {
   "codemirror_mode": {
    "name": "ipython",
    "version": 3
   },
   "file_extension": ".py",
   "mimetype": "text/x-python",
   "name": "python",
   "nbconvert_exporter": "python",
   "pygments_lexer": "ipython3",
   "version": "3.7.11"
  }
 },
 "nbformat": 4,
 "nbformat_minor": 4
}
